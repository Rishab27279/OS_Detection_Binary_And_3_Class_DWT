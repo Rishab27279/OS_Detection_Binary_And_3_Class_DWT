{
  "nbformat": 4,
  "nbformat_minor": 0,
  "metadata": {
    "colab": {
      "provenance": [],
      "gpuType": "T4"
    },
    "kernelspec": {
      "name": "python3",
      "display_name": "Python 3"
    },
    "language_info": {
      "name": "python"
    },
    "accelerator": "GPU",
    "widgets": {
      "application/vnd.jupyter.widget-state+json": {
        "c75b518726b84cf8995fbe5c22e97992": {
          "model_module": "@jupyter-widgets/controls",
          "model_name": "HBoxModel",
          "model_module_version": "1.5.0",
          "state": {
            "_dom_classes": [],
            "_model_module": "@jupyter-widgets/controls",
            "_model_module_version": "1.5.0",
            "_model_name": "HBoxModel",
            "_view_count": null,
            "_view_module": "@jupyter-widgets/controls",
            "_view_module_version": "1.5.0",
            "_view_name": "HBoxView",
            "box_style": "",
            "children": [
              "IPY_MODEL_d277bf7b526c45898b59d53d988dbb78",
              "IPY_MODEL_06d0449ec03541ef83c49e5792a3665f",
              "IPY_MODEL_3d0a45d3cabe44ef91d15e868380cb56"
            ],
            "layout": "IPY_MODEL_aabbf0834e7c43a6ab6b82e109b735ad"
          }
        },
        "d277bf7b526c45898b59d53d988dbb78": {
          "model_module": "@jupyter-widgets/controls",
          "model_name": "HTMLModel",
          "model_module_version": "1.5.0",
          "state": {
            "_dom_classes": [],
            "_model_module": "@jupyter-widgets/controls",
            "_model_module_version": "1.5.0",
            "_model_name": "HTMLModel",
            "_view_count": null,
            "_view_module": "@jupyter-widgets/controls",
            "_view_module_version": "1.5.0",
            "_view_name": "HTMLView",
            "description": "",
            "description_tooltip": null,
            "layout": "IPY_MODEL_b6ccb0f8c8ba42b994df57c17639c44c",
            "placeholder": "​",
            "style": "IPY_MODEL_460620a2ebd54587a8e01b262866dc00",
            "value": "config.json: 100%"
          }
        },
        "06d0449ec03541ef83c49e5792a3665f": {
          "model_module": "@jupyter-widgets/controls",
          "model_name": "FloatProgressModel",
          "model_module_version": "1.5.0",
          "state": {
            "_dom_classes": [],
            "_model_module": "@jupyter-widgets/controls",
            "_model_module_version": "1.5.0",
            "_model_name": "FloatProgressModel",
            "_view_count": null,
            "_view_module": "@jupyter-widgets/controls",
            "_view_module_version": "1.5.0",
            "_view_name": "ProgressView",
            "bar_style": "success",
            "description": "",
            "description_tooltip": null,
            "layout": "IPY_MODEL_f71c661ccc954fc99e80ff9a2898a796",
            "max": 71816,
            "min": 0,
            "orientation": "horizontal",
            "style": "IPY_MODEL_3c51b9e2352946ad818310eade4d6ef3",
            "value": 71816
          }
        },
        "3d0a45d3cabe44ef91d15e868380cb56": {
          "model_module": "@jupyter-widgets/controls",
          "model_name": "HTMLModel",
          "model_module_version": "1.5.0",
          "state": {
            "_dom_classes": [],
            "_model_module": "@jupyter-widgets/controls",
            "_model_module_version": "1.5.0",
            "_model_name": "HTMLModel",
            "_view_count": null,
            "_view_module": "@jupyter-widgets/controls",
            "_view_module_version": "1.5.0",
            "_view_name": "HTMLView",
            "description": "",
            "description_tooltip": null,
            "layout": "IPY_MODEL_3f00e40fdce044bfa29913bd0fbe9968",
            "placeholder": "​",
            "style": "IPY_MODEL_32e7a3fb40914e93a04c8c53be2d4119",
            "value": " 71.8k/71.8k [00:00&lt;00:00, 4.76MB/s]"
          }
        },
        "aabbf0834e7c43a6ab6b82e109b735ad": {
          "model_module": "@jupyter-widgets/base",
          "model_name": "LayoutModel",
          "model_module_version": "1.2.0",
          "state": {
            "_model_module": "@jupyter-widgets/base",
            "_model_module_version": "1.2.0",
            "_model_name": "LayoutModel",
            "_view_count": null,
            "_view_module": "@jupyter-widgets/base",
            "_view_module_version": "1.2.0",
            "_view_name": "LayoutView",
            "align_content": null,
            "align_items": null,
            "align_self": null,
            "border": null,
            "bottom": null,
            "display": null,
            "flex": null,
            "flex_flow": null,
            "grid_area": null,
            "grid_auto_columns": null,
            "grid_auto_flow": null,
            "grid_auto_rows": null,
            "grid_column": null,
            "grid_gap": null,
            "grid_row": null,
            "grid_template_areas": null,
            "grid_template_columns": null,
            "grid_template_rows": null,
            "height": null,
            "justify_content": null,
            "justify_items": null,
            "left": null,
            "margin": null,
            "max_height": null,
            "max_width": null,
            "min_height": null,
            "min_width": null,
            "object_fit": null,
            "object_position": null,
            "order": null,
            "overflow": null,
            "overflow_x": null,
            "overflow_y": null,
            "padding": null,
            "right": null,
            "top": null,
            "visibility": null,
            "width": null
          }
        },
        "b6ccb0f8c8ba42b994df57c17639c44c": {
          "model_module": "@jupyter-widgets/base",
          "model_name": "LayoutModel",
          "model_module_version": "1.2.0",
          "state": {
            "_model_module": "@jupyter-widgets/base",
            "_model_module_version": "1.2.0",
            "_model_name": "LayoutModel",
            "_view_count": null,
            "_view_module": "@jupyter-widgets/base",
            "_view_module_version": "1.2.0",
            "_view_name": "LayoutView",
            "align_content": null,
            "align_items": null,
            "align_self": null,
            "border": null,
            "bottom": null,
            "display": null,
            "flex": null,
            "flex_flow": null,
            "grid_area": null,
            "grid_auto_columns": null,
            "grid_auto_flow": null,
            "grid_auto_rows": null,
            "grid_column": null,
            "grid_gap": null,
            "grid_row": null,
            "grid_template_areas": null,
            "grid_template_columns": null,
            "grid_template_rows": null,
            "height": null,
            "justify_content": null,
            "justify_items": null,
            "left": null,
            "margin": null,
            "max_height": null,
            "max_width": null,
            "min_height": null,
            "min_width": null,
            "object_fit": null,
            "object_position": null,
            "order": null,
            "overflow": null,
            "overflow_x": null,
            "overflow_y": null,
            "padding": null,
            "right": null,
            "top": null,
            "visibility": null,
            "width": null
          }
        },
        "460620a2ebd54587a8e01b262866dc00": {
          "model_module": "@jupyter-widgets/controls",
          "model_name": "DescriptionStyleModel",
          "model_module_version": "1.5.0",
          "state": {
            "_model_module": "@jupyter-widgets/controls",
            "_model_module_version": "1.5.0",
            "_model_name": "DescriptionStyleModel",
            "_view_count": null,
            "_view_module": "@jupyter-widgets/base",
            "_view_module_version": "1.2.0",
            "_view_name": "StyleView",
            "description_width": ""
          }
        },
        "f71c661ccc954fc99e80ff9a2898a796": {
          "model_module": "@jupyter-widgets/base",
          "model_name": "LayoutModel",
          "model_module_version": "1.2.0",
          "state": {
            "_model_module": "@jupyter-widgets/base",
            "_model_module_version": "1.2.0",
            "_model_name": "LayoutModel",
            "_view_count": null,
            "_view_module": "@jupyter-widgets/base",
            "_view_module_version": "1.2.0",
            "_view_name": "LayoutView",
            "align_content": null,
            "align_items": null,
            "align_self": null,
            "border": null,
            "bottom": null,
            "display": null,
            "flex": null,
            "flex_flow": null,
            "grid_area": null,
            "grid_auto_columns": null,
            "grid_auto_flow": null,
            "grid_auto_rows": null,
            "grid_column": null,
            "grid_gap": null,
            "grid_row": null,
            "grid_template_areas": null,
            "grid_template_columns": null,
            "grid_template_rows": null,
            "height": null,
            "justify_content": null,
            "justify_items": null,
            "left": null,
            "margin": null,
            "max_height": null,
            "max_width": null,
            "min_height": null,
            "min_width": null,
            "object_fit": null,
            "object_position": null,
            "order": null,
            "overflow": null,
            "overflow_x": null,
            "overflow_y": null,
            "padding": null,
            "right": null,
            "top": null,
            "visibility": null,
            "width": null
          }
        },
        "3c51b9e2352946ad818310eade4d6ef3": {
          "model_module": "@jupyter-widgets/controls",
          "model_name": "ProgressStyleModel",
          "model_module_version": "1.5.0",
          "state": {
            "_model_module": "@jupyter-widgets/controls",
            "_model_module_version": "1.5.0",
            "_model_name": "ProgressStyleModel",
            "_view_count": null,
            "_view_module": "@jupyter-widgets/base",
            "_view_module_version": "1.2.0",
            "_view_name": "StyleView",
            "bar_color": null,
            "description_width": ""
          }
        },
        "3f00e40fdce044bfa29913bd0fbe9968": {
          "model_module": "@jupyter-widgets/base",
          "model_name": "LayoutModel",
          "model_module_version": "1.2.0",
          "state": {
            "_model_module": "@jupyter-widgets/base",
            "_model_module_version": "1.2.0",
            "_model_name": "LayoutModel",
            "_view_count": null,
            "_view_module": "@jupyter-widgets/base",
            "_view_module_version": "1.2.0",
            "_view_name": "LayoutView",
            "align_content": null,
            "align_items": null,
            "align_self": null,
            "border": null,
            "bottom": null,
            "display": null,
            "flex": null,
            "flex_flow": null,
            "grid_area": null,
            "grid_auto_columns": null,
            "grid_auto_flow": null,
            "grid_auto_rows": null,
            "grid_column": null,
            "grid_gap": null,
            "grid_row": null,
            "grid_template_areas": null,
            "grid_template_columns": null,
            "grid_template_rows": null,
            "height": null,
            "justify_content": null,
            "justify_items": null,
            "left": null,
            "margin": null,
            "max_height": null,
            "max_width": null,
            "min_height": null,
            "min_width": null,
            "object_fit": null,
            "object_position": null,
            "order": null,
            "overflow": null,
            "overflow_x": null,
            "overflow_y": null,
            "padding": null,
            "right": null,
            "top": null,
            "visibility": null,
            "width": null
          }
        },
        "32e7a3fb40914e93a04c8c53be2d4119": {
          "model_module": "@jupyter-widgets/controls",
          "model_name": "DescriptionStyleModel",
          "model_module_version": "1.5.0",
          "state": {
            "_model_module": "@jupyter-widgets/controls",
            "_model_module_version": "1.5.0",
            "_model_name": "DescriptionStyleModel",
            "_view_count": null,
            "_view_module": "@jupyter-widgets/base",
            "_view_module_version": "1.2.0",
            "_view_name": "StyleView",
            "description_width": ""
          }
        },
        "462568f9dd2e4df39071adc6e816821e": {
          "model_module": "@jupyter-widgets/controls",
          "model_name": "HBoxModel",
          "model_module_version": "1.5.0",
          "state": {
            "_dom_classes": [],
            "_model_module": "@jupyter-widgets/controls",
            "_model_module_version": "1.5.0",
            "_model_name": "HBoxModel",
            "_view_count": null,
            "_view_module": "@jupyter-widgets/controls",
            "_view_module_version": "1.5.0",
            "_view_name": "HBoxView",
            "box_style": "",
            "children": [
              "IPY_MODEL_c116e40534724f81bac760a4fb46c76d",
              "IPY_MODEL_c2869db5365d460e8e424ec7aaf8d294",
              "IPY_MODEL_1162551f4be24420b5cef4bb1b5404aa"
            ],
            "layout": "IPY_MODEL_cd714ab3177f43859525b5b02a437624"
          }
        },
        "c116e40534724f81bac760a4fb46c76d": {
          "model_module": "@jupyter-widgets/controls",
          "model_name": "HTMLModel",
          "model_module_version": "1.5.0",
          "state": {
            "_dom_classes": [],
            "_model_module": "@jupyter-widgets/controls",
            "_model_module_version": "1.5.0",
            "_model_name": "HTMLModel",
            "_view_count": null,
            "_view_module": "@jupyter-widgets/controls",
            "_view_module_version": "1.5.0",
            "_view_name": "HTMLView",
            "description": "",
            "description_tooltip": null,
            "layout": "IPY_MODEL_95a83c8b3ffb412f9dc5bcf84bfba61e",
            "placeholder": "​",
            "style": "IPY_MODEL_a11f0441837a4bb7979f04edc6bec36d",
            "value": "pytorch_model.bin: 100%"
          }
        },
        "c2869db5365d460e8e424ec7aaf8d294": {
          "model_module": "@jupyter-widgets/controls",
          "model_name": "FloatProgressModel",
          "model_module_version": "1.5.0",
          "state": {
            "_dom_classes": [],
            "_model_module": "@jupyter-widgets/controls",
            "_model_module_version": "1.5.0",
            "_model_name": "FloatProgressModel",
            "_view_count": null,
            "_view_module": "@jupyter-widgets/controls",
            "_view_module_version": "1.5.0",
            "_view_name": "ProgressView",
            "bar_style": "success",
            "description": "",
            "description_tooltip": null,
            "layout": "IPY_MODEL_64bbe201124d42feb72bbe44444086ea",
            "max": 786770175,
            "min": 0,
            "orientation": "horizontal",
            "style": "IPY_MODEL_a4c4c95e0be44efc80ace8923c65ce49",
            "value": 786770175
          }
        },
        "1162551f4be24420b5cef4bb1b5404aa": {
          "model_module": "@jupyter-widgets/controls",
          "model_name": "HTMLModel",
          "model_module_version": "1.5.0",
          "state": {
            "_dom_classes": [],
            "_model_module": "@jupyter-widgets/controls",
            "_model_module_version": "1.5.0",
            "_model_name": "HTMLModel",
            "_view_count": null,
            "_view_module": "@jupyter-widgets/controls",
            "_view_module_version": "1.5.0",
            "_view_name": "HTMLView",
            "description": "",
            "description_tooltip": null,
            "layout": "IPY_MODEL_b7d620e27f40424f87be416e93d4394a",
            "placeholder": "​",
            "style": "IPY_MODEL_914e0fe19b8e45ea9851ecc5c8625c70",
            "value": " 787M/787M [00:32&lt;00:00, 24.5MB/s]"
          }
        },
        "cd714ab3177f43859525b5b02a437624": {
          "model_module": "@jupyter-widgets/base",
          "model_name": "LayoutModel",
          "model_module_version": "1.2.0",
          "state": {
            "_model_module": "@jupyter-widgets/base",
            "_model_module_version": "1.2.0",
            "_model_name": "LayoutModel",
            "_view_count": null,
            "_view_module": "@jupyter-widgets/base",
            "_view_module_version": "1.2.0",
            "_view_name": "LayoutView",
            "align_content": null,
            "align_items": null,
            "align_self": null,
            "border": null,
            "bottom": null,
            "display": null,
            "flex": null,
            "flex_flow": null,
            "grid_area": null,
            "grid_auto_columns": null,
            "grid_auto_flow": null,
            "grid_auto_rows": null,
            "grid_column": null,
            "grid_gap": null,
            "grid_row": null,
            "grid_template_areas": null,
            "grid_template_columns": null,
            "grid_template_rows": null,
            "height": null,
            "justify_content": null,
            "justify_items": null,
            "left": null,
            "margin": null,
            "max_height": null,
            "max_width": null,
            "min_height": null,
            "min_width": null,
            "object_fit": null,
            "object_position": null,
            "order": null,
            "overflow": null,
            "overflow_x": null,
            "overflow_y": null,
            "padding": null,
            "right": null,
            "top": null,
            "visibility": null,
            "width": null
          }
        },
        "95a83c8b3ffb412f9dc5bcf84bfba61e": {
          "model_module": "@jupyter-widgets/base",
          "model_name": "LayoutModel",
          "model_module_version": "1.2.0",
          "state": {
            "_model_module": "@jupyter-widgets/base",
            "_model_module_version": "1.2.0",
            "_model_name": "LayoutModel",
            "_view_count": null,
            "_view_module": "@jupyter-widgets/base",
            "_view_module_version": "1.2.0",
            "_view_name": "LayoutView",
            "align_content": null,
            "align_items": null,
            "align_self": null,
            "border": null,
            "bottom": null,
            "display": null,
            "flex": null,
            "flex_flow": null,
            "grid_area": null,
            "grid_auto_columns": null,
            "grid_auto_flow": null,
            "grid_auto_rows": null,
            "grid_column": null,
            "grid_gap": null,
            "grid_row": null,
            "grid_template_areas": null,
            "grid_template_columns": null,
            "grid_template_rows": null,
            "height": null,
            "justify_content": null,
            "justify_items": null,
            "left": null,
            "margin": null,
            "max_height": null,
            "max_width": null,
            "min_height": null,
            "min_width": null,
            "object_fit": null,
            "object_position": null,
            "order": null,
            "overflow": null,
            "overflow_x": null,
            "overflow_y": null,
            "padding": null,
            "right": null,
            "top": null,
            "visibility": null,
            "width": null
          }
        },
        "a11f0441837a4bb7979f04edc6bec36d": {
          "model_module": "@jupyter-widgets/controls",
          "model_name": "DescriptionStyleModel",
          "model_module_version": "1.5.0",
          "state": {
            "_model_module": "@jupyter-widgets/controls",
            "_model_module_version": "1.5.0",
            "_model_name": "DescriptionStyleModel",
            "_view_count": null,
            "_view_module": "@jupyter-widgets/base",
            "_view_module_version": "1.2.0",
            "_view_name": "StyleView",
            "description_width": ""
          }
        },
        "64bbe201124d42feb72bbe44444086ea": {
          "model_module": "@jupyter-widgets/base",
          "model_name": "LayoutModel",
          "model_module_version": "1.2.0",
          "state": {
            "_model_module": "@jupyter-widgets/base",
            "_model_module_version": "1.2.0",
            "_model_name": "LayoutModel",
            "_view_count": null,
            "_view_module": "@jupyter-widgets/base",
            "_view_module_version": "1.2.0",
            "_view_name": "LayoutView",
            "align_content": null,
            "align_items": null,
            "align_self": null,
            "border": null,
            "bottom": null,
            "display": null,
            "flex": null,
            "flex_flow": null,
            "grid_area": null,
            "grid_auto_columns": null,
            "grid_auto_flow": null,
            "grid_auto_rows": null,
            "grid_column": null,
            "grid_gap": null,
            "grid_row": null,
            "grid_template_areas": null,
            "grid_template_columns": null,
            "grid_template_rows": null,
            "height": null,
            "justify_content": null,
            "justify_items": null,
            "left": null,
            "margin": null,
            "max_height": null,
            "max_width": null,
            "min_height": null,
            "min_width": null,
            "object_fit": null,
            "object_position": null,
            "order": null,
            "overflow": null,
            "overflow_x": null,
            "overflow_y": null,
            "padding": null,
            "right": null,
            "top": null,
            "visibility": null,
            "width": null
          }
        },
        "a4c4c95e0be44efc80ace8923c65ce49": {
          "model_module": "@jupyter-widgets/controls",
          "model_name": "ProgressStyleModel",
          "model_module_version": "1.5.0",
          "state": {
            "_model_module": "@jupyter-widgets/controls",
            "_model_module_version": "1.5.0",
            "_model_name": "ProgressStyleModel",
            "_view_count": null,
            "_view_module": "@jupyter-widgets/base",
            "_view_module_version": "1.2.0",
            "_view_name": "StyleView",
            "bar_color": null,
            "description_width": ""
          }
        },
        "b7d620e27f40424f87be416e93d4394a": {
          "model_module": "@jupyter-widgets/base",
          "model_name": "LayoutModel",
          "model_module_version": "1.2.0",
          "state": {
            "_model_module": "@jupyter-widgets/base",
            "_model_module_version": "1.2.0",
            "_model_name": "LayoutModel",
            "_view_count": null,
            "_view_module": "@jupyter-widgets/base",
            "_view_module_version": "1.2.0",
            "_view_name": "LayoutView",
            "align_content": null,
            "align_items": null,
            "align_self": null,
            "border": null,
            "bottom": null,
            "display": null,
            "flex": null,
            "flex_flow": null,
            "grid_area": null,
            "grid_auto_columns": null,
            "grid_auto_flow": null,
            "grid_auto_rows": null,
            "grid_column": null,
            "grid_gap": null,
            "grid_row": null,
            "grid_template_areas": null,
            "grid_template_columns": null,
            "grid_template_rows": null,
            "height": null,
            "justify_content": null,
            "justify_items": null,
            "left": null,
            "margin": null,
            "max_height": null,
            "max_width": null,
            "min_height": null,
            "min_width": null,
            "object_fit": null,
            "object_position": null,
            "order": null,
            "overflow": null,
            "overflow_x": null,
            "overflow_y": null,
            "padding": null,
            "right": null,
            "top": null,
            "visibility": null,
            "width": null
          }
        },
        "914e0fe19b8e45ea9851ecc5c8625c70": {
          "model_module": "@jupyter-widgets/controls",
          "model_name": "DescriptionStyleModel",
          "model_module_version": "1.5.0",
          "state": {
            "_model_module": "@jupyter-widgets/controls",
            "_model_module_version": "1.5.0",
            "_model_name": "DescriptionStyleModel",
            "_view_count": null,
            "_view_module": "@jupyter-widgets/base",
            "_view_module_version": "1.2.0",
            "_view_name": "StyleView",
            "description_width": ""
          }
        }
      }
    }
  },
  "cells": [
    {
      "cell_type": "code",
      "execution_count": null,
      "metadata": {
        "id": "uxqjlRchv1TC"
      },
      "outputs": [],
      "source": [
        "import cv2\n",
        "import os\n",
        "import numpy as np\n",
        "import tensorflow as tf\n",
        "from google.colab import drive\n",
        "from sklearn.model_selection import train_test_split\n",
        "import torch\n",
        "from torch.utils.data import Dataset, DataLoader\n",
        "import torch.nn as nn\n",
        "import torch.nn.functional as F\n",
        "from transformers import SwinModel"
      ]
    },
    {
      "cell_type": "markdown",
      "source": [
        "# Dataset"
      ],
      "metadata": {
        "id": "dOPijBhEFMet"
      }
    },
    {
      "cell_type": "code",
      "source": [
        "# Mount Google Drive (only for Colab)\n",
        "drive.mount('/content/drive')\n",
        "\n",
        "# ========================================================================\n",
        "# 1. Dataset Configuration\n",
        "# ========================================================================\n",
        "dataset_paths = {\n",
        "    'Normal': '/content/drive/MyDrive/Normal and Osteoporosis Binary Classification Dataset/normal/',\n",
        "    'Osteoporosis': '/content/drive/MyDrive/Normal and Osteoporosis Binary Classification Dataset/osteoporosis/'\n",
        "}\n",
        "\n",
        "# ========================================================================\n",
        "# 2. Image Loading & Preprocessing\n",
        "# ========================================================================\n",
        "def load_images_and_labels(folder_path, label):\n",
        "    images = []\n",
        "    labels = []\n",
        "    for filename in sorted(os.listdir(folder_path)):\n",
        "        if filename.lower().endswith(('.png', '.jpg', '.jpeg', '.bmp')):\n",
        "            img_path = os.path.join(folder_path, filename)\n",
        "            try:\n",
        "                # Load image and verify successful read\n",
        "                img = cv2.imread(img_path)\n",
        "                if img is None:\n",
        "                    print(f\"Warning: Could not read image {img_path}\")\n",
        "                    continue\n",
        "\n",
        "                # Critical Fix 1: Resize to ViT's required 224x224\n",
        "                img = cv2.resize(img, (224, 224))\n",
        "\n",
        "                # Critical Fix 2: Convert BGR to RGB\n",
        "                img = cv2.cvtColor(img, cv2.COLOR_BGR2RGB)\n",
        "\n",
        "                # Critical Fix 3: Convert to channels-first format\n",
        "                img = np.transpose(img, (2, 0, 1))  # (3, 224, 224)\n",
        "\n",
        "                # Critical Fix 4: Normalize to [-1, 1] range\n",
        "                img = (img.astype(np.float32) / 127.5) - 1.0\n",
        "\n",
        "                images.append(img)\n",
        "                labels.append(label)\n",
        "            except Exception as e:\n",
        "                print(f\"Error processing {img_path}: {e}\")\n",
        "    return np.array(images), np.array(labels)\n",
        "\n",
        "# ========================================================================\n",
        "# 3. Load and Prepare Data\n",
        "# ========================================================================\n",
        "# Load datasets\n",
        "normal_images, normal_labels = load_images_and_labels(dataset_paths['Normal'], 0)\n",
        "osteo_images, osteo_labels = load_images_and_labels(dataset_paths['Osteoporosis'], 1)\n",
        "\n",
        "# Combine and shuffle data\n",
        "x_data = np.concatenate([normal_images, osteo_images], axis=0)\n",
        "y_data = np.concatenate([normal_labels, osteo_labels], axis=0)\n",
        "\n",
        "# Random shuffle with fixed seed for reproducibility\n",
        "np.random.seed(42)\n",
        "shuffle_idx = np.random.permutation(len(x_data))\n",
        "x_data = x_data[shuffle_idx]\n",
        "y_data = y_data[shuffle_idx]\n",
        "\n",
        "# ========================================================================\n",
        "# 4. Train/Validation/Test Split\n",
        "# ========================================================================\n",
        "# Stratified split to maintain class balance\n",
        "x_train_val, x_test, y_train_val, y_test = train_test_split(\n",
        "    x_data, y_data,\n",
        "    test_size=0.2,\n",
        "    stratify=y_data,\n",
        "    random_state=42\n",
        ")\n",
        "\n",
        "x_train, x_val, y_train, y_val = train_test_split(\n",
        "    x_train_val, y_train_val,\n",
        "    test_size=0.1,  # 10% of training for validation\n",
        "    stratify=y_train_val,\n",
        "    random_state=42\n",
        ")"
      ],
      "metadata": {
        "colab": {
          "base_uri": "https://localhost:8080/"
        },
        "id": "oab_TF4cv3_2",
        "outputId": "2ae922ee-f776-42bf-e811-da20aabebfa6"
      },
      "execution_count": null,
      "outputs": [
        {
          "output_type": "stream",
          "name": "stdout",
          "text": [
            "Mounted at /content/drive\n"
          ]
        }
      ]
    },
    {
      "cell_type": "code",
      "source": [
        "print(f'Number of Normal Images: {len(normal_images)}')\n",
        "print(f'Number of Oestroporosis Images: {len(osteo_images)}')"
      ],
      "metadata": {
        "colab": {
          "base_uri": "https://localhost:8080/"
        },
        "id": "NrY6Blamv6G-",
        "outputId": "bf037216-1b66-4b8a-ed89-3724529d5795"
      },
      "execution_count": null,
      "outputs": [
        {
          "output_type": "stream",
          "name": "stdout",
          "text": [
            "Number of Normal Images: 186\n",
            "Number of Oestroporosis Images: 186\n"
          ]
        }
      ]
    },
    {
      "cell_type": "code",
      "source": [
        "# Step 2: Define device\n",
        "device = torch.device('cuda' if torch.cuda.is_available() else 'cpu')\n",
        "print(f\"Using device: {device}\")\n",
        "\n",
        "# Step 3: DWT Implementation\n",
        "def dwt_haar(img):\n",
        "    \"\"\"Performs Haar wavelet transform on a batch of images.\"\"\"\n",
        "    # img shape: (batch, channels, height, width)\n",
        "    batch, channels, h, w = img.shape\n",
        "\n",
        "    # Split rows into even and odd indices\n",
        "    even_rows = img[:, :, 0::2, :]\n",
        "    odd_rows = img[:, :, 1::2, :]\n",
        "\n",
        "    # Compute row-wise averages and differences\n",
        "    avg_rows = (even_rows + odd_rows) / 2\n",
        "    diff_rows = (even_rows - odd_rows) / 2\n",
        "\n",
        "    # Split columns for avg_rows (LL and HL)\n",
        "    even_cols_avg = avg_rows[:, :, :, 0::2]\n",
        "    odd_cols_avg = avg_rows[:, :, :, 1::2]\n",
        "    LL = (even_cols_avg + odd_cols_avg) / 2\n",
        "    HL = (even_cols_avg - odd_cols_avg) / 2\n",
        "\n",
        "    # Split columns for diff_rows (LH and HH)\n",
        "    even_cols_diff = diff_rows[:, :, :, 0::2]\n",
        "    odd_cols_diff = diff_rows[:, :, :, 1::2]\n",
        "    LH = (even_cols_diff + odd_cols_diff) / 2\n",
        "    HH = (even_cols_diff - odd_cols_diff) / 2\n",
        "\n",
        "    return torch.cat([LL, HL, LH, HH], dim=1)\n",
        "\n",
        "# Step 4: Dataset Class (unchanged)\n",
        "class NumpyDataset(Dataset):\n",
        "    def __init__(self, x_data, y_data):\n",
        "        self.x_data = x_data\n",
        "        self.y_data = y_data\n",
        "\n",
        "    def __len__(self):\n",
        "        return len(self.x_data)\n",
        "\n",
        "    def __getitem__(self, idx):\n",
        "        image = torch.from_numpy(self.x_data[idx]).float()\n",
        "        label = torch.tensor(self.y_data[idx], dtype=torch.float32)\n",
        "        return image, label"
      ],
      "metadata": {
        "colab": {
          "base_uri": "https://localhost:8080/"
        },
        "id": "aymcF9Zny-u2",
        "outputId": "95081e13-1456-4cda-c581-837b8a96fd1f"
      },
      "execution_count": null,
      "outputs": [
        {
          "output_type": "stream",
          "name": "stdout",
          "text": [
            "Using device: cuda\n"
          ]
        }
      ]
    },
    {
      "cell_type": "markdown",
      "source": [
        "# Base Swin Transformer Model"
      ],
      "metadata": {
        "id": "NSaAmCiLFVoL"
      }
    },
    {
      "cell_type": "code",
      "source": [
        "# Step 5: Modified ViT Model with DWT Processing\n",
        "from transformers import SwinModel\n",
        "\n",
        "class SwinBinaryClassifier(nn.Module):\n",
        "    def __init__(self, pretrained_model='microsoft/swin-base-patch4-window7-224'):\n",
        "        super().__init__()\n",
        "        self.swin = SwinModel.from_pretrained(pretrained_model)\n",
        "        self.classifier = nn.Linear(self.swin.config.hidden_size * 4, 1)\n",
        "        self.sigmoid = nn.Sigmoid()\n",
        "\n",
        "        # Freeze Swin parameters\n",
        "        for param in self.swin.parameters():\n",
        "            param.requires_grad = False\n",
        "\n",
        "    def forward(self, x):\n",
        "        # Apply Haar DWT\n",
        "        x_dwt = dwt_haar(x)\n",
        "        batch_size = x_dwt.size(0)\n",
        "\n",
        "        # Reshape and process each subband\n",
        "        x_dwt = x_dwt.view(batch_size, 4, 3, 112, 112)\n",
        "        swin_outputs = []\n",
        "\n",
        "        for i in range(4):\n",
        "            subband = x_dwt[:, i, :, :, :]\n",
        "            subband_up = F.interpolate(subband, size=(224, 224),\n",
        "                                     mode='bilinear', align_corners=False)\n",
        "            outputs = self.swin(subband_up)\n",
        "            # Use mean pooling over sequence dimension\n",
        "            pooled = outputs.last_hidden_state.mean(dim=1)\n",
        "            swin_outputs.append(pooled)\n",
        "\n",
        "        # Concatenate and classify\n",
        "        combined = torch.cat(swin_outputs, dim=1)\n",
        "        return self.sigmoid(self.classifier(combined))\n",
        "\n",
        "# Initialize Swin model\n",
        "model = SwinBinaryClassifier().to(device)\n",
        "\n",
        "# Step 8: Loss and Optimizer\n",
        "criterion = nn.BCELoss()\n",
        "optimizer = torch.optim.Adam(model.parameters(), lr=1e-3)\n",
        "scheduler = lr_scheduler.ReduceLROnPlateau(optimizer, mode='min', factor=0.1, patience=5)"
      ],
      "metadata": {
        "id": "c3mKWsMZzA95"
      },
      "execution_count": null,
      "outputs": []
    },
    {
      "cell_type": "code",
      "source": [
        "batch_size = 32\n",
        "train_dataset = NumpyDataset(x_train, y_train)\n",
        "val_dataset = NumpyDataset(x_val, y_val)\n",
        "test_dataset = NumpyDataset(x_test, y_test)\n",
        "\n",
        "train_loader = DataLoader(train_dataset, batch_size=batch_size, shuffle=True, num_workers=2)\n",
        "val_loader = DataLoader(val_dataset, batch_size=batch_size, shuffle=False, num_workers=2)\n",
        "test_loader = DataLoader(test_dataset, batch_size=batch_size, shuffle=False, num_workers=2)"
      ],
      "metadata": {
        "id": "j6oX0de14ySG"
      },
      "execution_count": null,
      "outputs": []
    },
    {
      "cell_type": "code",
      "source": [
        "# --------------------------\n",
        "# 4. Training Loop\n",
        "# --------------------------\n",
        "num_epochs = 500\n",
        "best_val_loss = float('inf')\n",
        "patience = 20\n",
        "history = {'train_loss': [], 'val_loss': [], 'val_acc': [], 'lr': []}\n",
        "\n",
        "print(f\"\\n{'='*50}\")\n",
        "print(f\"Starting training of {model.__class__.__name__}\")\n",
        "print(f\"Batch size: {batch_size}, Epochs: {num_epochs}\")\n",
        "print(f\"Train samples: {len(train_dataset)}, Val samples: {len(val_dataset)}\")\n",
        "print(f\"{'='*50}\\n\")\n",
        "\n",
        "for epoch in range(num_epochs):\n",
        "    epoch_start = time.time()\n",
        "\n",
        "    # Training phase\n",
        "    model.train()\n",
        "    train_loss = 0.0\n",
        "    with tqdm(train_loader, desc=f\"Epoch {epoch+1:3d}/{num_epochs} [Train]\", unit=\"batch\") as pbar:\n",
        "        for images, labels in pbar:\n",
        "            images, labels = images.to(device), labels.to(device)\n",
        "\n",
        "            optimizer.zero_grad()\n",
        "            outputs = model(images).squeeze()\n",
        "            loss = criterion(outputs, labels)\n",
        "            loss.backward()\n",
        "            optimizer.step()\n",
        "\n",
        "            train_loss += loss.item() * images.size(0)\n",
        "            pbar.set_postfix({'loss': f\"{loss.item():.4f}\"})\n",
        "\n",
        "    # Validation phase\n",
        "    model.eval()\n",
        "    val_loss, correct, total = 0.0, 0, 0\n",
        "    with torch.no_grad():\n",
        "        for images, labels in val_loader:\n",
        "            images, labels = images.to(device), labels.to(device)\n",
        "            outputs = model(images).squeeze()\n",
        "            loss = criterion(outputs, labels)\n",
        "\n",
        "            val_loss += loss.item() * images.size(0)\n",
        "            predicted = (outputs >= 0.5).float()\n",
        "            correct += (predicted == labels).sum().item()\n",
        "            total += labels.size(0)\n",
        "\n",
        "    # Calculate metrics\n",
        "    epoch_train_loss = train_loss / len(train_dataset)\n",
        "    epoch_val_loss = val_loss / len(val_dataset)\n",
        "    val_acc = correct / total\n",
        "    current_lr = optimizer.param_groups[0]['lr']\n",
        "\n",
        "    # Update scheduler and history\n",
        "    scheduler.step(epoch_val_loss)\n",
        "    history['train_loss'].append(epoch_train_loss)\n",
        "    history['val_loss'].append(epoch_val_loss)\n",
        "    history['val_acc'].append(val_acc)\n",
        "    history['lr'].append(current_lr)\n",
        "\n",
        "    # Early stopping check\n",
        "    if epoch_val_loss < best_val_loss:\n",
        "        best_val_loss = epoch_val_loss\n",
        "        torch.save(model.state_dict(), 'best_model.pth')\n",
        "        patience_counter = 0\n",
        "    else:\n",
        "        patience_counter += 1\n",
        "\n",
        "    # Epoch reporting\n",
        "    epoch_time = time.time() - epoch_start\n",
        "    print(f\"\\nEpoch {epoch+1:3d}/{num_epochs} | Time: {epoch_time:.1f}s\")\n",
        "    print(f\"Train Loss: {epoch_train_loss:.4f} | Val Loss: {epoch_val_loss:.4f}\")\n",
        "    print(f\"Val Acc: {val_acc:.4f} | LR: {current_lr:.2e}\")\n",
        "    print(f\"Early stopping counter: {patience_counter}/{patience}\")\n",
        "    print(\"-\" * 60)\n",
        "\n",
        "    if patience_counter >= patience:\n",
        "        print(f\"Early stopping triggered at epoch {epoch+1}\")\n",
        "        break"
      ],
      "metadata": {
        "colab": {
          "base_uri": "https://localhost:8080/"
        },
        "id": "ubv_ML34v8wH",
        "outputId": "3127e543-8093-47a4-a976-db7b7a2a6a62"
      },
      "execution_count": null,
      "outputs": [
        {
          "output_type": "stream",
          "name": "stdout",
          "text": [
            "\n",
            "==================================================\n",
            "Starting training of SwinBinaryClassifier\n",
            "Batch size: 32, Epochs: 500\n",
            "Train samples: 267, Val samples: 30\n",
            "==================================================\n",
            "\n"
          ]
        },
        {
          "output_type": "stream",
          "name": "stderr",
          "text": [
            "Epoch   1/500 [Train]: 100%|██████████| 9/9 [00:14<00:00,  1.63s/batch, loss=0.6273]\n"
          ]
        },
        {
          "output_type": "stream",
          "name": "stdout",
          "text": [
            "\n",
            "Epoch   1/500 | Time: 20.3s\n",
            "Train Loss: 0.6989 | Val Loss: 0.6924\n",
            "Val Acc: 0.5000 | LR: 1.00e-03\n",
            "Early stopping counter: 0/20\n",
            "------------------------------------------------------------\n"
          ]
        },
        {
          "output_type": "stream",
          "name": "stderr",
          "text": [
            "Epoch   2/500 [Train]: 100%|██████████| 9/9 [00:12<00:00,  1.39s/batch, loss=0.6248]\n"
          ]
        },
        {
          "output_type": "stream",
          "name": "stdout",
          "text": [
            "\n",
            "Epoch   2/500 | Time: 15.0s\n",
            "Train Loss: 0.6417 | Val Loss: 0.5686\n",
            "Val Acc: 0.7667 | LR: 1.00e-03\n",
            "Early stopping counter: 0/20\n",
            "------------------------------------------------------------\n"
          ]
        },
        {
          "output_type": "stream",
          "name": "stderr",
          "text": [
            "Epoch   3/500 [Train]: 100%|██████████| 9/9 [00:13<00:00,  1.46s/batch, loss=0.6192]\n"
          ]
        },
        {
          "output_type": "stream",
          "name": "stdout",
          "text": [
            "\n",
            "Epoch   3/500 | Time: 17.6s\n",
            "Train Loss: 0.5628 | Val Loss: 0.5220\n",
            "Val Acc: 0.7333 | LR: 1.00e-03\n",
            "Early stopping counter: 0/20\n",
            "------------------------------------------------------------\n"
          ]
        },
        {
          "output_type": "stream",
          "name": "stderr",
          "text": [
            "Epoch   4/500 [Train]: 100%|██████████| 9/9 [00:13<00:00,  1.50s/batch, loss=0.4475]\n"
          ]
        },
        {
          "output_type": "stream",
          "name": "stdout",
          "text": [
            "\n",
            "Epoch   4/500 | Time: 16.0s\n",
            "Train Loss: 0.5277 | Val Loss: 0.5004\n",
            "Val Acc: 0.8000 | LR: 1.00e-03\n",
            "Early stopping counter: 0/20\n",
            "------------------------------------------------------------\n"
          ]
        },
        {
          "output_type": "stream",
          "name": "stderr",
          "text": [
            "Epoch   5/500 [Train]: 100%|██████████| 9/9 [00:13<00:00,  1.49s/batch, loss=0.4282]\n"
          ]
        },
        {
          "output_type": "stream",
          "name": "stdout",
          "text": [
            "\n",
            "Epoch   5/500 | Time: 15.9s\n",
            "Train Loss: 0.5274 | Val Loss: 0.4910\n",
            "Val Acc: 0.8000 | LR: 1.00e-03\n",
            "Early stopping counter: 0/20\n",
            "------------------------------------------------------------\n"
          ]
        },
        {
          "output_type": "stream",
          "name": "stderr",
          "text": [
            "Epoch   6/500 [Train]: 100%|██████████| 9/9 [00:13<00:00,  1.45s/batch, loss=0.5144]\n"
          ]
        },
        {
          "output_type": "stream",
          "name": "stdout",
          "text": [
            "\n",
            "Epoch   6/500 | Time: 15.5s\n",
            "Train Loss: 0.4903 | Val Loss: 0.4804\n",
            "Val Acc: 0.8000 | LR: 1.00e-03\n",
            "Early stopping counter: 0/20\n",
            "------------------------------------------------------------\n"
          ]
        },
        {
          "output_type": "stream",
          "name": "stderr",
          "text": [
            "Epoch   7/500 [Train]: 100%|██████████| 9/9 [00:13<00:00,  1.45s/batch, loss=0.5493]\n"
          ]
        },
        {
          "output_type": "stream",
          "name": "stdout",
          "text": [
            "\n",
            "Epoch   7/500 | Time: 15.4s\n",
            "Train Loss: 0.4745 | Val Loss: 0.4706\n",
            "Val Acc: 0.8000 | LR: 1.00e-03\n",
            "Early stopping counter: 0/20\n",
            "------------------------------------------------------------\n"
          ]
        },
        {
          "output_type": "stream",
          "name": "stderr",
          "text": [
            "Epoch   8/500 [Train]: 100%|██████████| 9/9 [00:13<00:00,  1.45s/batch, loss=0.4409]\n"
          ]
        },
        {
          "output_type": "stream",
          "name": "stdout",
          "text": [
            "\n",
            "Epoch   8/500 | Time: 14.7s\n",
            "Train Loss: 0.4677 | Val Loss: 0.4706\n",
            "Val Acc: 0.8333 | LR: 1.00e-03\n",
            "Early stopping counter: 1/20\n",
            "------------------------------------------------------------\n"
          ]
        },
        {
          "output_type": "stream",
          "name": "stderr",
          "text": [
            "Epoch   9/500 [Train]: 100%|██████████| 9/9 [00:13<00:00,  1.48s/batch, loss=0.5901]\n"
          ]
        },
        {
          "output_type": "stream",
          "name": "stdout",
          "text": [
            "\n",
            "Epoch   9/500 | Time: 15.8s\n",
            "Train Loss: 0.4543 | Val Loss: 0.4577\n",
            "Val Acc: 0.8000 | LR: 1.00e-03\n",
            "Early stopping counter: 0/20\n",
            "------------------------------------------------------------\n"
          ]
        },
        {
          "output_type": "stream",
          "name": "stderr",
          "text": [
            "Epoch  10/500 [Train]: 100%|██████████| 9/9 [00:13<00:00,  1.47s/batch, loss=0.5677]\n"
          ]
        },
        {
          "output_type": "stream",
          "name": "stdout",
          "text": [
            "\n",
            "Epoch  10/500 | Time: 15.7s\n",
            "Train Loss: 0.4667 | Val Loss: 0.4452\n",
            "Val Acc: 0.8000 | LR: 1.00e-03\n",
            "Early stopping counter: 0/20\n",
            "------------------------------------------------------------\n"
          ]
        },
        {
          "output_type": "stream",
          "name": "stderr",
          "text": [
            "Epoch  11/500 [Train]: 100%|██████████| 9/9 [00:13<00:00,  1.46s/batch, loss=0.3390]\n"
          ]
        },
        {
          "output_type": "stream",
          "name": "stdout",
          "text": [
            "\n",
            "Epoch  11/500 | Time: 14.8s\n",
            "Train Loss: 0.4592 | Val Loss: 0.4452\n",
            "Val Acc: 0.8000 | LR: 1.00e-03\n",
            "Early stopping counter: 1/20\n",
            "------------------------------------------------------------\n"
          ]
        },
        {
          "output_type": "stream",
          "name": "stderr",
          "text": [
            "Epoch  12/500 [Train]: 100%|██████████| 9/9 [00:13<00:00,  1.46s/batch, loss=0.5047]\n"
          ]
        },
        {
          "output_type": "stream",
          "name": "stdout",
          "text": [
            "\n",
            "Epoch  12/500 | Time: 17.6s\n",
            "Train Loss: 0.4285 | Val Loss: 0.4356\n",
            "Val Acc: 0.8000 | LR: 1.00e-03\n",
            "Early stopping counter: 0/20\n",
            "------------------------------------------------------------\n"
          ]
        },
        {
          "output_type": "stream",
          "name": "stderr",
          "text": [
            "Epoch  13/500 [Train]: 100%|██████████| 9/9 [00:13<00:00,  1.48s/batch, loss=0.5245]\n"
          ]
        },
        {
          "output_type": "stream",
          "name": "stdout",
          "text": [
            "\n",
            "Epoch  13/500 | Time: 16.3s\n",
            "Train Loss: 0.4365 | Val Loss: 0.4323\n",
            "Val Acc: 0.8000 | LR: 1.00e-03\n",
            "Early stopping counter: 0/20\n",
            "------------------------------------------------------------\n"
          ]
        },
        {
          "output_type": "stream",
          "name": "stderr",
          "text": [
            "Epoch  14/500 [Train]: 100%|██████████| 9/9 [00:13<00:00,  1.50s/batch, loss=0.4505]\n"
          ]
        },
        {
          "output_type": "stream",
          "name": "stdout",
          "text": [
            "\n",
            "Epoch  14/500 | Time: 15.2s\n",
            "Train Loss: 0.4175 | Val Loss: 0.4345\n",
            "Val Acc: 0.8000 | LR: 1.00e-03\n",
            "Early stopping counter: 1/20\n",
            "------------------------------------------------------------\n"
          ]
        },
        {
          "output_type": "stream",
          "name": "stderr",
          "text": [
            "Epoch  15/500 [Train]: 100%|██████████| 9/9 [00:13<00:00,  1.49s/batch, loss=0.2532]\n"
          ]
        },
        {
          "output_type": "stream",
          "name": "stdout",
          "text": [
            "\n",
            "Epoch  15/500 | Time: 15.9s\n",
            "Train Loss: 0.4223 | Val Loss: 0.4289\n",
            "Val Acc: 0.8000 | LR: 1.00e-03\n",
            "Early stopping counter: 0/20\n",
            "------------------------------------------------------------\n"
          ]
        },
        {
          "output_type": "stream",
          "name": "stderr",
          "text": [
            "Epoch  16/500 [Train]: 100%|██████████| 9/9 [00:13<00:00,  1.48s/batch, loss=0.3051]\n"
          ]
        },
        {
          "output_type": "stream",
          "name": "stdout",
          "text": [
            "\n",
            "Epoch  16/500 | Time: 15.8s\n",
            "Train Loss: 0.4217 | Val Loss: 0.4219\n",
            "Val Acc: 0.8000 | LR: 1.00e-03\n",
            "Early stopping counter: 0/20\n",
            "------------------------------------------------------------\n"
          ]
        },
        {
          "output_type": "stream",
          "name": "stderr",
          "text": [
            "Epoch  17/500 [Train]: 100%|██████████| 9/9 [00:13<00:00,  1.47s/batch, loss=0.6869]\n"
          ]
        },
        {
          "output_type": "stream",
          "name": "stdout",
          "text": [
            "\n",
            "Epoch  17/500 | Time: 14.9s\n",
            "Train Loss: 0.3934 | Val Loss: 0.4225\n",
            "Val Acc: 0.8333 | LR: 1.00e-03\n",
            "Early stopping counter: 1/20\n",
            "------------------------------------------------------------\n"
          ]
        },
        {
          "output_type": "stream",
          "name": "stderr",
          "text": [
            "Epoch  18/500 [Train]: 100%|██████████| 9/9 [00:13<00:00,  1.48s/batch, loss=0.4435]\n"
          ]
        },
        {
          "output_type": "stream",
          "name": "stdout",
          "text": [
            "\n",
            "Epoch  18/500 | Time: 15.0s\n",
            "Train Loss: 0.4048 | Val Loss: 0.4254\n",
            "Val Acc: 0.8333 | LR: 1.00e-03\n",
            "Early stopping counter: 2/20\n",
            "------------------------------------------------------------\n"
          ]
        },
        {
          "output_type": "stream",
          "name": "stderr",
          "text": [
            "Epoch  19/500 [Train]: 100%|██████████| 9/9 [00:13<00:00,  1.47s/batch, loss=0.1896]\n"
          ]
        },
        {
          "output_type": "stream",
          "name": "stdout",
          "text": [
            "\n",
            "Epoch  19/500 | Time: 14.8s\n",
            "Train Loss: 0.3987 | Val Loss: 0.4240\n",
            "Val Acc: 0.8333 | LR: 1.00e-03\n",
            "Early stopping counter: 3/20\n",
            "------------------------------------------------------------\n"
          ]
        },
        {
          "output_type": "stream",
          "name": "stderr",
          "text": [
            "Epoch  20/500 [Train]: 100%|██████████| 9/9 [00:13<00:00,  1.47s/batch, loss=0.4196]\n"
          ]
        },
        {
          "output_type": "stream",
          "name": "stdout",
          "text": [
            "\n",
            "Epoch  20/500 | Time: 14.9s\n",
            "Train Loss: 0.3882 | Val Loss: 0.4236\n",
            "Val Acc: 0.8333 | LR: 1.00e-03\n",
            "Early stopping counter: 4/20\n",
            "------------------------------------------------------------\n"
          ]
        },
        {
          "output_type": "stream",
          "name": "stderr",
          "text": [
            "Epoch  21/500 [Train]: 100%|██████████| 9/9 [00:13<00:00,  1.47s/batch, loss=0.4417]\n"
          ]
        },
        {
          "output_type": "stream",
          "name": "stdout",
          "text": [
            "\n",
            "Epoch  21/500 | Time: 15.7s\n",
            "Train Loss: 0.3817 | Val Loss: 0.4204\n",
            "Val Acc: 0.8333 | LR: 1.00e-03\n",
            "Early stopping counter: 0/20\n",
            "------------------------------------------------------------\n"
          ]
        },
        {
          "output_type": "stream",
          "name": "stderr",
          "text": [
            "Epoch  22/500 [Train]: 100%|██████████| 9/9 [00:13<00:00,  1.47s/batch, loss=0.4021]\n"
          ]
        },
        {
          "output_type": "stream",
          "name": "stdout",
          "text": [
            "\n",
            "Epoch  22/500 | Time: 14.8s\n",
            "Train Loss: 0.3916 | Val Loss: 0.4261\n",
            "Val Acc: 0.8333 | LR: 1.00e-03\n",
            "Early stopping counter: 1/20\n",
            "------------------------------------------------------------\n"
          ]
        },
        {
          "output_type": "stream",
          "name": "stderr",
          "text": [
            "Epoch  23/500 [Train]: 100%|██████████| 9/9 [00:13<00:00,  1.47s/batch, loss=0.5126]\n"
          ]
        },
        {
          "output_type": "stream",
          "name": "stdout",
          "text": [
            "\n",
            "Epoch  23/500 | Time: 15.7s\n",
            "Train Loss: 0.3869 | Val Loss: 0.4162\n",
            "Val Acc: 0.7667 | LR: 1.00e-03\n",
            "Early stopping counter: 0/20\n",
            "------------------------------------------------------------\n"
          ]
        },
        {
          "output_type": "stream",
          "name": "stderr",
          "text": [
            "Epoch  24/500 [Train]: 100%|██████████| 9/9 [00:13<00:00,  1.47s/batch, loss=0.3668]\n"
          ]
        },
        {
          "output_type": "stream",
          "name": "stdout",
          "text": [
            "\n",
            "Epoch  24/500 | Time: 14.9s\n",
            "Train Loss: 0.3693 | Val Loss: 0.4221\n",
            "Val Acc: 0.8333 | LR: 1.00e-03\n",
            "Early stopping counter: 1/20\n",
            "------------------------------------------------------------\n"
          ]
        },
        {
          "output_type": "stream",
          "name": "stderr",
          "text": [
            "Epoch  25/500 [Train]: 100%|██████████| 9/9 [00:13<00:00,  1.47s/batch, loss=0.4228]\n"
          ]
        },
        {
          "output_type": "stream",
          "name": "stdout",
          "text": [
            "\n",
            "Epoch  25/500 | Time: 14.9s\n",
            "Train Loss: 0.3682 | Val Loss: 0.4171\n",
            "Val Acc: 0.8000 | LR: 1.00e-03\n",
            "Early stopping counter: 2/20\n",
            "------------------------------------------------------------\n"
          ]
        },
        {
          "output_type": "stream",
          "name": "stderr",
          "text": [
            "Epoch  26/500 [Train]: 100%|██████████| 9/9 [00:13<00:00,  1.47s/batch, loss=0.3608]\n"
          ]
        },
        {
          "output_type": "stream",
          "name": "stdout",
          "text": [
            "\n",
            "Epoch  26/500 | Time: 15.7s\n",
            "Train Loss: 0.3573 | Val Loss: 0.4133\n",
            "Val Acc: 0.8000 | LR: 1.00e-03\n",
            "Early stopping counter: 0/20\n",
            "------------------------------------------------------------\n"
          ]
        },
        {
          "output_type": "stream",
          "name": "stderr",
          "text": [
            "Epoch  27/500 [Train]: 100%|██████████| 9/9 [00:13<00:00,  1.47s/batch, loss=0.3544]\n"
          ]
        },
        {
          "output_type": "stream",
          "name": "stdout",
          "text": [
            "\n",
            "Epoch  27/500 | Time: 14.9s\n",
            "Train Loss: 0.3623 | Val Loss: 0.4291\n",
            "Val Acc: 0.8333 | LR: 1.00e-03\n",
            "Early stopping counter: 1/20\n",
            "------------------------------------------------------------\n"
          ]
        },
        {
          "output_type": "stream",
          "name": "stderr",
          "text": [
            "Epoch  28/500 [Train]: 100%|██████████| 9/9 [00:13<00:00,  1.47s/batch, loss=0.6000]\n"
          ]
        },
        {
          "output_type": "stream",
          "name": "stdout",
          "text": [
            "\n",
            "Epoch  28/500 | Time: 15.7s\n",
            "Train Loss: 0.3716 | Val Loss: 0.4103\n",
            "Val Acc: 0.8000 | LR: 1.00e-03\n",
            "Early stopping counter: 0/20\n",
            "------------------------------------------------------------\n"
          ]
        },
        {
          "output_type": "stream",
          "name": "stderr",
          "text": [
            "Epoch  29/500 [Train]: 100%|██████████| 9/9 [00:13<00:00,  1.47s/batch, loss=0.3412]\n"
          ]
        },
        {
          "output_type": "stream",
          "name": "stdout",
          "text": [
            "\n",
            "Epoch  29/500 | Time: 14.9s\n",
            "Train Loss: 0.3524 | Val Loss: 0.4186\n",
            "Val Acc: 0.8000 | LR: 1.00e-03\n",
            "Early stopping counter: 1/20\n",
            "------------------------------------------------------------\n"
          ]
        },
        {
          "output_type": "stream",
          "name": "stderr",
          "text": [
            "Epoch  30/500 [Train]: 100%|██████████| 9/9 [00:13<00:00,  1.48s/batch, loss=0.6374]\n"
          ]
        },
        {
          "output_type": "stream",
          "name": "stdout",
          "text": [
            "\n",
            "Epoch  30/500 | Time: 15.8s\n",
            "Train Loss: 0.3578 | Val Loss: 0.4056\n",
            "Val Acc: 0.8000 | LR: 1.00e-03\n",
            "Early stopping counter: 0/20\n",
            "------------------------------------------------------------\n"
          ]
        },
        {
          "output_type": "stream",
          "name": "stderr",
          "text": [
            "Epoch  31/500 [Train]: 100%|██████████| 9/9 [00:13<00:00,  1.48s/batch, loss=0.4005]\n"
          ]
        },
        {
          "output_type": "stream",
          "name": "stdout",
          "text": [
            "\n",
            "Epoch  31/500 | Time: 14.9s\n",
            "Train Loss: 0.3390 | Val Loss: 0.4186\n",
            "Val Acc: 0.8000 | LR: 1.00e-03\n",
            "Early stopping counter: 1/20\n",
            "------------------------------------------------------------\n"
          ]
        },
        {
          "output_type": "stream",
          "name": "stderr",
          "text": [
            "Epoch  32/500 [Train]: 100%|██████████| 9/9 [00:13<00:00,  1.48s/batch, loss=0.2899]\n"
          ]
        },
        {
          "output_type": "stream",
          "name": "stdout",
          "text": [
            "\n",
            "Epoch  32/500 | Time: 14.9s\n",
            "Train Loss: 0.3437 | Val Loss: 0.4099\n",
            "Val Acc: 0.8000 | LR: 1.00e-03\n",
            "Early stopping counter: 2/20\n",
            "------------------------------------------------------------\n"
          ]
        },
        {
          "output_type": "stream",
          "name": "stderr",
          "text": [
            "Epoch  33/500 [Train]: 100%|██████████| 9/9 [00:13<00:00,  1.48s/batch, loss=0.3542]\n"
          ]
        },
        {
          "output_type": "stream",
          "name": "stdout",
          "text": [
            "\n",
            "Epoch  33/500 | Time: 15.0s\n",
            "Train Loss: 0.3315 | Val Loss: 0.4133\n",
            "Val Acc: 0.8000 | LR: 1.00e-03\n",
            "Early stopping counter: 3/20\n",
            "------------------------------------------------------------\n"
          ]
        },
        {
          "output_type": "stream",
          "name": "stderr",
          "text": [
            "Epoch  34/500 [Train]: 100%|██████████| 9/9 [00:13<00:00,  1.47s/batch, loss=0.3801]\n"
          ]
        },
        {
          "output_type": "stream",
          "name": "stdout",
          "text": [
            "\n",
            "Epoch  34/500 | Time: 14.9s\n",
            "Train Loss: 0.3310 | Val Loss: 0.4061\n",
            "Val Acc: 0.8000 | LR: 1.00e-03\n",
            "Early stopping counter: 4/20\n",
            "------------------------------------------------------------\n"
          ]
        },
        {
          "output_type": "stream",
          "name": "stderr",
          "text": [
            "Epoch  35/500 [Train]: 100%|██████████| 9/9 [00:13<00:00,  1.47s/batch, loss=0.5546]\n"
          ]
        },
        {
          "output_type": "stream",
          "name": "stdout",
          "text": [
            "\n",
            "Epoch  35/500 | Time: 14.9s\n",
            "Train Loss: 0.3280 | Val Loss: 0.4092\n",
            "Val Acc: 0.8000 | LR: 1.00e-03\n",
            "Early stopping counter: 5/20\n",
            "------------------------------------------------------------\n"
          ]
        },
        {
          "output_type": "stream",
          "name": "stderr",
          "text": [
            "Epoch  36/500 [Train]: 100%|██████████| 9/9 [00:13<00:00,  1.47s/batch, loss=0.2344]\n"
          ]
        },
        {
          "output_type": "stream",
          "name": "stdout",
          "text": [
            "\n",
            "Epoch  36/500 | Time: 14.9s\n",
            "Train Loss: 0.3283 | Val Loss: 0.4091\n",
            "Val Acc: 0.8000 | LR: 1.00e-03\n",
            "Early stopping counter: 6/20\n",
            "------------------------------------------------------------\n"
          ]
        },
        {
          "output_type": "stream",
          "name": "stderr",
          "text": [
            "Epoch  37/500 [Train]: 100%|██████████| 9/9 [00:13<00:00,  1.47s/batch, loss=0.2760]\n"
          ]
        },
        {
          "output_type": "stream",
          "name": "stdout",
          "text": [
            "\n",
            "Epoch  37/500 | Time: 14.9s\n",
            "Train Loss: 0.3203 | Val Loss: 0.4065\n",
            "Val Acc: 0.8000 | LR: 1.00e-04\n",
            "Early stopping counter: 7/20\n",
            "------------------------------------------------------------\n"
          ]
        },
        {
          "output_type": "stream",
          "name": "stderr",
          "text": [
            "Epoch  38/500 [Train]: 100%|██████████| 9/9 [00:13<00:00,  1.47s/batch, loss=0.4279]\n"
          ]
        },
        {
          "output_type": "stream",
          "name": "stdout",
          "text": [
            "\n",
            "Epoch  38/500 | Time: 14.9s\n",
            "Train Loss: 0.3081 | Val Loss: 0.4065\n",
            "Val Acc: 0.8000 | LR: 1.00e-04\n",
            "Early stopping counter: 8/20\n",
            "------------------------------------------------------------\n"
          ]
        },
        {
          "output_type": "stream",
          "name": "stderr",
          "text": [
            "Epoch  39/500 [Train]: 100%|██████████| 9/9 [00:13<00:00,  1.47s/batch, loss=0.3016]\n"
          ]
        },
        {
          "output_type": "stream",
          "name": "stdout",
          "text": [
            "\n",
            "Epoch  39/500 | Time: 14.9s\n",
            "Train Loss: 0.3233 | Val Loss: 0.4056\n",
            "Val Acc: 0.8000 | LR: 1.00e-04\n",
            "Early stopping counter: 9/20\n",
            "------------------------------------------------------------\n"
          ]
        },
        {
          "output_type": "stream",
          "name": "stderr",
          "text": [
            "Epoch  40/500 [Train]: 100%|██████████| 9/9 [00:13<00:00,  1.47s/batch, loss=0.3186]\n"
          ]
        },
        {
          "output_type": "stream",
          "name": "stdout",
          "text": [
            "\n",
            "Epoch  40/500 | Time: 14.9s\n",
            "Train Loss: 0.3199 | Val Loss: 0.4059\n",
            "Val Acc: 0.8000 | LR: 1.00e-04\n",
            "Early stopping counter: 10/20\n",
            "------------------------------------------------------------\n"
          ]
        },
        {
          "output_type": "stream",
          "name": "stderr",
          "text": [
            "Epoch  41/500 [Train]: 100%|██████████| 9/9 [00:13<00:00,  1.47s/batch, loss=0.2268]\n"
          ]
        },
        {
          "output_type": "stream",
          "name": "stdout",
          "text": [
            "\n",
            "Epoch  41/500 | Time: 15.7s\n",
            "Train Loss: 0.3145 | Val Loss: 0.4044\n",
            "Val Acc: 0.8000 | LR: 1.00e-04\n",
            "Early stopping counter: 0/20\n",
            "------------------------------------------------------------\n"
          ]
        },
        {
          "output_type": "stream",
          "name": "stderr",
          "text": [
            "Epoch  42/500 [Train]: 100%|██████████| 9/9 [00:13<00:00,  1.47s/batch, loss=0.5135]\n"
          ]
        },
        {
          "output_type": "stream",
          "name": "stdout",
          "text": [
            "\n",
            "Epoch  42/500 | Time: 14.9s\n",
            "Train Loss: 0.3145 | Val Loss: 0.4094\n",
            "Val Acc: 0.8000 | LR: 1.00e-04\n",
            "Early stopping counter: 1/20\n",
            "------------------------------------------------------------\n"
          ]
        },
        {
          "output_type": "stream",
          "name": "stderr",
          "text": [
            "Epoch  43/500 [Train]: 100%|██████████| 9/9 [00:13<00:00,  1.48s/batch, loss=0.5423]\n"
          ]
        },
        {
          "output_type": "stream",
          "name": "stdout",
          "text": [
            "\n",
            "Epoch  43/500 | Time: 15.0s\n",
            "Train Loss: 0.3227 | Val Loss: 0.4057\n",
            "Val Acc: 0.8000 | LR: 1.00e-04\n",
            "Early stopping counter: 2/20\n",
            "------------------------------------------------------------\n"
          ]
        },
        {
          "output_type": "stream",
          "name": "stderr",
          "text": [
            "Epoch  44/500 [Train]: 100%|██████████| 9/9 [00:13<00:00,  1.48s/batch, loss=0.2304]\n"
          ]
        },
        {
          "output_type": "stream",
          "name": "stdout",
          "text": [
            "\n",
            "Epoch  44/500 | Time: 15.8s\n",
            "Train Loss: 0.3172 | Val Loss: 0.4031\n",
            "Val Acc: 0.8000 | LR: 1.00e-04\n",
            "Early stopping counter: 0/20\n",
            "------------------------------------------------------------\n"
          ]
        },
        {
          "output_type": "stream",
          "name": "stderr",
          "text": [
            "Epoch  45/500 [Train]: 100%|██████████| 9/9 [00:13<00:00,  1.47s/batch, loss=0.4785]\n"
          ]
        },
        {
          "output_type": "stream",
          "name": "stdout",
          "text": [
            "\n",
            "Epoch  45/500 | Time: 14.9s\n",
            "Train Loss: 0.3095 | Val Loss: 0.4056\n",
            "Val Acc: 0.8000 | LR: 1.00e-04\n",
            "Early stopping counter: 1/20\n",
            "------------------------------------------------------------\n"
          ]
        },
        {
          "output_type": "stream",
          "name": "stderr",
          "text": [
            "Epoch  46/500 [Train]: 100%|██████████| 9/9 [00:13<00:00,  1.47s/batch, loss=0.3859]\n"
          ]
        },
        {
          "output_type": "stream",
          "name": "stdout",
          "text": [
            "\n",
            "Epoch  46/500 | Time: 14.9s\n",
            "Train Loss: 0.3096 | Val Loss: 0.4039\n",
            "Val Acc: 0.8000 | LR: 1.00e-04\n",
            "Early stopping counter: 2/20\n",
            "------------------------------------------------------------\n"
          ]
        },
        {
          "output_type": "stream",
          "name": "stderr",
          "text": [
            "Epoch  47/500 [Train]: 100%|██████████| 9/9 [00:13<00:00,  1.47s/batch, loss=0.2166]\n"
          ]
        },
        {
          "output_type": "stream",
          "name": "stdout",
          "text": [
            "\n",
            "Epoch  47/500 | Time: 15.8s\n",
            "Train Loss: 0.3182 | Val Loss: 0.4028\n",
            "Val Acc: 0.8000 | LR: 1.00e-04\n",
            "Early stopping counter: 0/20\n",
            "------------------------------------------------------------\n"
          ]
        },
        {
          "output_type": "stream",
          "name": "stderr",
          "text": [
            "Epoch  48/500 [Train]: 100%|██████████| 9/9 [00:13<00:00,  1.47s/batch, loss=0.2597]\n"
          ]
        },
        {
          "output_type": "stream",
          "name": "stdout",
          "text": [
            "\n",
            "Epoch  48/500 | Time: 14.9s\n",
            "Train Loss: 0.3211 | Val Loss: 0.4049\n",
            "Val Acc: 0.8000 | LR: 1.00e-04\n",
            "Early stopping counter: 1/20\n",
            "------------------------------------------------------------\n"
          ]
        },
        {
          "output_type": "stream",
          "name": "stderr",
          "text": [
            "Epoch  49/500 [Train]: 100%|██████████| 9/9 [00:13<00:00,  1.47s/batch, loss=0.3187]\n"
          ]
        },
        {
          "output_type": "stream",
          "name": "stdout",
          "text": [
            "\n",
            "Epoch  49/500 | Time: 14.9s\n",
            "Train Loss: 0.3099 | Val Loss: 0.4063\n",
            "Val Acc: 0.8000 | LR: 1.00e-04\n",
            "Early stopping counter: 2/20\n",
            "------------------------------------------------------------\n"
          ]
        },
        {
          "output_type": "stream",
          "name": "stderr",
          "text": [
            "Epoch  50/500 [Train]: 100%|██████████| 9/9 [00:13<00:00,  1.48s/batch, loss=0.2146]\n"
          ]
        },
        {
          "output_type": "stream",
          "name": "stdout",
          "text": [
            "\n",
            "Epoch  50/500 | Time: 14.9s\n",
            "Train Loss: 0.3164 | Val Loss: 0.4045\n",
            "Val Acc: 0.8000 | LR: 1.00e-04\n",
            "Early stopping counter: 3/20\n",
            "------------------------------------------------------------\n"
          ]
        },
        {
          "output_type": "stream",
          "name": "stderr",
          "text": [
            "Epoch  51/500 [Train]: 100%|██████████| 9/9 [00:13<00:00,  1.47s/batch, loss=0.1551]\n"
          ]
        },
        {
          "output_type": "stream",
          "name": "stdout",
          "text": [
            "\n",
            "Epoch  51/500 | Time: 14.9s\n",
            "Train Loss: 0.3125 | Val Loss: 0.4052\n",
            "Val Acc: 0.8000 | LR: 1.00e-04\n",
            "Early stopping counter: 4/20\n",
            "------------------------------------------------------------\n"
          ]
        },
        {
          "output_type": "stream",
          "name": "stderr",
          "text": [
            "Epoch  52/500 [Train]: 100%|██████████| 9/9 [00:13<00:00,  1.48s/batch, loss=0.3138]\n"
          ]
        },
        {
          "output_type": "stream",
          "name": "stdout",
          "text": [
            "\n",
            "Epoch  52/500 | Time: 15.0s\n",
            "Train Loss: 0.3163 | Val Loss: 0.4045\n",
            "Val Acc: 0.8000 | LR: 1.00e-04\n",
            "Early stopping counter: 5/20\n",
            "------------------------------------------------------------\n"
          ]
        },
        {
          "output_type": "stream",
          "name": "stderr",
          "text": [
            "Epoch  53/500 [Train]: 100%|██████████| 9/9 [00:13<00:00,  1.48s/batch, loss=0.5478]\n"
          ]
        },
        {
          "output_type": "stream",
          "name": "stdout",
          "text": [
            "\n",
            "Epoch  53/500 | Time: 15.8s\n",
            "Train Loss: 0.3120 | Val Loss: 0.4017\n",
            "Val Acc: 0.8000 | LR: 1.00e-04\n",
            "Early stopping counter: 0/20\n",
            "------------------------------------------------------------\n"
          ]
        },
        {
          "output_type": "stream",
          "name": "stderr",
          "text": [
            "Epoch  54/500 [Train]: 100%|██████████| 9/9 [00:13<00:00,  1.47s/batch, loss=0.3438]\n"
          ]
        },
        {
          "output_type": "stream",
          "name": "stdout",
          "text": [
            "\n",
            "Epoch  54/500 | Time: 15.7s\n",
            "Train Loss: 0.3226 | Val Loss: 0.4011\n",
            "Val Acc: 0.8000 | LR: 1.00e-04\n",
            "Early stopping counter: 0/20\n",
            "------------------------------------------------------------\n"
          ]
        },
        {
          "output_type": "stream",
          "name": "stderr",
          "text": [
            "Epoch  55/500 [Train]: 100%|██████████| 9/9 [00:13<00:00,  1.47s/batch, loss=0.3273]\n"
          ]
        },
        {
          "output_type": "stream",
          "name": "stdout",
          "text": [
            "\n",
            "Epoch  55/500 | Time: 14.9s\n",
            "Train Loss: 0.3119 | Val Loss: 0.4051\n",
            "Val Acc: 0.8000 | LR: 1.00e-04\n",
            "Early stopping counter: 1/20\n",
            "------------------------------------------------------------\n"
          ]
        },
        {
          "output_type": "stream",
          "name": "stderr",
          "text": [
            "Epoch  56/500 [Train]: 100%|██████████| 9/9 [00:13<00:00,  1.48s/batch, loss=0.4005]\n"
          ]
        },
        {
          "output_type": "stream",
          "name": "stdout",
          "text": [
            "\n",
            "Epoch  56/500 | Time: 15.0s\n",
            "Train Loss: 0.3112 | Val Loss: 0.4059\n",
            "Val Acc: 0.8000 | LR: 1.00e-04\n",
            "Early stopping counter: 2/20\n",
            "------------------------------------------------------------\n"
          ]
        },
        {
          "output_type": "stream",
          "name": "stderr",
          "text": [
            "Epoch  57/500 [Train]: 100%|██████████| 9/9 [00:13<00:00,  1.47s/batch, loss=0.2201]\n"
          ]
        },
        {
          "output_type": "stream",
          "name": "stdout",
          "text": [
            "\n",
            "Epoch  57/500 | Time: 14.9s\n",
            "Train Loss: 0.3148 | Val Loss: 0.4064\n",
            "Val Acc: 0.8000 | LR: 1.00e-04\n",
            "Early stopping counter: 3/20\n",
            "------------------------------------------------------------\n"
          ]
        },
        {
          "output_type": "stream",
          "name": "stderr",
          "text": [
            "Epoch  58/500 [Train]: 100%|██████████| 9/9 [00:13<00:00,  1.48s/batch, loss=0.2538]\n"
          ]
        },
        {
          "output_type": "stream",
          "name": "stdout",
          "text": [
            "\n",
            "Epoch  58/500 | Time: 14.9s\n",
            "Train Loss: 0.3027 | Val Loss: 0.4082\n",
            "Val Acc: 0.8000 | LR: 1.00e-04\n",
            "Early stopping counter: 4/20\n",
            "------------------------------------------------------------\n"
          ]
        },
        {
          "output_type": "stream",
          "name": "stderr",
          "text": [
            "Epoch  59/500 [Train]: 100%|██████████| 9/9 [00:13<00:00,  1.47s/batch, loss=0.4000]\n"
          ]
        },
        {
          "output_type": "stream",
          "name": "stdout",
          "text": [
            "\n",
            "Epoch  59/500 | Time: 14.9s\n",
            "Train Loss: 0.3172 | Val Loss: 0.4041\n",
            "Val Acc: 0.8000 | LR: 1.00e-04\n",
            "Early stopping counter: 5/20\n",
            "------------------------------------------------------------\n"
          ]
        },
        {
          "output_type": "stream",
          "name": "stderr",
          "text": [
            "Epoch  60/500 [Train]: 100%|██████████| 9/9 [00:13<00:00,  1.48s/batch, loss=0.2740]\n"
          ]
        },
        {
          "output_type": "stream",
          "name": "stdout",
          "text": [
            "\n",
            "Epoch  60/500 | Time: 14.9s\n",
            "Train Loss: 0.3082 | Val Loss: 0.4052\n",
            "Val Acc: 0.8000 | LR: 1.00e-04\n",
            "Early stopping counter: 6/20\n",
            "------------------------------------------------------------\n"
          ]
        },
        {
          "output_type": "stream",
          "name": "stderr",
          "text": [
            "Epoch  61/500 [Train]: 100%|██████████| 9/9 [00:13<00:00,  1.47s/batch, loss=0.3617]\n"
          ]
        },
        {
          "output_type": "stream",
          "name": "stdout",
          "text": [
            "\n",
            "Epoch  61/500 | Time: 14.9s\n",
            "Train Loss: 0.3110 | Val Loss: 0.4047\n",
            "Val Acc: 0.8000 | LR: 1.00e-05\n",
            "Early stopping counter: 7/20\n",
            "------------------------------------------------------------\n"
          ]
        },
        {
          "output_type": "stream",
          "name": "stderr",
          "text": [
            "Epoch  62/500 [Train]: 100%|██████████| 9/9 [00:13<00:00,  1.48s/batch, loss=0.3891]\n"
          ]
        },
        {
          "output_type": "stream",
          "name": "stdout",
          "text": [
            "\n",
            "Epoch  62/500 | Time: 14.9s\n",
            "Train Loss: 0.3017 | Val Loss: 0.4041\n",
            "Val Acc: 0.8000 | LR: 1.00e-05\n",
            "Early stopping counter: 8/20\n",
            "------------------------------------------------------------\n"
          ]
        },
        {
          "output_type": "stream",
          "name": "stderr",
          "text": [
            "Epoch  63/500 [Train]: 100%|██████████| 9/9 [00:13<00:00,  1.47s/batch, loss=0.2799]\n"
          ]
        },
        {
          "output_type": "stream",
          "name": "stdout",
          "text": [
            "\n",
            "Epoch  63/500 | Time: 14.9s\n",
            "Train Loss: 0.3133 | Val Loss: 0.4037\n",
            "Val Acc: 0.8000 | LR: 1.00e-05\n",
            "Early stopping counter: 9/20\n",
            "------------------------------------------------------------\n"
          ]
        },
        {
          "output_type": "stream",
          "name": "stderr",
          "text": [
            "Epoch  64/500 [Train]: 100%|██████████| 9/9 [00:13<00:00,  1.47s/batch, loss=0.3585]\n"
          ]
        },
        {
          "output_type": "stream",
          "name": "stdout",
          "text": [
            "\n",
            "Epoch  64/500 | Time: 14.9s\n",
            "Train Loss: 0.3120 | Val Loss: 0.4035\n",
            "Val Acc: 0.8000 | LR: 1.00e-05\n",
            "Early stopping counter: 10/20\n",
            "------------------------------------------------------------\n"
          ]
        },
        {
          "output_type": "stream",
          "name": "stderr",
          "text": [
            "Epoch  65/500 [Train]: 100%|██████████| 9/9 [00:13<00:00,  1.48s/batch, loss=0.1781]\n"
          ]
        },
        {
          "output_type": "stream",
          "name": "stdout",
          "text": [
            "\n",
            "Epoch  65/500 | Time: 14.9s\n",
            "Train Loss: 0.3140 | Val Loss: 0.4035\n",
            "Val Acc: 0.8000 | LR: 1.00e-05\n",
            "Early stopping counter: 11/20\n",
            "------------------------------------------------------------\n"
          ]
        },
        {
          "output_type": "stream",
          "name": "stderr",
          "text": [
            "Epoch  66/500 [Train]: 100%|██████████| 9/9 [00:13<00:00,  1.47s/batch, loss=0.1445]\n"
          ]
        },
        {
          "output_type": "stream",
          "name": "stdout",
          "text": [
            "\n",
            "Epoch  66/500 | Time: 15.0s\n",
            "Train Loss: 0.3049 | Val Loss: 0.4032\n",
            "Val Acc: 0.8000 | LR: 1.00e-05\n",
            "Early stopping counter: 12/20\n",
            "------------------------------------------------------------\n"
          ]
        },
        {
          "output_type": "stream",
          "name": "stderr",
          "text": [
            "Epoch  67/500 [Train]: 100%|██████████| 9/9 [00:13<00:00,  1.48s/batch, loss=0.1799]\n"
          ]
        },
        {
          "output_type": "stream",
          "name": "stdout",
          "text": [
            "\n",
            "Epoch  67/500 | Time: 15.0s\n",
            "Train Loss: 0.3056 | Val Loss: 0.4032\n",
            "Val Acc: 0.8000 | LR: 1.00e-06\n",
            "Early stopping counter: 13/20\n",
            "------------------------------------------------------------\n"
          ]
        },
        {
          "output_type": "stream",
          "name": "stderr",
          "text": [
            "Epoch  68/500 [Train]: 100%|██████████| 9/9 [00:13<00:00,  1.48s/batch, loss=0.3504]\n"
          ]
        },
        {
          "output_type": "stream",
          "name": "stdout",
          "text": [
            "\n",
            "Epoch  68/500 | Time: 14.9s\n",
            "Train Loss: 0.3117 | Val Loss: 0.4032\n",
            "Val Acc: 0.8000 | LR: 1.00e-06\n",
            "Early stopping counter: 14/20\n",
            "------------------------------------------------------------\n"
          ]
        },
        {
          "output_type": "stream",
          "name": "stderr",
          "text": [
            "Epoch  69/500 [Train]: 100%|██████████| 9/9 [00:13<00:00,  1.48s/batch, loss=0.4199]\n"
          ]
        },
        {
          "output_type": "stream",
          "name": "stdout",
          "text": [
            "\n",
            "Epoch  69/500 | Time: 15.0s\n",
            "Train Loss: 0.3048 | Val Loss: 0.4032\n",
            "Val Acc: 0.8000 | LR: 1.00e-06\n",
            "Early stopping counter: 15/20\n",
            "------------------------------------------------------------\n"
          ]
        },
        {
          "output_type": "stream",
          "name": "stderr",
          "text": [
            "Epoch  70/500 [Train]: 100%|██████████| 9/9 [00:13<00:00,  1.47s/batch, loss=0.3321]\n"
          ]
        },
        {
          "output_type": "stream",
          "name": "stdout",
          "text": [
            "\n",
            "Epoch  70/500 | Time: 14.9s\n",
            "Train Loss: 0.3047 | Val Loss: 0.4032\n",
            "Val Acc: 0.8000 | LR: 1.00e-06\n",
            "Early stopping counter: 16/20\n",
            "------------------------------------------------------------\n"
          ]
        },
        {
          "output_type": "stream",
          "name": "stderr",
          "text": [
            "Epoch  71/500 [Train]: 100%|██████████| 9/9 [00:13<00:00,  1.48s/batch, loss=0.2697]\n"
          ]
        },
        {
          "output_type": "stream",
          "name": "stdout",
          "text": [
            "\n",
            "Epoch  71/500 | Time: 14.9s\n",
            "Train Loss: 0.3095 | Val Loss: 0.4032\n",
            "Val Acc: 0.8000 | LR: 1.00e-06\n",
            "Early stopping counter: 17/20\n",
            "------------------------------------------------------------\n"
          ]
        },
        {
          "output_type": "stream",
          "name": "stderr",
          "text": [
            "Epoch  72/500 [Train]: 100%|██████████| 9/9 [00:13<00:00,  1.48s/batch, loss=0.3943]\n"
          ]
        },
        {
          "output_type": "stream",
          "name": "stdout",
          "text": [
            "\n",
            "Epoch  72/500 | Time: 15.0s\n",
            "Train Loss: 0.3214 | Val Loss: 0.4033\n",
            "Val Acc: 0.8000 | LR: 1.00e-06\n",
            "Early stopping counter: 18/20\n",
            "------------------------------------------------------------\n"
          ]
        },
        {
          "output_type": "stream",
          "name": "stderr",
          "text": [
            "Epoch  73/500 [Train]: 100%|██████████| 9/9 [00:13<00:00,  1.47s/batch, loss=0.1687]\n"
          ]
        },
        {
          "output_type": "stream",
          "name": "stdout",
          "text": [
            "\n",
            "Epoch  73/500 | Time: 14.9s\n",
            "Train Loss: 0.3073 | Val Loss: 0.4033\n",
            "Val Acc: 0.8000 | LR: 1.00e-07\n",
            "Early stopping counter: 19/20\n",
            "------------------------------------------------------------\n"
          ]
        },
        {
          "output_type": "stream",
          "name": "stderr",
          "text": [
            "Epoch  74/500 [Train]: 100%|██████████| 9/9 [00:13<00:00,  1.47s/batch, loss=0.3273]\n"
          ]
        },
        {
          "output_type": "stream",
          "name": "stdout",
          "text": [
            "\n",
            "Epoch  74/500 | Time: 14.9s\n",
            "Train Loss: 0.3051 | Val Loss: 0.4033\n",
            "Val Acc: 0.8000 | LR: 1.00e-07\n",
            "Early stopping counter: 20/20\n",
            "------------------------------------------------------------\n",
            "Early stopping triggered at epoch 74\n"
          ]
        }
      ]
    },
    {
      "cell_type": "code",
      "source": [
        "import matplotlib.pyplot as plt\n",
        "import seaborn as sns\n",
        "from sklearn.metrics import confusion_matrix, accuracy_score, precision_score, recall_score, f1_score, cohen_kappa_score\n",
        "\n",
        "# For accuracy graph (assuming you have training history)\n",
        "train_accuracies = []  # Populate these during training\n",
        "val_accuracies = []    # Populate these during validation\n",
        "\n",
        "def plot_metrics(phase_name, cm, accuracy, precision, recall, f1, kappa):\n",
        "    plt.figure(figsize=(15, 5))\n",
        "\n",
        "    # Confusion Matrix\n",
        "    plt.subplot(1, 2, 1)\n",
        "    sns.heatmap(cm, annot=True, fmt='d', cmap='Blues',\n",
        "                xticklabels=['Predicted Normal[0]', 'Predicted Osteoporosis[1]'],\n",
        "                yticklabels=['Actual Normal[0]', 'Actual Osteoporosis[1]'])\n",
        "    plt.title(f'{phase_name} Confusion Matrix')\n",
        "\n",
        "    # Metrics Text\n",
        "    plt.subplot(1, 2, 2)\n",
        "    plt.text(0.1, 0.9, f'Accuracy: {accuracy:.4f}', fontsize=12)\n",
        "    plt.text(0.1, 0.7, f'Precision: {precision:.4f}', fontsize=12)\n",
        "    plt.text(0.1, 0.5, f'Recall: {recall:.4f}', fontsize=12)\n",
        "    plt.text(0.1, 0.3, f'F1 Score: {f1:.4f}', fontsize=12)\n",
        "    plt.text(0.1, 0.1, f\"Kappa: {kappa:.4f}\", fontsize=12)\n",
        "    plt.axis('off')\n",
        "\n",
        "    plt.tight_layout()\n",
        "    plt.show()\n",
        "\n",
        "def evaluate_model(loader, phase_name):\n",
        "    model.eval()\n",
        "    all_labels = []\n",
        "    all_preds = []\n",
        "    with torch.no_grad():\n",
        "        for images, labels in loader:\n",
        "            images, labels = images.to(device), labels.to(device)\n",
        "            outputs = model(images).squeeze()\n",
        "            preds = (outputs >= 0.5).float()\n",
        "\n",
        "            all_labels.extend(labels.cpu().numpy())\n",
        "            all_preds.extend(preds.cpu().numpy())\n",
        "\n",
        "    accuracy = accuracy_score(all_labels, all_preds)\n",
        "    precision = precision_score(all_labels, all_preds)\n",
        "    recall = recall_score(all_labels, all_preds)\n",
        "    f1 = f1_score(all_labels, all_preds)\n",
        "    kappa = cohen_kappa_score(all_labels, all_preds)\n",
        "    cm = confusion_matrix(all_labels, all_preds)\n",
        "\n",
        "    plot_metrics(phase_name, cm, accuracy, precision, recall, f1, kappa)\n",
        "\n",
        "    return accuracy\n",
        "\n",
        "\n",
        "\n",
        "# Evaluate both sets\n",
        "test_accuracy = evaluate_model(test_loader, 'Test')\n",
        "val_accuracy = evaluate_model(val_loader, 'Validation')\n"
      ],
      "metadata": {
        "colab": {
          "base_uri": "https://localhost:8080/",
          "height": 997
        },
        "id": "ojPMSSZ50BPL",
        "outputId": "e776181a-2310-4d9d-bd69-afb16218ac9e"
      },
      "execution_count": null,
      "outputs": [
        {
          "output_type": "display_data",
          "data": {
            "text/plain": [
              "<Figure size 1500x500 with 3 Axes>"
            ],
            "image/png": "[encoded data removed]"
          },
          "metadata": {}
        },
        {
          "output_type": "display_data",
          "data": {
            "text/plain": [
              "<Figure size 1500x500 with 3 Axes>"
            ],
            "image/png": "[encoded data removed]"
          },
          "metadata": {}
        }
      ]
    },
    {
      "cell_type": "markdown",
      "source": [
        "# Swin Transformer Large Model"
      ],
      "metadata": {
        "id": "rra2L6d4HU1X"
      }
    },
    {
      "cell_type": "code",
      "source": [
        "# Step 5: Modified ViT Model with DWT Processing\n",
        "from transformers import SwinModel\n",
        "\n",
        "class SwinBinaryClassifier(nn.Module):\n",
        "    def __init__(self, pretrained_model='microsoft/swin-large-patch4-window7-224'):\n",
        "        super().__init__()\n",
        "        self.swin = SwinModel.from_pretrained(pretrained_model)\n",
        "        self.classifier = nn.Linear(self.swin.config.hidden_size * 4, 1)\n",
        "        self.sigmoid = nn.Sigmoid()\n",
        "\n",
        "        # Freeze Swin parameters\n",
        "        for param in self.swin.parameters():\n",
        "            param.requires_grad = False\n",
        "\n",
        "    def forward(self, x):\n",
        "        # Apply Haar DWT\n",
        "        x_dwt = dwt_haar(x)\n",
        "        batch_size = x_dwt.size(0)\n",
        "\n",
        "        # Reshape and process each subband\n",
        "        x_dwt = x_dwt.view(batch_size, 4, 3, 112, 112)\n",
        "        swin_outputs = []\n",
        "\n",
        "        for i in range(4):\n",
        "            subband = x_dwt[:, i, :, :, :]\n",
        "            subband_up = F.interpolate(subband, size=(224, 224),\n",
        "                                     mode='bilinear', align_corners=False)\n",
        "            outputs = self.swin(subband_up)\n",
        "            # Use mean pooling over sequence dimension\n",
        "            pooled = outputs.last_hidden_state.mean(dim=1)\n",
        "            swin_outputs.append(pooled)\n",
        "\n",
        "        # Concatenate and classify\n",
        "        combined = torch.cat(swin_outputs, dim=1)\n",
        "        return self.sigmoid(self.classifier(combined))\n",
        "\n",
        "# Initialize Swin model\n",
        "model = SwinBinaryClassifier().to(device)\n",
        "\n",
        "# Step 8: Loss and Optimizer\n",
        "criterion = nn.BCELoss()\n",
        "optimizer = torch.optim.Adam(model.parameters(), lr=1e-3)\n",
        "scheduler = lr_scheduler.ReduceLROnPlateau(optimizer, mode='min', factor=0.1, patience=5)"
      ],
      "metadata": {
        "colab": {
          "base_uri": "https://localhost:8080/",
          "height": 81,
          "referenced_widgets": [
            "c75b518726b84cf8995fbe5c22e97992",
            "d277bf7b526c45898b59d53d988dbb78",
            "06d0449ec03541ef83c49e5792a3665f",
            "3d0a45d3cabe44ef91d15e868380cb56",
            "aabbf0834e7c43a6ab6b82e109b735ad",
            "b6ccb0f8c8ba42b994df57c17639c44c",
            "460620a2ebd54587a8e01b262866dc00",
            "f71c661ccc954fc99e80ff9a2898a796",
            "3c51b9e2352946ad818310eade4d6ef3",
            "3f00e40fdce044bfa29913bd0fbe9968",
            "32e7a3fb40914e93a04c8c53be2d4119",
            "462568f9dd2e4df39071adc6e816821e",
            "c116e40534724f81bac760a4fb46c76d",
            "c2869db5365d460e8e424ec7aaf8d294",
            "1162551f4be24420b5cef4bb1b5404aa",
            "cd714ab3177f43859525b5b02a437624",
            "95a83c8b3ffb412f9dc5bcf84bfba61e",
            "a11f0441837a4bb7979f04edc6bec36d",
            "64bbe201124d42feb72bbe44444086ea",
            "a4c4c95e0be44efc80ace8923c65ce49",
            "b7d620e27f40424f87be416e93d4394a",
            "914e0fe19b8e45ea9851ecc5c8625c70"
          ]
        },
        "id": "9ylWQlg8GiUE",
        "outputId": "b514650c-79bd-4253-c1ab-931e9491c390"
      },
      "execution_count": null,
      "outputs": [
        {
          "output_type": "display_data",
          "data": {
            "text/plain": [
              "config.json:   0%|          | 0.00/71.8k [00:00<?, ?B/s]"
            ],
            "application/vnd.jupyter.widget-view+json": {
              "version_major": 2,
              "version_minor": 0,
              "model_id": "c75b518726b84cf8995fbe5c22e97992"
            }
          },
          "metadata": {}
        },
        {
          "output_type": "display_data",
          "data": {
            "text/plain": [
              "pytorch_model.bin:   0%|          | 0.00/787M [00:00<?, ?B/s]"
            ],
            "application/vnd.jupyter.widget-view+json": {
              "version_major": 2,
              "version_minor": 0,
              "model_id": "462568f9dd2e4df39071adc6e816821e"
            }
          },
          "metadata": {}
        }
      ]
    },
    {
      "cell_type": "code",
      "source": [
        "# --------------------------\n",
        "# 4. Training Loop\n",
        "# --------------------------\n",
        "num_epochs = 500\n",
        "best_val_loss = float('inf')\n",
        "patience = 20\n",
        "history = {'train_loss': [], 'val_loss': [], 'val_acc': [], 'lr': []}\n",
        "\n",
        "print(f\"\\n{'='*50}\")\n",
        "print(f\"Starting training of {model.__class__.__name__}\")\n",
        "print(f\"Batch size: {batch_size}, Epochs: {num_epochs}\")\n",
        "print(f\"Train samples: {len(train_dataset)}, Val samples: {len(val_dataset)}\")\n",
        "print(f\"{'='*50}\\n\")\n",
        "\n",
        "for epoch in range(num_epochs):\n",
        "    epoch_start = time.time()\n",
        "\n",
        "    # Training phase\n",
        "    model.train()\n",
        "    train_loss = 0.0\n",
        "    with tqdm(train_loader, desc=f\"Epoch {epoch+1:3d}/{num_epochs} [Train]\", unit=\"batch\") as pbar:\n",
        "        for images, labels in pbar:\n",
        "            images, labels = images.to(device), labels.to(device)\n",
        "\n",
        "            optimizer.zero_grad()\n",
        "            outputs = model(images).squeeze()\n",
        "            loss = criterion(outputs, labels)\n",
        "            loss.backward()\n",
        "            optimizer.step()\n",
        "\n",
        "            train_loss += loss.item() * images.size(0)\n",
        "            pbar.set_postfix({'loss': f\"{loss.item():.4f}\"})\n",
        "\n",
        "    # Validation phase\n",
        "    model.eval()\n",
        "    val_loss, correct, total = 0.0, 0, 0\n",
        "    with torch.no_grad():\n",
        "        for images, labels in val_loader:\n",
        "            images, labels = images.to(device), labels.to(device)\n",
        "            outputs = model(images).squeeze()\n",
        "            loss = criterion(outputs, labels)\n",
        "\n",
        "            val_loss += loss.item() * images.size(0)\n",
        "            predicted = (outputs >= 0.5).float()\n",
        "            correct += (predicted == labels).sum().item()\n",
        "            total += labels.size(0)\n",
        "\n",
        "    # Calculate metrics\n",
        "    epoch_train_loss = train_loss / len(train_dataset)\n",
        "    epoch_val_loss = val_loss / len(val_dataset)\n",
        "    val_acc = correct / total\n",
        "    current_lr = optimizer.param_groups[0]['lr']\n",
        "\n",
        "    # Update scheduler and history\n",
        "    scheduler.step(epoch_val_loss)\n",
        "    history['train_loss'].append(epoch_train_loss)\n",
        "    history['val_loss'].append(epoch_val_loss)\n",
        "    history['val_acc'].append(val_acc)\n",
        "    history['lr'].append(current_lr)\n",
        "\n",
        "    # Early stopping check\n",
        "    if epoch_val_loss < best_val_loss:\n",
        "        best_val_loss = epoch_val_loss\n",
        "        torch.save(model.state_dict(), 'best_model.pth')\n",
        "        patience_counter = 0\n",
        "    else:\n",
        "        patience_counter += 1\n",
        "\n",
        "    # Epoch reporting\n",
        "    epoch_time = time.time() - epoch_start\n",
        "    print(f\"\\nEpoch {epoch+1:3d}/{num_epochs} | Time: {epoch_time:.1f}s\")\n",
        "    print(f\"Train Loss: {epoch_train_loss:.4f} | Val Loss: {epoch_val_loss:.4f}\")\n",
        "    print(f\"Val Acc: {val_acc:.4f} | LR: {current_lr:.2e}\")\n",
        "    print(f\"Early stopping counter: {patience_counter}/{patience}\")\n",
        "    print(\"-\" * 60)\n",
        "\n",
        "    if patience_counter >= patience:\n",
        "        print(f\"Early stopping triggered at epoch {epoch+1}\")\n",
        "        break"
      ],
      "metadata": {
        "colab": {
          "base_uri": "https://localhost:8080/"
        },
        "id": "BY3uADns5uGO",
        "outputId": "eb6593b5-71aa-4c3f-acca-9197811125b5"
      },
      "execution_count": null,
      "outputs": [
        {
          "output_type": "stream",
          "name": "stdout",
          "text": [
            "\n",
            "==================================================\n",
            "Starting training of SwinBinaryClassifier\n",
            "Batch size: 32, Epochs: 500\n",
            "Train samples: 267, Val samples: 30\n",
            "==================================================\n",
            "\n"
          ]
        },
        {
          "output_type": "stream",
          "name": "stderr",
          "text": [
            "Epoch   1/500 [Train]: 100%|██████████| 9/9 [00:27<00:00,  3.06s/batch, loss=0.6424]\n"
          ]
        },
        {
          "output_type": "stream",
          "name": "stdout",
          "text": [
            "\n",
            "Epoch   1/500 | Time: 34.7s\n",
            "Train Loss: 0.6610 | Val Loss: 0.5806\n",
            "Val Acc: 0.7667 | LR: 1.00e-03\n",
            "Early stopping counter: 0/20\n",
            "------------------------------------------------------------\n"
          ]
        },
        {
          "output_type": "stream",
          "name": "stderr",
          "text": [
            "Epoch   2/500 [Train]: 100%|██████████| 9/9 [00:27<00:00,  3.05s/batch, loss=0.6355]\n"
          ]
        },
        {
          "output_type": "stream",
          "name": "stdout",
          "text": [
            "\n",
            "Epoch   2/500 | Time: 33.1s\n",
            "Train Loss: 0.5905 | Val Loss: 0.5024\n",
            "Val Acc: 0.7333 | LR: 1.00e-03\n",
            "Early stopping counter: 0/20\n",
            "------------------------------------------------------------\n"
          ]
        },
        {
          "output_type": "stream",
          "name": "stderr",
          "text": [
            "Epoch   3/500 [Train]: 100%|██████████| 9/9 [00:27<00:00,  3.01s/batch, loss=0.6409]\n"
          ]
        },
        {
          "output_type": "stream",
          "name": "stdout",
          "text": [
            "\n",
            "Epoch   3/500 | Time: 34.4s\n",
            "Train Loss: 0.5402 | Val Loss: 0.4950\n",
            "Val Acc: 0.8000 | LR: 1.00e-03\n",
            "Early stopping counter: 0/20\n",
            "------------------------------------------------------------\n"
          ]
        },
        {
          "output_type": "stream",
          "name": "stderr",
          "text": [
            "Epoch   4/500 [Train]: 100%|██████████| 9/9 [00:27<00:00,  3.07s/batch, loss=0.6265]\n"
          ]
        },
        {
          "output_type": "stream",
          "name": "stdout",
          "text": [
            "\n",
            "Epoch   4/500 | Time: 33.5s\n",
            "Train Loss: 0.5139 | Val Loss: 0.4540\n",
            "Val Acc: 0.7667 | LR: 1.00e-03\n",
            "Early stopping counter: 0/20\n",
            "------------------------------------------------------------\n"
          ]
        },
        {
          "output_type": "stream",
          "name": "stderr",
          "text": [
            "Epoch   5/500 [Train]: 100%|██████████| 9/9 [00:27<00:00,  3.03s/batch, loss=0.2733]\n"
          ]
        },
        {
          "output_type": "stream",
          "name": "stdout",
          "text": [
            "\n",
            "Epoch   5/500 | Time: 30.4s\n",
            "Train Loss: 0.5092 | Val Loss: 0.4589\n",
            "Val Acc: 0.8333 | LR: 1.00e-03\n",
            "Early stopping counter: 1/20\n",
            "------------------------------------------------------------\n"
          ]
        },
        {
          "output_type": "stream",
          "name": "stderr",
          "text": [
            "Epoch   6/500 [Train]: 100%|██████████| 9/9 [00:27<00:00,  3.03s/batch, loss=0.5330]\n"
          ]
        },
        {
          "output_type": "stream",
          "name": "stdout",
          "text": [
            "\n",
            "Epoch   6/500 | Time: 34.3s\n",
            "Train Loss: 0.4908 | Val Loss: 0.4395\n",
            "Val Acc: 0.8000 | LR: 1.00e-03\n",
            "Early stopping counter: 0/20\n",
            "------------------------------------------------------------\n"
          ]
        },
        {
          "output_type": "stream",
          "name": "stderr",
          "text": [
            "Epoch   7/500 [Train]: 100%|██████████| 9/9 [00:27<00:00,  3.04s/batch, loss=0.5840]\n"
          ]
        },
        {
          "output_type": "stream",
          "name": "stdout",
          "text": [
            "\n",
            "Epoch   7/500 | Time: 30.4s\n",
            "Train Loss: 0.4806 | Val Loss: 0.4428\n",
            "Val Acc: 0.8333 | LR: 1.00e-03\n",
            "Early stopping counter: 1/20\n",
            "------------------------------------------------------------\n"
          ]
        },
        {
          "output_type": "stream",
          "name": "stderr",
          "text": [
            "Epoch   8/500 [Train]: 100%|██████████| 9/9 [00:27<00:00,  3.04s/batch, loss=0.5369]\n"
          ]
        },
        {
          "output_type": "stream",
          "name": "stdout",
          "text": [
            "\n",
            "Epoch   8/500 | Time: 34.6s\n",
            "Train Loss: 0.4761 | Val Loss: 0.4333\n",
            "Val Acc: 0.8000 | LR: 1.00e-03\n",
            "Early stopping counter: 0/20\n",
            "------------------------------------------------------------\n"
          ]
        },
        {
          "output_type": "stream",
          "name": "stderr",
          "text": [
            "Epoch   9/500 [Train]: 100%|██████████| 9/9 [00:27<00:00,  3.02s/batch, loss=0.4336]\n"
          ]
        },
        {
          "output_type": "stream",
          "name": "stdout",
          "text": [
            "\n",
            "Epoch   9/500 | Time: 30.3s\n",
            "Train Loss: 0.4724 | Val Loss: 0.4559\n",
            "Val Acc: 0.8333 | LR: 1.00e-03\n",
            "Early stopping counter: 1/20\n",
            "------------------------------------------------------------\n"
          ]
        },
        {
          "output_type": "stream",
          "name": "stderr",
          "text": [
            "Epoch  10/500 [Train]: 100%|██████████| 9/9 [00:27<00:00,  3.05s/batch, loss=0.4990]\n"
          ]
        },
        {
          "output_type": "stream",
          "name": "stdout",
          "text": [
            "\n",
            "Epoch  10/500 | Time: 30.4s\n",
            "Train Loss: 0.4700 | Val Loss: 0.4351\n",
            "Val Acc: 0.8000 | LR: 1.00e-03\n",
            "Early stopping counter: 2/20\n",
            "------------------------------------------------------------\n"
          ]
        },
        {
          "output_type": "stream",
          "name": "stderr",
          "text": [
            "Epoch  11/500 [Train]: 100%|██████████| 9/9 [00:27<00:00,  3.02s/batch, loss=0.3051]\n"
          ]
        },
        {
          "output_type": "stream",
          "name": "stdout",
          "text": [
            "\n",
            "Epoch  11/500 | Time: 34.9s\n",
            "Train Loss: 0.4430 | Val Loss: 0.4322\n",
            "Val Acc: 0.8333 | LR: 1.00e-03\n",
            "Early stopping counter: 0/20\n",
            "------------------------------------------------------------\n"
          ]
        },
        {
          "output_type": "stream",
          "name": "stderr",
          "text": [
            "Epoch  12/500 [Train]: 100%|██████████| 9/9 [00:27<00:00,  3.05s/batch, loss=0.3850]\n"
          ]
        },
        {
          "output_type": "stream",
          "name": "stdout",
          "text": [
            "\n",
            "Epoch  12/500 | Time: 35.1s\n",
            "Train Loss: 0.4441 | Val Loss: 0.4256\n",
            "Val Acc: 0.8000 | LR: 1.00e-03\n",
            "Early stopping counter: 0/20\n",
            "------------------------------------------------------------\n"
          ]
        },
        {
          "output_type": "stream",
          "name": "stderr",
          "text": [
            "Epoch  13/500 [Train]: 100%|██████████| 9/9 [00:27<00:00,  3.05s/batch, loss=0.4392]\n"
          ]
        },
        {
          "output_type": "stream",
          "name": "stdout",
          "text": [
            "\n",
            "Epoch  13/500 | Time: 30.5s\n",
            "Train Loss: 0.4409 | Val Loss: 0.4277\n",
            "Val Acc: 0.8000 | LR: 1.00e-03\n",
            "Early stopping counter: 1/20\n",
            "------------------------------------------------------------\n"
          ]
        },
        {
          "output_type": "stream",
          "name": "stderr",
          "text": [
            "Epoch  14/500 [Train]: 100%|██████████| 9/9 [00:27<00:00,  3.02s/batch, loss=0.2503]\n"
          ]
        },
        {
          "output_type": "stream",
          "name": "stdout",
          "text": [
            "\n",
            "Epoch  14/500 | Time: 32.8s\n",
            "Train Loss: 0.4256 | Val Loss: 0.4246\n",
            "Val Acc: 0.8333 | LR: 1.00e-03\n",
            "Early stopping counter: 0/20\n",
            "------------------------------------------------------------\n"
          ]
        },
        {
          "output_type": "stream",
          "name": "stderr",
          "text": [
            "Epoch  15/500 [Train]: 100%|██████████| 9/9 [00:27<00:00,  3.04s/batch, loss=0.2175]\n"
          ]
        },
        {
          "output_type": "stream",
          "name": "stdout",
          "text": [
            "\n",
            "Epoch  15/500 | Time: 30.5s\n",
            "Train Loss: 0.4166 | Val Loss: 0.4265\n",
            "Val Acc: 0.8000 | LR: 1.00e-03\n",
            "Early stopping counter: 1/20\n",
            "------------------------------------------------------------\n"
          ]
        },
        {
          "output_type": "stream",
          "name": "stderr",
          "text": [
            "Epoch  16/500 [Train]: 100%|██████████| 9/9 [00:27<00:00,  3.04s/batch, loss=0.8460]\n"
          ]
        },
        {
          "output_type": "stream",
          "name": "stdout",
          "text": [
            "\n",
            "Epoch  16/500 | Time: 33.1s\n",
            "Train Loss: 0.4215 | Val Loss: 0.4234\n",
            "Val Acc: 0.8000 | LR: 1.00e-03\n",
            "Early stopping counter: 0/20\n",
            "------------------------------------------------------------\n"
          ]
        },
        {
          "output_type": "stream",
          "name": "stderr",
          "text": [
            "Epoch  17/500 [Train]: 100%|██████████| 9/9 [00:27<00:00,  3.04s/batch, loss=0.3627]\n"
          ]
        },
        {
          "output_type": "stream",
          "name": "stdout",
          "text": [
            "\n",
            "Epoch  17/500 | Time: 30.4s\n",
            "Train Loss: 0.4153 | Val Loss: 0.4316\n",
            "Val Acc: 0.8333 | LR: 1.00e-03\n",
            "Early stopping counter: 1/20\n",
            "------------------------------------------------------------\n"
          ]
        },
        {
          "output_type": "stream",
          "name": "stderr",
          "text": [
            "Epoch  18/500 [Train]: 100%|██████████| 9/9 [00:27<00:00,  3.05s/batch, loss=0.4105]\n"
          ]
        },
        {
          "output_type": "stream",
          "name": "stdout",
          "text": [
            "\n",
            "Epoch  18/500 | Time: 30.5s\n",
            "Train Loss: 0.4098 | Val Loss: 0.4262\n",
            "Val Acc: 0.8333 | LR: 1.00e-03\n",
            "Early stopping counter: 2/20\n",
            "------------------------------------------------------------\n"
          ]
        },
        {
          "output_type": "stream",
          "name": "stderr",
          "text": [
            "Epoch  19/500 [Train]: 100%|██████████| 9/9 [00:27<00:00,  3.02s/batch, loss=0.3086]\n"
          ]
        },
        {
          "output_type": "stream",
          "name": "stdout",
          "text": [
            "\n",
            "Epoch  19/500 | Time: 30.2s\n",
            "Train Loss: 0.4006 | Val Loss: 0.4262\n",
            "Val Acc: 0.8000 | LR: 1.00e-03\n",
            "Early stopping counter: 3/20\n",
            "------------------------------------------------------------\n"
          ]
        },
        {
          "output_type": "stream",
          "name": "stderr",
          "text": [
            "Epoch  20/500 [Train]: 100%|██████████| 9/9 [00:27<00:00,  3.03s/batch, loss=0.5882]\n"
          ]
        },
        {
          "output_type": "stream",
          "name": "stdout",
          "text": [
            "\n",
            "Epoch  20/500 | Time: 30.3s\n",
            "Train Loss: 0.3999 | Val Loss: 0.4346\n",
            "Val Acc: 0.8000 | LR: 1.00e-03\n",
            "Early stopping counter: 4/20\n",
            "------------------------------------------------------------\n"
          ]
        },
        {
          "output_type": "stream",
          "name": "stderr",
          "text": [
            "Epoch  21/500 [Train]: 100%|██████████| 9/9 [00:27<00:00,  3.04s/batch, loss=0.2803]\n"
          ]
        },
        {
          "output_type": "stream",
          "name": "stdout",
          "text": [
            "\n",
            "Epoch  21/500 | Time: 30.4s\n",
            "Train Loss: 0.4010 | Val Loss: 0.4347\n",
            "Val Acc: 0.8667 | LR: 1.00e-03\n",
            "Early stopping counter: 5/20\n",
            "------------------------------------------------------------\n"
          ]
        },
        {
          "output_type": "stream",
          "name": "stderr",
          "text": [
            "Epoch  22/500 [Train]: 100%|██████████| 9/9 [00:27<00:00,  3.03s/batch, loss=0.2108]\n"
          ]
        },
        {
          "output_type": "stream",
          "name": "stdout",
          "text": [
            "\n",
            "Epoch  22/500 | Time: 30.4s\n",
            "Train Loss: 0.3856 | Val Loss: 0.4373\n",
            "Val Acc: 0.8333 | LR: 1.00e-03\n",
            "Early stopping counter: 6/20\n",
            "------------------------------------------------------------\n"
          ]
        },
        {
          "output_type": "stream",
          "name": "stderr",
          "text": [
            "Epoch  23/500 [Train]: 100%|██████████| 9/9 [00:27<00:00,  3.02s/batch, loss=0.4349]\n"
          ]
        },
        {
          "output_type": "stream",
          "name": "stdout",
          "text": [
            "\n",
            "Epoch  23/500 | Time: 30.3s\n",
            "Train Loss: 0.3896 | Val Loss: 0.4332\n",
            "Val Acc: 0.8000 | LR: 1.00e-04\n",
            "Early stopping counter: 7/20\n",
            "------------------------------------------------------------\n"
          ]
        },
        {
          "output_type": "stream",
          "name": "stderr",
          "text": [
            "Epoch  24/500 [Train]: 100%|██████████| 9/9 [00:27<00:00,  3.03s/batch, loss=0.3155]\n"
          ]
        },
        {
          "output_type": "stream",
          "name": "stdout",
          "text": [
            "\n",
            "Epoch  24/500 | Time: 30.4s\n",
            "Train Loss: 0.3799 | Val Loss: 0.4290\n",
            "Val Acc: 0.8000 | LR: 1.00e-04\n",
            "Early stopping counter: 8/20\n",
            "------------------------------------------------------------\n"
          ]
        },
        {
          "output_type": "stream",
          "name": "stderr",
          "text": [
            "Epoch  25/500 [Train]: 100%|██████████| 9/9 [00:27<00:00,  3.04s/batch, loss=0.2807]\n"
          ]
        },
        {
          "output_type": "stream",
          "name": "stdout",
          "text": [
            "\n",
            "Epoch  25/500 | Time: 30.4s\n",
            "Train Loss: 0.3788 | Val Loss: 0.4293\n",
            "Val Acc: 0.8000 | LR: 1.00e-04\n",
            "Early stopping counter: 9/20\n",
            "------------------------------------------------------------\n"
          ]
        },
        {
          "output_type": "stream",
          "name": "stderr",
          "text": [
            "Epoch  26/500 [Train]: 100%|██████████| 9/9 [00:27<00:00,  3.04s/batch, loss=0.4567]\n"
          ]
        },
        {
          "output_type": "stream",
          "name": "stdout",
          "text": [
            "\n",
            "Epoch  26/500 | Time: 30.5s\n",
            "Train Loss: 0.3753 | Val Loss: 0.4301\n",
            "Val Acc: 0.8000 | LR: 1.00e-04\n",
            "Early stopping counter: 10/20\n",
            "------------------------------------------------------------\n"
          ]
        },
        {
          "output_type": "stream",
          "name": "stderr",
          "text": [
            "Epoch  27/500 [Train]: 100%|██████████| 9/9 [00:27<00:00,  3.04s/batch, loss=0.3546]\n"
          ]
        },
        {
          "output_type": "stream",
          "name": "stdout",
          "text": [
            "\n",
            "Epoch  27/500 | Time: 30.5s\n",
            "Train Loss: 0.3813 | Val Loss: 0.4300\n",
            "Val Acc: 0.8000 | LR: 1.00e-04\n",
            "Early stopping counter: 11/20\n",
            "------------------------------------------------------------\n"
          ]
        },
        {
          "output_type": "stream",
          "name": "stderr",
          "text": [
            "Epoch  28/500 [Train]: 100%|██████████| 9/9 [00:27<00:00,  3.03s/batch, loss=0.3944]\n"
          ]
        },
        {
          "output_type": "stream",
          "name": "stdout",
          "text": [
            "\n",
            "Epoch  28/500 | Time: 30.4s\n",
            "Train Loss: 0.3719 | Val Loss: 0.4299\n",
            "Val Acc: 0.8000 | LR: 1.00e-04\n",
            "Early stopping counter: 12/20\n",
            "------------------------------------------------------------\n"
          ]
        },
        {
          "output_type": "stream",
          "name": "stderr",
          "text": [
            "Epoch  29/500 [Train]: 100%|██████████| 9/9 [00:27<00:00,  3.04s/batch, loss=0.3244]\n"
          ]
        },
        {
          "output_type": "stream",
          "name": "stdout",
          "text": [
            "\n",
            "Epoch  29/500 | Time: 30.4s\n",
            "Train Loss: 0.3748 | Val Loss: 0.4300\n",
            "Val Acc: 0.8000 | LR: 1.00e-05\n",
            "Early stopping counter: 13/20\n",
            "------------------------------------------------------------\n"
          ]
        },
        {
          "output_type": "stream",
          "name": "stderr",
          "text": [
            "Epoch  30/500 [Train]: 100%|██████████| 9/9 [00:27<00:00,  3.04s/batch, loss=0.7167]\n"
          ]
        },
        {
          "output_type": "stream",
          "name": "stdout",
          "text": [
            "\n",
            "Epoch  30/500 | Time: 30.4s\n",
            "Train Loss: 0.3715 | Val Loss: 0.4301\n",
            "Val Acc: 0.8000 | LR: 1.00e-05\n",
            "Early stopping counter: 14/20\n",
            "------------------------------------------------------------\n"
          ]
        },
        {
          "output_type": "stream",
          "name": "stderr",
          "text": [
            "Epoch  31/500 [Train]: 100%|██████████| 9/9 [00:27<00:00,  3.04s/batch, loss=0.4241]\n"
          ]
        },
        {
          "output_type": "stream",
          "name": "stdout",
          "text": [
            "\n",
            "Epoch  31/500 | Time: 30.5s\n",
            "Train Loss: 0.3829 | Val Loss: 0.4303\n",
            "Val Acc: 0.8000 | LR: 1.00e-05\n",
            "Early stopping counter: 15/20\n",
            "------------------------------------------------------------\n"
          ]
        },
        {
          "output_type": "stream",
          "name": "stderr",
          "text": [
            "Epoch  32/500 [Train]: 100%|██████████| 9/9 [00:27<00:00,  3.03s/batch, loss=0.4432]\n"
          ]
        },
        {
          "output_type": "stream",
          "name": "stdout",
          "text": [
            "\n",
            "Epoch  32/500 | Time: 30.4s\n",
            "Train Loss: 0.3812 | Val Loss: 0.4303\n",
            "Val Acc: 0.8000 | LR: 1.00e-05\n",
            "Early stopping counter: 16/20\n",
            "------------------------------------------------------------\n"
          ]
        },
        {
          "output_type": "stream",
          "name": "stderr",
          "text": [
            "Epoch  33/500 [Train]: 100%|██████████| 9/9 [00:27<00:00,  3.03s/batch, loss=0.2761]\n"
          ]
        },
        {
          "output_type": "stream",
          "name": "stdout",
          "text": [
            "\n",
            "Epoch  33/500 | Time: 30.4s\n",
            "Train Loss: 0.3725 | Val Loss: 0.4302\n",
            "Val Acc: 0.8000 | LR: 1.00e-05\n",
            "Early stopping counter: 17/20\n",
            "------------------------------------------------------------\n"
          ]
        },
        {
          "output_type": "stream",
          "name": "stderr",
          "text": [
            "Epoch  34/500 [Train]: 100%|██████████| 9/9 [00:27<00:00,  3.03s/batch, loss=0.3129]\n"
          ]
        },
        {
          "output_type": "stream",
          "name": "stdout",
          "text": [
            "\n",
            "Epoch  34/500 | Time: 30.4s\n",
            "Train Loss: 0.3769 | Val Loss: 0.4303\n",
            "Val Acc: 0.8000 | LR: 1.00e-05\n",
            "Early stopping counter: 18/20\n",
            "------------------------------------------------------------\n"
          ]
        },
        {
          "output_type": "stream",
          "name": "stderr",
          "text": [
            "Epoch  35/500 [Train]: 100%|██████████| 9/9 [00:27<00:00,  3.03s/batch, loss=0.6041]\n"
          ]
        },
        {
          "output_type": "stream",
          "name": "stdout",
          "text": [
            "\n",
            "Epoch  35/500 | Time: 30.3s\n",
            "Train Loss: 0.3791 | Val Loss: 0.4303\n",
            "Val Acc: 0.8000 | LR: 1.00e-06\n",
            "Early stopping counter: 19/20\n",
            "------------------------------------------------------------\n"
          ]
        },
        {
          "output_type": "stream",
          "name": "stderr",
          "text": [
            "Epoch  36/500 [Train]: 100%|██████████| 9/9 [00:27<00:00,  3.03s/batch, loss=0.4257]\n"
          ]
        },
        {
          "output_type": "stream",
          "name": "stdout",
          "text": [
            "\n",
            "Epoch  36/500 | Time: 30.3s\n",
            "Train Loss: 0.3836 | Val Loss: 0.4303\n",
            "Val Acc: 0.8000 | LR: 1.00e-06\n",
            "Early stopping counter: 20/20\n",
            "------------------------------------------------------------\n",
            "Early stopping triggered at epoch 36\n"
          ]
        }
      ]
    },
    {
      "cell_type": "code",
      "source": [
        "import matplotlib.pyplot as plt\n",
        "import seaborn as sns\n",
        "from sklearn.metrics import confusion_matrix, accuracy_score, precision_score, recall_score, f1_score, cohen_kappa_score\n",
        "\n",
        "# For accuracy graph (assuming you have training history)\n",
        "train_accuracies = []  # Populate these during training\n",
        "val_accuracies = []    # Populate these during validation\n",
        "\n",
        "def plot_metrics(phase_name, cm, accuracy, precision, recall, f1, kappa):\n",
        "    plt.figure(figsize=(15, 5))\n",
        "\n",
        "    # Confusion Matrix\n",
        "    plt.subplot(1, 2, 1)\n",
        "    sns.heatmap(cm, annot=True, fmt='d', cmap='Blues',\n",
        "                xticklabels=['Predicted Normal[0]', 'Predicted Osteoporosis[1]'],\n",
        "                yticklabels=['Actual Normal[0]', 'Actual Osteoporosis[1]'])\n",
        "    plt.title(f'{phase_name} Confusion Matrix')\n",
        "\n",
        "    # Metrics Text\n",
        "    plt.subplot(1, 2, 2)\n",
        "    plt.text(0.1, 0.9, f'Accuracy: {accuracy:.4f}', fontsize=12)\n",
        "    plt.text(0.1, 0.7, f'Precision: {precision:.4f}', fontsize=12)\n",
        "    plt.text(0.1, 0.5, f'Recall: {recall:.4f}', fontsize=12)\n",
        "    plt.text(0.1, 0.3, f'F1 Score: {f1:.4f}', fontsize=12)\n",
        "    plt.text(0.1, 0.1, f\"Kappa: {kappa:.4f}\", fontsize=12)\n",
        "    plt.axis('off')\n",
        "\n",
        "    plt.tight_layout()\n",
        "    plt.show()\n",
        "\n",
        "def evaluate_model(loader, phase_name):\n",
        "    model.eval()\n",
        "    all_labels = []\n",
        "    all_preds = []\n",
        "    with torch.no_grad():\n",
        "        for images, labels in loader:\n",
        "            images, labels = images.to(device), labels.to(device)\n",
        "            outputs = model(images).squeeze()\n",
        "            preds = (outputs >= 0.5).float()\n",
        "\n",
        "            all_labels.extend(labels.cpu().numpy())\n",
        "            all_preds.extend(preds.cpu().numpy())\n",
        "\n",
        "    accuracy = accuracy_score(all_labels, all_preds)\n",
        "    precision = precision_score(all_labels, all_preds)\n",
        "    recall = recall_score(all_labels, all_preds)\n",
        "    f1 = f1_score(all_labels, all_preds)\n",
        "    kappa = cohen_kappa_score(all_labels, all_preds)\n",
        "    cm = confusion_matrix(all_labels, all_preds)\n",
        "\n",
        "    plot_metrics(phase_name, cm, accuracy, precision, recall, f1, kappa)\n",
        "\n",
        "    return accuracy\n",
        "\n",
        "\n",
        "\n",
        "# Evaluate both sets\n",
        "test_accuracy = evaluate_model(test_loader, 'Test')\n",
        "val_accuracy = evaluate_model(val_loader, 'Validation')\n"
      ],
      "metadata": {
        "colab": {
          "base_uri": "https://localhost:8080/",
          "height": 997
        },
        "id": "UrAAMNzJ52Ck",
        "outputId": "d12c8e6f-87f5-46e4-d654-31926f2dc872"
      },
      "execution_count": null,
      "outputs": [
        {
          "output_type": "display_data",
          "data": {
            "text/plain": [
              "<Figure size 1500x500 with 3 Axes>"
            ],
            "image/png": "[encoded data removed]"
          },
          "metadata": {}
        },
        {
          "output_type": "display_data",
          "data": {
            "text/plain": [
              "<Figure size 1500x500 with 3 Axes>"
            ],
            "image/png": "[encoded data removed]"
          },
          "metadata": {}
        }
      ]
    },
    {
      "cell_type": "code",
      "source": [],
      "metadata": {
        "id": "muHUYbYS57DG"
      },
      "execution_count": null,
      "outputs": []
    }
  ]
}