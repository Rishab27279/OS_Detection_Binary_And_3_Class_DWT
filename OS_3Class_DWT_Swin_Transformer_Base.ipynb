{
  "nbformat": 4,
  "nbformat_minor": 0,
  "metadata": {
    "colab": {
      "provenance": [],
      "gpuType": "T4"
    },
    "kernelspec": {
      "name": "python3",
      "display_name": "Python 3"
    },
    "language_info": {
      "name": "python"
    },
    "accelerator": "GPU"
  },
  "cells": [
    {
      "cell_type": "code",
      "execution_count": 1,
      "metadata": {
        "id": "OeOC3Z2rvKdZ"
      },
      "outputs": [],
      "source": [
        "import cv2\n",
        "import os\n",
        "import numpy as np\n",
        "import tensorflow as tf\n",
        "from google.colab import drive\n",
        "from sklearn.model_selection import train_test_split\n",
        "import torch\n",
        "from torch.utils.data import Dataset, DataLoader\n",
        "import torch.nn as nn\n",
        "import torch.nn.functional as F\n",
        "from transformers import ViTModel"
      ]
    },
    {
      "cell_type": "code",
      "source": [
        "# Mount Google Drive (only for Colab)\n",
        "drive.mount('/content/drive')\n",
        "\n",
        "# ========================================================================\n",
        "# 1. Dataset Configuration\n",
        "# ========================================================================\n",
        "dataset_paths = {\n",
        "    'Normal': '/content/drive/MyDrive/OS Dataset/Normal/',\n",
        "    'Osteopenia': '/content/drive/MyDrive/OS Dataset/Osteopenia/',\n",
        "    'Osteoporosis': '/content/drive/MyDrive/OS Dataset/Osteoporosis/'\n",
        "}\n",
        "\n",
        "# ========================================================================\n",
        "# 2. Image Loading & Preprocessing\n",
        "# ========================================================================\n",
        "def load_images_and_labels(folder_path, label):\n",
        "    images = []\n",
        "    labels = []\n",
        "    for filename in sorted(os.listdir(folder_path)):\n",
        "        if filename.lower().endswith(('.png', '.jpg', '.jpeg', '.bmp')):\n",
        "            img_path = os.path.join(folder_path, filename)\n",
        "            try:\n",
        "                # Load image and verify successful read\n",
        "                img = cv2.imread(img_path)\n",
        "                if img is None:\n",
        "                    print(f\"Warning: Could not read image {img_path}\")\n",
        "                    continue\n",
        "\n",
        "                # Critical Fix 1: Resize to ViT's required 224x224\n",
        "                img = cv2.resize(img, (224, 224))\n",
        "\n",
        "                # Critical Fix 2: Convert BGR to RGB\n",
        "                img = cv2.cvtColor(img, cv2.COLOR_BGR2RGB)\n",
        "\n",
        "                # Critical Fix 3: Convert to channels-first format\n",
        "                img = np.transpose(img, (2, 0, 1))  # (3, 224, 224)\n",
        "\n",
        "                # Critical Fix 4: Normalize to [-1, 1] range\n",
        "                img = (img.astype(np.float32) / 127.5) - 1.0\n",
        "\n",
        "                images.append(img)\n",
        "                labels.append(label)\n",
        "            except Exception as e:\n",
        "                print(f\"Error processing {img_path}: {e}\")\n",
        "    return np.array(images), np.array(labels)\n",
        "\n",
        "# ========================================================================\n",
        "# 3. Load and Prepare Data\n",
        "# ========================================================================\n",
        "# Load datasets\n",
        "normal_images, normal_labels = load_images_and_labels(dataset_paths['Normal'], 0)\n",
        "osteopenia_images, osteopenia_labels = load_images_and_labels(dataset_paths['Osteopenia'], label=1)\n",
        "osteoporosis_images, osteoporosis_labels = load_images_and_labels(dataset_paths['Osteoporosis'], label=2)\n",
        "\n",
        "# Combine and shuffle data\n",
        "x_data = np.concatenate([normal_images, osteopenia_images, osteoporosis_images], axis=0)\n",
        "y_data = np.concatenate([normal_labels, osteopenia_labels, osteoporosis_labels], axis=0)\n",
        "\n",
        "# Random shuffle with fixed seed for reproducibility\n",
        "np.random.seed(42)\n",
        "shuffle_idx = np.random.permutation(len(x_data))\n",
        "x_data = x_data[shuffle_idx]\n",
        "y_data = y_data[shuffle_idx]\n",
        "\n",
        "# ========================================================================\n",
        "# 4. Train/Validation/Test Split\n",
        "# ========================================================================\n",
        "# Stratified split to maintain class balance\n",
        "x_train_val, x_test, y_train_val, y_test = train_test_split(\n",
        "    x_data, y_data,\n",
        "    test_size=0.2,\n",
        "    stratify=y_data,\n",
        "    random_state=42\n",
        ")\n",
        "\n",
        "x_train, x_val, y_train, y_val = train_test_split(\n",
        "    x_train_val, y_train_val,\n",
        "    test_size=0.1,  # 10% of training for validation\n",
        "    stratify=y_train_val,\n",
        "    random_state=42\n",
        ")"
      ],
      "metadata": {
        "colab": {
          "base_uri": "https://localhost:8080/"
        },
        "id": "UZiHD7EzwJiV",
        "outputId": "aa51a566-9ae1-49fb-c919-996ba7f9b04c"
      },
      "execution_count": 2,
      "outputs": [
        {
          "output_type": "stream",
          "name": "stdout",
          "text": [
            "Mounted at /content/drive\n"
          ]
        }
      ]
    },
    {
      "cell_type": "code",
      "source": [
        "print(f'Number of Normal Images: {len(normal_images)}')\n",
        "print(f'Number of Oesteopenia Images: {len(osteopenia_images)}')\n",
        "print(f'Number of Oestroporosis Images: {len(osteoporosis_images)}')"
      ],
      "metadata": {
        "colab": {
          "base_uri": "https://localhost:8080/"
        },
        "id": "ocnyIWT_wLPy",
        "outputId": "f21d66de-106d-43d3-a8e1-3f06218ca064"
      },
      "execution_count": 3,
      "outputs": [
        {
          "output_type": "stream",
          "name": "stdout",
          "text": [
            "Number of Normal Images: 780\n",
            "Number of Oesteopenia Images: 374\n",
            "Number of Oestroporosis Images: 793\n"
          ]
        }
      ]
    },
    {
      "cell_type": "code",
      "source": [
        "# Step 2: Define device\n",
        "device = torch.device('cuda' if torch.cuda.is_available() else 'cpu')\n",
        "print(f\"Using device: {device}\")\n",
        "\n",
        "# Step 3: DWT Implementation\n",
        "def dwt_haar(img):\n",
        "    \"\"\"Performs Haar wavelet transform on a batch of images.\"\"\"\n",
        "    # img shape: (batch, channels, height, width)\n",
        "    batch, channels, h, w = img.shape\n",
        "\n",
        "    # Split rows into even and odd indices\n",
        "    even_rows = img[:, :, 0::2, :]\n",
        "    odd_rows = img[:, :, 1::2, :]\n",
        "\n",
        "    # Compute row-wise averages and differences\n",
        "    avg_rows = (even_rows + odd_rows) / 2\n",
        "    diff_rows = (even_rows - odd_rows) / 2\n",
        "\n",
        "    # Split columns for avg_rows (LL and HL)\n",
        "    even_cols_avg = avg_rows[:, :, :, 0::2]\n",
        "    odd_cols_avg = avg_rows[:, :, :, 1::2]\n",
        "    LL = (even_cols_avg + odd_cols_avg) / 2\n",
        "    HL = (even_cols_avg - odd_cols_avg) / 2\n",
        "\n",
        "    # Split columns for diff_rows (LH and HH)\n",
        "    even_cols_diff = diff_rows[:, :, :, 0::2]\n",
        "    odd_cols_diff = diff_rows[:, :, :, 1::2]\n",
        "    LH = (even_cols_diff + odd_cols_diff) / 2\n",
        "    HH = (even_cols_diff - odd_cols_diff) / 2\n",
        "\n",
        "    return torch.cat([LL, HL, LH, HH], dim=1)\n",
        "\n",
        "# Step 4: Dataset Class (unchanged)\n",
        "class NumpyDataset(Dataset):\n",
        "    def __init__(self, x_data, y_data):\n",
        "        self.x_data = x_data\n",
        "        self.y_data = y_data\n",
        "\n",
        "    def __len__(self):\n",
        "        return len(self.x_data)\n",
        "\n",
        "    def __getitem__(self, idx):\n",
        "        image = torch.from_numpy(self.x_data[idx]).float()\n",
        "        label = torch.tensor(self.y_data[idx], dtype=torch.float32)\n",
        "        return image, label"
      ],
      "metadata": {
        "colab": {
          "base_uri": "https://localhost:8080/"
        },
        "id": "jKpLcEkLwMpi",
        "outputId": "2194f077-96c4-4527-d794-f430257323a5"
      },
      "execution_count": 4,
      "outputs": [
        {
          "output_type": "stream",
          "name": "stdout",
          "text": [
            "Using device: cuda\n"
          ]
        }
      ]
    },
    {
      "cell_type": "code",
      "source": [
        "batch_size = 32\n",
        "train_dataset = NumpyDataset(x_train, y_train)\n",
        "val_dataset = NumpyDataset(x_val, y_val)\n",
        "test_dataset = NumpyDataset(x_test, y_test)\n",
        "\n",
        "train_loader = DataLoader(train_dataset, batch_size=batch_size, shuffle=True, num_workers=2)\n",
        "val_loader = DataLoader(val_dataset, batch_size=batch_size, shuffle=False, num_workers=2)\n",
        "test_loader = DataLoader(test_dataset, batch_size=batch_size, shuffle=False, num_workers=2)"
      ],
      "metadata": {
        "id": "7rZx87VRLt8K"
      },
      "execution_count": 8,
      "outputs": []
    },
    {
      "cell_type": "code",
      "source": [
        "# Step 5: Modified ViT Model with DWT Processing (3-class version)\n",
        "from transformers import SwinModel\n",
        "\n",
        "# Modified for Swin Transformer\n",
        "class SwinMultiClassClassifier(nn.Module):\n",
        "    def __init__(self, pretrained_model='microsoft/swin-base-patch4-window7-224'):\n",
        "        super().__init__()\n",
        "        self.swin = SwinModel.from_pretrained(pretrained_model)\n",
        "        self.classifier = nn.Linear(self.swin.config.hidden_size * 4, 3)  # 3 classes\n",
        "\n",
        "        # Freeze Swin parameters\n",
        "        for param in self.swin.parameters():\n",
        "            param.requires_grad = False\n",
        "\n",
        "    def forward(self, x):\n",
        "        # Apply Haar DWT (assuming dwt_haar is defined elsewhere)\n",
        "        x_dwt = dwt_haar(x)\n",
        "        batch_size = x_dwt.size(0)\n",
        "\n",
        "        # Reshape and process each subband\n",
        "        x_dwt = x_dwt.view(batch_size, 4, 3, 112, 112)\n",
        "        swin_outputs = []\n",
        "\n",
        "        for i in range(4):\n",
        "            subband = x_dwt[:, i, :, :, :]\n",
        "            # Upsample to Swin's expected input size\n",
        "            subband_up = F.interpolate(subband, size=(224, 224),\n",
        "                                     mode='bilinear', align_corners=False)\n",
        "            # Get Swin outputs\n",
        "            outputs = self.swin(subband_up)\n",
        "            # Use pooler output instead of CLS token\n",
        "            swin_outputs.append(outputs.pooler_output)\n",
        "\n",
        "        # Concatenate and classify\n",
        "        combined = torch.cat(swin_outputs, dim=1)\n",
        "        return self.classifier(combined)\n",
        "\n",
        "# Rest of the code remains similar with model initialization changed to:\n",
        "model = SwinMultiClassClassifier().to(device)\n",
        "\n",
        "# Step 8: Loss and Optimizer (3-class compatible)\n",
        "criterion = nn.CrossEntropyLoss()  # Changed from BCELoss\n",
        "optimizer = torch.optim.Adam(model.parameters(), lr=1e-3)\n",
        "scheduler = lr_scheduler.ReduceLROnPlateau(optimizer, mode='min', factor=0.1, patience=5, verbose=True)"
      ],
      "metadata": {
        "id": "c1zarblrwN4J"
      },
      "execution_count": 19,
      "outputs": []
    },
    {
      "cell_type": "code",
      "source": [
        "# Training loop\n",
        "num_epochs = 500\n",
        "best_val_loss = float('inf')\n",
        "patience = 20\n",
        "epochs_no_improve = 0\n",
        "early_stop = False\n",
        "history = {'train_loss': [], 'val_loss': [], 'val_acc': [], 'lr': []}\n",
        "\n",
        "print(f\"\\n{'='*50}\")\n",
        "print(f\"Starting training with early stopping (patience={patience})\")\n",
        "print(f\"and learning rate scheduling (ReduceLROnPlateau)\")\n",
        "print(f\"{'='*50}\\n\")\n",
        "\n",
        "for epoch in range(num_epochs):\n",
        "    if early_stop:\n",
        "        print(f\"[!] Early stopping triggered at epoch {epoch+1}\")\n",
        "        break\n",
        "\n",
        "    epoch_start = time.time()\n",
        "\n",
        "    # Training phase\n",
        "    model.train()\n",
        "    train_loss = 0.0\n",
        "    train_batches = 0\n",
        "\n",
        "    with tqdm(train_loader, unit=\"batch\", desc=f\"Epoch {epoch+1:3d}/{num_epochs} [Train]\") as pbar:\n",
        "        for images, labels in pbar:\n",
        "            images, labels = images.to(device), labels.to(device, dtype=torch.long)\n",
        "\n",
        "            optimizer.zero_grad()\n",
        "            outputs = model(images)\n",
        "            loss = criterion(outputs, labels)\n",
        "            loss.backward()\n",
        "            optimizer.step()\n",
        "\n",
        "            train_loss += loss.item() * images.size(0)\n",
        "            train_batches += 1\n",
        "\n",
        "            pbar.set_postfix({\n",
        "                'Loss': f\"{loss.item():.4f}\",\n",
        "                'AvgLoss': f\"{(train_loss/(train_batches*batch_size)):.4f}\"\n",
        "            })\n",
        "\n",
        "    # Validation phase\n",
        "    model.eval()\n",
        "    val_loss = 0.0\n",
        "    correct = 0\n",
        "    total = 0\n",
        "\n",
        "    with tqdm(val_loader, unit=\"batch\", desc=f\"Epoch {epoch+1:3d}/{num_epochs} [Val]  \") as pbar:\n",
        "        with torch.no_grad():\n",
        "            for images, labels in pbar:\n",
        "                images, labels = images.to(device), labels.to(device, dtype=torch.long)\n",
        "                outputs = model(images)\n",
        "                loss = criterion(outputs, labels)\n",
        "\n",
        "                val_loss += loss.item() * images.size(0)\n",
        "                predicted = torch.argmax(outputs, dim=1)\n",
        "                correct += (predicted == labels).sum().item()\n",
        "                total += labels.size(0)\n",
        "\n",
        "                pbar.set_postfix({\n",
        "                    'Loss': f\"{loss.item():.4f}\",\n",
        "                    'Acc': f\"{(correct/total):.4f}\"\n",
        "                })\n",
        "\n",
        "    # Calculate metrics\n",
        "    epoch_train_loss = train_loss / len(train_dataset)\n",
        "    epoch_val_loss = val_loss / len(val_dataset)\n",
        "    val_acc = correct / total\n",
        "    current_lr = optimizer.param_groups[0]['lr']\n",
        "\n",
        "    # Update learning rate\n",
        "    scheduler.step(epoch_val_loss)\n",
        "\n",
        "    # Store history\n",
        "    history['train_loss'].append(epoch_train_loss)\n",
        "    history['val_loss'].append(epoch_val_loss)\n",
        "    history['val_acc'].append(val_acc)\n",
        "    history['lr'].append(current_lr)\n",
        "\n",
        "    # Early stopping logic\n",
        "    if epoch_val_loss < best_val_loss:\n",
        "        best_val_loss = epoch_val_loss\n",
        "        epochs_no_improve = 0\n",
        "        torch.save(model.state_dict(), 'best_model.pth')\n",
        "    else:\n",
        "        epochs_no_improve += 1\n",
        "        if epochs_no_improve >= patience:\n",
        "            early_stop = True\n",
        "\n",
        "    # Epoch summary\n",
        "    print(f\"\\nEpoch {epoch+1:3d}/{num_epochs} | Train Loss: {epoch_train_loss:.4f} | Val Loss: {epoch_val_loss:.4f} | Val Acc: {val_acc:.4f} | LR: {current_lr:.2e}\")\n",
        "\n",
        "# Load best model for testing\n",
        "model.load_state_dict(torch.load('best_model.pth'))\n",
        "print(\"\\nLoaded best model weights for final testing\")\n",
        "\n",
        "# Final evaluation\n",
        "model.eval()\n",
        "test_correct = 0\n",
        "test_total = 0\n",
        "test_loss = 0.0\n",
        "\n",
        "with tqdm(test_loader, unit=\"batch\", desc=\"Final Testing\") as pbar:\n",
        "    with torch.no_grad():\n",
        "        for images, labels in pbar:\n",
        "            images, labels = images.to(device), labels.to(device, dtype=torch.long)\n",
        "            outputs = model(images)\n",
        "            loss = criterion(outputs, labels)\n",
        "\n",
        "            test_loss += loss.item() * images.size(0)\n",
        "            predicted = torch.argmax(outputs, dim=1)\n",
        "            test_correct += (predicted == labels).sum().item()\n",
        "            test_total += labels.size(0)\n",
        "\n",
        "            pbar.set_postfix({\n",
        "                'Loss': f\"{loss.item():.4f}\",\n",
        "                'Acc': f\"{(test_correct/test_total):.4f}\"\n",
        "            })\n",
        "\n",
        "print(f\"\\n{'='*50}\")\n",
        "print(f\"Final Test Results:\")\n",
        "print(f\"Loss: {test_loss/len(test_dataset):.4f}\")\n",
        "print(f\"Accuracy: {test_correct/test_total:.4f}\")\n",
        "print(f\"{'='*50}\")"
      ],
      "metadata": {
        "colab": {
          "base_uri": "https://localhost:8080/"
        },
        "id": "UiRQk2cqwPcD",
        "outputId": "f39c225c-6c03-4d2e-a489-f786447f6a0f"
      },
      "execution_count": 20,
      "outputs": [
        {
          "metadata": {
            "tags": null
          },
          "name": "stdout",
          "output_type": "stream",
          "text": [
            "\n",
            "==================================================\n",
            "Starting training with early stopping (patience=20)\n",
            "and learning rate scheduling (ReduceLROnPlateau)\n",
            "==================================================\n",
            "\n"
          ]
        },
        {
          "metadata": {
            "tags": null
          },
          "name": "stderr",
          "output_type": "stream",
          "text": [
            "Epoch   1/500 [Train]: 100%|██████████| 44/44 [01:07<00:00,  1.53s/batch, Loss=0.7214, AvgLoss=0.7649]\n",
            "Epoch   1/500 [Val]  : 100%|██████████| 5/5 [00:07<00:00,  1.55s/batch, Loss=0.6849, Acc=0.6667]\n"
          ]
        },
        {
          "metadata": {
            "tags": null
          },
          "name": "stdout",
          "output_type": "stream",
          "text": [
            "\n",
            "Epoch   1/500 | Train Loss: 0.7688 | Val Loss: 0.7536 | Val Acc: 0.6667 | LR: 1.00e-03\n"
          ]
        },
        {
          "metadata": {
            "tags": null
          },
          "name": "stderr",
          "output_type": "stream",
          "text": [
            "Epoch   2/500 [Train]: 100%|██████████| 44/44 [01:07<00:00,  1.54s/batch, Loss=0.6431, AvgLoss=0.5835]\n",
            "Epoch   2/500 [Val]  : 100%|██████████| 5/5 [00:07<00:00,  1.54s/batch, Loss=0.5846, Acc=0.7051]\n"
          ]
        },
        {
          "metadata": {
            "tags": null
          },
          "name": "stdout",
          "output_type": "stream",
          "text": [
            "\n",
            "Epoch   2/500 | Train Loss: 0.5864 | Val Loss: 0.7005 | Val Acc: 0.7051 | LR: 1.00e-03\n"
          ]
        },
        {
          "metadata": {
            "tags": null
          },
          "name": "stderr",
          "output_type": "stream",
          "text": [
            "Epoch   3/500 [Train]: 100%|██████████| 44/44 [01:07<00:00,  1.53s/batch, Loss=0.7121, AvgLoss=0.5663]\n",
            "Epoch   3/500 [Val]  : 100%|██████████| 5/5 [00:07<00:00,  1.52s/batch, Loss=0.5624, Acc=0.7051]\n"
          ]
        },
        {
          "metadata": {
            "tags": null
          },
          "name": "stdout",
          "output_type": "stream",
          "text": [
            "\n",
            "Epoch   3/500 | Train Loss: 0.5691 | Val Loss: 0.6918 | Val Acc: 0.7051 | LR: 1.00e-03\n"
          ]
        },
        {
          "metadata": {
            "tags": null
          },
          "name": "stderr",
          "output_type": "stream",
          "text": [
            "Epoch   4/500 [Train]: 100%|██████████| 44/44 [01:07<00:00,  1.53s/batch, Loss=0.4476, AvgLoss=0.5223]\n",
            "Epoch   4/500 [Val]  : 100%|██████████| 5/5 [00:07<00:00,  1.54s/batch, Loss=0.5483, Acc=0.7115]\n"
          ]
        },
        {
          "metadata": {
            "tags": null
          },
          "name": "stdout",
          "output_type": "stream",
          "text": [
            "\n",
            "Epoch   4/500 | Train Loss: 0.5249 | Val Loss: 0.7049 | Val Acc: 0.7115 | LR: 1.00e-03\n"
          ]
        },
        {
          "metadata": {
            "tags": null
          },
          "name": "stderr",
          "output_type": "stream",
          "text": [
            "Epoch   5/500 [Train]: 100%|██████████| 44/44 [01:07<00:00,  1.52s/batch, Loss=0.5051, AvgLoss=0.5236]\n",
            "Epoch   5/500 [Val]  : 100%|██████████| 5/5 [00:07<00:00,  1.54s/batch, Loss=0.5436, Acc=0.7051]\n"
          ]
        },
        {
          "metadata": {
            "tags": null
          },
          "name": "stdout",
          "output_type": "stream",
          "text": [
            "\n",
            "Epoch   5/500 | Train Loss: 0.5262 | Val Loss: 0.7218 | Val Acc: 0.7051 | LR: 1.00e-03\n"
          ]
        },
        {
          "metadata": {
            "tags": null
          },
          "name": "stderr",
          "output_type": "stream",
          "text": [
            "Epoch   6/500 [Train]: 100%|██████████| 44/44 [01:06<00:00,  1.52s/batch, Loss=0.8252, AvgLoss=0.5109]\n",
            "Epoch   6/500 [Val]  : 100%|██████████| 5/5 [00:07<00:00,  1.55s/batch, Loss=0.5601, Acc=0.7244]\n"
          ]
        },
        {
          "metadata": {
            "tags": null
          },
          "name": "stdout",
          "output_type": "stream",
          "text": [
            "\n",
            "Epoch   6/500 | Train Loss: 0.5134 | Val Loss: 0.6645 | Val Acc: 0.7244 | LR: 1.00e-03\n"
          ]
        },
        {
          "metadata": {
            "tags": null
          },
          "name": "stderr",
          "output_type": "stream",
          "text": [
            "Epoch   7/500 [Train]: 100%|██████████| 44/44 [01:07<00:00,  1.53s/batch, Loss=0.3866, AvgLoss=0.4931]\n",
            "Epoch   7/500 [Val]  : 100%|██████████| 5/5 [00:07<00:00,  1.54s/batch, Loss=0.6178, Acc=0.6987]\n"
          ]
        },
        {
          "metadata": {
            "tags": null
          },
          "name": "stdout",
          "output_type": "stream",
          "text": [
            "\n",
            "Epoch   7/500 | Train Loss: 0.4956 | Val Loss: 0.6513 | Val Acc: 0.6987 | LR: 1.00e-03\n"
          ]
        },
        {
          "metadata": {
            "tags": null
          },
          "name": "stderr",
          "output_type": "stream",
          "text": [
            "Epoch   8/500 [Train]: 100%|██████████| 44/44 [01:07<00:00,  1.53s/batch, Loss=0.4095, AvgLoss=0.4692]\n",
            "Epoch   8/500 [Val]  : 100%|██████████| 5/5 [00:07<00:00,  1.54s/batch, Loss=0.5659, Acc=0.7308]\n"
          ]
        },
        {
          "metadata": {
            "tags": null
          },
          "name": "stdout",
          "output_type": "stream",
          "text": [
            "\n",
            "Epoch   8/500 | Train Loss: 0.4716 | Val Loss: 0.6218 | Val Acc: 0.7308 | LR: 1.00e-03\n"
          ]
        },
        {
          "metadata": {
            "tags": null
          },
          "name": "stderr",
          "output_type": "stream",
          "text": [
            "Epoch   9/500 [Train]: 100%|██████████| 44/44 [01:06<00:00,  1.52s/batch, Loss=0.5795, AvgLoss=0.4496]\n",
            "Epoch   9/500 [Val]  : 100%|██████████| 5/5 [00:07<00:00,  1.54s/batch, Loss=0.5611, Acc=0.7308]\n"
          ]
        },
        {
          "metadata": {
            "tags": null
          },
          "name": "stdout",
          "output_type": "stream",
          "text": [
            "\n",
            "Epoch   9/500 | Train Loss: 0.4519 | Val Loss: 0.6277 | Val Acc: 0.7308 | LR: 1.00e-03\n"
          ]
        },
        {
          "metadata": {
            "tags": null
          },
          "name": "stderr",
          "output_type": "stream",
          "text": [
            "Epoch  10/500 [Train]: 100%|██████████| 44/44 [01:07<00:00,  1.53s/batch, Loss=0.3872, AvgLoss=0.4404]\n",
            "Epoch  10/500 [Val]  : 100%|██████████| 5/5 [00:07<00:00,  1.56s/batch, Loss=0.5547, Acc=0.7436]\n"
          ]
        },
        {
          "metadata": {
            "tags": null
          },
          "name": "stdout",
          "output_type": "stream",
          "text": [
            "\n",
            "Epoch  10/500 | Train Loss: 0.4426 | Val Loss: 0.6049 | Val Acc: 0.7436 | LR: 1.00e-03\n"
          ]
        },
        {
          "metadata": {
            "tags": null
          },
          "name": "stderr",
          "output_type": "stream",
          "text": [
            "Epoch  11/500 [Train]: 100%|██████████| 44/44 [01:07<00:00,  1.52s/batch, Loss=0.6769, AvgLoss=0.4396]\n",
            "Epoch  11/500 [Val]  : 100%|██████████| 5/5 [00:07<00:00,  1.54s/batch, Loss=0.5163, Acc=0.7308]\n"
          ]
        },
        {
          "metadata": {
            "tags": null
          },
          "name": "stdout",
          "output_type": "stream",
          "text": [
            "\n",
            "Epoch  11/500 | Train Loss: 0.4418 | Val Loss: 0.6067 | Val Acc: 0.7308 | LR: 1.00e-03\n"
          ]
        },
        {
          "metadata": {
            "tags": null
          },
          "name": "stderr",
          "output_type": "stream",
          "text": [
            "Epoch  12/500 [Train]: 100%|██████████| 44/44 [01:06<00:00,  1.52s/batch, Loss=0.3800, AvgLoss=0.4166]\n",
            "Epoch  12/500 [Val]  : 100%|██████████| 5/5 [00:07<00:00,  1.55s/batch, Loss=0.5144, Acc=0.6987]\n"
          ]
        },
        {
          "metadata": {
            "tags": null
          },
          "name": "stdout",
          "output_type": "stream",
          "text": [
            "\n",
            "Epoch  12/500 | Train Loss: 0.4187 | Val Loss: 0.6873 | Val Acc: 0.6987 | LR: 1.00e-03\n"
          ]
        },
        {
          "metadata": {
            "tags": null
          },
          "name": "stderr",
          "output_type": "stream",
          "text": [
            "Epoch  13/500 [Train]: 100%|██████████| 44/44 [01:07<00:00,  1.53s/batch, Loss=0.4996, AvgLoss=0.4139]\n",
            "Epoch  13/500 [Val]  : 100%|██████████| 5/5 [00:07<00:00,  1.54s/batch, Loss=0.5243, Acc=0.7244]\n"
          ]
        },
        {
          "metadata": {
            "tags": null
          },
          "name": "stdout",
          "output_type": "stream",
          "text": [
            "\n",
            "Epoch  13/500 | Train Loss: 0.4160 | Val Loss: 0.5986 | Val Acc: 0.7244 | LR: 1.00e-03\n"
          ]
        },
        {
          "output_type": "stream",
          "name": "stderr",
          "text": [
            "Epoch  14/500 [Train]: 100%|██████████| 44/44 [01:07<00:00,  1.53s/batch, Loss=0.5041, AvgLoss=0.3871]\n",
            "Epoch  14/500 [Val]  : 100%|██████████| 5/5 [00:07<00:00,  1.52s/batch, Loss=0.5237, Acc=0.7500]\n"
          ]
        },
        {
          "output_type": "stream",
          "name": "stdout",
          "text": [
            "\n",
            "Epoch  14/500 | Train Loss: 0.3890 | Val Loss: 0.5990 | Val Acc: 0.7500 | LR: 1.00e-03\n"
          ]
        },
        {
          "output_type": "stream",
          "name": "stderr",
          "text": [
            "Epoch  15/500 [Train]: 100%|██████████| 44/44 [01:07<00:00,  1.52s/batch, Loss=0.3088, AvgLoss=0.4119]\n",
            "Epoch  15/500 [Val]  : 100%|██████████| 5/5 [00:07<00:00,  1.54s/batch, Loss=0.5952, Acc=0.7179]\n"
          ]
        },
        {
          "output_type": "stream",
          "name": "stdout",
          "text": [
            "\n",
            "Epoch  15/500 | Train Loss: 0.4139 | Val Loss: 0.6164 | Val Acc: 0.7179 | LR: 1.00e-03\n"
          ]
        },
        {
          "output_type": "stream",
          "name": "stderr",
          "text": [
            "Epoch  16/500 [Train]: 100%|██████████| 44/44 [01:07<00:00,  1.53s/batch, Loss=0.4083, AvgLoss=0.4074]\n",
            "Epoch  16/500 [Val]  : 100%|██████████| 5/5 [00:07<00:00,  1.55s/batch, Loss=0.6565, Acc=0.7051]\n"
          ]
        },
        {
          "output_type": "stream",
          "name": "stdout",
          "text": [
            "\n",
            "Epoch  16/500 | Train Loss: 0.4094 | Val Loss: 0.6521 | Val Acc: 0.7051 | LR: 1.00e-03\n"
          ]
        },
        {
          "output_type": "stream",
          "name": "stderr",
          "text": [
            "Epoch  17/500 [Train]: 100%|██████████| 44/44 [01:07<00:00,  1.53s/batch, Loss=0.2593, AvgLoss=0.3913]\n",
            "Epoch  17/500 [Val]  : 100%|██████████| 5/5 [00:07<00:00,  1.55s/batch, Loss=0.5058, Acc=0.7564]\n"
          ]
        },
        {
          "output_type": "stream",
          "name": "stdout",
          "text": [
            "\n",
            "Epoch  17/500 | Train Loss: 0.3933 | Val Loss: 0.5820 | Val Acc: 0.7564 | LR: 1.00e-03\n"
          ]
        },
        {
          "output_type": "stream",
          "name": "stderr",
          "text": [
            "Epoch  18/500 [Train]: 100%|██████████| 44/44 [01:07<00:00,  1.53s/batch, Loss=0.3048, AvgLoss=0.3633]\n",
            "Epoch  18/500 [Val]  : 100%|██████████| 5/5 [00:07<00:00,  1.54s/batch, Loss=0.5186, Acc=0.7372]\n"
          ]
        },
        {
          "output_type": "stream",
          "name": "stdout",
          "text": [
            "\n",
            "Epoch  18/500 | Train Loss: 0.3651 | Val Loss: 0.5641 | Val Acc: 0.7372 | LR: 1.00e-03\n"
          ]
        },
        {
          "output_type": "stream",
          "name": "stderr",
          "text": [
            "Epoch  19/500 [Train]: 100%|██████████| 44/44 [01:07<00:00,  1.53s/batch, Loss=0.3099, AvgLoss=0.3697]\n",
            "Epoch  19/500 [Val]  : 100%|██████████| 5/5 [00:07<00:00,  1.55s/batch, Loss=0.4814, Acc=0.7051]\n"
          ]
        },
        {
          "output_type": "stream",
          "name": "stdout",
          "text": [
            "\n",
            "Epoch  19/500 | Train Loss: 0.3716 | Val Loss: 0.6318 | Val Acc: 0.7051 | LR: 1.00e-03\n"
          ]
        },
        {
          "output_type": "stream",
          "name": "stderr",
          "text": [
            "Epoch  20/500 [Train]: 100%|██████████| 44/44 [01:07<00:00,  1.53s/batch, Loss=0.4267, AvgLoss=0.3873]\n",
            "Epoch  20/500 [Val]  : 100%|██████████| 5/5 [00:07<00:00,  1.54s/batch, Loss=0.5501, Acc=0.7436]\n"
          ]
        },
        {
          "output_type": "stream",
          "name": "stdout",
          "text": [
            "\n",
            "Epoch  20/500 | Train Loss: 0.3892 | Val Loss: 0.6109 | Val Acc: 0.7436 | LR: 1.00e-03\n"
          ]
        },
        {
          "output_type": "stream",
          "name": "stderr",
          "text": [
            "Epoch  21/500 [Train]: 100%|██████████| 44/44 [01:07<00:00,  1.53s/batch, Loss=0.3886, AvgLoss=0.3728]\n",
            "Epoch  21/500 [Val]  : 100%|██████████| 5/5 [00:07<00:00,  1.54s/batch, Loss=0.5513, Acc=0.7244]\n"
          ]
        },
        {
          "output_type": "stream",
          "name": "stdout",
          "text": [
            "\n",
            "Epoch  21/500 | Train Loss: 0.3747 | Val Loss: 0.6599 | Val Acc: 0.7244 | LR: 1.00e-03\n"
          ]
        },
        {
          "output_type": "stream",
          "name": "stderr",
          "text": [
            "Epoch  22/500 [Train]: 100%|██████████| 44/44 [01:06<00:00,  1.52s/batch, Loss=0.3238, AvgLoss=0.3477]\n",
            "Epoch  22/500 [Val]  : 100%|██████████| 5/5 [00:07<00:00,  1.54s/batch, Loss=0.5269, Acc=0.7115]\n"
          ]
        },
        {
          "output_type": "stream",
          "name": "stdout",
          "text": [
            "\n",
            "Epoch  22/500 | Train Loss: 0.3495 | Val Loss: 0.6768 | Val Acc: 0.7115 | LR: 1.00e-03\n"
          ]
        },
        {
          "output_type": "stream",
          "name": "stderr",
          "text": [
            "Epoch  23/500 [Train]: 100%|██████████| 44/44 [01:06<00:00,  1.52s/batch, Loss=0.2995, AvgLoss=0.3507]\n",
            "Epoch  23/500 [Val]  : 100%|██████████| 5/5 [00:07<00:00,  1.54s/batch, Loss=0.4623, Acc=0.7436]\n"
          ]
        },
        {
          "output_type": "stream",
          "name": "stdout",
          "text": [
            "\n",
            "Epoch  23/500 | Train Loss: 0.3525 | Val Loss: 0.5771 | Val Acc: 0.7436 | LR: 1.00e-03\n"
          ]
        },
        {
          "output_type": "stream",
          "name": "stderr",
          "text": [
            "Epoch  24/500 [Train]: 100%|██████████| 44/44 [01:07<00:00,  1.52s/batch, Loss=0.5060, AvgLoss=0.3446]\n",
            "Epoch  24/500 [Val]  : 100%|██████████| 5/5 [00:07<00:00,  1.54s/batch, Loss=0.5115, Acc=0.7372]\n"
          ]
        },
        {
          "output_type": "stream",
          "name": "stdout",
          "text": [
            "\n",
            "Epoch  24/500 | Train Loss: 0.3463 | Val Loss: 0.5867 | Val Acc: 0.7372 | LR: 1.00e-03\n"
          ]
        },
        {
          "output_type": "stream",
          "name": "stderr",
          "text": [
            "Epoch  25/500 [Train]: 100%|██████████| 44/44 [01:07<00:00,  1.53s/batch, Loss=0.3620, AvgLoss=0.3349]\n",
            "Epoch  25/500 [Val]  : 100%|██████████| 5/5 [00:07<00:00,  1.55s/batch, Loss=0.4976, Acc=0.7500]\n"
          ]
        },
        {
          "output_type": "stream",
          "name": "stdout",
          "text": [
            "\n",
            "Epoch  25/500 | Train Loss: 0.3365 | Val Loss: 0.5896 | Val Acc: 0.7500 | LR: 1.00e-04\n"
          ]
        },
        {
          "output_type": "stream",
          "name": "stderr",
          "text": [
            "Epoch  26/500 [Train]: 100%|██████████| 44/44 [01:06<00:00,  1.52s/batch, Loss=0.4366, AvgLoss=0.3219]\n",
            "Epoch  26/500 [Val]  : 100%|██████████| 5/5 [00:07<00:00,  1.54s/batch, Loss=0.4895, Acc=0.7436]\n"
          ]
        },
        {
          "output_type": "stream",
          "name": "stdout",
          "text": [
            "\n",
            "Epoch  26/500 | Train Loss: 0.3235 | Val Loss: 0.5807 | Val Acc: 0.7436 | LR: 1.00e-04\n"
          ]
        },
        {
          "output_type": "stream",
          "name": "stderr",
          "text": [
            "Epoch  27/500 [Train]: 100%|██████████| 44/44 [01:07<00:00,  1.53s/batch, Loss=0.3289, AvgLoss=0.3302]\n",
            "Epoch  27/500 [Val]  : 100%|██████████| 5/5 [00:07<00:00,  1.54s/batch, Loss=0.4914, Acc=0.7372]\n"
          ]
        },
        {
          "output_type": "stream",
          "name": "stdout",
          "text": [
            "\n",
            "Epoch  27/500 | Train Loss: 0.3319 | Val Loss: 0.5728 | Val Acc: 0.7372 | LR: 1.00e-04\n"
          ]
        },
        {
          "output_type": "stream",
          "name": "stderr",
          "text": [
            "Epoch  28/500 [Train]: 100%|██████████| 44/44 [01:06<00:00,  1.52s/batch, Loss=0.3508, AvgLoss=0.3259]\n",
            "Epoch  28/500 [Val]  : 100%|██████████| 5/5 [00:07<00:00,  1.56s/batch, Loss=0.4989, Acc=0.7372]\n"
          ]
        },
        {
          "output_type": "stream",
          "name": "stdout",
          "text": [
            "\n",
            "Epoch  28/500 | Train Loss: 0.3275 | Val Loss: 0.5697 | Val Acc: 0.7372 | LR: 1.00e-04\n"
          ]
        },
        {
          "output_type": "stream",
          "name": "stderr",
          "text": [
            "Epoch  29/500 [Train]: 100%|██████████| 44/44 [01:07<00:00,  1.52s/batch, Loss=0.5619, AvgLoss=0.3215]\n",
            "Epoch  29/500 [Val]  : 100%|██████████| 5/5 [00:07<00:00,  1.57s/batch, Loss=0.4860, Acc=0.7500]\n"
          ]
        },
        {
          "output_type": "stream",
          "name": "stdout",
          "text": [
            "\n",
            "Epoch  29/500 | Train Loss: 0.3231 | Val Loss: 0.5769 | Val Acc: 0.7500 | LR: 1.00e-04\n"
          ]
        },
        {
          "output_type": "stream",
          "name": "stderr",
          "text": [
            "Epoch  30/500 [Train]: 100%|██████████| 44/44 [01:07<00:00,  1.53s/batch, Loss=0.3125, AvgLoss=0.3216]\n",
            "Epoch  30/500 [Val]  : 100%|██████████| 5/5 [00:07<00:00,  1.54s/batch, Loss=0.4848, Acc=0.7500]\n"
          ]
        },
        {
          "output_type": "stream",
          "name": "stdout",
          "text": [
            "\n",
            "Epoch  30/500 | Train Loss: 0.3232 | Val Loss: 0.5759 | Val Acc: 0.7500 | LR: 1.00e-04\n"
          ]
        },
        {
          "output_type": "stream",
          "name": "stderr",
          "text": [
            "Epoch  31/500 [Train]: 100%|██████████| 44/44 [01:06<00:00,  1.52s/batch, Loss=0.5555, AvgLoss=0.3261]\n",
            "Epoch  31/500 [Val]  : 100%|██████████| 5/5 [00:07<00:00,  1.54s/batch, Loss=0.4850, Acc=0.7436]\n"
          ]
        },
        {
          "output_type": "stream",
          "name": "stdout",
          "text": [
            "\n",
            "Epoch  31/500 | Train Loss: 0.3277 | Val Loss: 0.5721 | Val Acc: 0.7436 | LR: 1.00e-05\n"
          ]
        },
        {
          "output_type": "stream",
          "name": "stderr",
          "text": [
            "Epoch  32/500 [Train]: 100%|██████████| 44/44 [01:06<00:00,  1.52s/batch, Loss=0.3309, AvgLoss=0.3175]\n",
            "Epoch  32/500 [Val]  : 100%|██████████| 5/5 [00:07<00:00,  1.54s/batch, Loss=0.4854, Acc=0.7436]\n"
          ]
        },
        {
          "output_type": "stream",
          "name": "stdout",
          "text": [
            "\n",
            "Epoch  32/500 | Train Loss: 0.3190 | Val Loss: 0.5717 | Val Acc: 0.7436 | LR: 1.00e-05\n"
          ]
        },
        {
          "output_type": "stream",
          "name": "stderr",
          "text": [
            "Epoch  33/500 [Train]: 100%|██████████| 44/44 [01:07<00:00,  1.53s/batch, Loss=0.2432, AvgLoss=0.3184]\n",
            "Epoch  33/500 [Val]  : 100%|██████████| 5/5 [00:07<00:00,  1.54s/batch, Loss=0.4861, Acc=0.7436]\n"
          ]
        },
        {
          "output_type": "stream",
          "name": "stdout",
          "text": [
            "\n",
            "Epoch  33/500 | Train Loss: 0.3200 | Val Loss: 0.5716 | Val Acc: 0.7436 | LR: 1.00e-05\n"
          ]
        },
        {
          "output_type": "stream",
          "name": "stderr",
          "text": [
            "Epoch  34/500 [Train]: 100%|██████████| 44/44 [01:07<00:00,  1.53s/batch, Loss=0.2972, AvgLoss=0.3218]\n",
            "Epoch  34/500 [Val]  : 100%|██████████| 5/5 [00:07<00:00,  1.55s/batch, Loss=0.4854, Acc=0.7436]\n"
          ]
        },
        {
          "output_type": "stream",
          "name": "stdout",
          "text": [
            "\n",
            "Epoch  34/500 | Train Loss: 0.3234 | Val Loss: 0.5716 | Val Acc: 0.7436 | LR: 1.00e-05\n"
          ]
        },
        {
          "output_type": "stream",
          "name": "stderr",
          "text": [
            "Epoch  35/500 [Train]: 100%|██████████| 44/44 [01:06<00:00,  1.52s/batch, Loss=0.1770, AvgLoss=0.3170]\n",
            "Epoch  35/500 [Val]  : 100%|██████████| 5/5 [00:07<00:00,  1.54s/batch, Loss=0.4854, Acc=0.7436]\n"
          ]
        },
        {
          "output_type": "stream",
          "name": "stdout",
          "text": [
            "\n",
            "Epoch  35/500 | Train Loss: 0.3186 | Val Loss: 0.5718 | Val Acc: 0.7436 | LR: 1.00e-05\n"
          ]
        },
        {
          "output_type": "stream",
          "name": "stderr",
          "text": [
            "Epoch  36/500 [Train]: 100%|██████████| 44/44 [01:06<00:00,  1.52s/batch, Loss=0.2226, AvgLoss=0.3082]\n",
            "Epoch  36/500 [Val]  : 100%|██████████| 5/5 [00:07<00:00,  1.55s/batch, Loss=0.4853, Acc=0.7436]\n"
          ]
        },
        {
          "output_type": "stream",
          "name": "stdout",
          "text": [
            "\n",
            "Epoch  36/500 | Train Loss: 0.3098 | Val Loss: 0.5705 | Val Acc: 0.7436 | LR: 1.00e-05\n"
          ]
        },
        {
          "output_type": "stream",
          "name": "stderr",
          "text": [
            "Epoch  37/500 [Train]: 100%|██████████| 44/44 [01:07<00:00,  1.53s/batch, Loss=0.3851, AvgLoss=0.3208]\n",
            "Epoch  37/500 [Val]  : 100%|██████████| 5/5 [00:07<00:00,  1.54s/batch, Loss=0.4855, Acc=0.7436]\n"
          ]
        },
        {
          "output_type": "stream",
          "name": "stdout",
          "text": [
            "\n",
            "Epoch  37/500 | Train Loss: 0.3224 | Val Loss: 0.5705 | Val Acc: 0.7436 | LR: 1.00e-06\n"
          ]
        },
        {
          "output_type": "stream",
          "name": "stderr",
          "text": [
            "Epoch  38/500 [Train]: 100%|██████████| 44/44 [01:07<00:00,  1.53s/batch, Loss=0.2426, AvgLoss=0.3171]\n",
            "Epoch  38/500 [Val]  : 100%|██████████| 5/5 [00:07<00:00,  1.53s/batch, Loss=0.4855, Acc=0.7436]\n",
            "<ipython-input-20-1d24197773d9>:96: FutureWarning: You are using `torch.load` with `weights_only=False` (the current default value), which uses the default pickle module implicitly. It is possible to construct malicious pickle data which will execute arbitrary code during unpickling (See https://github.com/pytorch/pytorch/blob/main/SECURITY.md#untrusted-models for more details). In a future release, the default value for `weights_only` will be flipped to `True`. This limits the functions that could be executed during unpickling. Arbitrary objects will no longer be allowed to be loaded via this mode unless they are explicitly allowlisted by the user via `torch.serialization.add_safe_globals`. We recommend you start setting `weights_only=True` for any use case where you don't have full control of the loaded file. Please open an issue on GitHub for any issues related to this experimental feature.\n",
            "  model.load_state_dict(torch.load('best_model.pth'))\n"
          ]
        },
        {
          "output_type": "stream",
          "name": "stdout",
          "text": [
            "\n",
            "Epoch  38/500 | Train Loss: 0.3187 | Val Loss: 0.5706 | Val Acc: 0.7436 | LR: 1.00e-06\n",
            "[!] Early stopping triggered at epoch 39\n",
            "\n",
            "Loaded best model weights for final testing\n"
          ]
        },
        {
          "output_type": "stream",
          "name": "stderr",
          "text": [
            "Final Testing: 100%|██████████| 13/13 [00:18<00:00,  1.43s/batch, Loss=1.2881, Acc=0.7872]"
          ]
        },
        {
          "output_type": "stream",
          "name": "stdout",
          "text": [
            "\n",
            "==================================================\n",
            "Final Test Results:\n",
            "Loss: 0.5164\n",
            "Accuracy: 0.7872\n",
            "==================================================\n"
          ]
        },
        {
          "output_type": "stream",
          "name": "stderr",
          "text": [
            "\n"
          ]
        }
      ]
    },
    {
      "cell_type": "code",
      "source": [
        "import matplotlib.pyplot as plt\n",
        "import seaborn as sns\n",
        "from sklearn.metrics import confusion_matrix, accuracy_score, precision_score, recall_score, f1_score, cohen_kappa_score\n",
        "\n",
        "# For accuracy graph (assuming you have training history)\n",
        "train_accuracies = []  # Populate these during training\n",
        "val_accuracies = []    # Populate these during validation\n",
        "\n",
        "def plot_metrics(phase_name, cm, accuracy, precision, recall, f1, kappa):\n",
        "    plt.figure(figsize=(18, 6))\n",
        "\n",
        "    # Confusion Matrix\n",
        "    plt.subplot(1, 2, 1)\n",
        "    sns.heatmap(cm, annot=True, fmt='d', cmap='Blues',\n",
        "                xticklabels=['Normal[0]', 'Osteopenia[1]', 'Osteoporosis[2]'],\n",
        "                yticklabels=['Normal[0]', 'Osteopenia[1]', 'Osteoporosis[2]'])\n",
        "    plt.title(f'{phase_name} Confusion Matrix')\n",
        "    plt.xlabel('Predicted')\n",
        "    plt.ylabel('Actual')\n",
        "\n",
        "    # Metrics Text\n",
        "    plt.subplot(1, 2, 2)\n",
        "    plt.text(0.1, 0.9, f'Accuracy: {accuracy:.4f}', fontsize=12)\n",
        "    plt.text(0.1, 0.7, f'Precision (Macro): {precision:.4f}', fontsize=12)\n",
        "    plt.text(0.1, 0.5, f'Recall (Macro): {recall:.4f}', fontsize=12)\n",
        "    plt.text(0.1, 0.3, f'F1 Score (Macro): {f1:.4f}', fontsize=12)\n",
        "    plt.text(0.1, 0.1, f\"Cohen's Kappa: {kappa:.4f}\", fontsize=12)\n",
        "    plt.axis('off')\n",
        "\n",
        "    plt.tight_layout()\n",
        "    plt.show()\n",
        "\n",
        "def evaluate_model(loader, phase_name):\n",
        "    model.eval()\n",
        "    all_labels = []\n",
        "    all_preds = []\n",
        "    with torch.no_grad():\n",
        "        for images, labels in loader:\n",
        "            images, labels = images.to(device), labels.to(device)\n",
        "            outputs = model(images)\n",
        "            _, preds = torch.max(outputs, 1)  # Get class predictions\n",
        "\n",
        "            all_labels.extend(labels.cpu().numpy())\n",
        "            all_preds.extend(preds.cpu().numpy())\n",
        "\n",
        "    # Calculate metrics\n",
        "    accuracy = accuracy_score(all_labels, all_preds)\n",
        "    precision = precision_score(all_labels, all_preds, average='macro')\n",
        "    recall = recall_score(all_labels, all_preds, average='macro')\n",
        "    f1 = f1_score(all_labels, all_preds, average='macro')\n",
        "    kappa = cohen_kappa_score(all_labels, all_preds)\n",
        "    cm = confusion_matrix(all_labels, all_preds)\n",
        "\n",
        "    plot_metrics(phase_name, cm, accuracy, precision, recall, f1, kappa)\n",
        "\n",
        "    return accuracy\n",
        "\n",
        "# Evaluate all sets\n",
        "test_accuracy = evaluate_model(test_loader, 'Test')\n",
        "val_accuracy = evaluate_model(val_loader, 'Validation')"
      ],
      "metadata": {
        "colab": {
          "base_uri": "https://localhost:8080/",
          "height": 1000
        },
        "id": "QZsDxzte481m",
        "outputId": "47f46363-9634-4e24-9b25-1222df6400bd"
      },
      "execution_count": 22,
      "outputs": [
        {
          "output_type": "display_data",
          "data": {
            "text/plain": [
              "<Figure size 1800x600 with 3 Axes>"
            ],
            "image/png": "[encoded data removed]"
          },
          "metadata": {}
        },
        {
          "output_type": "display_data",
          "data": {
            "text/plain": [
              "<Figure size 1800x600 with 3 Axes>"
            ],
            "image/png": "[encoded data removed]"
          },
          "metadata": {}
        }
      ]
    }
  ]
}