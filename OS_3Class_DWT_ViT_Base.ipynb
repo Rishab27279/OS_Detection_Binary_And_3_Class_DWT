{
  "nbformat": 4,
  "nbformat_minor": 0,
  "metadata": {
    "colab": {
      "provenance": [],
      "gpuType": "T4"
    },
    "kernelspec": {
      "name": "python3",
      "display_name": "Python 3"
    },
    "language_info": {
      "name": "python"
    },
    "accelerator": "GPU"
  },
  "cells": [
    {
      "cell_type": "code",
      "execution_count": null,
      "metadata": {
        "id": "OeOC3Z2rvKdZ"
      },
      "outputs": [],
      "source": [
        "import cv2\n",
        "import os\n",
        "import numpy as np\n",
        "import tensorflow as tf\n",
        "from google.colab import drive\n",
        "from sklearn.model_selection import train_test_split\n",
        "import torch\n",
        "from torch.utils.data import Dataset, DataLoader\n",
        "import torch.nn as nn\n",
        "import torch.nn.functional as F\n",
        "from transformers import ViTModel"
      ]
    },
    {
      "cell_type": "code",
      "source": [
        "# Mount Google Drive (only for Colab)\n",
        "drive.mount('/content/drive')\n",
        "\n",
        "# ========================================================================\n",
        "# 1. Dataset Configuration\n",
        "# ========================================================================\n",
        "dataset_paths = {\n",
        "    'Normal': '/content/drive/MyDrive/OS Dataset/Normal/',\n",
        "    'Osteopenia': '/content/drive/MyDrive/OS Dataset/Osteopenia/',\n",
        "    'Osteoporosis': '/content/drive/MyDrive/OS Dataset/Osteoporosis/'\n",
        "}\n",
        "\n",
        "# ========================================================================\n",
        "# 2. Image Loading & Preprocessing\n",
        "# ========================================================================\n",
        "def load_images_and_labels(folder_path, label):\n",
        "    images = []\n",
        "    labels = []\n",
        "    for filename in sorted(os.listdir(folder_path)):\n",
        "        if filename.lower().endswith(('.png', '.jpg', '.jpeg', '.bmp')):\n",
        "            img_path = os.path.join(folder_path, filename)\n",
        "            try:\n",
        "                # Load image and verify successful read\n",
        "                img = cv2.imread(img_path)\n",
        "                if img is None:\n",
        "                    print(f\"Warning: Could not read image {img_path}\")\n",
        "                    continue\n",
        "\n",
        "                # Critical Fix 1: Resize to ViT's required 224x224\n",
        "                img = cv2.resize(img, (224, 224))\n",
        "\n",
        "                # Critical Fix 2: Convert BGR to RGB\n",
        "                img = cv2.cvtColor(img, cv2.COLOR_BGR2RGB)\n",
        "\n",
        "                # Critical Fix 3: Convert to channels-first format\n",
        "                img = np.transpose(img, (2, 0, 1))  # (3, 224, 224)\n",
        "\n",
        "                # Critical Fix 4: Normalize to [-1, 1] range\n",
        "                img = (img.astype(np.float32) / 127.5) - 1.0\n",
        "\n",
        "                images.append(img)\n",
        "                labels.append(label)\n",
        "            except Exception as e:\n",
        "                print(f\"Error processing {img_path}: {e}\")\n",
        "    return np.array(images), np.array(labels)\n",
        "\n",
        "# ========================================================================\n",
        "# 3. Load and Prepare Data\n",
        "# ========================================================================\n",
        "# Load datasets\n",
        "normal_images, normal_labels = load_images_and_labels(dataset_paths['Normal'], 0)\n",
        "osteopenia_images, osteopenia_labels = load_images_and_labels(dataset_paths['Osteopenia'], label=1)\n",
        "osteoporosis_images, osteoporosis_labels = load_images_and_labels(dataset_paths['Osteoporosis'], label=2)\n",
        "\n",
        "# Combine and shuffle data\n",
        "x_data = np.concatenate([normal_images, osteopenia_images, osteoporosis_images], axis=0)\n",
        "y_data = np.concatenate([normal_labels, osteopenia_labels, osteoporosis_labels], axis=0)\n",
        "\n",
        "# Random shuffle with fixed seed for reproducibility\n",
        "np.random.seed(42)\n",
        "shuffle_idx = np.random.permutation(len(x_data))\n",
        "x_data = x_data[shuffle_idx]\n",
        "y_data = y_data[shuffle_idx]\n",
        "\n",
        "# ========================================================================\n",
        "# 4. Train/Validation/Test Split\n",
        "# ========================================================================\n",
        "# Stratified split to maintain class balance\n",
        "x_train_val, x_test, y_train_val, y_test = train_test_split(\n",
        "    x_data, y_data,\n",
        "    test_size=0.2,\n",
        "    stratify=y_data,\n",
        "    random_state=42\n",
        ")\n",
        "\n",
        "x_train, x_val, y_train, y_val = train_test_split(\n",
        "    x_train_val, y_train_val,\n",
        "    test_size=0.1,  # 10% of training for validation\n",
        "    stratify=y_train_val,\n",
        "    random_state=42\n",
        ")"
      ],
      "metadata": {
        "colab": {
          "base_uri": "https://localhost:8080/"
        },
        "id": "UZiHD7EzwJiV",
        "outputId": "b1bb0902-cfbe-4168-e697-0cec09bc1f3f"
      },
      "execution_count": null,
      "outputs": [
        {
          "output_type": "stream",
          "name": "stdout",
          "text": [
            "Drive already mounted at /content/drive; to attempt to forcibly remount, call drive.mount(\"/content/drive\", force_remount=True).\n"
          ]
        }
      ]
    },
    {
      "cell_type": "code",
      "source": [
        "print(f'Number of Normal Images: {len(normal_images)}')\n",
        "print(f'Number of Oesteopenia Images: {len(osteopenia_images)}')\n",
        "print(f'Number of Oestroporosis Images: {len(osteoporosis_images)}')"
      ],
      "metadata": {
        "colab": {
          "base_uri": "https://localhost:8080/"
        },
        "id": "ocnyIWT_wLPy",
        "outputId": "d39084a9-a4ca-404b-b3bb-2059ca98b5b2"
      },
      "execution_count": null,
      "outputs": [
        {
          "output_type": "stream",
          "name": "stdout",
          "text": [
            "Number of Normal Images: 780\n",
            "Number of Oesteopenia Images: 374\n",
            "Number of Oestroporosis Images: 793\n"
          ]
        }
      ]
    },
    {
      "cell_type": "code",
      "source": [
        "# Step 2: Define device\n",
        "device = torch.device('cuda' if torch.cuda.is_available() else 'cpu')\n",
        "print(f\"Using device: {device}\")\n",
        "\n",
        "# Step 3: DWT Implementation\n",
        "def dwt_haar(img):\n",
        "    \"\"\"Performs Haar wavelet transform on a batch of images.\"\"\"\n",
        "    # img shape: (batch, channels, height, width)\n",
        "    batch, channels, h, w = img.shape\n",
        "\n",
        "    # Split rows into even and odd indices\n",
        "    even_rows = img[:, :, 0::2, :]\n",
        "    odd_rows = img[:, :, 1::2, :]\n",
        "\n",
        "    # Compute row-wise averages and differences\n",
        "    avg_rows = (even_rows + odd_rows) / 2\n",
        "    diff_rows = (even_rows - odd_rows) / 2\n",
        "\n",
        "    # Split columns for avg_rows (LL and HL)\n",
        "    even_cols_avg = avg_rows[:, :, :, 0::2]\n",
        "    odd_cols_avg = avg_rows[:, :, :, 1::2]\n",
        "    LL = (even_cols_avg + odd_cols_avg) / 2\n",
        "    HL = (even_cols_avg - odd_cols_avg) / 2\n",
        "\n",
        "    # Split columns for diff_rows (LH and HH)\n",
        "    even_cols_diff = diff_rows[:, :, :, 0::2]\n",
        "    odd_cols_diff = diff_rows[:, :, :, 1::2]\n",
        "    LH = (even_cols_diff + odd_cols_diff) / 2\n",
        "    HH = (even_cols_diff - odd_cols_diff) / 2\n",
        "\n",
        "    return torch.cat([LL, HL, LH, HH], dim=1)\n",
        "\n",
        "# Step 4: Dataset Class (unchanged)\n",
        "class NumpyDataset(Dataset):\n",
        "    def __init__(self, x_data, y_data):\n",
        "        self.x_data = x_data\n",
        "        self.y_data = y_data\n",
        "\n",
        "    def __len__(self):\n",
        "        return len(self.x_data)\n",
        "\n",
        "    def __getitem__(self, idx):\n",
        "        image = torch.from_numpy(self.x_data[idx]).float()\n",
        "        label = torch.tensor(self.y_data[idx], dtype=torch.float32)\n",
        "        return image, label"
      ],
      "metadata": {
        "colab": {
          "base_uri": "https://localhost:8080/"
        },
        "id": "jKpLcEkLwMpi",
        "outputId": "24221dc6-bc9f-46ec-bb3d-ab90c01a9b7c"
      },
      "execution_count": null,
      "outputs": [
        {
          "output_type": "stream",
          "name": "stdout",
          "text": [
            "Using device: cuda\n"
          ]
        }
      ]
    },
    {
      "cell_type": "code",
      "source": [
        "# Step 5: Modified ViT Model with DWT Processing (3-class version)\n",
        "class ViTMultiClassClassifier(nn.Module):\n",
        "    def __init__(self, pretrained_model='google/vit-base-patch16-224-in21k'):\n",
        "        super().__init__()\n",
        "        self.vit = ViTModel.from_pretrained(pretrained_model)\n",
        "        self.classifier = nn.Linear(self.vit.config.hidden_size * 4, 3)  # 3 output classes\n",
        "        # Removed sigmoid - CrossEntropyLoss includes softmax\n",
        "\n",
        "        # Freeze ViT parameters\n",
        "        for param in self.vit.parameters():\n",
        "            param.requires_grad = False\n",
        "\n",
        "    def forward(self, x):\n",
        "        # Apply Haar DWT\n",
        "        x_dwt = dwt_haar(x)\n",
        "        batch_size = x_dwt.size(0)\n",
        "\n",
        "        # Reshape and process each subband\n",
        "        x_dwt = x_dwt.view(batch_size, 4, 3, 112, 112)\n",
        "        vit_outputs = []\n",
        "\n",
        "        for i in range(4):\n",
        "            subband = x_dwt[:, i, :, :, :]\n",
        "            subband_up = F.interpolate(subband, size=(224, 224),\n",
        "                                     mode='bilinear', align_corners=False)\n",
        "            outputs = self.vit(subband_up)\n",
        "            vit_outputs.append(outputs.last_hidden_state[:, 0, :])\n",
        "\n",
        "        # Concatenate and classify\n",
        "        combined = torch.cat(vit_outputs, dim=1)\n",
        "        return self.classifier(combined)  # Return raw logits\n",
        "\n",
        "# Step 6: Create Verified Datasets and DataLoaders\n",
        "class NumpyDataset(Dataset):\n",
        "    def __init__(self, x, y):\n",
        "        self.x = x\n",
        "        self.y = y\n",
        "\n",
        "    def __len__(self):\n",
        "        return len(self.x)\n",
        "\n",
        "    def __getitem__(self, index):\n",
        "        return (\n",
        "            torch.tensor(self.x[index], dtype=torch.float32),\n",
        "            torch.tensor(self.y[index], dtype=torch.long)  # Crucial for CrossEntropyLoss\n",
        "        )\n",
        "\n",
        "# Verify data shapes and labels first!\n",
        "print(\"Data verification:\")\n",
        "print(f\"Train labels: {np.unique(y_train)}\")\n",
        "print(f\"Val labels: {np.unique(y_val)}\")\n",
        "print(f\"Test labels: {np.unique(y_test)}\")\n",
        "\n",
        "batch_size = 32\n",
        "train_dataset = NumpyDataset(x_train, y_train)\n",
        "val_dataset = NumpyDataset(x_val, y_val)\n",
        "test_dataset = NumpyDataset(x_test, y_test)\n",
        "\n",
        "train_loader = DataLoader(train_dataset, batch_size=batch_size, shuffle=True, num_workers=2)\n",
        "val_loader = DataLoader(val_dataset, batch_size=batch_size, shuffle=False, num_workers=2)\n",
        "test_loader = DataLoader(test_dataset, batch_size=batch_size, shuffle=False, num_workers=2)\n",
        "\n",
        "# Step 7: Initialize Model\n",
        "model = ViTMultiClassClassifier().to(device)\n",
        "\n",
        "# Step 8: Loss and Optimizer (3-class compatible)\n",
        "criterion = nn.CrossEntropyLoss()  # Changed from BCELoss\n",
        "optimizer = torch.optim.Adam(model.parameters(), lr=1e-3)"
      ],
      "metadata": {
        "colab": {
          "base_uri": "https://localhost:8080/"
        },
        "id": "c1zarblrwN4J",
        "outputId": "b33d8904-74bf-4328-d259-57f08032e4f3"
      },
      "execution_count": null,
      "outputs": [
        {
          "output_type": "stream",
          "name": "stdout",
          "text": [
            "Data verification:\n",
            "Train labels: [0 1 2]\n",
            "Val labels: [0 1 2]\n",
            "Test labels: [0 1 2]\n"
          ]
        }
      ]
    },
    {
      "cell_type": "code",
      "source": [
        "import time\n",
        "from tqdm import tqdm\n",
        "import torch.optim.lr_scheduler as lr_scheduler\n",
        "\n",
        "# Modified training loop for 3-class classification\n",
        "num_epochs = 500\n",
        "best_val_loss = float('inf')\n",
        "patience = 20\n",
        "epochs_no_improve = 0\n",
        "early_stop = False\n",
        "history = {'train_loss': [], 'val_loss': [], 'val_acc': [], 'lr': []}\n",
        "\n",
        "# Initialize optimizer and scheduler\n",
        "optimizer = torch.optim.Adam(model.parameters(), lr=1e-3, weight_decay=1e-4)\n",
        "scheduler = lr_scheduler.ReduceLROnPlateau(\n",
        "    optimizer,\n",
        "    mode='min',\n",
        "    factor=0.1,\n",
        "    patience=5,\n",
        "    verbose=True\n",
        ")\n",
        "\n",
        "print(f\"\\n{'='*50}\")\n",
        "print(f\"Starting training with early stopping (patience={patience})\")\n",
        "print(f\"and learning rate scheduling (ReduceLROnPlateau)\")\n",
        "print(f\"{'='*50}\\n\")\n",
        "\n",
        "for epoch in range(num_epochs):\n",
        "    if early_stop:\n",
        "        print(f\"[!] Early stopping triggered at epoch {epoch+1}\")\n",
        "        break\n",
        "\n",
        "    epoch_start = time.time()\n",
        "\n",
        "    # Training phase\n",
        "    model.train()\n",
        "    train_loss = 0.0\n",
        "    train_batches = 0\n",
        "\n",
        "    with tqdm(train_loader, unit=\"batch\", desc=f\"Epoch {epoch+1:3d}/{num_epochs} [Train]\") as pbar:\n",
        "        for images, labels in pbar:\n",
        "            images, labels = images.to(device), labels.to(device)\n",
        "\n",
        "            optimizer.zero_grad()\n",
        "            outputs = model(images)  # Shape: [batch_size, 3]\n",
        "            loss = criterion(outputs, labels)\n",
        "            loss.backward()\n",
        "            optimizer.step()\n",
        "\n",
        "            train_loss += loss.item() * images.size(0)\n",
        "            train_batches += 1\n",
        "\n",
        "            pbar.set_postfix({\n",
        "                'Loss': f\"{loss.item():.4f}\",\n",
        "                'AvgLoss': f\"{(train_loss/(train_batches*images.size(0))):.4f}\"\n",
        "            })\n",
        "\n",
        "    # Validation phase\n",
        "    model.eval()\n",
        "    val_loss = 0.0\n",
        "    correct = 0\n",
        "    total = 0\n",
        "\n",
        "    with tqdm(val_loader, unit=\"batch\", desc=f\"Epoch {epoch+1:3d}/{num_epochs} [Val]  \") as pbar:\n",
        "        with torch.no_grad():\n",
        "            for images, labels in pbar:\n",
        "                images, labels = images.to(device), labels.to(device)\n",
        "                outputs = model(images)\n",
        "                loss = criterion(outputs, labels)\n",
        "\n",
        "                val_loss += loss.item() * images.size(0)\n",
        "                _, predicted = torch.max(outputs.data, 1)  # Get class indices\n",
        "                correct += (predicted == labels).sum().item()\n",
        "                total += labels.size(0)\n",
        "\n",
        "                pbar.set_postfix({\n",
        "                    'Loss': f\"{loss.item():.4f}\",\n",
        "                    'Acc': f\"{(correct/total):.4f}\"\n",
        "                })\n",
        "\n",
        "    # Calculate metrics\n",
        "    epoch_train_loss = train_loss / len(train_dataset)\n",
        "    epoch_val_loss = val_loss / len(val_dataset)\n",
        "    val_acc = correct / total\n",
        "    current_lr = optimizer.param_groups[0]['lr']\n",
        "\n",
        "    # Update learning rate\n",
        "    scheduler.step(epoch_val_loss)\n",
        "\n",
        "    # Store history\n",
        "    history['train_loss'].append(epoch_train_loss)\n",
        "    history['val_loss'].append(epoch_val_loss)\n",
        "    history['val_acc'].append(val_acc)\n",
        "    history['lr'].append(current_lr)\n",
        "\n",
        "    # Early stopping logic\n",
        "    if epoch_val_loss < best_val_loss:\n",
        "        best_val_loss = epoch_val_loss\n",
        "        epochs_no_improve = 0\n",
        "        torch.save(model.state_dict(), 'best_model.pth')\n",
        "        improvement_msg = f\"(▼ {best_val_loss - epoch_val_loss:.4f})\"\n",
        "    else:\n",
        "        epochs_no_improve += 1\n",
        "        improvement_msg = f\"(▲ {epoch_val_loss - best_val_loss:.4f}) [Patience left: {patience - epochs_no_improve}]\"\n",
        "        if epochs_no_improve >= patience:\n",
        "            early_stop = True\n",
        "\n",
        "    # Calculate epoch duration\n",
        "    epoch_time = time.time() - epoch_start\n",
        "    time_remaining = (epoch_time * (num_epochs - epoch - 1)) / 3600 if not early_stop else 0\n",
        "\n",
        "    # Detailed epoch report\n",
        "    print(f\"\\nEpoch {epoch+1:3d}/{num_epochs} | Duration: {epoch_time:.1f}s | Remaining: ~{time_remaining:.1f}h\")\n",
        "    print(f\"Train Loss: {epoch_train_loss:.4f}\")\n",
        "    print(f\"Val Loss:   {epoch_val_loss:.4f} {improvement_msg}\")\n",
        "    print(f\"Val Acc:    {val_acc:.4f}\")\n",
        "    print(f\"Learning Rate: {current_lr:.2e}\")\n",
        "    print(f\"-\"*60)\n",
        "\n",
        "# Load best model for testing\n",
        "model.load_state_dict(torch.load('best_model.pth'))\n",
        "print(\"\\nLoaded best model weights for final testing\")\n",
        "\n",
        "# Final evaluation\n",
        "model.eval()\n",
        "test_correct = 0\n",
        "test_total = 0\n",
        "test_loss = 0.0\n",
        "\n",
        "with tqdm(test_loader, unit=\"batch\", desc=\"Final Testing\") as pbar:\n",
        "    with torch.no_grad():\n",
        "        for images, labels in pbar:\n",
        "            images, labels = images.to(device), labels.to(device)\n",
        "            outputs = model(images)\n",
        "            loss = criterion(outputs, labels)\n",
        "\n",
        "            test_loss += loss.item() * images.size(0)\n",
        "            _, predicted = torch.max(outputs.data, 1)\n",
        "            test_correct += (predicted == labels).sum().item()\n",
        "            test_total += labels.size(0)\n",
        "\n",
        "            pbar.set_postfix({\n",
        "                'Loss': f\"{loss.item():.4f}\",\n",
        "                'Acc': f\"{(test_correct/test_total):.4f}\"\n",
        "            })\n",
        "\n",
        "print(f\"\\n{'='*50}\")\n",
        "print(f\"Final Test Results:\")\n",
        "print(f\"Loss: {test_loss/len(test_dataset):.4f}\")\n",
        "print(f\"Accuracy: {test_correct/test_total:.4f}\")\n",
        "print(f\"{'='*50}\")"
      ],
      "metadata": {
        "colab": {
          "base_uri": "https://localhost:8080/"
        },
        "id": "UiRQk2cqwPcD",
        "outputId": "4a199161-75cc-4f6f-ef62-cc7d9961f471"
      },
      "execution_count": null,
      "outputs": [
        {
          "output_type": "stream",
          "name": "stdout",
          "text": [
            "\n",
            "==================================================\n",
            "Starting training with early stopping (patience=20)\n",
            "and learning rate scheduling (ReduceLROnPlateau)\n",
            "==================================================\n",
            "\n"
          ]
        },
        {
          "output_type": "stream",
          "name": "stderr",
          "text": [
            "Epoch   1/500 [Train]: 100%|██████████| 44/44 [01:07<00:00,  1.54s/batch, Loss=0.8945, AvgLoss=1.0168]\n",
            "Epoch   1/500 [Val]  : 100%|██████████| 5/5 [00:07<00:00,  1.53s/batch, Loss=0.6616, Acc=0.6026]\n"
          ]
        },
        {
          "output_type": "stream",
          "name": "stdout",
          "text": [
            "\n",
            "Epoch   1/500 | Duration: 76.4s | Remaining: ~10.6h\n",
            "Train Loss: 0.7984\n",
            "Val Loss:   0.7688 (▼ 0.0000)\n",
            "Val Acc:    0.6026\n",
            "Learning Rate: 1.00e-03\n",
            "------------------------------------------------------------\n"
          ]
        },
        {
          "output_type": "stream",
          "name": "stderr",
          "text": [
            "Epoch   2/500 [Train]: 100%|██████████| 44/44 [01:06<00:00,  1.50s/batch, Loss=0.6329, AvgLoss=0.8082]\n",
            "Epoch   2/500 [Val]  : 100%|██████████| 5/5 [00:07<00:00,  1.52s/batch, Loss=0.5873, Acc=0.6923]\n"
          ]
        },
        {
          "output_type": "stream",
          "name": "stdout",
          "text": [
            "\n",
            "Epoch   2/500 | Duration: 74.8s | Remaining: ~10.4h\n",
            "Train Loss: 0.6346\n",
            "Val Loss:   0.7355 (▼ 0.0000)\n",
            "Val Acc:    0.6923\n",
            "Learning Rate: 1.00e-03\n",
            "------------------------------------------------------------\n"
          ]
        },
        {
          "output_type": "stream",
          "name": "stderr",
          "text": [
            "Epoch   3/500 [Train]: 100%|██████████| 44/44 [01:05<00:00,  1.49s/batch, Loss=0.7651, AvgLoss=0.7536]\n",
            "Epoch   3/500 [Val]  : 100%|██████████| 5/5 [00:07<00:00,  1.50s/batch, Loss=0.5642, Acc=0.6474]\n"
          ]
        },
        {
          "output_type": "stream",
          "name": "stdout",
          "text": [
            "\n",
            "Epoch   3/500 | Duration: 74.5s | Remaining: ~10.3h\n",
            "Train Loss: 0.5917\n",
            "Val Loss:   0.7113 (▼ 0.0000)\n",
            "Val Acc:    0.6474\n",
            "Learning Rate: 1.00e-03\n",
            "------------------------------------------------------------\n"
          ]
        },
        {
          "output_type": "stream",
          "name": "stderr",
          "text": [
            "Epoch   4/500 [Train]: 100%|██████████| 44/44 [01:05<00:00,  1.49s/batch, Loss=0.5369, AvgLoss=0.7092]\n",
            "Epoch   4/500 [Val]  : 100%|██████████| 5/5 [00:07<00:00,  1.50s/batch, Loss=0.5180, Acc=0.6731]\n"
          ]
        },
        {
          "output_type": "stream",
          "name": "stdout",
          "text": [
            "\n",
            "Epoch   4/500 | Duration: 74.3s | Remaining: ~10.2h\n",
            "Train Loss: 0.5568\n",
            "Val Loss:   0.7072 (▼ 0.0000)\n",
            "Val Acc:    0.6731\n",
            "Learning Rate: 1.00e-03\n",
            "------------------------------------------------------------\n"
          ]
        },
        {
          "output_type": "stream",
          "name": "stderr",
          "text": [
            "Epoch   5/500 [Train]: 100%|██████████| 44/44 [01:05<00:00,  1.49s/batch, Loss=0.7798, AvgLoss=0.6668]\n",
            "Epoch   5/500 [Val]  : 100%|██████████| 5/5 [00:07<00:00,  1.53s/batch, Loss=0.5018, Acc=0.7115]\n"
          ]
        },
        {
          "output_type": "stream",
          "name": "stdout",
          "text": [
            "\n",
            "Epoch   5/500 | Duration: 74.2s | Remaining: ~10.2h\n",
            "Train Loss: 0.5236\n",
            "Val Loss:   0.6926 (▼ 0.0000)\n",
            "Val Acc:    0.7115\n",
            "Learning Rate: 1.00e-03\n",
            "------------------------------------------------------------\n"
          ]
        },
        {
          "output_type": "stream",
          "name": "stderr",
          "text": [
            "Epoch   6/500 [Train]: 100%|██████████| 44/44 [01:05<00:00,  1.49s/batch, Loss=0.5550, AvgLoss=0.6485]\n",
            "Epoch   6/500 [Val]  : 100%|██████████| 5/5 [00:07<00:00,  1.53s/batch, Loss=0.4910, Acc=0.7051]\n"
          ]
        },
        {
          "output_type": "stream",
          "name": "stdout",
          "text": [
            "\n",
            "Epoch   6/500 | Duration: 74.2s | Remaining: ~10.2h\n",
            "Train Loss: 0.5092\n",
            "Val Loss:   0.6895 (▼ 0.0000)\n",
            "Val Acc:    0.7051\n",
            "Learning Rate: 1.00e-03\n",
            "------------------------------------------------------------\n"
          ]
        },
        {
          "output_type": "stream",
          "name": "stderr",
          "text": [
            "Epoch   7/500 [Train]: 100%|██████████| 44/44 [01:05<00:00,  1.50s/batch, Loss=0.6307, AvgLoss=0.6270]\n",
            "Epoch   7/500 [Val]  : 100%|██████████| 5/5 [00:07<00:00,  1.52s/batch, Loss=0.4829, Acc=0.6987]\n"
          ]
        },
        {
          "output_type": "stream",
          "name": "stdout",
          "text": [
            "\n",
            "Epoch   7/500 | Duration: 74.7s | Remaining: ~10.2h\n",
            "Train Loss: 0.4923\n",
            "Val Loss:   0.6867 (▼ 0.0000)\n",
            "Val Acc:    0.6987\n",
            "Learning Rate: 1.00e-03\n",
            "------------------------------------------------------------\n"
          ]
        },
        {
          "output_type": "stream",
          "name": "stderr",
          "text": [
            "Epoch   8/500 [Train]: 100%|██████████| 44/44 [01:05<00:00,  1.50s/batch, Loss=0.3237, AvgLoss=0.6045]\n",
            "Epoch   8/500 [Val]  : 100%|██████████| 5/5 [00:07<00:00,  1.52s/batch, Loss=0.4965, Acc=0.6667]\n"
          ]
        },
        {
          "output_type": "stream",
          "name": "stdout",
          "text": [
            "\n",
            "Epoch   8/500 | Duration: 74.4s | Remaining: ~10.2h\n",
            "Train Loss: 0.4747\n",
            "Val Loss:   0.6766 (▼ 0.0000)\n",
            "Val Acc:    0.6667\n",
            "Learning Rate: 1.00e-03\n",
            "------------------------------------------------------------\n"
          ]
        },
        {
          "output_type": "stream",
          "name": "stderr",
          "text": [
            "Epoch   9/500 [Train]: 100%|██████████| 44/44 [01:05<00:00,  1.50s/batch, Loss=0.4459, AvgLoss=0.5906]\n",
            "Epoch   9/500 [Val]  : 100%|██████████| 5/5 [00:07<00:00,  1.56s/batch, Loss=0.4609, Acc=0.7115]\n"
          ]
        },
        {
          "output_type": "stream",
          "name": "stdout",
          "text": [
            "\n",
            "Epoch   9/500 | Duration: 74.6s | Remaining: ~10.2h\n",
            "Train Loss: 0.4637\n",
            "Val Loss:   0.6532 (▼ 0.0000)\n",
            "Val Acc:    0.7115\n",
            "Learning Rate: 1.00e-03\n",
            "------------------------------------------------------------\n"
          ]
        },
        {
          "output_type": "stream",
          "name": "stderr",
          "text": [
            "Epoch  10/500 [Train]: 100%|██████████| 44/44 [01:05<00:00,  1.50s/batch, Loss=0.5272, AvgLoss=0.5690]\n",
            "Epoch  10/500 [Val]  : 100%|██████████| 5/5 [00:07<00:00,  1.53s/batch, Loss=0.4749, Acc=0.6795]\n"
          ]
        },
        {
          "output_type": "stream",
          "name": "stdout",
          "text": [
            "\n",
            "Epoch  10/500 | Duration: 73.5s | Remaining: ~10.0h\n",
            "Train Loss: 0.4467\n",
            "Val Loss:   0.6657 (▲ 0.0125) [Patience left: 19]\n",
            "Val Acc:    0.6795\n",
            "Learning Rate: 1.00e-03\n",
            "------------------------------------------------------------\n"
          ]
        },
        {
          "output_type": "stream",
          "name": "stderr",
          "text": [
            "Epoch  11/500 [Train]: 100%|██████████| 44/44 [01:05<00:00,  1.49s/batch, Loss=0.4196, AvgLoss=0.5596]\n",
            "Epoch  11/500 [Val]  : 100%|██████████| 5/5 [00:07<00:00,  1.51s/batch, Loss=0.4491, Acc=0.7115]\n"
          ]
        },
        {
          "output_type": "stream",
          "name": "stdout",
          "text": [
            "\n",
            "Epoch  11/500 | Duration: 73.1s | Remaining: ~9.9h\n",
            "Train Loss: 0.4394\n",
            "Val Loss:   0.6631 (▲ 0.0099) [Patience left: 18]\n",
            "Val Acc:    0.7115\n",
            "Learning Rate: 1.00e-03\n",
            "------------------------------------------------------------\n"
          ]
        },
        {
          "output_type": "stream",
          "name": "stderr",
          "text": [
            "Epoch  12/500 [Train]: 100%|██████████| 44/44 [01:05<00:00,  1.50s/batch, Loss=0.5088, AvgLoss=0.5513]\n",
            "Epoch  12/500 [Val]  : 100%|██████████| 5/5 [00:07<00:00,  1.54s/batch, Loss=0.4591, Acc=0.7308]\n"
          ]
        },
        {
          "output_type": "stream",
          "name": "stdout",
          "text": [
            "\n",
            "Epoch  12/500 | Duration: 76.3s | Remaining: ~10.3h\n",
            "Train Loss: 0.4328\n",
            "Val Loss:   0.6507 (▼ 0.0000)\n",
            "Val Acc:    0.7308\n",
            "Learning Rate: 1.00e-03\n",
            "------------------------------------------------------------\n"
          ]
        },
        {
          "output_type": "stream",
          "name": "stderr",
          "text": [
            "Epoch  13/500 [Train]: 100%|██████████| 44/44 [01:05<00:00,  1.49s/batch, Loss=0.5240, AvgLoss=0.5350]\n",
            "Epoch  13/500 [Val]  : 100%|██████████| 5/5 [00:07<00:00,  1.51s/batch, Loss=0.4350, Acc=0.7179]\n"
          ]
        },
        {
          "output_type": "stream",
          "name": "stdout",
          "text": [
            "\n",
            "Epoch  13/500 | Duration: 73.3s | Remaining: ~9.9h\n",
            "Train Loss: 0.4200\n",
            "Val Loss:   0.6564 (▲ 0.0056) [Patience left: 19]\n",
            "Val Acc:    0.7179\n",
            "Learning Rate: 1.00e-03\n",
            "------------------------------------------------------------\n"
          ]
        },
        {
          "output_type": "stream",
          "name": "stderr",
          "text": [
            "Epoch  14/500 [Train]: 100%|██████████| 44/44 [01:05<00:00,  1.49s/batch, Loss=0.3673, AvgLoss=0.5207]\n",
            "Epoch  14/500 [Val]  : 100%|██████████| 5/5 [00:07<00:00,  1.53s/batch, Loss=0.4253, Acc=0.7244]\n"
          ]
        },
        {
          "output_type": "stream",
          "name": "stdout",
          "text": [
            "\n",
            "Epoch  14/500 | Duration: 74.6s | Remaining: ~10.1h\n",
            "Train Loss: 0.4088\n",
            "Val Loss:   0.6484 (▼ 0.0000)\n",
            "Val Acc:    0.7244\n",
            "Learning Rate: 1.00e-03\n",
            "------------------------------------------------------------\n"
          ]
        },
        {
          "output_type": "stream",
          "name": "stderr",
          "text": [
            "Epoch  15/500 [Train]: 100%|██████████| 44/44 [01:05<00:00,  1.50s/batch, Loss=0.3287, AvgLoss=0.5205]\n",
            "Epoch  15/500 [Val]  : 100%|██████████| 5/5 [00:07<00:00,  1.53s/batch, Loss=0.4248, Acc=0.7051]\n"
          ]
        },
        {
          "output_type": "stream",
          "name": "stdout",
          "text": [
            "\n",
            "Epoch  15/500 | Duration: 73.5s | Remaining: ~9.9h\n",
            "Train Loss: 0.4087\n",
            "Val Loss:   0.6764 (▲ 0.0280) [Patience left: 19]\n",
            "Val Acc:    0.7051\n",
            "Learning Rate: 1.00e-03\n",
            "------------------------------------------------------------\n"
          ]
        },
        {
          "output_type": "stream",
          "name": "stderr",
          "text": [
            "Epoch  16/500 [Train]: 100%|██████████| 44/44 [01:05<00:00,  1.50s/batch, Loss=0.3519, AvgLoss=0.5072]\n",
            "Epoch  16/500 [Val]  : 100%|██████████| 5/5 [00:07<00:00,  1.52s/batch, Loss=0.4119, Acc=0.7244]\n"
          ]
        },
        {
          "output_type": "stream",
          "name": "stdout",
          "text": [
            "\n",
            "Epoch  16/500 | Duration: 73.5s | Remaining: ~9.9h\n",
            "Train Loss: 0.3982\n",
            "Val Loss:   0.6525 (▲ 0.0041) [Patience left: 18]\n",
            "Val Acc:    0.7244\n",
            "Learning Rate: 1.00e-03\n",
            "------------------------------------------------------------\n"
          ]
        },
        {
          "output_type": "stream",
          "name": "stderr",
          "text": [
            "Epoch  17/500 [Train]: 100%|██████████| 44/44 [01:05<00:00,  1.49s/batch, Loss=0.4207, AvgLoss=0.4920]\n",
            "Epoch  17/500 [Val]  : 100%|██████████| 5/5 [00:07<00:00,  1.53s/batch, Loss=0.4230, Acc=0.7115]\n"
          ]
        },
        {
          "output_type": "stream",
          "name": "stdout",
          "text": [
            "\n",
            "Epoch  17/500 | Duration: 74.6s | Remaining: ~10.0h\n",
            "Train Loss: 0.3863\n",
            "Val Loss:   0.6429 (▼ 0.0000)\n",
            "Val Acc:    0.7115\n",
            "Learning Rate: 1.00e-03\n",
            "------------------------------------------------------------\n"
          ]
        },
        {
          "output_type": "stream",
          "name": "stderr",
          "text": [
            "Epoch  18/500 [Train]: 100%|██████████| 44/44 [01:05<00:00,  1.50s/batch, Loss=0.3766, AvgLoss=0.4911]\n",
            "Epoch  18/500 [Val]  : 100%|██████████| 5/5 [00:07<00:00,  1.53s/batch, Loss=0.4088, Acc=0.7372]\n"
          ]
        },
        {
          "output_type": "stream",
          "name": "stdout",
          "text": [
            "\n",
            "Epoch  18/500 | Duration: 74.6s | Remaining: ~10.0h\n",
            "Train Loss: 0.3856\n",
            "Val Loss:   0.6288 (▼ 0.0000)\n",
            "Val Acc:    0.7372\n",
            "Learning Rate: 1.00e-03\n",
            "------------------------------------------------------------\n"
          ]
        },
        {
          "output_type": "stream",
          "name": "stderr",
          "text": [
            "Epoch  19/500 [Train]: 100%|██████████| 44/44 [01:05<00:00,  1.50s/batch, Loss=0.2688, AvgLoss=0.4778]\n",
            "Epoch  19/500 [Val]  : 100%|██████████| 5/5 [00:07<00:00,  1.53s/batch, Loss=0.4137, Acc=0.7244]\n"
          ]
        },
        {
          "output_type": "stream",
          "name": "stdout",
          "text": [
            "\n",
            "Epoch  19/500 | Duration: 73.5s | Remaining: ~9.8h\n",
            "Train Loss: 0.3751\n",
            "Val Loss:   0.6389 (▲ 0.0102) [Patience left: 19]\n",
            "Val Acc:    0.7244\n",
            "Learning Rate: 1.00e-03\n",
            "------------------------------------------------------------\n"
          ]
        },
        {
          "output_type": "stream",
          "name": "stderr",
          "text": [
            "Epoch  20/500 [Train]: 100%|██████████| 44/44 [01:05<00:00,  1.49s/batch, Loss=0.3181, AvgLoss=0.4772]\n",
            "Epoch  20/500 [Val]  : 100%|██████████| 5/5 [00:07<00:00,  1.52s/batch, Loss=0.3992, Acc=0.7436]\n"
          ]
        },
        {
          "output_type": "stream",
          "name": "stdout",
          "text": [
            "\n",
            "Epoch  20/500 | Duration: 73.1s | Remaining: ~9.7h\n",
            "Train Loss: 0.3747\n",
            "Val Loss:   0.6344 (▲ 0.0057) [Patience left: 18]\n",
            "Val Acc:    0.7436\n",
            "Learning Rate: 1.00e-03\n",
            "------------------------------------------------------------\n"
          ]
        },
        {
          "output_type": "stream",
          "name": "stderr",
          "text": [
            "Epoch  21/500 [Train]: 100%|██████████| 44/44 [01:05<00:00,  1.50s/batch, Loss=0.4647, AvgLoss=0.4671]\n",
            "Epoch  21/500 [Val]  : 100%|██████████| 5/5 [00:07<00:00,  1.52s/batch, Loss=0.4058, Acc=0.7564]\n"
          ]
        },
        {
          "output_type": "stream",
          "name": "stdout",
          "text": [
            "\n",
            "Epoch  21/500 | Duration: 77.7s | Remaining: ~10.3h\n",
            "Train Loss: 0.3668\n",
            "Val Loss:   0.6246 (▼ 0.0000)\n",
            "Val Acc:    0.7564\n",
            "Learning Rate: 1.00e-03\n",
            "------------------------------------------------------------\n"
          ]
        },
        {
          "output_type": "stream",
          "name": "stderr",
          "text": [
            "Epoch  22/500 [Train]: 100%|██████████| 44/44 [01:06<00:00,  1.50s/batch, Loss=0.3896, AvgLoss=0.4599]\n",
            "Epoch  22/500 [Val]  : 100%|██████████| 5/5 [00:07<00:00,  1.51s/batch, Loss=0.3911, Acc=0.7628]\n"
          ]
        },
        {
          "output_type": "stream",
          "name": "stdout",
          "text": [
            "\n",
            "Epoch  22/500 | Duration: 73.6s | Remaining: ~9.8h\n",
            "Train Loss: 0.3611\n",
            "Val Loss:   0.6369 (▲ 0.0123) [Patience left: 19]\n",
            "Val Acc:    0.7628\n",
            "Learning Rate: 1.00e-03\n",
            "------------------------------------------------------------\n"
          ]
        },
        {
          "output_type": "stream",
          "name": "stderr",
          "text": [
            "Epoch  23/500 [Train]: 100%|██████████| 44/44 [01:05<00:00,  1.50s/batch, Loss=0.3509, AvgLoss=0.4514]\n",
            "Epoch  23/500 [Val]  : 100%|██████████| 5/5 [00:07<00:00,  1.53s/batch, Loss=0.4130, Acc=0.7500]\n"
          ]
        },
        {
          "output_type": "stream",
          "name": "stdout",
          "text": [
            "\n",
            "Epoch  23/500 | Duration: 73.5s | Remaining: ~9.7h\n",
            "Train Loss: 0.3544\n",
            "Val Loss:   0.6307 (▲ 0.0061) [Patience left: 18]\n",
            "Val Acc:    0.7500\n",
            "Learning Rate: 1.00e-03\n",
            "------------------------------------------------------------\n"
          ]
        },
        {
          "output_type": "stream",
          "name": "stderr",
          "text": [
            "Epoch  24/500 [Train]: 100%|██████████| 44/44 [01:05<00:00,  1.49s/batch, Loss=0.4418, AvgLoss=0.4408]\n",
            "Epoch  24/500 [Val]  : 100%|██████████| 5/5 [00:07<00:00,  1.53s/batch, Loss=0.3926, Acc=0.7564]\n"
          ]
        },
        {
          "output_type": "stream",
          "name": "stdout",
          "text": [
            "\n",
            "Epoch  24/500 | Duration: 73.1s | Remaining: ~9.7h\n",
            "Train Loss: 0.3461\n",
            "Val Loss:   0.6406 (▲ 0.0160) [Patience left: 17]\n",
            "Val Acc:    0.7564\n",
            "Learning Rate: 1.00e-03\n",
            "------------------------------------------------------------\n"
          ]
        },
        {
          "output_type": "stream",
          "name": "stderr",
          "text": [
            "Epoch  25/500 [Train]: 100%|██████████| 44/44 [01:05<00:00,  1.49s/batch, Loss=0.4088, AvgLoss=0.4410]\n",
            "Epoch  25/500 [Val]  : 100%|██████████| 5/5 [00:07<00:00,  1.52s/batch, Loss=0.4020, Acc=0.7628]\n"
          ]
        },
        {
          "output_type": "stream",
          "name": "stdout",
          "text": [
            "\n",
            "Epoch  25/500 | Duration: 73.4s | Remaining: ~9.7h\n",
            "Train Loss: 0.3462\n",
            "Val Loss:   0.6334 (▲ 0.0089) [Patience left: 16]\n",
            "Val Acc:    0.7628\n",
            "Learning Rate: 1.00e-03\n",
            "------------------------------------------------------------\n"
          ]
        },
        {
          "output_type": "stream",
          "name": "stderr",
          "text": [
            "Epoch  26/500 [Train]: 100%|██████████| 44/44 [01:05<00:00,  1.49s/batch, Loss=0.2941, AvgLoss=0.4311]\n",
            "Epoch  26/500 [Val]  : 100%|██████████| 5/5 [00:07<00:00,  1.53s/batch, Loss=0.3914, Acc=0.7244]\n"
          ]
        },
        {
          "output_type": "stream",
          "name": "stdout",
          "text": [
            "\n",
            "Epoch  26/500 | Duration: 73.2s | Remaining: ~9.6h\n",
            "Train Loss: 0.3385\n",
            "Val Loss:   0.6542 (▲ 0.0296) [Patience left: 15]\n",
            "Val Acc:    0.7244\n",
            "Learning Rate: 1.00e-03\n",
            "------------------------------------------------------------\n"
          ]
        },
        {
          "output_type": "stream",
          "name": "stderr",
          "text": [
            "Epoch  27/500 [Train]: 100%|██████████| 44/44 [01:05<00:00,  1.50s/batch, Loss=0.3707, AvgLoss=0.4251]\n",
            "Epoch  27/500 [Val]  : 100%|██████████| 5/5 [00:07<00:00,  1.53s/batch, Loss=0.3838, Acc=0.7628]\n"
          ]
        },
        {
          "output_type": "stream",
          "name": "stdout",
          "text": [
            "\n",
            "Epoch  27/500 | Duration: 73.5s | Remaining: ~9.7h\n",
            "Train Loss: 0.3337\n",
            "Val Loss:   0.6271 (▲ 0.0026) [Patience left: 14]\n",
            "Val Acc:    0.7628\n",
            "Learning Rate: 1.00e-03\n",
            "------------------------------------------------------------\n"
          ]
        },
        {
          "output_type": "stream",
          "name": "stderr",
          "text": [
            "Epoch  28/500 [Train]: 100%|██████████| 44/44 [01:05<00:00,  1.50s/batch, Loss=0.3970, AvgLoss=0.4122]\n",
            "Epoch  28/500 [Val]  : 100%|██████████| 5/5 [00:07<00:00,  1.53s/batch, Loss=0.3842, Acc=0.7628]\n"
          ]
        },
        {
          "output_type": "stream",
          "name": "stdout",
          "text": [
            "\n",
            "Epoch  28/500 | Duration: 73.6s | Remaining: ~9.7h\n",
            "Train Loss: 0.3236\n",
            "Val Loss:   0.6284 (▲ 0.0038) [Patience left: 13]\n",
            "Val Acc:    0.7628\n",
            "Learning Rate: 1.00e-04\n",
            "------------------------------------------------------------\n"
          ]
        },
        {
          "output_type": "stream",
          "name": "stderr",
          "text": [
            "Epoch  29/500 [Train]: 100%|██████████| 44/44 [01:05<00:00,  1.50s/batch, Loss=0.3452, AvgLoss=0.4101]\n",
            "Epoch  29/500 [Val]  : 100%|██████████| 5/5 [00:07<00:00,  1.54s/batch, Loss=0.3844, Acc=0.7564]\n"
          ]
        },
        {
          "output_type": "stream",
          "name": "stdout",
          "text": [
            "\n",
            "Epoch  29/500 | Duration: 73.7s | Remaining: ~9.6h\n",
            "Train Loss: 0.3220\n",
            "Val Loss:   0.6310 (▲ 0.0064) [Patience left: 12]\n",
            "Val Acc:    0.7564\n",
            "Learning Rate: 1.00e-04\n",
            "------------------------------------------------------------\n"
          ]
        },
        {
          "output_type": "stream",
          "name": "stderr",
          "text": [
            "Epoch  30/500 [Train]: 100%|██████████| 44/44 [01:05<00:00,  1.50s/batch, Loss=0.3499, AvgLoss=0.4092]\n",
            "Epoch  30/500 [Val]  : 100%|██████████| 5/5 [00:07<00:00,  1.52s/batch, Loss=0.3824, Acc=0.7628]\n"
          ]
        },
        {
          "output_type": "stream",
          "name": "stdout",
          "text": [
            "\n",
            "Epoch  30/500 | Duration: 73.5s | Remaining: ~9.6h\n",
            "Train Loss: 0.3213\n",
            "Val Loss:   0.6266 (▲ 0.0021) [Patience left: 11]\n",
            "Val Acc:    0.7628\n",
            "Learning Rate: 1.00e-04\n",
            "------------------------------------------------------------\n"
          ]
        },
        {
          "output_type": "stream",
          "name": "stderr",
          "text": [
            "Epoch  31/500 [Train]: 100%|██████████| 44/44 [01:05<00:00,  1.50s/batch, Loss=0.3442, AvgLoss=0.4092]\n",
            "Epoch  31/500 [Val]  : 100%|██████████| 5/5 [00:07<00:00,  1.54s/batch, Loss=0.3823, Acc=0.7564]\n"
          ]
        },
        {
          "output_type": "stream",
          "name": "stdout",
          "text": [
            "\n",
            "Epoch  31/500 | Duration: 73.6s | Remaining: ~9.6h\n",
            "Train Loss: 0.3212\n",
            "Val Loss:   0.6299 (▲ 0.0053) [Patience left: 10]\n",
            "Val Acc:    0.7564\n",
            "Learning Rate: 1.00e-04\n",
            "------------------------------------------------------------\n"
          ]
        },
        {
          "output_type": "stream",
          "name": "stderr",
          "text": [
            "Epoch  32/500 [Train]: 100%|██████████| 44/44 [01:05<00:00,  1.49s/batch, Loss=0.4122, AvgLoss=0.4083]\n",
            "Epoch  32/500 [Val]  : 100%|██████████| 5/5 [00:07<00:00,  1.53s/batch, Loss=0.3826, Acc=0.7628]\n"
          ]
        },
        {
          "output_type": "stream",
          "name": "stdout",
          "text": [
            "\n",
            "Epoch  32/500 | Duration: 73.4s | Remaining: ~9.5h\n",
            "Train Loss: 0.3206\n",
            "Val Loss:   0.6272 (▲ 0.0026) [Patience left: 9]\n",
            "Val Acc:    0.7628\n",
            "Learning Rate: 1.00e-04\n",
            "------------------------------------------------------------\n"
          ]
        },
        {
          "output_type": "stream",
          "name": "stderr",
          "text": [
            "Epoch  33/500 [Train]: 100%|██████████| 44/44 [01:05<00:00,  1.50s/batch, Loss=0.4015, AvgLoss=0.4080]\n",
            "Epoch  33/500 [Val]  : 100%|██████████| 5/5 [00:07<00:00,  1.52s/batch, Loss=0.3850, Acc=0.7628]\n"
          ]
        },
        {
          "output_type": "stream",
          "name": "stdout",
          "text": [
            "\n",
            "Epoch  33/500 | Duration: 73.5s | Remaining: ~9.5h\n",
            "Train Loss: 0.3203\n",
            "Val Loss:   0.6258 (▲ 0.0012) [Patience left: 8]\n",
            "Val Acc:    0.7628\n",
            "Learning Rate: 1.00e-04\n",
            "------------------------------------------------------------\n"
          ]
        },
        {
          "output_type": "stream",
          "name": "stderr",
          "text": [
            "Epoch  34/500 [Train]: 100%|██████████| 44/44 [01:05<00:00,  1.50s/batch, Loss=0.3329, AvgLoss=0.4061]\n",
            "Epoch  34/500 [Val]  : 100%|██████████| 5/5 [00:07<00:00,  1.54s/batch, Loss=0.3846, Acc=0.7628]\n"
          ]
        },
        {
          "output_type": "stream",
          "name": "stdout",
          "text": [
            "\n",
            "Epoch  34/500 | Duration: 73.6s | Remaining: ~9.5h\n",
            "Train Loss: 0.3188\n",
            "Val Loss:   0.6263 (▲ 0.0017) [Patience left: 7]\n",
            "Val Acc:    0.7628\n",
            "Learning Rate: 1.00e-05\n",
            "------------------------------------------------------------\n"
          ]
        },
        {
          "output_type": "stream",
          "name": "stderr",
          "text": [
            "Epoch  35/500 [Train]: 100%|██████████| 44/44 [01:05<00:00,  1.50s/batch, Loss=0.2551, AvgLoss=0.4059]\n",
            "Epoch  35/500 [Val]  : 100%|██████████| 5/5 [00:07<00:00,  1.53s/batch, Loss=0.3842, Acc=0.7628]\n"
          ]
        },
        {
          "output_type": "stream",
          "name": "stdout",
          "text": [
            "\n",
            "Epoch  35/500 | Duration: 73.6s | Remaining: ~9.5h\n",
            "Train Loss: 0.3187\n",
            "Val Loss:   0.6264 (▲ 0.0018) [Patience left: 6]\n",
            "Val Acc:    0.7628\n",
            "Learning Rate: 1.00e-05\n",
            "------------------------------------------------------------\n"
          ]
        },
        {
          "output_type": "stream",
          "name": "stderr",
          "text": [
            "Epoch  36/500 [Train]: 100%|██████████| 44/44 [01:05<00:00,  1.49s/batch, Loss=0.1912, AvgLoss=0.4058]\n",
            "Epoch  36/500 [Val]  : 100%|██████████| 5/5 [00:07<00:00,  1.53s/batch, Loss=0.3837, Acc=0.7628]\n"
          ]
        },
        {
          "output_type": "stream",
          "name": "stdout",
          "text": [
            "\n",
            "Epoch  36/500 | Duration: 73.4s | Remaining: ~9.5h\n",
            "Train Loss: 0.3186\n",
            "Val Loss:   0.6266 (▲ 0.0020) [Patience left: 5]\n",
            "Val Acc:    0.7628\n",
            "Learning Rate: 1.00e-05\n",
            "------------------------------------------------------------\n"
          ]
        },
        {
          "output_type": "stream",
          "name": "stderr",
          "text": [
            "Epoch  37/500 [Train]: 100%|██████████| 44/44 [01:05<00:00,  1.49s/batch, Loss=0.3317, AvgLoss=0.4058]\n",
            "Epoch  37/500 [Val]  : 100%|██████████| 5/5 [00:07<00:00,  1.52s/batch, Loss=0.3837, Acc=0.7628]\n"
          ]
        },
        {
          "output_type": "stream",
          "name": "stdout",
          "text": [
            "\n",
            "Epoch  37/500 | Duration: 73.3s | Remaining: ~9.4h\n",
            "Train Loss: 0.3186\n",
            "Val Loss:   0.6265 (▲ 0.0019) [Patience left: 4]\n",
            "Val Acc:    0.7628\n",
            "Learning Rate: 1.00e-05\n",
            "------------------------------------------------------------\n"
          ]
        },
        {
          "output_type": "stream",
          "name": "stderr",
          "text": [
            "Epoch  38/500 [Train]: 100%|██████████| 44/44 [01:05<00:00,  1.49s/batch, Loss=0.3492, AvgLoss=0.4057]\n",
            "Epoch  38/500 [Val]  : 100%|██████████| 5/5 [00:07<00:00,  1.52s/batch, Loss=0.3833, Acc=0.7628]\n"
          ]
        },
        {
          "output_type": "stream",
          "name": "stdout",
          "text": [
            "\n",
            "Epoch  38/500 | Duration: 73.0s | Remaining: ~9.4h\n",
            "Train Loss: 0.3186\n",
            "Val Loss:   0.6262 (▲ 0.0016) [Patience left: 3]\n",
            "Val Acc:    0.7628\n",
            "Learning Rate: 1.00e-05\n",
            "------------------------------------------------------------\n"
          ]
        },
        {
          "output_type": "stream",
          "name": "stderr",
          "text": [
            "Epoch  39/500 [Train]: 100%|██████████| 44/44 [01:05<00:00,  1.49s/batch, Loss=0.3834, AvgLoss=0.4056]\n",
            "Epoch  39/500 [Val]  : 100%|██████████| 5/5 [00:07<00:00,  1.53s/batch, Loss=0.3833, Acc=0.7628]\n"
          ]
        },
        {
          "output_type": "stream",
          "name": "stdout",
          "text": [
            "\n",
            "Epoch  39/500 | Duration: 73.4s | Remaining: ~9.4h\n",
            "Train Loss: 0.3185\n",
            "Val Loss:   0.6264 (▲ 0.0018) [Patience left: 2]\n",
            "Val Acc:    0.7628\n",
            "Learning Rate: 1.00e-05\n",
            "------------------------------------------------------------\n"
          ]
        },
        {
          "output_type": "stream",
          "name": "stderr",
          "text": [
            "Epoch  40/500 [Train]: 100%|██████████| 44/44 [01:05<00:00,  1.50s/batch, Loss=0.3828, AvgLoss=0.4055]\n",
            "Epoch  40/500 [Val]  : 100%|██████████| 5/5 [00:07<00:00,  1.53s/batch, Loss=0.3833, Acc=0.7628]\n"
          ]
        },
        {
          "output_type": "stream",
          "name": "stdout",
          "text": [
            "\n",
            "Epoch  40/500 | Duration: 73.5s | Remaining: ~9.4h\n",
            "Train Loss: 0.3183\n",
            "Val Loss:   0.6264 (▲ 0.0019) [Patience left: 1]\n",
            "Val Acc:    0.7628\n",
            "Learning Rate: 1.00e-06\n",
            "------------------------------------------------------------\n"
          ]
        },
        {
          "output_type": "stream",
          "name": "stderr",
          "text": [
            "Epoch  41/500 [Train]: 100%|██████████| 44/44 [01:05<00:00,  1.50s/batch, Loss=0.4562, AvgLoss=0.4054]\n",
            "Epoch  41/500 [Val]  : 100%|██████████| 5/5 [00:07<00:00,  1.52s/batch, Loss=0.3833, Acc=0.7628]\n",
            "<ipython-input-11-ea088a8e051e>:121: FutureWarning: You are using `torch.load` with `weights_only=False` (the current default value), which uses the default pickle module implicitly. It is possible to construct malicious pickle data which will execute arbitrary code during unpickling (See https://github.com/pytorch/pytorch/blob/main/SECURITY.md#untrusted-models for more details). In a future release, the default value for `weights_only` will be flipped to `True`. This limits the functions that could be executed during unpickling. Arbitrary objects will no longer be allowed to be loaded via this mode unless they are explicitly allowlisted by the user via `torch.serialization.add_safe_globals`. We recommend you start setting `weights_only=True` for any use case where you don't have full control of the loaded file. Please open an issue on GitHub for any issues related to this experimental feature.\n",
            "  model.load_state_dict(torch.load('best_model.pth'))\n"
          ]
        },
        {
          "output_type": "stream",
          "name": "stdout",
          "text": [
            "\n",
            "Epoch  41/500 | Duration: 73.5s | Remaining: ~0.0h\n",
            "Train Loss: 0.3183\n",
            "Val Loss:   0.6264 (▲ 0.0018) [Patience left: 0]\n",
            "Val Acc:    0.7628\n",
            "Learning Rate: 1.00e-06\n",
            "------------------------------------------------------------\n",
            "[!] Early stopping triggered at epoch 42\n",
            "\n",
            "Loaded best model weights for final testing\n"
          ]
        },
        {
          "output_type": "stream",
          "name": "stderr",
          "text": [
            "Final Testing: 100%|██████████| 13/13 [00:18<00:00,  1.43s/batch, Loss=0.8506, Acc=0.8103]"
          ]
        },
        {
          "output_type": "stream",
          "name": "stdout",
          "text": [
            "\n",
            "==================================================\n",
            "Final Test Results:\n",
            "Loss: 0.5203\n",
            "Accuracy: 0.8103\n",
            "==================================================\n"
          ]
        },
        {
          "output_type": "stream",
          "name": "stderr",
          "text": [
            "\n"
          ]
        }
      ]
    },
    {
      "cell_type": "code",
      "source": [
        "import matplotlib.pyplot as plt\n",
        "import seaborn as sns\n",
        "from sklearn.metrics import confusion_matrix, accuracy_score, precision_score, recall_score, f1_score, cohen_kappa_score\n",
        "\n",
        "# For accuracy graph (assuming you have training history)\n",
        "train_accuracies = []  # Populate these during training\n",
        "val_accuracies = []    # Populate these during validation\n",
        "\n",
        "def plot_metrics(phase_name, cm, accuracy, precision, recall, f1, kappa):\n",
        "    plt.figure(figsize=(18, 6))\n",
        "\n",
        "    # Confusion Matrix\n",
        "    plt.subplot(1, 2, 1)\n",
        "    sns.heatmap(cm, annot=True, fmt='d', cmap='Blues',\n",
        "                xticklabels=['Normal[0]', 'Osteopenia[1]', 'Osteoporosis[2]'],\n",
        "                yticklabels=['Normal[0]', 'Osteopenia[1]', 'Osteoporosis[2]'])\n",
        "    plt.title(f'{phase_name} Confusion Matrix')\n",
        "    plt.xlabel('Predicted')\n",
        "    plt.ylabel('Actual')\n",
        "\n",
        "    # Metrics Text\n",
        "    plt.subplot(1, 2, 2)\n",
        "    plt.text(0.1, 0.9, f'Accuracy: {accuracy:.4f}', fontsize=12)\n",
        "    plt.text(0.1, 0.7, f'Precision (Macro): {precision:.4f}', fontsize=12)\n",
        "    plt.text(0.1, 0.5, f'Recall (Macro): {recall:.4f}', fontsize=12)\n",
        "    plt.text(0.1, 0.3, f'F1 Score (Macro): {f1:.4f}', fontsize=12)\n",
        "    plt.text(0.1, 0.1, f\"Cohen's Kappa: {kappa:.4f}\", fontsize=12)\n",
        "    plt.axis('off')\n",
        "\n",
        "    plt.tight_layout()\n",
        "    plt.show()\n",
        "\n",
        "def evaluate_model(loader, phase_name):\n",
        "    model.eval()\n",
        "    all_labels = []\n",
        "    all_preds = []\n",
        "    with torch.no_grad():\n",
        "        for images, labels in loader:\n",
        "            images, labels = images.to(device), labels.to(device)\n",
        "            outputs = model(images)\n",
        "            _, preds = torch.max(outputs, 1)  # Get class predictions\n",
        "\n",
        "            all_labels.extend(labels.cpu().numpy())\n",
        "            all_preds.extend(preds.cpu().numpy())\n",
        "\n",
        "    # Calculate metrics\n",
        "    accuracy = accuracy_score(all_labels, all_preds)\n",
        "    precision = precision_score(all_labels, all_preds, average='macro')\n",
        "    recall = recall_score(all_labels, all_preds, average='macro')\n",
        "    f1 = f1_score(all_labels, all_preds, average='macro')\n",
        "    kappa = cohen_kappa_score(all_labels, all_preds)\n",
        "    cm = confusion_matrix(all_labels, all_preds)\n",
        "\n",
        "    plot_metrics(phase_name, cm, accuracy, precision, recall, f1, kappa)\n",
        "\n",
        "    return accuracy\n",
        "\n",
        "# Evaluate all sets\n",
        "test_accuracy = evaluate_model(test_loader, 'Test')\n",
        "val_accuracy = evaluate_model(val_loader, 'Validation')"
      ],
      "metadata": {
        "colab": {
          "base_uri": "https://localhost:8080/",
          "height": 526
        },
        "id": "QZsDxzte481m",
        "outputId": "f5840855-2018-4e1a-fad3-159d1055d421"
      },
      "execution_count": null,
      "outputs": [
        {
          "output_type": "display_data",
          "data": {
            "text/plain": [
              "<Figure size 1800x600 with 3 Axes>"
            ],
            "image/png": "[encoded data removed]"
          },
          "metadata": {}
        },
        {
          "output_type": "display_data",
          "data": {
            "text/plain": [
              "<Figure size 1800x600 with 3 Axes>"
            ],
            "image/png": "[encoded data removed]"
          },
          "metadata": {}
        }
      ]
    },
    {
      "cell_type": "code",
      "source": [],
      "metadata": {
        "id": "VcLuJMPt8p3T"
      },
      "execution_count": null,
      "outputs": []
    }
  ]
}