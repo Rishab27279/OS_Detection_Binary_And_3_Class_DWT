{
  "nbformat": 4,
  "nbformat_minor": 0,
  "metadata": {
    "colab": {
      "provenance": [],
      "gpuType": "T4"
    },
    "kernelspec": {
      "name": "python3",
      "display_name": "Python 3"
    },
    "language_info": {
      "name": "python"
    },
    "accelerator": "GPU",
    "widgets": {
      "application/vnd.jupyter.widget-state+json": {
        "4bc92c0e3ed94ddf8f9b5e4e3eb062fd": {
          "model_module": "@jupyter-widgets/controls",
          "model_name": "HBoxModel",
          "model_module_version": "1.5.0",
          "state": {
            "_dom_classes": [],
            "_model_module": "@jupyter-widgets/controls",
            "_model_module_version": "1.5.0",
            "_model_name": "HBoxModel",
            "_view_count": null,
            "_view_module": "@jupyter-widgets/controls",
            "_view_module_version": "1.5.0",
            "_view_name": "HBoxView",
            "box_style": "",
            "children": [
              "IPY_MODEL_ad856bcd6cfb4be5b9693aa5f7ffe5b0",
              "IPY_MODEL_6072a9b167e4489db1deab5d89e08751",
              "IPY_MODEL_ccc126acc877453fa1ec195cf20c542e"
            ],
            "layout": "IPY_MODEL_60a6b644e19346e880a879f6341ff12d"
          }
        },
        "ad856bcd6cfb4be5b9693aa5f7ffe5b0": {
          "model_module": "@jupyter-widgets/controls",
          "model_name": "HTMLModel",
          "model_module_version": "1.5.0",
          "state": {
            "_dom_classes": [],
            "_model_module": "@jupyter-widgets/controls",
            "_model_module_version": "1.5.0",
            "_model_name": "HTMLModel",
            "_view_count": null,
            "_view_module": "@jupyter-widgets/controls",
            "_view_module_version": "1.5.0",
            "_view_name": "HTMLView",
            "description": "",
            "description_tooltip": null,
            "layout": "IPY_MODEL_2c8d5e708f51403b97990e906f862095",
            "placeholder": "​",
            "style": "IPY_MODEL_464c8db6f93649fcbf1904cf2d4203d3",
            "value": "config.json: 100%"
          }
        },
        "6072a9b167e4489db1deab5d89e08751": {
          "model_module": "@jupyter-widgets/controls",
          "model_name": "FloatProgressModel",
          "model_module_version": "1.5.0",
          "state": {
            "_dom_classes": [],
            "_model_module": "@jupyter-widgets/controls",
            "_model_module_version": "1.5.0",
            "_model_name": "FloatProgressModel",
            "_view_count": null,
            "_view_module": "@jupyter-widgets/controls",
            "_view_module_version": "1.5.0",
            "_view_name": "ProgressView",
            "bar_style": "success",
            "description": "",
            "description_tooltip": null,
            "layout": "IPY_MODEL_624e003c035d4402ba5d5ffa7840fc27",
            "max": 504,
            "min": 0,
            "orientation": "horizontal",
            "style": "IPY_MODEL_c6238e490d3345c8bf663a5b4e021ee3",
            "value": 504
          }
        },
        "ccc126acc877453fa1ec195cf20c542e": {
          "model_module": "@jupyter-widgets/controls",
          "model_name": "HTMLModel",
          "model_module_version": "1.5.0",
          "state": {
            "_dom_classes": [],
            "_model_module": "@jupyter-widgets/controls",
            "_model_module_version": "1.5.0",
            "_model_name": "HTMLModel",
            "_view_count": null,
            "_view_module": "@jupyter-widgets/controls",
            "_view_module_version": "1.5.0",
            "_view_name": "HTMLView",
            "description": "",
            "description_tooltip": null,
            "layout": "IPY_MODEL_b1baba2751fd4cabae44f5be2d49bcf1",
            "placeholder": "​",
            "style": "IPY_MODEL_7d4bceca0c9f46638eee85d892d6196a",
            "value": " 504/504 [00:00&lt;00:00, 23.2kB/s]"
          }
        },
        "60a6b644e19346e880a879f6341ff12d": {
          "model_module": "@jupyter-widgets/base",
          "model_name": "LayoutModel",
          "model_module_version": "1.2.0",
          "state": {
            "_model_module": "@jupyter-widgets/base",
            "_model_module_version": "1.2.0",
            "_model_name": "LayoutModel",
            "_view_count": null,
            "_view_module": "@jupyter-widgets/base",
            "_view_module_version": "1.2.0",
            "_view_name": "LayoutView",
            "align_content": null,
            "align_items": null,
            "align_self": null,
            "border": null,
            "bottom": null,
            "display": null,
            "flex": null,
            "flex_flow": null,
            "grid_area": null,
            "grid_auto_columns": null,
            "grid_auto_flow": null,
            "grid_auto_rows": null,
            "grid_column": null,
            "grid_gap": null,
            "grid_row": null,
            "grid_template_areas": null,
            "grid_template_columns": null,
            "grid_template_rows": null,
            "height": null,
            "justify_content": null,
            "justify_items": null,
            "left": null,
            "margin": null,
            "max_height": null,
            "max_width": null,
            "min_height": null,
            "min_width": null,
            "object_fit": null,
            "object_position": null,
            "order": null,
            "overflow": null,
            "overflow_x": null,
            "overflow_y": null,
            "padding": null,
            "right": null,
            "top": null,
            "visibility": null,
            "width": null
          }
        },
        "2c8d5e708f51403b97990e906f862095": {
          "model_module": "@jupyter-widgets/base",
          "model_name": "LayoutModel",
          "model_module_version": "1.2.0",
          "state": {
            "_model_module": "@jupyter-widgets/base",
            "_model_module_version": "1.2.0",
            "_model_name": "LayoutModel",
            "_view_count": null,
            "_view_module": "@jupyter-widgets/base",
            "_view_module_version": "1.2.0",
            "_view_name": "LayoutView",
            "align_content": null,
            "align_items": null,
            "align_self": null,
            "border": null,
            "bottom": null,
            "display": null,
            "flex": null,
            "flex_flow": null,
            "grid_area": null,
            "grid_auto_columns": null,
            "grid_auto_flow": null,
            "grid_auto_rows": null,
            "grid_column": null,
            "grid_gap": null,
            "grid_row": null,
            "grid_template_areas": null,
            "grid_template_columns": null,
            "grid_template_rows": null,
            "height": null,
            "justify_content": null,
            "justify_items": null,
            "left": null,
            "margin": null,
            "max_height": null,
            "max_width": null,
            "min_height": null,
            "min_width": null,
            "object_fit": null,
            "object_position": null,
            "order": null,
            "overflow": null,
            "overflow_x": null,
            "overflow_y": null,
            "padding": null,
            "right": null,
            "top": null,
            "visibility": null,
            "width": null
          }
        },
        "464c8db6f93649fcbf1904cf2d4203d3": {
          "model_module": "@jupyter-widgets/controls",
          "model_name": "DescriptionStyleModel",
          "model_module_version": "1.5.0",
          "state": {
            "_model_module": "@jupyter-widgets/controls",
            "_model_module_version": "1.5.0",
            "_model_name": "DescriptionStyleModel",
            "_view_count": null,
            "_view_module": "@jupyter-widgets/base",
            "_view_module_version": "1.2.0",
            "_view_name": "StyleView",
            "description_width": ""
          }
        },
        "624e003c035d4402ba5d5ffa7840fc27": {
          "model_module": "@jupyter-widgets/base",
          "model_name": "LayoutModel",
          "model_module_version": "1.2.0",
          "state": {
            "_model_module": "@jupyter-widgets/base",
            "_model_module_version": "1.2.0",
            "_model_name": "LayoutModel",
            "_view_count": null,
            "_view_module": "@jupyter-widgets/base",
            "_view_module_version": "1.2.0",
            "_view_name": "LayoutView",
            "align_content": null,
            "align_items": null,
            "align_self": null,
            "border": null,
            "bottom": null,
            "display": null,
            "flex": null,
            "flex_flow": null,
            "grid_area": null,
            "grid_auto_columns": null,
            "grid_auto_flow": null,
            "grid_auto_rows": null,
            "grid_column": null,
            "grid_gap": null,
            "grid_row": null,
            "grid_template_areas": null,
            "grid_template_columns": null,
            "grid_template_rows": null,
            "height": null,
            "justify_content": null,
            "justify_items": null,
            "left": null,
            "margin": null,
            "max_height": null,
            "max_width": null,
            "min_height": null,
            "min_width": null,
            "object_fit": null,
            "object_position": null,
            "order": null,
            "overflow": null,
            "overflow_x": null,
            "overflow_y": null,
            "padding": null,
            "right": null,
            "top": null,
            "visibility": null,
            "width": null
          }
        },
        "c6238e490d3345c8bf663a5b4e021ee3": {
          "model_module": "@jupyter-widgets/controls",
          "model_name": "ProgressStyleModel",
          "model_module_version": "1.5.0",
          "state": {
            "_model_module": "@jupyter-widgets/controls",
            "_model_module_version": "1.5.0",
            "_model_name": "ProgressStyleModel",
            "_view_count": null,
            "_view_module": "@jupyter-widgets/base",
            "_view_module_version": "1.2.0",
            "_view_name": "StyleView",
            "bar_color": null,
            "description_width": ""
          }
        },
        "b1baba2751fd4cabae44f5be2d49bcf1": {
          "model_module": "@jupyter-widgets/base",
          "model_name": "LayoutModel",
          "model_module_version": "1.2.0",
          "state": {
            "_model_module": "@jupyter-widgets/base",
            "_model_module_version": "1.2.0",
            "_model_name": "LayoutModel",
            "_view_count": null,
            "_view_module": "@jupyter-widgets/base",
            "_view_module_version": "1.2.0",
            "_view_name": "LayoutView",
            "align_content": null,
            "align_items": null,
            "align_self": null,
            "border": null,
            "bottom": null,
            "display": null,
            "flex": null,
            "flex_flow": null,
            "grid_area": null,
            "grid_auto_columns": null,
            "grid_auto_flow": null,
            "grid_auto_rows": null,
            "grid_column": null,
            "grid_gap": null,
            "grid_row": null,
            "grid_template_areas": null,
            "grid_template_columns": null,
            "grid_template_rows": null,
            "height": null,
            "justify_content": null,
            "justify_items": null,
            "left": null,
            "margin": null,
            "max_height": null,
            "max_width": null,
            "min_height": null,
            "min_width": null,
            "object_fit": null,
            "object_position": null,
            "order": null,
            "overflow": null,
            "overflow_x": null,
            "overflow_y": null,
            "padding": null,
            "right": null,
            "top": null,
            "visibility": null,
            "width": null
          }
        },
        "7d4bceca0c9f46638eee85d892d6196a": {
          "model_module": "@jupyter-widgets/controls",
          "model_name": "DescriptionStyleModel",
          "model_module_version": "1.5.0",
          "state": {
            "_model_module": "@jupyter-widgets/controls",
            "_model_module_version": "1.5.0",
            "_model_name": "DescriptionStyleModel",
            "_view_count": null,
            "_view_module": "@jupyter-widgets/base",
            "_view_module_version": "1.2.0",
            "_view_name": "StyleView",
            "description_width": ""
          }
        },
        "1bc8696bc03743c380190681ebef1667": {
          "model_module": "@jupyter-widgets/controls",
          "model_name": "HBoxModel",
          "model_module_version": "1.5.0",
          "state": {
            "_dom_classes": [],
            "_model_module": "@jupyter-widgets/controls",
            "_model_module_version": "1.5.0",
            "_model_name": "HBoxModel",
            "_view_count": null,
            "_view_module": "@jupyter-widgets/controls",
            "_view_module_version": "1.5.0",
            "_view_name": "HBoxView",
            "box_style": "",
            "children": [
              "IPY_MODEL_898cec4de01b4e58b8b3f9ee6435dab0",
              "IPY_MODEL_29bc805a40454daea8d254b1b6095044",
              "IPY_MODEL_8c83d7feaa8c4f398424fdfd35d2b80a"
            ],
            "layout": "IPY_MODEL_eb314f3719934446ae43a557883851af"
          }
        },
        "898cec4de01b4e58b8b3f9ee6435dab0": {
          "model_module": "@jupyter-widgets/controls",
          "model_name": "HTMLModel",
          "model_module_version": "1.5.0",
          "state": {
            "_dom_classes": [],
            "_model_module": "@jupyter-widgets/controls",
            "_model_module_version": "1.5.0",
            "_model_name": "HTMLModel",
            "_view_count": null,
            "_view_module": "@jupyter-widgets/controls",
            "_view_module_version": "1.5.0",
            "_view_name": "HTMLView",
            "description": "",
            "description_tooltip": null,
            "layout": "IPY_MODEL_ba69f8efeeec4222b407b22fbecfa957",
            "placeholder": "​",
            "style": "IPY_MODEL_08477fda58f440eaa31ce3945f9e9c44",
            "value": "model.safetensors: 100%"
          }
        },
        "29bc805a40454daea8d254b1b6095044": {
          "model_module": "@jupyter-widgets/controls",
          "model_name": "FloatProgressModel",
          "model_module_version": "1.5.0",
          "state": {
            "_dom_classes": [],
            "_model_module": "@jupyter-widgets/controls",
            "_model_module_version": "1.5.0",
            "_model_name": "FloatProgressModel",
            "_view_count": null,
            "_view_module": "@jupyter-widgets/controls",
            "_view_module_version": "1.5.0",
            "_view_name": "ProgressView",
            "bar_style": "success",
            "description": "",
            "description_tooltip": null,
            "layout": "IPY_MODEL_6ce55ad896084920894f331b74515f2d",
            "max": 1217449944,
            "min": 0,
            "orientation": "horizontal",
            "style": "IPY_MODEL_f017b221f6854232b36e84ede4759fe7",
            "value": 1217449944
          }
        },
        "8c83d7feaa8c4f398424fdfd35d2b80a": {
          "model_module": "@jupyter-widgets/controls",
          "model_name": "HTMLModel",
          "model_module_version": "1.5.0",
          "state": {
            "_dom_classes": [],
            "_model_module": "@jupyter-widgets/controls",
            "_model_module_version": "1.5.0",
            "_model_name": "HTMLModel",
            "_view_count": null,
            "_view_module": "@jupyter-widgets/controls",
            "_view_module_version": "1.5.0",
            "_view_name": "HTMLView",
            "description": "",
            "description_tooltip": null,
            "layout": "IPY_MODEL_e5a36b3dca33433484cd6ecd553f1dbc",
            "placeholder": "​",
            "style": "IPY_MODEL_61c3c54029234256ab1da4ec38d7560c",
            "value": " 1.22G/1.22G [00:09&lt;00:00, 228MB/s]"
          }
        },
        "eb314f3719934446ae43a557883851af": {
          "model_module": "@jupyter-widgets/base",
          "model_name": "LayoutModel",
          "model_module_version": "1.2.0",
          "state": {
            "_model_module": "@jupyter-widgets/base",
            "_model_module_version": "1.2.0",
            "_model_name": "LayoutModel",
            "_view_count": null,
            "_view_module": "@jupyter-widgets/base",
            "_view_module_version": "1.2.0",
            "_view_name": "LayoutView",
            "align_content": null,
            "align_items": null,
            "align_self": null,
            "border": null,
            "bottom": null,
            "display": null,
            "flex": null,
            "flex_flow": null,
            "grid_area": null,
            "grid_auto_columns": null,
            "grid_auto_flow": null,
            "grid_auto_rows": null,
            "grid_column": null,
            "grid_gap": null,
            "grid_row": null,
            "grid_template_areas": null,
            "grid_template_columns": null,
            "grid_template_rows": null,
            "height": null,
            "justify_content": null,
            "justify_items": null,
            "left": null,
            "margin": null,
            "max_height": null,
            "max_width": null,
            "min_height": null,
            "min_width": null,
            "object_fit": null,
            "object_position": null,
            "order": null,
            "overflow": null,
            "overflow_x": null,
            "overflow_y": null,
            "padding": null,
            "right": null,
            "top": null,
            "visibility": null,
            "width": null
          }
        },
        "ba69f8efeeec4222b407b22fbecfa957": {
          "model_module": "@jupyter-widgets/base",
          "model_name": "LayoutModel",
          "model_module_version": "1.2.0",
          "state": {
            "_model_module": "@jupyter-widgets/base",
            "_model_module_version": "1.2.0",
            "_model_name": "LayoutModel",
            "_view_count": null,
            "_view_module": "@jupyter-widgets/base",
            "_view_module_version": "1.2.0",
            "_view_name": "LayoutView",
            "align_content": null,
            "align_items": null,
            "align_self": null,
            "border": null,
            "bottom": null,
            "display": null,
            "flex": null,
            "flex_flow": null,
            "grid_area": null,
            "grid_auto_columns": null,
            "grid_auto_flow": null,
            "grid_auto_rows": null,
            "grid_column": null,
            "grid_gap": null,
            "grid_row": null,
            "grid_template_areas": null,
            "grid_template_columns": null,
            "grid_template_rows": null,
            "height": null,
            "justify_content": null,
            "justify_items": null,
            "left": null,
            "margin": null,
            "max_height": null,
            "max_width": null,
            "min_height": null,
            "min_width": null,
            "object_fit": null,
            "object_position": null,
            "order": null,
            "overflow": null,
            "overflow_x": null,
            "overflow_y": null,
            "padding": null,
            "right": null,
            "top": null,
            "visibility": null,
            "width": null
          }
        },
        "08477fda58f440eaa31ce3945f9e9c44": {
          "model_module": "@jupyter-widgets/controls",
          "model_name": "DescriptionStyleModel",
          "model_module_version": "1.5.0",
          "state": {
            "_model_module": "@jupyter-widgets/controls",
            "_model_module_version": "1.5.0",
            "_model_name": "DescriptionStyleModel",
            "_view_count": null,
            "_view_module": "@jupyter-widgets/base",
            "_view_module_version": "1.2.0",
            "_view_name": "StyleView",
            "description_width": ""
          }
        },
        "6ce55ad896084920894f331b74515f2d": {
          "model_module": "@jupyter-widgets/base",
          "model_name": "LayoutModel",
          "model_module_version": "1.2.0",
          "state": {
            "_model_module": "@jupyter-widgets/base",
            "_model_module_version": "1.2.0",
            "_model_name": "LayoutModel",
            "_view_count": null,
            "_view_module": "@jupyter-widgets/base",
            "_view_module_version": "1.2.0",
            "_view_name": "LayoutView",
            "align_content": null,
            "align_items": null,
            "align_self": null,
            "border": null,
            "bottom": null,
            "display": null,
            "flex": null,
            "flex_flow": null,
            "grid_area": null,
            "grid_auto_columns": null,
            "grid_auto_flow": null,
            "grid_auto_rows": null,
            "grid_column": null,
            "grid_gap": null,
            "grid_row": null,
            "grid_template_areas": null,
            "grid_template_columns": null,
            "grid_template_rows": null,
            "height": null,
            "justify_content": null,
            "justify_items": null,
            "left": null,
            "margin": null,
            "max_height": null,
            "max_width": null,
            "min_height": null,
            "min_width": null,
            "object_fit": null,
            "object_position": null,
            "order": null,
            "overflow": null,
            "overflow_x": null,
            "overflow_y": null,
            "padding": null,
            "right": null,
            "top": null,
            "visibility": null,
            "width": null
          }
        },
        "f017b221f6854232b36e84ede4759fe7": {
          "model_module": "@jupyter-widgets/controls",
          "model_name": "ProgressStyleModel",
          "model_module_version": "1.5.0",
          "state": {
            "_model_module": "@jupyter-widgets/controls",
            "_model_module_version": "1.5.0",
            "_model_name": "ProgressStyleModel",
            "_view_count": null,
            "_view_module": "@jupyter-widgets/base",
            "_view_module_version": "1.2.0",
            "_view_name": "StyleView",
            "bar_color": null,
            "description_width": ""
          }
        },
        "e5a36b3dca33433484cd6ecd553f1dbc": {
          "model_module": "@jupyter-widgets/base",
          "model_name": "LayoutModel",
          "model_module_version": "1.2.0",
          "state": {
            "_model_module": "@jupyter-widgets/base",
            "_model_module_version": "1.2.0",
            "_model_name": "LayoutModel",
            "_view_count": null,
            "_view_module": "@jupyter-widgets/base",
            "_view_module_version": "1.2.0",
            "_view_name": "LayoutView",
            "align_content": null,
            "align_items": null,
            "align_self": null,
            "border": null,
            "bottom": null,
            "display": null,
            "flex": null,
            "flex_flow": null,
            "grid_area": null,
            "grid_auto_columns": null,
            "grid_auto_flow": null,
            "grid_auto_rows": null,
            "grid_column": null,
            "grid_gap": null,
            "grid_row": null,
            "grid_template_areas": null,
            "grid_template_columns": null,
            "grid_template_rows": null,
            "height": null,
            "justify_content": null,
            "justify_items": null,
            "left": null,
            "margin": null,
            "max_height": null,
            "max_width": null,
            "min_height": null,
            "min_width": null,
            "object_fit": null,
            "object_position": null,
            "order": null,
            "overflow": null,
            "overflow_x": null,
            "overflow_y": null,
            "padding": null,
            "right": null,
            "top": null,
            "visibility": null,
            "width": null
          }
        },
        "61c3c54029234256ab1da4ec38d7560c": {
          "model_module": "@jupyter-widgets/controls",
          "model_name": "DescriptionStyleModel",
          "model_module_version": "1.5.0",
          "state": {
            "_model_module": "@jupyter-widgets/controls",
            "_model_module_version": "1.5.0",
            "_model_name": "DescriptionStyleModel",
            "_view_count": null,
            "_view_module": "@jupyter-widgets/base",
            "_view_module_version": "1.2.0",
            "_view_name": "StyleView",
            "description_width": ""
          }
        }
      }
    }
  },
  "cells": [
    {
      "cell_type": "code",
      "execution_count": null,
      "metadata": {
        "id": "s3s4btDdIiDF"
      },
      "outputs": [],
      "source": [
        "import cv2\n",
        "import os\n",
        "import numpy as np\n",
        "import tensorflow as tf\n",
        "from google.colab import drive\n",
        "from sklearn.model_selection import train_test_split\n",
        "import torch\n",
        "from torch.utils.data import Dataset, DataLoader\n",
        "import torch.nn as nn\n",
        "import torch.nn.functional as F\n",
        "from transformers import ViTModel"
      ]
    },
    {
      "cell_type": "code",
      "source": [
        "# Mount Google Drive (only for Colab)\n",
        "drive.mount('/content/drive')\n",
        "\n",
        "# ========================================================================\n",
        "# 1. Dataset Configuration\n",
        "# ========================================================================\n",
        "dataset_paths = {\n",
        "    'Normal': '/content/drive/MyDrive/OS Dataset/Normal/',\n",
        "    'Osteopenia': '/content/drive/MyDrive/OS Dataset/Osteopenia/',\n",
        "    'Osteoporosis': '/content/drive/MyDrive/OS Dataset/Osteoporosis/'\n",
        "}\n",
        "\n",
        "# ========================================================================\n",
        "# 2. Image Loading & Preprocessing\n",
        "# ========================================================================\n",
        "def load_images_and_labels(folder_path, label):\n",
        "    images = []\n",
        "    labels = []\n",
        "    for filename in sorted(os.listdir(folder_path)):\n",
        "        if filename.lower().endswith(('.png', '.jpg', '.jpeg', '.bmp')):\n",
        "            img_path = os.path.join(folder_path, filename)\n",
        "            try:\n",
        "                # Load image and verify successful read\n",
        "                img = cv2.imread(img_path)\n",
        "                if img is None:\n",
        "                    print(f\"Warning: Could not read image {img_path}\")\n",
        "                    continue\n",
        "\n",
        "                # Critical Fix 1: Resize to ViT's required 224x224\n",
        "                img = cv2.resize(img, (224, 224))\n",
        "\n",
        "                # Critical Fix 2: Convert BGR to RGB\n",
        "                img = cv2.cvtColor(img, cv2.COLOR_BGR2RGB)\n",
        "\n",
        "                # Critical Fix 3: Convert to channels-first format\n",
        "                img = np.transpose(img, (2, 0, 1))  # (3, 224, 224)\n",
        "\n",
        "                # Critical Fix 4: Normalize to [-1, 1] range\n",
        "                img = (img.astype(np.float32) / 127.5) - 1.0\n",
        "\n",
        "                images.append(img)\n",
        "                labels.append(label)\n",
        "            except Exception as e:\n",
        "                print(f\"Error processing {img_path}: {e}\")\n",
        "    return np.array(images), np.array(labels)\n",
        "\n",
        "# ========================================================================\n",
        "# 3. Load and Prepare Data\n",
        "# ========================================================================\n",
        "# Load datasets\n",
        "normal_images, normal_labels = load_images_and_labels(dataset_paths['Normal'], 0)\n",
        "osteopenia_images, osteopenia_labels = load_images_and_labels(dataset_paths['Osteopenia'], label=1)\n",
        "osteoporosis_images, osteoporosis_labels = load_images_and_labels(dataset_paths['Osteoporosis'], label=2)\n",
        "\n",
        "# Combine and shuffle data\n",
        "x_data = np.concatenate([normal_images, osteopenia_images, osteoporosis_images], axis=0)\n",
        "y_data = np.concatenate([normal_labels, osteopenia_labels, osteoporosis_labels], axis=0)\n",
        "\n",
        "# Random shuffle with fixed seed for reproducibility\n",
        "np.random.seed(42)\n",
        "shuffle_idx = np.random.permutation(len(x_data))\n",
        "x_data = x_data[shuffle_idx]\n",
        "y_data = y_data[shuffle_idx]\n",
        "\n",
        "# ========================================================================\n",
        "# 4. Train/Validation/Test Split\n",
        "# ========================================================================\n",
        "# Stratified split to maintain class balance\n",
        "x_train_val, x_test, y_train_val, y_test = train_test_split(\n",
        "    x_data, y_data,\n",
        "    test_size=0.2,\n",
        "    stratify=y_data,\n",
        "    random_state=42\n",
        ")\n",
        "\n",
        "x_train, x_val, y_train, y_val = train_test_split(\n",
        "    x_train_val, y_train_val,\n",
        "    test_size=0.1,  # 10% of training for validation\n",
        "    stratify=y_train_val,\n",
        "    random_state=42\n",
        ")"
      ],
      "metadata": {
        "id": "odp1epleJOtq",
        "colab": {
          "base_uri": "https://localhost:8080/"
        },
        "outputId": "5daf1655-a268-4ed6-c639-0c1a388011e0"
      },
      "execution_count": null,
      "outputs": [
        {
          "output_type": "stream",
          "name": "stdout",
          "text": [
            "Mounted at /content/drive\n"
          ]
        }
      ]
    },
    {
      "cell_type": "code",
      "source": [
        "print(f'Number of Normal Images: {len(normal_images)}')\n",
        "print(f'Number of Oesteopenia Images: {len(osteopenia_images)}')\n",
        "print(f'Number of Oestroporosis Images: {len(osteoporosis_images)}')"
      ],
      "metadata": {
        "id": "GIbh0aaWJQQL",
        "colab": {
          "base_uri": "https://localhost:8080/"
        },
        "outputId": "4006eed8-ed66-4088-dda4-21305b32128a"
      },
      "execution_count": null,
      "outputs": [
        {
          "output_type": "stream",
          "name": "stdout",
          "text": [
            "Number of Normal Images: 780\n",
            "Number of Oesteopenia Images: 374\n",
            "Number of Oestroporosis Images: 793\n"
          ]
        }
      ]
    },
    {
      "cell_type": "code",
      "source": [
        "# Step 2: Define device\n",
        "device = torch.device('cuda' if torch.cuda.is_available() else 'cpu')\n",
        "print(f\"Using device: {device}\")\n",
        "\n",
        "# Step 3: DWT Implementation\n",
        "def dwt_haar(img):\n",
        "    \"\"\"Performs Haar wavelet transform on a batch of images.\"\"\"\n",
        "    # img shape: (batch, channels, height, width)\n",
        "    batch, channels, h, w = img.shape\n",
        "\n",
        "    # Split rows into even and odd indices\n",
        "    even_rows = img[:, :, 0::2, :]\n",
        "    odd_rows = img[:, :, 1::2, :]\n",
        "\n",
        "    # Compute row-wise averages and differences\n",
        "    avg_rows = (even_rows + odd_rows) / 2\n",
        "    diff_rows = (even_rows - odd_rows) / 2\n",
        "\n",
        "    # Split columns for avg_rows (LL and HL)\n",
        "    even_cols_avg = avg_rows[:, :, :, 0::2]\n",
        "    odd_cols_avg = avg_rows[:, :, :, 1::2]\n",
        "    LL = (even_cols_avg + odd_cols_avg) / 2\n",
        "    HL = (even_cols_avg - odd_cols_avg) / 2\n",
        "\n",
        "    # Split columns for diff_rows (LH and HH)\n",
        "    even_cols_diff = diff_rows[:, :, :, 0::2]\n",
        "    odd_cols_diff = diff_rows[:, :, :, 1::2]\n",
        "    LH = (even_cols_diff + odd_cols_diff) / 2\n",
        "    HH = (even_cols_diff - odd_cols_diff) / 2\n",
        "\n",
        "    return torch.cat([LL, HL, LH, HH], dim=1)\n",
        "\n",
        "# Step 4: Dataset Class (unchanged)\n",
        "class NumpyDataset(Dataset):\n",
        "    def __init__(self, x_data, y_data):\n",
        "        self.x_data = x_data\n",
        "        self.y_data = y_data\n",
        "\n",
        "    def __len__(self):\n",
        "        return len(self.x_data)\n",
        "\n",
        "    def __getitem__(self, idx):\n",
        "        image = torch.from_numpy(self.x_data[idx]).float()\n",
        "        label = torch.tensor(self.y_data[idx], dtype=torch.float32)\n",
        "        return image, label"
      ],
      "metadata": {
        "id": "T3ntRMlt_Mam",
        "colab": {
          "base_uri": "https://localhost:8080/"
        },
        "outputId": "c56ad58b-0a8c-437d-cf56-8ec6ab5e4550"
      },
      "execution_count": null,
      "outputs": [
        {
          "output_type": "stream",
          "name": "stdout",
          "text": [
            "Using device: cuda\n"
          ]
        }
      ]
    },
    {
      "cell_type": "code",
      "source": [
        "# Step 5: Modified ViT Model with DWT Processing (3-class version)\n",
        "class ViTMultiClassClassifier(nn.Module):\n",
        "    def __init__(self, pretrained_model='google/vit-large-patch16-224-in21k'):\n",
        "        super().__init__()\n",
        "        self.vit = ViTModel.from_pretrained(pretrained_model)\n",
        "        self.classifier = nn.Linear(self.vit.config.hidden_size * 4, 3)  # 3 output classes\n",
        "        # Removed sigmoid - CrossEntropyLoss includes softmax\n",
        "\n",
        "        # Freeze ViT parameters\n",
        "        for param in self.vit.parameters():\n",
        "            param.requires_grad = False\n",
        "\n",
        "    def forward(self, x):\n",
        "        # Apply Haar DWT\n",
        "        x_dwt = dwt_haar(x)\n",
        "        batch_size = x_dwt.size(0)\n",
        "\n",
        "        # Reshape and process each subband\n",
        "        x_dwt = x_dwt.view(batch_size, 4, 3, 112, 112)\n",
        "        vit_outputs = []\n",
        "\n",
        "        for i in range(4):\n",
        "            subband = x_dwt[:, i, :, :, :]\n",
        "            subband_up = F.interpolate(subband, size=(224, 224),\n",
        "                                     mode='bilinear', align_corners=False)\n",
        "            outputs = self.vit(subband_up)\n",
        "            vit_outputs.append(outputs.last_hidden_state[:, 0, :])\n",
        "\n",
        "        # Concatenate and classify\n",
        "        combined = torch.cat(vit_outputs, dim=1)\n",
        "        return self.classifier(combined)  # Return raw logits\n",
        "\n",
        "# Step 6: Create Verified Datasets and DataLoaders\n",
        "class NumpyDataset(Dataset):\n",
        "    def __init__(self, x, y):\n",
        "        self.x = x\n",
        "        self.y = y\n",
        "\n",
        "    def __len__(self):\n",
        "        return len(self.x)\n",
        "\n",
        "    def __getitem__(self, index):\n",
        "        return (\n",
        "            torch.tensor(self.x[index], dtype=torch.float32),\n",
        "            torch.tensor(self.y[index], dtype=torch.long)  # Crucial for CrossEntropyLoss\n",
        "        )\n",
        "\n",
        "# Verify data shapes and labels first!\n",
        "print(\"Data verification:\")\n",
        "print(f\"Train labels: {np.unique(y_train)}\")\n",
        "print(f\"Val labels: {np.unique(y_val)}\")\n",
        "print(f\"Test labels: {np.unique(y_test)}\")\n",
        "\n",
        "batch_size = 32\n",
        "train_dataset = NumpyDataset(x_train, y_train)\n",
        "val_dataset = NumpyDataset(x_val, y_val)\n",
        "test_dataset = NumpyDataset(x_test, y_test)\n",
        "\n",
        "train_loader = DataLoader(train_dataset, batch_size=batch_size, shuffle=True, num_workers=2)\n",
        "val_loader = DataLoader(val_dataset, batch_size=batch_size, shuffle=False, num_workers=2)\n",
        "test_loader = DataLoader(test_dataset, batch_size=batch_size, shuffle=False, num_workers=2)\n",
        "\n",
        "# Step 7: Initialize Model\n",
        "model = ViTMultiClassClassifier().to(device)\n",
        "\n",
        "# Step 8: Loss and Optimizer (3-class compatible)\n",
        "criterion = nn.CrossEntropyLoss()  # Changed from BCELoss\n",
        "optimizer = torch.optim.Adam(model.parameters(), lr=1e-3)"
      ],
      "metadata": {
        "id": "cXAoT-vD_OH_",
        "colab": {
          "base_uri": "https://localhost:8080/",
          "height": 283,
          "referenced_widgets": [
            "4bc92c0e3ed94ddf8f9b5e4e3eb062fd",
            "ad856bcd6cfb4be5b9693aa5f7ffe5b0",
            "6072a9b167e4489db1deab5d89e08751",
            "ccc126acc877453fa1ec195cf20c542e",
            "60a6b644e19346e880a879f6341ff12d",
            "2c8d5e708f51403b97990e906f862095",
            "464c8db6f93649fcbf1904cf2d4203d3",
            "624e003c035d4402ba5d5ffa7840fc27",
            "c6238e490d3345c8bf663a5b4e021ee3",
            "b1baba2751fd4cabae44f5be2d49bcf1",
            "7d4bceca0c9f46638eee85d892d6196a",
            "1bc8696bc03743c380190681ebef1667",
            "898cec4de01b4e58b8b3f9ee6435dab0",
            "29bc805a40454daea8d254b1b6095044",
            "8c83d7feaa8c4f398424fdfd35d2b80a",
            "eb314f3719934446ae43a557883851af",
            "ba69f8efeeec4222b407b22fbecfa957",
            "08477fda58f440eaa31ce3945f9e9c44",
            "6ce55ad896084920894f331b74515f2d",
            "f017b221f6854232b36e84ede4759fe7",
            "e5a36b3dca33433484cd6ecd553f1dbc",
            "61c3c54029234256ab1da4ec38d7560c"
          ]
        },
        "outputId": "131314e2-7eba-4be7-c3bf-4e5eaa5a4ff0"
      },
      "execution_count": null,
      "outputs": [
        {
          "output_type": "stream",
          "name": "stdout",
          "text": [
            "Data verification:\n",
            "Train labels: [0 1 2]\n",
            "Val labels: [0 1 2]\n",
            "Test labels: [0 1 2]\n"
          ]
        },
        {
          "output_type": "stream",
          "name": "stderr",
          "text": [
            "/usr/local/lib/python3.11/dist-packages/huggingface_hub/utils/_auth.py:94: UserWarning: \n",
            "The secret `HF_TOKEN` does not exist in your Colab secrets.\n",
            "To authenticate with the Hugging Face Hub, create a token in your settings tab (https://huggingface.co/settings/tokens), set it as secret in your Google Colab and restart your session.\n",
            "You will be able to reuse this secret in all of your notebooks.\n",
            "Please note that authentication is recommended but still optional to access public models or datasets.\n",
            "  warnings.warn(\n"
          ]
        },
        {
          "output_type": "display_data",
          "data": {
            "text/plain": [
              "config.json:   0%|          | 0.00/504 [00:00<?, ?B/s]"
            ],
            "application/vnd.jupyter.widget-view+json": {
              "version_major": 2,
              "version_minor": 0,
              "model_id": "4bc92c0e3ed94ddf8f9b5e4e3eb062fd"
            }
          },
          "metadata": {}
        },
        {
          "output_type": "display_data",
          "data": {
            "text/plain": [
              "model.safetensors:   0%|          | 0.00/1.22G [00:00<?, ?B/s]"
            ],
            "application/vnd.jupyter.widget-view+json": {
              "version_major": 2,
              "version_minor": 0,
              "model_id": "1bc8696bc03743c380190681ebef1667"
            }
          },
          "metadata": {}
        }
      ]
    },
    {
      "cell_type": "code",
      "source": [
        "import time\n",
        "from tqdm import tqdm\n",
        "import torch.optim.lr_scheduler as lr_scheduler\n",
        "\n",
        "# Modified training loop for 3-class classification\n",
        "num_epochs = 500\n",
        "best_val_loss = float('inf')\n",
        "patience = 20\n",
        "epochs_no_improve = 0\n",
        "early_stop = False\n",
        "history = {'train_loss': [], 'val_loss': [], 'val_acc': [], 'lr': []}\n",
        "\n",
        "# Initialize optimizer and scheduler\n",
        "optimizer = torch.optim.Adam(model.parameters(), lr=1e-3, weight_decay=1e-4)\n",
        "scheduler = lr_scheduler.ReduceLROnPlateau(\n",
        "    optimizer,\n",
        "    mode='min',\n",
        "    factor=0.1,\n",
        "    patience=5,\n",
        "    verbose=True\n",
        ")\n",
        "\n",
        "print(f\"\\n{'='*50}\")\n",
        "print(f\"Starting training with early stopping (patience={patience})\")\n",
        "print(f\"and learning rate scheduling (ReduceLROnPlateau)\")\n",
        "print(f\"{'='*50}\\n\")\n",
        "\n",
        "for epoch in range(num_epochs):\n",
        "    if early_stop:\n",
        "        print(f\"[!] Early stopping triggered at epoch {epoch+1}\")\n",
        "        break\n",
        "\n",
        "    epoch_start = time.time()\n",
        "\n",
        "    # Training phase\n",
        "    model.train()\n",
        "    train_loss = 0.0\n",
        "    train_batches = 0\n",
        "\n",
        "    with tqdm(train_loader, unit=\"batch\", desc=f\"Epoch {epoch+1:3d}/{num_epochs} [Train]\") as pbar:\n",
        "        for images, labels in pbar:\n",
        "            images, labels = images.to(device), labels.to(device)\n",
        "\n",
        "            optimizer.zero_grad()\n",
        "            outputs = model(images)  # Shape: [batch_size, 3]\n",
        "            loss = criterion(outputs, labels)\n",
        "            loss.backward()\n",
        "            optimizer.step()\n",
        "\n",
        "            train_loss += loss.item() * images.size(0)\n",
        "            train_batches += 1\n",
        "\n",
        "            pbar.set_postfix({\n",
        "                'Loss': f\"{loss.item():.4f}\",\n",
        "                'AvgLoss': f\"{(train_loss/(train_batches*images.size(0))):.4f}\"\n",
        "            })\n",
        "\n",
        "    # Validation phase\n",
        "    model.eval()\n",
        "    val_loss = 0.0\n",
        "    correct = 0\n",
        "    total = 0\n",
        "\n",
        "    with tqdm(val_loader, unit=\"batch\", desc=f\"Epoch {epoch+1:3d}/{num_epochs} [Val]  \") as pbar:\n",
        "        with torch.no_grad():\n",
        "            for images, labels in pbar:\n",
        "                images, labels = images.to(device), labels.to(device)\n",
        "                outputs = model(images)\n",
        "                loss = criterion(outputs, labels)\n",
        "\n",
        "                val_loss += loss.item() * images.size(0)\n",
        "                _, predicted = torch.max(outputs.data, 1)  # Get class indices\n",
        "                correct += (predicted == labels).sum().item()\n",
        "                total += labels.size(0)\n",
        "\n",
        "                pbar.set_postfix({\n",
        "                    'Loss': f\"{loss.item():.4f}\",\n",
        "                    'Acc': f\"{(correct/total):.4f}\"\n",
        "                })\n",
        "\n",
        "    # Calculate metrics\n",
        "    epoch_train_loss = train_loss / len(train_dataset)\n",
        "    epoch_val_loss = val_loss / len(val_dataset)\n",
        "    val_acc = correct / total\n",
        "    current_lr = optimizer.param_groups[0]['lr']\n",
        "\n",
        "    # Update learning rate\n",
        "    scheduler.step(epoch_val_loss)\n",
        "\n",
        "    # Store history\n",
        "    history['train_loss'].append(epoch_train_loss)\n",
        "    history['val_loss'].append(epoch_val_loss)\n",
        "    history['val_acc'].append(val_acc)\n",
        "    history['lr'].append(current_lr)\n",
        "\n",
        "    # Early stopping logic\n",
        "    if epoch_val_loss < best_val_loss:\n",
        "        best_val_loss = epoch_val_loss\n",
        "        epochs_no_improve = 0\n",
        "        torch.save(model.state_dict(), 'best_model.pth')\n",
        "        improvement_msg = f\"(▼ {best_val_loss - epoch_val_loss:.4f})\"\n",
        "    else:\n",
        "        epochs_no_improve += 1\n",
        "        improvement_msg = f\"(▲ {epoch_val_loss - best_val_loss:.4f}) [Patience left: {patience - epochs_no_improve}]\"\n",
        "        if epochs_no_improve >= patience:\n",
        "            early_stop = True\n",
        "\n",
        "    # Calculate epoch duration\n",
        "    epoch_time = time.time() - epoch_start\n",
        "    time_remaining = (epoch_time * (num_epochs - epoch - 1)) / 3600 if not early_stop else 0\n",
        "\n",
        "    # Detailed epoch report\n",
        "    print(f\"\\nEpoch {epoch+1:3d}/{num_epochs} | Duration: {epoch_time:.1f}s | Remaining: ~{time_remaining:.1f}h\")\n",
        "    print(f\"Train Loss: {epoch_train_loss:.4f}\")\n",
        "    print(f\"Val Loss:   {epoch_val_loss:.4f} {improvement_msg}\")\n",
        "    print(f\"Val Acc:    {val_acc:.4f}\")\n",
        "    print(f\"Learning Rate: {current_lr:.2e}\")\n",
        "    print(f\"-\"*60)\n",
        "\n",
        "# Load best model for testing\n",
        "model.load_state_dict(torch.load('best_model.pth'))\n",
        "print(\"\\nLoaded best model weights for final testing\")\n",
        "\n",
        "# Final evaluation\n",
        "model.eval()\n",
        "test_correct = 0\n",
        "test_total = 0\n",
        "test_loss = 0.0\n",
        "\n",
        "with tqdm(test_loader, unit=\"batch\", desc=\"Final Testing\") as pbar:\n",
        "    with torch.no_grad():\n",
        "        for images, labels in pbar:\n",
        "            images, labels = images.to(device), labels.to(device)\n",
        "            outputs = model(images)\n",
        "            loss = criterion(outputs, labels)\n",
        "\n",
        "            test_loss += loss.item() * images.size(0)\n",
        "            _, predicted = torch.max(outputs.data, 1)\n",
        "            test_correct += (predicted == labels).sum().item()\n",
        "            test_total += labels.size(0)\n",
        "\n",
        "            pbar.set_postfix({\n",
        "                'Loss': f\"{loss.item():.4f}\",\n",
        "                'Acc': f\"{(test_correct/test_total):.4f}\"\n",
        "            })\n",
        "\n",
        "print(f\"\\n{'='*50}\")\n",
        "print(f\"Final Test Results:\")\n",
        "print(f\"Loss: {test_loss/len(test_dataset):.4f}\")\n",
        "print(f\"Accuracy: {test_correct/test_total:.4f}\")\n",
        "print(f\"{'='*50}\")"
      ],
      "metadata": {
        "id": "0YfaaF-I_Pw3",
        "colab": {
          "base_uri": "https://localhost:8080/"
        },
        "outputId": "69162c77-3915-4215-998e-cfff8b48a63e"
      },
      "execution_count": null,
      "outputs": [
        {
          "metadata": {
            "tags": null
          },
          "name": "stdout",
          "output_type": "stream",
          "text": [
            "\n",
            "==================================================\n",
            "Starting training with early stopping (patience=20)\n",
            "and learning rate scheduling (ReduceLROnPlateau)\n",
            "==================================================\n",
            "\n"
          ]
        },
        {
          "metadata": {
            "tags": null
          },
          "name": "stderr",
          "output_type": "stream",
          "text": [
            "Epoch   1/500 [Train]: 100%|██████████| 44/44 [03:07<00:00,  4.26s/batch, Loss=0.7682, AvgLoss=0.9613]\n",
            "Epoch   1/500 [Val]  : 100%|██████████| 5/5 [00:22<00:00,  4.45s/batch, Loss=0.6508, Acc=0.7051]\n"
          ]
        },
        {
          "metadata": {
            "tags": null
          },
          "name": "stdout",
          "output_type": "stream",
          "text": [
            "\n",
            "Epoch   1/500 | Duration: 221.3s | Remaining: ~30.7h\n",
            "Train Loss: 0.7548\n",
            "Val Loss:   0.7275 (▼ 0.0000)\n",
            "Val Acc:    0.7051\n",
            "Learning Rate: 1.00e-03\n",
            "------------------------------------------------------------\n"
          ]
        },
        {
          "metadata": {
            "tags": null
          },
          "name": "stderr",
          "output_type": "stream",
          "text": [
            "Epoch   2/500 [Train]: 100%|██████████| 44/44 [03:16<00:00,  4.48s/batch, Loss=0.5825, AvgLoss=0.7406]\n",
            "Epoch   2/500 [Val]  : 100%|██████████| 5/5 [00:22<00:00,  4.41s/batch, Loss=0.6260, Acc=0.6923]\n"
          ]
        },
        {
          "metadata": {
            "tags": null
          },
          "name": "stdout",
          "output_type": "stream",
          "text": [
            "\n",
            "Epoch   2/500 | Duration: 228.9s | Remaining: ~31.7h\n",
            "Train Loss: 0.5815\n",
            "Val Loss:   0.6854 (▼ 0.0000)\n",
            "Val Acc:    0.6923\n",
            "Learning Rate: 1.00e-03\n",
            "------------------------------------------------------------\n"
          ]
        },
        {
          "metadata": {
            "tags": null
          },
          "name": "stderr",
          "output_type": "stream",
          "text": [
            "Epoch   3/500 [Train]: 100%|██████████| 44/44 [03:16<00:00,  4.47s/batch, Loss=0.5971, AvgLoss=0.6775]\n",
            "Epoch   3/500 [Val]  : 100%|██████████| 5/5 [00:22<00:00,  4.46s/batch, Loss=0.6922, Acc=0.6987]\n"
          ]
        },
        {
          "metadata": {
            "tags": null
          },
          "name": "stdout",
          "output_type": "stream",
          "text": [
            "\n",
            "Epoch   3/500 | Duration: 229.7s | Remaining: ~31.7h\n",
            "Train Loss: 0.5319\n",
            "Val Loss:   0.6465 (▼ 0.0000)\n",
            "Val Acc:    0.6987\n",
            "Learning Rate: 1.00e-03\n",
            "------------------------------------------------------------\n"
          ]
        },
        {
          "metadata": {
            "tags": null
          },
          "name": "stderr",
          "output_type": "stream",
          "text": [
            "Epoch   4/500 [Train]: 100%|██████████| 44/44 [03:16<00:00,  4.47s/batch, Loss=0.4125, AvgLoss=0.6387]\n",
            "Epoch   4/500 [Val]  : 100%|██████████| 5/5 [00:22<00:00,  4.45s/batch, Loss=0.5971, Acc=0.7244]\n"
          ]
        },
        {
          "metadata": {
            "tags": null
          },
          "name": "stdout",
          "output_type": "stream",
          "text": [
            "\n",
            "Epoch   4/500 | Duration: 229.3s | Remaining: ~31.6h\n",
            "Train Loss: 0.5014\n",
            "Val Loss:   0.6334 (▼ 0.0000)\n",
            "Val Acc:    0.7244\n",
            "Learning Rate: 1.00e-03\n",
            "------------------------------------------------------------\n"
          ]
        },
        {
          "metadata": {
            "tags": null
          },
          "name": "stderr",
          "output_type": "stream",
          "text": [
            "Epoch   5/500 [Train]: 100%|██████████| 44/44 [03:16<00:00,  4.48s/batch, Loss=0.5963, AvgLoss=0.5740]\n",
            "Epoch   5/500 [Val]  : 100%|██████████| 5/5 [00:22<00:00,  4.45s/batch, Loss=0.5651, Acc=0.7244]\n"
          ]
        },
        {
          "metadata": {
            "tags": null
          },
          "name": "stdout",
          "output_type": "stream",
          "text": [
            "\n",
            "Epoch   5/500 | Duration: 227.2s | Remaining: ~31.2h\n",
            "Train Loss: 0.4507\n",
            "Val Loss:   0.5919 (▼ 0.0000)\n",
            "Val Acc:    0.7244\n",
            "Learning Rate: 1.00e-03\n",
            "------------------------------------------------------------\n"
          ]
        },
        {
          "metadata": {
            "tags": null
          },
          "name": "stderr",
          "output_type": "stream",
          "text": [
            "Epoch   6/500 [Train]: 100%|██████████| 44/44 [03:16<00:00,  4.47s/batch, Loss=0.2780, AvgLoss=0.5518]\n",
            "Epoch   6/500 [Val]  : 100%|██████████| 5/5 [00:22<00:00,  4.44s/batch, Loss=0.6176, Acc=0.7244]\n"
          ]
        },
        {
          "metadata": {
            "tags": null
          },
          "name": "stdout",
          "output_type": "stream",
          "text": [
            "\n",
            "Epoch   6/500 | Duration: 218.8s | Remaining: ~30.0h\n",
            "Train Loss: 0.4333\n",
            "Val Loss:   0.6578 (▲ 0.0660) [Patience left: 19]\n",
            "Val Acc:    0.7244\n",
            "Learning Rate: 1.00e-03\n",
            "------------------------------------------------------------\n"
          ]
        },
        {
          "metadata": {
            "tags": null
          },
          "name": "stderr",
          "output_type": "stream",
          "text": [
            "Epoch   7/500 [Train]: 100%|██████████| 44/44 [03:16<00:00,  4.47s/batch, Loss=0.4043, AvgLoss=0.5484]\n",
            "Epoch   7/500 [Val]  : 100%|██████████| 5/5 [00:22<00:00,  4.46s/batch, Loss=0.5425, Acc=0.7372]\n"
          ]
        },
        {
          "metadata": {
            "tags": null
          },
          "name": "stdout",
          "output_type": "stream",
          "text": [
            "\n",
            "Epoch   7/500 | Duration: 218.8s | Remaining: ~30.0h\n",
            "Train Loss: 0.4306\n",
            "Val Loss:   0.6411 (▲ 0.0493) [Patience left: 18]\n",
            "Val Acc:    0.7372\n",
            "Learning Rate: 1.00e-03\n",
            "------------------------------------------------------------\n"
          ]
        },
        {
          "metadata": {
            "tags": null
          },
          "name": "stderr",
          "output_type": "stream",
          "text": [
            "Epoch   8/500 [Train]: 100%|██████████| 44/44 [03:16<00:00,  4.46s/batch, Loss=0.2784, AvgLoss=0.5252]\n",
            "Epoch   8/500 [Val]  : 100%|██████████| 5/5 [00:21<00:00,  4.40s/batch, Loss=0.5468, Acc=0.7500]\n"
          ]
        },
        {
          "metadata": {
            "tags": null
          },
          "name": "stdout",
          "output_type": "stream",
          "text": [
            "\n",
            "Epoch   8/500 | Duration: 218.1s | Remaining: ~29.8h\n",
            "Train Loss: 0.4123\n",
            "Val Loss:   0.5975 (▲ 0.0057) [Patience left: 17]\n",
            "Val Acc:    0.7500\n",
            "Learning Rate: 1.00e-03\n",
            "------------------------------------------------------------\n"
          ]
        },
        {
          "metadata": {
            "tags": null
          },
          "name": "stderr",
          "output_type": "stream",
          "text": [
            "Epoch   9/500 [Train]: 100%|██████████| 44/44 [03:16<00:00,  4.46s/batch, Loss=0.3369, AvgLoss=0.4891]\n",
            "Epoch   9/500 [Val]  : 100%|██████████| 5/5 [00:22<00:00,  4.40s/batch, Loss=0.5296, Acc=0.6987]\n"
          ]
        },
        {
          "metadata": {
            "tags": null
          },
          "name": "stdout",
          "output_type": "stream",
          "text": [
            "\n",
            "Epoch   9/500 | Duration: 236.8s | Remaining: ~32.3h\n",
            "Train Loss: 0.3840\n",
            "Val Loss:   0.5891 (▼ 0.0000)\n",
            "Val Acc:    0.6987\n",
            "Learning Rate: 1.00e-03\n",
            "------------------------------------------------------------\n"
          ]
        },
        {
          "metadata": {
            "tags": null
          },
          "name": "stderr",
          "output_type": "stream",
          "text": [
            "Epoch  10/500 [Train]: 100%|██████████| 44/44 [03:17<00:00,  4.48s/batch, Loss=0.3845, AvgLoss=0.4714]\n",
            "Epoch  10/500 [Val]  : 100%|██████████| 5/5 [00:22<00:00,  4.42s/batch, Loss=0.5443, Acc=0.7179]\n"
          ]
        },
        {
          "metadata": {
            "tags": null
          },
          "name": "stdout",
          "output_type": "stream",
          "text": [
            "\n",
            "Epoch  10/500 | Duration: 227.0s | Remaining: ~30.9h\n",
            "Train Loss: 0.3701\n",
            "Val Loss:   0.5857 (▼ 0.0000)\n",
            "Val Acc:    0.7179\n",
            "Learning Rate: 1.00e-03\n",
            "------------------------------------------------------------\n"
          ]
        },
        {
          "metadata": {
            "tags": null
          },
          "name": "stderr",
          "output_type": "stream",
          "text": [
            "Epoch  11/500 [Train]: 100%|██████████| 44/44 [03:16<00:00,  4.47s/batch, Loss=0.4550, AvgLoss=0.4459]\n",
            "Epoch  11/500 [Val]  : 100%|██████████| 5/5 [00:21<00:00,  4.39s/batch, Loss=0.5271, Acc=0.7436]\n"
          ]
        },
        {
          "metadata": {
            "tags": null
          },
          "name": "stdout",
          "output_type": "stream",
          "text": [
            "\n",
            "Epoch  11/500 | Duration: 246.0s | Remaining: ~33.4h\n",
            "Train Loss: 0.3501\n",
            "Val Loss:   0.5649 (▼ 0.0000)\n",
            "Val Acc:    0.7436\n",
            "Learning Rate: 1.00e-03\n",
            "------------------------------------------------------------\n"
          ]
        },
        {
          "metadata": {
            "tags": null
          },
          "name": "stderr",
          "output_type": "stream",
          "text": [
            "Epoch  12/500 [Train]: 100%|██████████| 44/44 [03:17<00:00,  4.48s/batch, Loss=0.2544, AvgLoss=0.4357]\n",
            "Epoch  12/500 [Val]  : 100%|██████████| 5/5 [00:22<00:00,  4.45s/batch, Loss=0.4863, Acc=0.7372]\n"
          ]
        },
        {
          "metadata": {
            "tags": null
          },
          "name": "stdout",
          "output_type": "stream",
          "text": [
            "\n",
            "Epoch  12/500 | Duration: 224.0s | Remaining: ~30.4h\n",
            "Train Loss: 0.3421\n",
            "Val Loss:   0.5550 (▼ 0.0000)\n",
            "Val Acc:    0.7372\n",
            "Learning Rate: 1.00e-03\n",
            "------------------------------------------------------------\n"
          ]
        },
        {
          "metadata": {
            "tags": null
          },
          "name": "stderr",
          "output_type": "stream",
          "text": [
            "Epoch  13/500 [Train]: 100%|██████████| 44/44 [03:16<00:00,  4.47s/batch, Loss=0.5092, AvgLoss=0.4379]\n",
            "Epoch  13/500 [Val]  : 100%|██████████| 5/5 [00:21<00:00,  4.39s/batch, Loss=0.4976, Acc=0.7564]\n"
          ]
        },
        {
          "metadata": {
            "tags": null
          },
          "name": "stdout",
          "output_type": "stream",
          "text": [
            "\n",
            "Epoch  13/500 | Duration: 218.5s | Remaining: ~29.6h\n",
            "Train Loss: 0.3438\n",
            "Val Loss:   0.5981 (▲ 0.0431) [Patience left: 19]\n",
            "Val Acc:    0.7564\n",
            "Learning Rate: 1.00e-03\n",
            "------------------------------------------------------------\n"
          ]
        },
        {
          "metadata": {
            "tags": null
          },
          "name": "stderr",
          "output_type": "stream",
          "text": [
            "Epoch  14/500 [Train]: 100%|██████████| 44/44 [03:16<00:00,  4.47s/batch, Loss=0.1978, AvgLoss=0.4676]\n",
            "Epoch  14/500 [Val]  : 100%|██████████| 5/5 [00:22<00:00,  4.41s/batch, Loss=0.6075, Acc=0.6987]\n"
          ]
        },
        {
          "metadata": {
            "tags": null
          },
          "name": "stdout",
          "output_type": "stream",
          "text": [
            "\n",
            "Epoch  14/500 | Duration: 218.7s | Remaining: ~29.5h\n",
            "Train Loss: 0.3672\n",
            "Val Loss:   0.5807 (▲ 0.0257) [Patience left: 18]\n",
            "Val Acc:    0.6987\n",
            "Learning Rate: 1.00e-03\n",
            "------------------------------------------------------------\n"
          ]
        },
        {
          "metadata": {
            "tags": null
          },
          "name": "stderr",
          "output_type": "stream",
          "text": [
            "Epoch  15/500 [Train]: 100%|██████████| 44/44 [03:16<00:00,  4.46s/batch, Loss=0.1850, AvgLoss=0.4344]\n",
            "Epoch  15/500 [Val]  : 100%|██████████| 5/5 [00:22<00:00,  4.44s/batch, Loss=0.4922, Acc=0.7500]\n"
          ]
        },
        {
          "metadata": {
            "tags": null
          },
          "name": "stdout",
          "output_type": "stream",
          "text": [
            "\n",
            "Epoch  15/500 | Duration: 218.6s | Remaining: ~29.4h\n",
            "Train Loss: 0.3410\n",
            "Val Loss:   0.5674 (▲ 0.0123) [Patience left: 17]\n",
            "Val Acc:    0.7500\n",
            "Learning Rate: 1.00e-03\n",
            "------------------------------------------------------------\n"
          ]
        },
        {
          "metadata": {
            "tags": null
          },
          "name": "stderr",
          "output_type": "stream",
          "text": [
            "Epoch  16/500 [Train]: 100%|██████████| 44/44 [03:16<00:00,  4.46s/batch, Loss=0.2572, AvgLoss=0.3879]\n",
            "Epoch  16/500 [Val]  : 100%|██████████| 5/5 [00:22<00:00,  4.45s/batch, Loss=0.4847, Acc=0.7500]\n"
          ]
        },
        {
          "output_type": "stream",
          "name": "stdout",
          "text": [
            "\n",
            "Epoch  16/500 | Duration: 243.2s | Remaining: ~32.7h\n",
            "Train Loss: 0.3046\n",
            "Val Loss:   0.5365 (▼ 0.0000)\n",
            "Val Acc:    0.7500\n",
            "Learning Rate: 1.00e-03\n",
            "------------------------------------------------------------\n"
          ]
        },
        {
          "output_type": "stream",
          "name": "stderr",
          "text": [
            "Epoch  17/500 [Train]: 100%|██████████| 44/44 [03:17<00:00,  4.48s/batch, Loss=0.3387, AvgLoss=0.3716]\n",
            "Epoch  17/500 [Val]  : 100%|██████████| 5/5 [00:22<00:00,  4.42s/batch, Loss=0.4592, Acc=0.7500]\n"
          ]
        },
        {
          "output_type": "stream",
          "name": "stdout",
          "text": [
            "\n",
            "Epoch  17/500 | Duration: 219.2s | Remaining: ~29.4h\n",
            "Train Loss: 0.2917\n",
            "Val Loss:   0.5652 (▲ 0.0287) [Patience left: 19]\n",
            "Val Acc:    0.7500\n",
            "Learning Rate: 1.00e-03\n",
            "------------------------------------------------------------\n"
          ]
        },
        {
          "output_type": "stream",
          "name": "stderr",
          "text": [
            "Epoch  18/500 [Train]: 100%|██████████| 44/44 [03:16<00:00,  4.46s/batch, Loss=0.2274, AvgLoss=0.3752]\n",
            "Epoch  18/500 [Val]  : 100%|██████████| 5/5 [00:22<00:00,  4.44s/batch, Loss=0.4961, Acc=0.7564]\n"
          ]
        },
        {
          "output_type": "stream",
          "name": "stdout",
          "text": [
            "\n",
            "Epoch  18/500 | Duration: 218.6s | Remaining: ~29.3h\n",
            "Train Loss: 0.2946\n",
            "Val Loss:   0.6250 (▲ 0.0885) [Patience left: 18]\n",
            "Val Acc:    0.7564\n",
            "Learning Rate: 1.00e-03\n",
            "------------------------------------------------------------\n"
          ]
        },
        {
          "output_type": "stream",
          "name": "stderr",
          "text": [
            "Epoch  19/500 [Train]: 100%|██████████| 44/44 [03:16<00:00,  4.46s/batch, Loss=0.4258, AvgLoss=0.3653]\n",
            "Epoch  19/500 [Val]  : 100%|██████████| 5/5 [00:22<00:00,  4.44s/batch, Loss=0.5431, Acc=0.7564]\n"
          ]
        },
        {
          "output_type": "stream",
          "name": "stdout",
          "text": [
            "\n",
            "Epoch  19/500 | Duration: 218.7s | Remaining: ~29.2h\n",
            "Train Loss: 0.2868\n",
            "Val Loss:   0.5573 (▲ 0.0208) [Patience left: 17]\n",
            "Val Acc:    0.7564\n",
            "Learning Rate: 1.00e-03\n",
            "------------------------------------------------------------\n"
          ]
        },
        {
          "output_type": "stream",
          "name": "stderr",
          "text": [
            "Epoch  20/500 [Train]: 100%|██████████| 44/44 [03:16<00:00,  4.47s/batch, Loss=0.2504, AvgLoss=0.3820]\n",
            "Epoch  20/500 [Val]  : 100%|██████████| 5/5 [00:22<00:00,  4.44s/batch, Loss=0.5115, Acc=0.7436]\n"
          ]
        },
        {
          "output_type": "stream",
          "name": "stdout",
          "text": [
            "\n",
            "Epoch  20/500 | Duration: 218.8s | Remaining: ~29.2h\n",
            "Train Loss: 0.2999\n",
            "Val Loss:   0.5485 (▲ 0.0119) [Patience left: 16]\n",
            "Val Acc:    0.7436\n",
            "Learning Rate: 1.00e-03\n",
            "------------------------------------------------------------\n"
          ]
        },
        {
          "output_type": "stream",
          "name": "stderr",
          "text": [
            "Epoch  21/500 [Train]: 100%|██████████| 44/44 [03:16<00:00,  4.46s/batch, Loss=0.1971, AvgLoss=0.3502]\n",
            "Epoch  21/500 [Val]  : 100%|██████████| 5/5 [00:22<00:00,  4.43s/batch, Loss=0.4632, Acc=0.7564]\n"
          ]
        },
        {
          "output_type": "stream",
          "name": "stdout",
          "text": [
            "\n",
            "Epoch  21/500 | Duration: 218.3s | Remaining: ~29.0h\n",
            "Train Loss: 0.2749\n",
            "Val Loss:   0.5623 (▲ 0.0258) [Patience left: 15]\n",
            "Val Acc:    0.7564\n",
            "Learning Rate: 1.00e-03\n",
            "------------------------------------------------------------\n"
          ]
        },
        {
          "output_type": "stream",
          "name": "stderr",
          "text": [
            "Epoch  22/500 [Train]: 100%|██████████| 44/44 [03:16<00:00,  4.47s/batch, Loss=0.2810, AvgLoss=0.3527]\n",
            "Epoch  22/500 [Val]  : 100%|██████████| 5/5 [00:22<00:00,  4.46s/batch, Loss=0.4530, Acc=0.7500]\n"
          ]
        },
        {
          "output_type": "stream",
          "name": "stdout",
          "text": [
            "\n",
            "Epoch  22/500 | Duration: 218.9s | Remaining: ~29.1h\n",
            "Train Loss: 0.2769\n",
            "Val Loss:   0.6090 (▲ 0.0725) [Patience left: 14]\n",
            "Val Acc:    0.7500\n",
            "Learning Rate: 1.00e-03\n",
            "------------------------------------------------------------\n"
          ]
        },
        {
          "output_type": "stream",
          "name": "stderr",
          "text": [
            "Epoch  23/500 [Train]: 100%|██████████| 44/44 [03:16<00:00,  4.46s/batch, Loss=0.2282, AvgLoss=0.3162]\n",
            "Epoch  23/500 [Val]  : 100%|██████████| 5/5 [00:22<00:00,  4.43s/batch, Loss=0.4556, Acc=0.7500]\n"
          ]
        },
        {
          "output_type": "stream",
          "name": "stdout",
          "text": [
            "\n",
            "Epoch  23/500 | Duration: 218.4s | Remaining: ~28.9h\n",
            "Train Loss: 0.2482\n",
            "Val Loss:   0.5615 (▲ 0.0250) [Patience left: 13]\n",
            "Val Acc:    0.7500\n",
            "Learning Rate: 1.00e-04\n",
            "------------------------------------------------------------\n"
          ]
        },
        {
          "output_type": "stream",
          "name": "stderr",
          "text": [
            "Epoch  24/500 [Train]: 100%|██████████| 44/44 [03:16<00:00,  4.47s/batch, Loss=0.1618, AvgLoss=0.3067]\n",
            "Epoch  24/500 [Val]  : 100%|██████████| 5/5 [00:22<00:00,  4.40s/batch, Loss=0.4526, Acc=0.7692]\n"
          ]
        },
        {
          "output_type": "stream",
          "name": "stdout",
          "text": [
            "\n",
            "Epoch  24/500 | Duration: 218.9s | Remaining: ~28.9h\n",
            "Train Loss: 0.2408\n",
            "Val Loss:   0.5375 (▲ 0.0010) [Patience left: 12]\n",
            "Val Acc:    0.7692\n",
            "Learning Rate: 1.00e-04\n",
            "------------------------------------------------------------\n"
          ]
        },
        {
          "output_type": "stream",
          "name": "stderr",
          "text": [
            "Epoch  25/500 [Train]: 100%|██████████| 44/44 [03:16<00:00,  4.47s/batch, Loss=0.1931, AvgLoss=0.3063]\n",
            "Epoch  25/500 [Val]  : 100%|██████████| 5/5 [00:22<00:00,  4.44s/batch, Loss=0.4565, Acc=0.7692]\n"
          ]
        },
        {
          "output_type": "stream",
          "name": "stdout",
          "text": [
            "\n",
            "Epoch  25/500 | Duration: 248.6s | Remaining: ~32.8h\n",
            "Train Loss: 0.2405\n",
            "Val Loss:   0.5362 (▼ 0.0000)\n",
            "Val Acc:    0.7692\n",
            "Learning Rate: 1.00e-04\n",
            "------------------------------------------------------------\n"
          ]
        },
        {
          "output_type": "stream",
          "name": "stderr",
          "text": [
            "Epoch  26/500 [Train]: 100%|██████████| 44/44 [03:17<00:00,  4.48s/batch, Loss=0.1543, AvgLoss=0.3058]\n",
            "Epoch  26/500 [Val]  : 100%|██████████| 5/5 [00:22<00:00,  4.41s/batch, Loss=0.4525, Acc=0.7692]\n"
          ]
        },
        {
          "output_type": "stream",
          "name": "stdout",
          "text": [
            "\n",
            "Epoch  26/500 | Duration: 219.3s | Remaining: ~28.9h\n",
            "Train Loss: 0.2401\n",
            "Val Loss:   0.5372 (▲ 0.0009) [Patience left: 19]\n",
            "Val Acc:    0.7692\n",
            "Learning Rate: 1.00e-04\n",
            "------------------------------------------------------------\n"
          ]
        },
        {
          "output_type": "stream",
          "name": "stderr",
          "text": [
            "Epoch  27/500 [Train]: 100%|██████████| 44/44 [03:16<00:00,  4.46s/batch, Loss=0.2802, AvgLoss=0.3054]\n",
            "Epoch  27/500 [Val]  : 100%|██████████| 5/5 [00:22<00:00,  4.41s/batch, Loss=0.4474, Acc=0.7692]\n"
          ]
        },
        {
          "output_type": "stream",
          "name": "stdout",
          "text": [
            "\n",
            "Epoch  27/500 | Duration: 218.5s | Remaining: ~28.7h\n",
            "Train Loss: 0.2398\n",
            "Val Loss:   0.5380 (▲ 0.0017) [Patience left: 18]\n",
            "Val Acc:    0.7692\n",
            "Learning Rate: 1.00e-04\n",
            "------------------------------------------------------------\n"
          ]
        },
        {
          "output_type": "stream",
          "name": "stderr",
          "text": [
            "Epoch  28/500 [Train]: 100%|██████████| 44/44 [03:16<00:00,  4.46s/batch, Loss=0.2171, AvgLoss=0.3033]\n",
            "Epoch  28/500 [Val]  : 100%|██████████| 5/5 [00:22<00:00,  4.46s/batch, Loss=0.4617, Acc=0.7821]\n"
          ]
        },
        {
          "output_type": "stream",
          "name": "stdout",
          "text": [
            "\n",
            "Epoch  28/500 | Duration: 246.8s | Remaining: ~32.4h\n",
            "Train Loss: 0.2382\n",
            "Val Loss:   0.5319 (▼ 0.0000)\n",
            "Val Acc:    0.7821\n",
            "Learning Rate: 1.00e-04\n",
            "------------------------------------------------------------\n"
          ]
        },
        {
          "output_type": "stream",
          "name": "stderr",
          "text": [
            "Epoch  29/500 [Train]: 100%|██████████| 44/44 [03:17<00:00,  4.48s/batch, Loss=0.2163, AvgLoss=0.3069]\n",
            "Epoch  29/500 [Val]  : 100%|██████████| 5/5 [00:22<00:00,  4.45s/batch, Loss=0.4483, Acc=0.7756]\n"
          ]
        },
        {
          "output_type": "stream",
          "name": "stdout",
          "text": [
            "\n",
            "Epoch  29/500 | Duration: 219.5s | Remaining: ~28.7h\n",
            "Train Loss: 0.2409\n",
            "Val Loss:   0.5352 (▲ 0.0032) [Patience left: 19]\n",
            "Val Acc:    0.7756\n",
            "Learning Rate: 1.00e-04\n",
            "------------------------------------------------------------\n"
          ]
        },
        {
          "output_type": "stream",
          "name": "stderr",
          "text": [
            "Epoch  30/500 [Train]: 100%|██████████| 44/44 [03:17<00:00,  4.48s/batch, Loss=0.1498, AvgLoss=0.3020]\n",
            "Epoch  30/500 [Val]  : 100%|██████████| 5/5 [00:22<00:00,  4.44s/batch, Loss=0.4572, Acc=0.7436]\n"
          ]
        },
        {
          "output_type": "stream",
          "name": "stdout",
          "text": [
            "\n",
            "Epoch  30/500 | Duration: 219.3s | Remaining: ~28.6h\n",
            "Train Loss: 0.2371\n",
            "Val Loss:   0.5461 (▲ 0.0142) [Patience left: 18]\n",
            "Val Acc:    0.7436\n",
            "Learning Rate: 1.00e-04\n",
            "------------------------------------------------------------\n"
          ]
        },
        {
          "output_type": "stream",
          "name": "stderr",
          "text": [
            "Epoch  31/500 [Train]: 100%|██████████| 44/44 [03:16<00:00,  4.47s/batch, Loss=0.2379, AvgLoss=0.3032]\n",
            "Epoch  31/500 [Val]  : 100%|██████████| 5/5 [00:21<00:00,  4.40s/batch, Loss=0.4498, Acc=0.7500]\n"
          ]
        },
        {
          "output_type": "stream",
          "name": "stdout",
          "text": [
            "\n",
            "Epoch  31/500 | Duration: 218.5s | Remaining: ~28.5h\n",
            "Train Loss: 0.2381\n",
            "Val Loss:   0.5553 (▲ 0.0233) [Patience left: 17]\n",
            "Val Acc:    0.7500\n",
            "Learning Rate: 1.00e-04\n",
            "------------------------------------------------------------\n"
          ]
        },
        {
          "output_type": "stream",
          "name": "stderr",
          "text": [
            "Epoch  32/500 [Train]: 100%|██████████| 44/44 [03:16<00:00,  4.47s/batch, Loss=0.3417, AvgLoss=0.3025]\n",
            "Epoch  32/500 [Val]  : 100%|██████████| 5/5 [00:22<00:00,  4.45s/batch, Loss=0.4410, Acc=0.7500]\n"
          ]
        },
        {
          "output_type": "stream",
          "name": "stdout",
          "text": [
            "\n",
            "Epoch  32/500 | Duration: 219.1s | Remaining: ~28.5h\n",
            "Train Loss: 0.2375\n",
            "Val Loss:   0.5492 (▲ 0.0173) [Patience left: 16]\n",
            "Val Acc:    0.7500\n",
            "Learning Rate: 1.00e-04\n",
            "------------------------------------------------------------\n"
          ]
        },
        {
          "output_type": "stream",
          "name": "stderr",
          "text": [
            "Epoch  33/500 [Train]: 100%|██████████| 44/44 [03:16<00:00,  4.46s/batch, Loss=0.3042, AvgLoss=0.3018]\n",
            "Epoch  33/500 [Val]  : 100%|██████████| 5/5 [00:22<00:00,  4.44s/batch, Loss=0.4547, Acc=0.7885]\n"
          ]
        },
        {
          "output_type": "stream",
          "name": "stdout",
          "text": [
            "\n",
            "Epoch  33/500 | Duration: 240.9s | Remaining: ~31.2h\n",
            "Train Loss: 0.2370\n",
            "Val Loss:   0.5299 (▼ 0.0000)\n",
            "Val Acc:    0.7885\n",
            "Learning Rate: 1.00e-04\n",
            "------------------------------------------------------------\n"
          ]
        },
        {
          "output_type": "stream",
          "name": "stderr",
          "text": [
            "Epoch  34/500 [Train]: 100%|██████████| 44/44 [03:17<00:00,  4.49s/batch, Loss=0.2160, AvgLoss=0.2998]\n",
            "Epoch  34/500 [Val]  : 100%|██████████| 5/5 [00:22<00:00,  4.40s/batch, Loss=0.4513, Acc=0.7756]\n"
          ]
        },
        {
          "output_type": "stream",
          "name": "stdout",
          "text": [
            "\n",
            "Epoch  34/500 | Duration: 219.6s | Remaining: ~28.4h\n",
            "Train Loss: 0.2354\n",
            "Val Loss:   0.5351 (▲ 0.0052) [Patience left: 19]\n",
            "Val Acc:    0.7756\n",
            "Learning Rate: 1.00e-04\n",
            "------------------------------------------------------------\n"
          ]
        },
        {
          "output_type": "stream",
          "name": "stderr",
          "text": [
            "Epoch  35/500 [Train]: 100%|██████████| 44/44 [03:16<00:00,  4.47s/batch, Loss=0.1876, AvgLoss=0.2991]\n",
            "Epoch  35/500 [Val]  : 100%|██████████| 5/5 [00:22<00:00,  4.45s/batch, Loss=0.4487, Acc=0.7756]\n"
          ]
        },
        {
          "output_type": "stream",
          "name": "stdout",
          "text": [
            "\n",
            "Epoch  35/500 | Duration: 218.9s | Remaining: ~28.3h\n",
            "Train Loss: 0.2348\n",
            "Val Loss:   0.5388 (▲ 0.0089) [Patience left: 18]\n",
            "Val Acc:    0.7756\n",
            "Learning Rate: 1.00e-04\n",
            "------------------------------------------------------------\n"
          ]
        },
        {
          "output_type": "stream",
          "name": "stderr",
          "text": [
            "Epoch  36/500 [Train]: 100%|██████████| 44/44 [03:16<00:00,  4.46s/batch, Loss=0.2122, AvgLoss=0.2982]\n",
            "Epoch  36/500 [Val]  : 100%|██████████| 5/5 [00:22<00:00,  4.43s/batch, Loss=0.4497, Acc=0.7500]\n"
          ]
        },
        {
          "output_type": "stream",
          "name": "stdout",
          "text": [
            "\n",
            "Epoch  36/500 | Duration: 218.5s | Remaining: ~28.2h\n",
            "Train Loss: 0.2341\n",
            "Val Loss:   0.5639 (▲ 0.0340) [Patience left: 17]\n",
            "Val Acc:    0.7500\n",
            "Learning Rate: 1.00e-04\n",
            "------------------------------------------------------------\n"
          ]
        },
        {
          "output_type": "stream",
          "name": "stderr",
          "text": [
            "Epoch  37/500 [Train]: 100%|██████████| 44/44 [03:16<00:00,  4.47s/batch, Loss=0.2146, AvgLoss=0.2999]\n",
            "Epoch  37/500 [Val]  : 100%|██████████| 5/5 [00:22<00:00,  4.43s/batch, Loss=0.4414, Acc=0.7436]\n"
          ]
        },
        {
          "output_type": "stream",
          "name": "stdout",
          "text": [
            "\n",
            "Epoch  37/500 | Duration: 218.8s | Remaining: ~28.1h\n",
            "Train Loss: 0.2354\n",
            "Val Loss:   0.5401 (▲ 0.0102) [Patience left: 16]\n",
            "Val Acc:    0.7436\n",
            "Learning Rate: 1.00e-04\n",
            "------------------------------------------------------------\n"
          ]
        },
        {
          "output_type": "stream",
          "name": "stderr",
          "text": [
            "Epoch  38/500 [Train]: 100%|██████████| 44/44 [03:16<00:00,  4.47s/batch, Loss=0.2509, AvgLoss=0.2977]\n",
            "Epoch  38/500 [Val]  : 100%|██████████| 5/5 [00:22<00:00,  4.44s/batch, Loss=0.4472, Acc=0.7885]\n"
          ]
        },
        {
          "output_type": "stream",
          "name": "stdout",
          "text": [
            "\n",
            "Epoch  38/500 | Duration: 240.3s | Remaining: ~30.8h\n",
            "Train Loss: 0.2338\n",
            "Val Loss:   0.5271 (▼ 0.0000)\n",
            "Val Acc:    0.7885\n",
            "Learning Rate: 1.00e-04\n",
            "------------------------------------------------------------\n"
          ]
        },
        {
          "output_type": "stream",
          "name": "stderr",
          "text": [
            "Epoch  39/500 [Train]: 100%|██████████| 44/44 [03:17<00:00,  4.48s/batch, Loss=0.1957, AvgLoss=0.2985]\n",
            "Epoch  39/500 [Val]  : 100%|██████████| 5/5 [00:22<00:00,  4.42s/batch, Loss=0.4603, Acc=0.7756]\n"
          ]
        },
        {
          "output_type": "stream",
          "name": "stdout",
          "text": [
            "\n",
            "Epoch  39/500 | Duration: 219.3s | Remaining: ~28.1h\n",
            "Train Loss: 0.2344\n",
            "Val Loss:   0.5356 (▲ 0.0085) [Patience left: 19]\n",
            "Val Acc:    0.7756\n",
            "Learning Rate: 1.00e-04\n",
            "------------------------------------------------------------\n"
          ]
        },
        {
          "output_type": "stream",
          "name": "stderr",
          "text": [
            "Epoch  40/500 [Train]: 100%|██████████| 44/44 [03:17<00:00,  4.48s/batch, Loss=0.4582, AvgLoss=0.2947]\n",
            "Epoch  40/500 [Val]  : 100%|██████████| 5/5 [00:22<00:00,  4.43s/batch, Loss=0.4358, Acc=0.7436]\n"
          ]
        },
        {
          "output_type": "stream",
          "name": "stdout",
          "text": [
            "\n",
            "Epoch  40/500 | Duration: 219.4s | Remaining: ~28.0h\n",
            "Train Loss: 0.2314\n",
            "Val Loss:   0.5414 (▲ 0.0143) [Patience left: 18]\n",
            "Val Acc:    0.7436\n",
            "Learning Rate: 1.00e-04\n",
            "------------------------------------------------------------\n"
          ]
        },
        {
          "output_type": "stream",
          "name": "stderr",
          "text": [
            "Epoch  41/500 [Train]: 100%|██████████| 44/44 [03:16<00:00,  4.46s/batch, Loss=0.2264, AvgLoss=0.2958]\n",
            "Epoch  41/500 [Val]  : 100%|██████████| 5/5 [00:22<00:00,  4.41s/batch, Loss=0.4549, Acc=0.7756]\n"
          ]
        },
        {
          "output_type": "stream",
          "name": "stdout",
          "text": [
            "\n",
            "Epoch  41/500 | Duration: 218.4s | Remaining: ~27.8h\n",
            "Train Loss: 0.2322\n",
            "Val Loss:   0.5325 (▲ 0.0054) [Patience left: 17]\n",
            "Val Acc:    0.7756\n",
            "Learning Rate: 1.00e-04\n",
            "------------------------------------------------------------\n"
          ]
        },
        {
          "output_type": "stream",
          "name": "stderr",
          "text": [
            "Epoch  42/500 [Train]: 100%|██████████| 44/44 [03:15<00:00,  4.44s/batch, Loss=0.2370, AvgLoss=0.2947]\n",
            "Epoch  42/500 [Val]  : 100%|██████████| 5/5 [00:21<00:00,  4.39s/batch, Loss=0.4470, Acc=0.7692]\n"
          ]
        },
        {
          "output_type": "stream",
          "name": "stdout",
          "text": [
            "\n",
            "Epoch  42/500 | Duration: 217.5s | Remaining: ~27.7h\n",
            "Train Loss: 0.2314\n",
            "Val Loss:   0.5361 (▲ 0.0090) [Patience left: 16]\n",
            "Val Acc:    0.7692\n",
            "Learning Rate: 1.00e-04\n",
            "------------------------------------------------------------\n"
          ]
        },
        {
          "output_type": "stream",
          "name": "stderr",
          "text": [
            "Epoch  43/500 [Train]: 100%|██████████| 44/44 [03:15<00:00,  4.43s/batch, Loss=0.2306, AvgLoss=0.2945]\n",
            "Epoch  43/500 [Val]  : 100%|██████████| 5/5 [00:21<00:00,  4.38s/batch, Loss=0.4446, Acc=0.7692]\n"
          ]
        },
        {
          "output_type": "stream",
          "name": "stdout",
          "text": [
            "\n",
            "Epoch  43/500 | Duration: 217.1s | Remaining: ~27.6h\n",
            "Train Loss: 0.2312\n",
            "Val Loss:   0.5379 (▲ 0.0109) [Patience left: 15]\n",
            "Val Acc:    0.7692\n",
            "Learning Rate: 1.00e-04\n",
            "------------------------------------------------------------\n"
          ]
        },
        {
          "output_type": "stream",
          "name": "stderr",
          "text": [
            "Epoch  44/500 [Train]: 100%|██████████| 44/44 [03:15<00:00,  4.44s/batch, Loss=0.1796, AvgLoss=0.2927]\n",
            "Epoch  44/500 [Val]  : 100%|██████████| 5/5 [00:22<00:00,  4.43s/batch, Loss=0.4431, Acc=0.7436]\n"
          ]
        },
        {
          "output_type": "stream",
          "name": "stdout",
          "text": [
            "\n",
            "Epoch  44/500 | Duration: 217.5s | Remaining: ~27.5h\n",
            "Train Loss: 0.2298\n",
            "Val Loss:   0.5468 (▲ 0.0197) [Patience left: 14]\n",
            "Val Acc:    0.7436\n",
            "Learning Rate: 1.00e-04\n",
            "------------------------------------------------------------\n"
          ]
        },
        {
          "output_type": "stream",
          "name": "stderr",
          "text": [
            "Epoch  45/500 [Train]: 100%|██████████| 44/44 [03:15<00:00,  4.44s/batch, Loss=0.2367, AvgLoss=0.2914]\n",
            "Epoch  45/500 [Val]  : 100%|██████████| 5/5 [00:22<00:00,  4.43s/batch, Loss=0.4449, Acc=0.7436]\n"
          ]
        },
        {
          "output_type": "stream",
          "name": "stdout",
          "text": [
            "\n",
            "Epoch  45/500 | Duration: 217.4s | Remaining: ~27.5h\n",
            "Train Loss: 0.2288\n",
            "Val Loss:   0.5412 (▲ 0.0141) [Patience left: 13]\n",
            "Val Acc:    0.7436\n",
            "Learning Rate: 1.00e-05\n",
            "------------------------------------------------------------\n"
          ]
        },
        {
          "output_type": "stream",
          "name": "stderr",
          "text": [
            "Epoch  46/500 [Train]: 100%|██████████| 44/44 [03:15<00:00,  4.43s/batch, Loss=0.1930, AvgLoss=0.2900]\n",
            "Epoch  46/500 [Val]  : 100%|██████████| 5/5 [00:21<00:00,  4.40s/batch, Loss=0.4462, Acc=0.7564]\n"
          ]
        },
        {
          "output_type": "stream",
          "name": "stdout",
          "text": [
            "\n",
            "Epoch  46/500 | Duration: 217.2s | Remaining: ~27.4h\n",
            "Train Loss: 0.2277\n",
            "Val Loss:   0.5381 (▲ 0.0111) [Patience left: 12]\n",
            "Val Acc:    0.7564\n",
            "Learning Rate: 1.00e-05\n",
            "------------------------------------------------------------\n"
          ]
        },
        {
          "output_type": "stream",
          "name": "stderr",
          "text": [
            "Epoch  47/500 [Train]: 100%|██████████| 44/44 [03:15<00:00,  4.44s/batch, Loss=0.0918, AvgLoss=0.2897]\n",
            "Epoch  47/500 [Val]  : 100%|██████████| 5/5 [00:21<00:00,  4.39s/batch, Loss=0.4474, Acc=0.7692]\n"
          ]
        },
        {
          "output_type": "stream",
          "name": "stdout",
          "text": [
            "\n",
            "Epoch  47/500 | Duration: 217.5s | Remaining: ~27.4h\n",
            "Train Loss: 0.2275\n",
            "Val Loss:   0.5362 (▲ 0.0091) [Patience left: 11]\n",
            "Val Acc:    0.7692\n",
            "Learning Rate: 1.00e-05\n",
            "------------------------------------------------------------\n"
          ]
        },
        {
          "output_type": "stream",
          "name": "stderr",
          "text": [
            "Epoch  48/500 [Train]: 100%|██████████| 44/44 [03:15<00:00,  4.44s/batch, Loss=0.1606, AvgLoss=0.2901]\n",
            "Epoch  48/500 [Val]  : 100%|██████████| 5/5 [00:21<00:00,  4.39s/batch, Loss=0.4463, Acc=0.7692]\n"
          ]
        },
        {
          "output_type": "stream",
          "name": "stdout",
          "text": [
            "\n",
            "Epoch  48/500 | Duration: 217.2s | Remaining: ~27.3h\n",
            "Train Loss: 0.2278\n",
            "Val Loss:   0.5373 (▲ 0.0103) [Patience left: 10]\n",
            "Val Acc:    0.7692\n",
            "Learning Rate: 1.00e-05\n",
            "------------------------------------------------------------\n"
          ]
        },
        {
          "output_type": "stream",
          "name": "stderr",
          "text": [
            "Epoch  49/500 [Train]: 100%|██████████| 44/44 [03:15<00:00,  4.44s/batch, Loss=0.1097, AvgLoss=0.2897]\n",
            "Epoch  49/500 [Val]  : 100%|██████████| 5/5 [00:21<00:00,  4.39s/batch, Loss=0.4477, Acc=0.7692]\n"
          ]
        },
        {
          "output_type": "stream",
          "name": "stdout",
          "text": [
            "\n",
            "Epoch  49/500 | Duration: 217.3s | Remaining: ~27.2h\n",
            "Train Loss: 0.2274\n",
            "Val Loss:   0.5369 (▲ 0.0098) [Patience left: 9]\n",
            "Val Acc:    0.7692\n",
            "Learning Rate: 1.00e-05\n",
            "------------------------------------------------------------\n"
          ]
        },
        {
          "output_type": "stream",
          "name": "stderr",
          "text": [
            "Epoch  50/500 [Train]: 100%|██████████| 44/44 [03:15<00:00,  4.44s/batch, Loss=0.1868, AvgLoss=0.2898]\n",
            "Epoch  50/500 [Val]  : 100%|██████████| 5/5 [00:22<00:00,  4.42s/batch, Loss=0.4475, Acc=0.7692]\n"
          ]
        },
        {
          "output_type": "stream",
          "name": "stdout",
          "text": [
            "\n",
            "Epoch  50/500 | Duration: 217.3s | Remaining: ~27.2h\n",
            "Train Loss: 0.2275\n",
            "Val Loss:   0.5370 (▲ 0.0100) [Patience left: 8]\n",
            "Val Acc:    0.7692\n",
            "Learning Rate: 1.00e-05\n",
            "------------------------------------------------------------\n"
          ]
        },
        {
          "output_type": "stream",
          "name": "stderr",
          "text": [
            "Epoch  51/500 [Train]: 100%|██████████| 44/44 [03:15<00:00,  4.43s/batch, Loss=0.1807, AvgLoss=0.2892]\n",
            "Epoch  51/500 [Val]  : 100%|██████████| 5/5 [00:22<00:00,  4.44s/batch, Loss=0.4476, Acc=0.7692]\n"
          ]
        },
        {
          "output_type": "stream",
          "name": "stdout",
          "text": [
            "\n",
            "Epoch  51/500 | Duration: 217.3s | Remaining: ~27.1h\n",
            "Train Loss: 0.2271\n",
            "Val Loss:   0.5373 (▲ 0.0102) [Patience left: 7]\n",
            "Val Acc:    0.7692\n",
            "Learning Rate: 1.00e-06\n",
            "------------------------------------------------------------\n"
          ]
        },
        {
          "output_type": "stream",
          "name": "stderr",
          "text": [
            "Epoch  52/500 [Train]: 100%|██████████| 44/44 [03:15<00:00,  4.44s/batch, Loss=0.3868, AvgLoss=0.2892]\n",
            "Epoch  52/500 [Val]  : 100%|██████████| 5/5 [00:21<00:00,  4.40s/batch, Loss=0.4476, Acc=0.7692]\n"
          ]
        },
        {
          "output_type": "stream",
          "name": "stdout",
          "text": [
            "\n",
            "Epoch  52/500 | Duration: 217.2s | Remaining: ~27.0h\n",
            "Train Loss: 0.2271\n",
            "Val Loss:   0.5372 (▲ 0.0101) [Patience left: 6]\n",
            "Val Acc:    0.7692\n",
            "Learning Rate: 1.00e-06\n",
            "------------------------------------------------------------\n"
          ]
        },
        {
          "output_type": "stream",
          "name": "stderr",
          "text": [
            "Epoch  53/500 [Train]: 100%|██████████| 44/44 [03:15<00:00,  4.44s/batch, Loss=0.2016, AvgLoss=0.2892]\n",
            "Epoch  53/500 [Val]  : 100%|██████████| 5/5 [00:21<00:00,  4.39s/batch, Loss=0.4474, Acc=0.7692]\n"
          ]
        },
        {
          "output_type": "stream",
          "name": "stdout",
          "text": [
            "\n",
            "Epoch  53/500 | Duration: 217.2s | Remaining: ~27.0h\n",
            "Train Loss: 0.2271\n",
            "Val Loss:   0.5372 (▲ 0.0101) [Patience left: 5]\n",
            "Val Acc:    0.7692\n",
            "Learning Rate: 1.00e-06\n",
            "------------------------------------------------------------\n"
          ]
        },
        {
          "output_type": "stream",
          "name": "stderr",
          "text": [
            "Epoch  54/500 [Train]: 100%|██████████| 44/44 [03:15<00:00,  4.44s/batch, Loss=0.2973, AvgLoss=0.2892]\n",
            "Epoch  54/500 [Val]  : 100%|██████████| 5/5 [00:21<00:00,  4.36s/batch, Loss=0.4474, Acc=0.7692]\n"
          ]
        },
        {
          "output_type": "stream",
          "name": "stdout",
          "text": [
            "\n",
            "Epoch  54/500 | Duration: 217.2s | Remaining: ~26.9h\n",
            "Train Loss: 0.2271\n",
            "Val Loss:   0.5374 (▲ 0.0103) [Patience left: 4]\n",
            "Val Acc:    0.7692\n",
            "Learning Rate: 1.00e-06\n",
            "------------------------------------------------------------\n"
          ]
        },
        {
          "output_type": "stream",
          "name": "stderr",
          "text": [
            "Epoch  55/500 [Train]: 100%|██████████| 44/44 [03:15<00:00,  4.44s/batch, Loss=0.0811, AvgLoss=0.2892]\n",
            "Epoch  55/500 [Val]  : 100%|██████████| 5/5 [00:21<00:00,  4.38s/batch, Loss=0.4476, Acc=0.7692]\n"
          ]
        },
        {
          "output_type": "stream",
          "name": "stdout",
          "text": [
            "\n",
            "Epoch  55/500 | Duration: 217.3s | Remaining: ~26.9h\n",
            "Train Loss: 0.2271\n",
            "Val Loss:   0.5371 (▲ 0.0101) [Patience left: 3]\n",
            "Val Acc:    0.7692\n",
            "Learning Rate: 1.00e-06\n",
            "------------------------------------------------------------\n"
          ]
        },
        {
          "output_type": "stream",
          "name": "stderr",
          "text": [
            "Epoch  56/500 [Train]: 100%|██████████| 44/44 [03:15<00:00,  4.44s/batch, Loss=0.1675, AvgLoss=0.2892]\n",
            "Epoch  56/500 [Val]  : 100%|██████████| 5/5 [00:22<00:00,  4.42s/batch, Loss=0.4476, Acc=0.7692]\n"
          ]
        },
        {
          "output_type": "stream",
          "name": "stdout",
          "text": [
            "\n",
            "Epoch  56/500 | Duration: 217.4s | Remaining: ~26.8h\n",
            "Train Loss: 0.2271\n",
            "Val Loss:   0.5372 (▲ 0.0101) [Patience left: 2]\n",
            "Val Acc:    0.7692\n",
            "Learning Rate: 1.00e-06\n",
            "------------------------------------------------------------\n"
          ]
        },
        {
          "output_type": "stream",
          "name": "stderr",
          "text": [
            "Epoch  57/500 [Train]: 100%|██████████| 44/44 [03:15<00:00,  4.45s/batch, Loss=0.3048, AvgLoss=0.2891]\n",
            "Epoch  57/500 [Val]  : 100%|██████████| 5/5 [00:22<00:00,  4.45s/batch, Loss=0.4476, Acc=0.7692]\n"
          ]
        },
        {
          "output_type": "stream",
          "name": "stdout",
          "text": [
            "\n",
            "Epoch  57/500 | Duration: 218.2s | Remaining: ~26.9h\n",
            "Train Loss: 0.2270\n",
            "Val Loss:   0.5372 (▲ 0.0101) [Patience left: 1]\n",
            "Val Acc:    0.7692\n",
            "Learning Rate: 1.00e-07\n",
            "------------------------------------------------------------\n"
          ]
        },
        {
          "output_type": "stream",
          "name": "stderr",
          "text": [
            "Epoch  58/500 [Train]: 100%|██████████| 44/44 [03:16<00:00,  4.47s/batch, Loss=0.2079, AvgLoss=0.2891]\n",
            "Epoch  58/500 [Val]  : 100%|██████████| 5/5 [00:22<00:00,  4.41s/batch, Loss=0.4476, Acc=0.7692]\n",
            "<ipython-input-6-ea088a8e051e>:121: FutureWarning: You are using `torch.load` with `weights_only=False` (the current default value), which uses the default pickle module implicitly. It is possible to construct malicious pickle data which will execute arbitrary code during unpickling (See https://github.com/pytorch/pytorch/blob/main/SECURITY.md#untrusted-models for more details). In a future release, the default value for `weights_only` will be flipped to `True`. This limits the functions that could be executed during unpickling. Arbitrary objects will no longer be allowed to be loaded via this mode unless they are explicitly allowlisted by the user via `torch.serialization.add_safe_globals`. We recommend you start setting `weights_only=True` for any use case where you don't have full control of the loaded file. Please open an issue on GitHub for any issues related to this experimental feature.\n",
            "  model.load_state_dict(torch.load('best_model.pth'))\n"
          ]
        },
        {
          "output_type": "stream",
          "name": "stdout",
          "text": [
            "\n",
            "Epoch  58/500 | Duration: 218.8s | Remaining: ~0.0h\n",
            "Train Loss: 0.2270\n",
            "Val Loss:   0.5372 (▲ 0.0101) [Patience left: 0]\n",
            "Val Acc:    0.7692\n",
            "Learning Rate: 1.00e-07\n",
            "------------------------------------------------------------\n",
            "[!] Early stopping triggered at epoch 59\n",
            "\n",
            "Loaded best model weights for final testing\n"
          ]
        },
        {
          "output_type": "stream",
          "name": "stderr",
          "text": [
            "Final Testing: 100%|██████████| 13/13 [00:55<00:00,  4.24s/batch, Loss=0.6394, Acc=0.8128]"
          ]
        },
        {
          "output_type": "stream",
          "name": "stdout",
          "text": [
            "\n",
            "==================================================\n",
            "Final Test Results:\n",
            "Loss: 0.4926\n",
            "Accuracy: 0.8128\n",
            "==================================================\n"
          ]
        },
        {
          "output_type": "stream",
          "name": "stderr",
          "text": [
            "\n"
          ]
        }
      ]
    },
    {
      "cell_type": "code",
      "source": [
        "import matplotlib.pyplot as plt\n",
        "import seaborn as sns\n",
        "from sklearn.metrics import confusion_matrix, accuracy_score, precision_score, recall_score, f1_score, cohen_kappa_score\n",
        "\n",
        "# For accuracy graph (assuming you have training history)\n",
        "train_accuracies = []  # Populate these during training\n",
        "val_accuracies = []    # Populate these during validation\n",
        "\n",
        "def plot_metrics(phase_name, cm, accuracy, precision, recall, f1, kappa):\n",
        "    plt.figure(figsize=(18, 6))\n",
        "\n",
        "    # Confusion Matrix\n",
        "    plt.subplot(1, 2, 1)\n",
        "    sns.heatmap(cm, annot=True, fmt='d', cmap='Blues',\n",
        "                xticklabels=['Normal[0]', 'Osteopenia[1]', 'Osteoporosis[2]'],\n",
        "                yticklabels=['Normal[0]', 'Osteopenia[1]', 'Osteoporosis[2]'])\n",
        "    plt.title(f'{phase_name} Confusion Matrix')\n",
        "    plt.xlabel('Predicted')\n",
        "    plt.ylabel('Actual')\n",
        "\n",
        "    # Metrics Text\n",
        "    plt.subplot(1, 2, 2)\n",
        "    plt.text(0.1, 0.9, f'Accuracy: {accuracy:.4f}', fontsize=12)\n",
        "    plt.text(0.1, 0.7, f'Precision (Macro): {precision:.4f}', fontsize=12)\n",
        "    plt.text(0.1, 0.5, f'Recall (Macro): {recall:.4f}', fontsize=12)\n",
        "    plt.text(0.1, 0.3, f'F1 Score (Macro): {f1:.4f}', fontsize=12)\n",
        "    plt.text(0.1, 0.1, f\"Cohen's Kappa: {kappa:.4f}\", fontsize=12)\n",
        "    plt.axis('off')\n",
        "\n",
        "    plt.tight_layout()\n",
        "    plt.show()\n",
        "\n",
        "def evaluate_model(loader, phase_name):\n",
        "    model.eval()\n",
        "    all_labels = []\n",
        "    all_preds = []\n",
        "    with torch.no_grad():\n",
        "        for images, labels in loader:\n",
        "            images, labels = images.to(device), labels.to(device)\n",
        "            outputs = model(images)\n",
        "            _, preds = torch.max(outputs, 1)  # Get class predictions\n",
        "\n",
        "            all_labels.extend(labels.cpu().numpy())\n",
        "            all_preds.extend(preds.cpu().numpy())\n",
        "\n",
        "    # Calculate metrics\n",
        "    accuracy = accuracy_score(all_labels, all_preds)\n",
        "    precision = precision_score(all_labels, all_preds, average='macro')\n",
        "    recall = recall_score(all_labels, all_preds, average='macro')\n",
        "    f1 = f1_score(all_labels, all_preds, average='macro')\n",
        "    kappa = cohen_kappa_score(all_labels, all_preds)\n",
        "    cm = confusion_matrix(all_labels, all_preds)\n",
        "\n",
        "    plot_metrics(phase_name, cm, accuracy, precision, recall, f1, kappa)\n",
        "\n",
        "    return accuracy\n",
        "\n",
        "# Evaluate all sets\n",
        "test_accuracy = evaluate_model(test_loader, 'Test')\n",
        "val_accuracy = evaluate_model(val_loader, 'Validation')"
      ],
      "metadata": {
        "id": "l87pvStM_S1f",
        "colab": {
          "base_uri": "https://localhost:8080/",
          "height": 654
        },
        "outputId": "497f23e0-c718-43f5-a71b-27f374103830"
      },
      "execution_count": null,
      "outputs": [
        {
          "output_type": "display_data",
          "data": {
            "text/plain": [
              "<Figure size 1800x600 with 3 Axes>"
            ],
            "image/png": "[encoded data removed]"
          },
          "metadata": {}
        },
        {
          "output_type": "display_data",
          "data": {
            "text/plain": [
              "<Figure size 1800x600 with 3 Axes>"
            ],
            "image/png": "[encoded data removed]"
          },
          "metadata": {}
        }
      ]
    }
  ]
}