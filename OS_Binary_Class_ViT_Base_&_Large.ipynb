{
  "cells": [
    {
      "cell_type": "code",
      "execution_count": null,
      "metadata": {
        "id": "io85Gjx7UeAk"
      },
      "outputs": [],
      "source": [
        "from google.colab import drive\n",
        "import os\n",
        "import cv2\n",
        "import numpy as np\n",
        "import tensorflow as tf\n",
        "from sklearn.model_selection import train_test_split\n",
        "from sklearn.metrics import confusion_matrix, classification_report\n",
        "import seaborn as sns\n",
        "import matplotlib.pyplot as plt\n",
        "import torch\n",
        "import torch.nn as nn\n",
        "import torch.nn.functional as F\n",
        "from torch.utils.data import DataLoader, Dataset\n",
        "from transformers import ViTModel\n",
        "import time\n",
        "from tqdm import tqdm\n",
        "import torch.optim.lr_scheduler as lr_scheduler\n",
        "import torchvision.transforms as transforms"
      ]
    },
    {
      "cell_type": "markdown",
      "metadata": {
        "id": "yWSFWH6Ef78e"
      },
      "source": [
        "# Image Fetching and Split"
      ]
    },
    {
      "cell_type": "code",
      "execution_count": null,
      "metadata": {
        "colab": {
          "base_uri": "https://localhost:8080/"
        },
        "id": "vsriORhJJFn0",
        "outputId": "0fabe9b2-1d8e-44dc-fdc8-8fb6d45fd780"
      },
      "outputs": [
        {
          "output_type": "stream",
          "name": "stdout",
          "text": [
            "Mounted at /content/drive\n"
          ]
        }
      ],
      "source": [
        "from google.colab import drive\n",
        "import os\n",
        "import cv2\n",
        "import numpy as np\n",
        "from sklearn.model_selection import train_test_split\n",
        "\n",
        "drive.mount('/content/drive')\n",
        "\n",
        "# ========================================================================\n",
        "# 1. Dataset Configuration\n",
        "# ========================================================================\n",
        "dataset_paths = {\n",
        "    'Normal': '/content/drive/MyDrive/Normal and Osteoporosis Binary Classification Dataset/normal/',\n",
        "    'Osteoporosis': '/content/drive/MyDrive/Normal and Osteoporosis Binary Classification Dataset/osteoporosis/'\n",
        "}\n",
        "\n",
        "# ========================================================================\n",
        "# 2. Image Loading & Preprocessing (for Inception v2)\n",
        "# ========================================================================\n",
        "def load_images_and_labels(folder_path, label):\n",
        "    images = []\n",
        "    labels = []\n",
        "    for filename in sorted(os.listdir(folder_path)):\n",
        "        if filename.lower().endswith(('.png', '.jpg', '.jpeg', '.bmp')):\n",
        "            img_path = os.path.join(folder_path, filename)\n",
        "            try:\n",
        "                # Load image and verify successful read\n",
        "                img = cv2.imread(img_path)\n",
        "                if img is None:\n",
        "                    print(f\"Warning: Could not read image {img_path}\")\n",
        "                    continue\n",
        "\n",
        "                # Resize to Inception v2's required 128x128\n",
        "                img = cv2.resize(img, (128, 128))\n",
        "\n",
        "                # Convert BGR to RGB\n",
        "                img = cv2.cvtColor(img, cv2.COLOR_BGR2RGB)\n",
        "\n",
        "                # Normalize to [0, 1] range (for Inception v2)\n",
        "                img = img.astype(np.float32) / 255.0\n",
        "\n",
        "                images.append(img)\n",
        "                labels.append(label)\n",
        "            except Exception as e:\n",
        "                print(f\"Error processing {img_path}: {e}\")\n",
        "    return np.array(images), np.array(labels)\n",
        "\n",
        "# ========================================================================\n",
        "# 3. Load and Prepare Data\n",
        "# ========================================================================\n",
        "# Load datasets\n",
        "normal_images, normal_labels = load_images_and_labels(dataset_paths['Normal'], 0)\n",
        "osteo_images, osteo_labels = load_images_and_labels(dataset_paths['Osteoporosis'], 1)\n",
        "\n",
        "# Combine and shuffle data\n",
        "x_data = np.concatenate([normal_images, osteo_images], axis=0)\n",
        "y_data = np.concatenate([normal_labels, osteo_labels], axis=0)\n",
        "\n",
        "# Random shuffle with fixed seed for reproducibility\n",
        "np.random.seed(42)\n",
        "shuffle_idx = np.random.permutation(len(x_data))\n",
        "x_data = x_data[shuffle_idx]\n",
        "y_data = y_data[shuffle_idx]\n",
        "\n",
        "# ========================================================================\n",
        "# 4. Train/Validation/Test Split\n",
        "# ========================================================================\n",
        "# Stratified split to maintain class balance\n",
        "x_train_val, x_test, y_train_val, y_test = train_test_split(\n",
        "    x_data, y_data,\n",
        "    test_size=0.2,\n",
        "    stratify=y_data,\n",
        "    random_state=42\n",
        ")\n",
        "\n",
        "x_train, x_val, y_train, y_val = train_test_split(\n",
        "    x_train_val, y_train_val,\n",
        "    test_size=0.1,  # 10% of training for validation\n",
        "    stratify=y_train_val,\n",
        "    random_state=42\n",
        ")\n"
      ]
    },
    {
      "cell_type": "code",
      "execution_count": null,
      "metadata": {
        "colab": {
          "base_uri": "https://localhost:8080/"
        },
        "id": "jBAWuRMrQRWK",
        "outputId": "d44ee1d3-39d6-4e1a-8ead-ac002c9245a2"
      },
      "outputs": [
        {
          "output_type": "stream",
          "name": "stdout",
          "text": [
            "Number of Normal Images: 186\n",
            "Number of Oestroporosis Images: 186\n"
          ]
        }
      ],
      "source": [
        "print(f'Number of Normal Images: {len(normal_images)}')\n",
        "print(f'Number of Oestroporosis Images: {len(osteo_images)}')"
      ]
    },
    {
      "cell_type": "code",
      "source": [
        "# Define the transform: Resize 128x128 to 224x224\n",
        "transform = transforms.Compose([\n",
        "    transforms.ToPILImage(),  # Convert NumPy to PIL image\n",
        "    transforms.Resize((224, 224)),  # Resize to ViT input size (224, 224)\n",
        "    transforms.ToTensor(),  # Convert to tensor, automatically scales to (0, 1)\n",
        "])\n",
        "\n",
        "class NumpyDataset(Dataset):\n",
        "    def __init__(self, x_data, y_data, transform=None):\n",
        "        self.x_data = x_data\n",
        "        self.y_data = y_data\n",
        "        self.transform = transform  # Apply transforms if provided\n",
        "\n",
        "    def __len__(self):\n",
        "        return len(self.x_data)\n",
        "\n",
        "    def __getitem__(self, idx):\n",
        "        image = self.x_data[idx]  # Shape: (128, 128, 3) NumPy array\n",
        "        label = torch.tensor(self.y_data[idx], dtype=torch.float32)\n",
        "\n",
        "        # Apply transformation\n",
        "        if self.transform:\n",
        "            image = self.transform(image)\n",
        "\n",
        "        return image, label"
      ],
      "metadata": {
        "id": "_Em2aSw0OJ3M"
      },
      "execution_count": null,
      "outputs": []
    },
    {
      "cell_type": "markdown",
      "source": [
        "# ViT Base"
      ],
      "metadata": {
        "id": "loY7Yh-MIyG3"
      }
    },
    {
      "cell_type": "code",
      "source": [
        "# Modified ViT Model without DWT Processing\n",
        "class ViTBinaryClassifier(nn.Module):\n",
        "    def __init__(self, pretrained_model='google/vit-base-patch16-224-in21k'):\n",
        "        super().__init__()\n",
        "        self.vit = ViTModel.from_pretrained(pretrained_model)\n",
        "        self.classifier = nn.Linear(self.vit.config.hidden_size, 1)  # Output for binary classification\n",
        "        self.sigmoid = nn.Sigmoid()\n",
        "        # Freeze ViT parameters\n",
        "        for param in self.vit.parameters():\n",
        "            param.requires_grad = False\n",
        "\n",
        "    def forward(self, x):\n",
        "        # Directly use the input images\n",
        "        outputs = self.vit(x)\n",
        "        # Use the output of the [CLS] token for classification\n",
        "        cls_output = outputs.last_hidden_state[:, 0, :]\n",
        "        return self.sigmoid(self.classifier(cls_output))\n",
        "\n",
        "# Step 6: Create Datasets and DataLoaders\n",
        "# (Assuming x_train, y_train, x_val, y_val, x_test, y_test are defined)\n",
        "batch_size = 32\n",
        "train_dataset = NumpyDataset(x_train, y_train, transform=transform)\n",
        "val_dataset = NumpyDataset(x_val, y_val, transform=transform)\n",
        "test_dataset = NumpyDataset(x_test, y_test, transform=transform)\n",
        "train_loader = DataLoader(train_dataset, batch_size=batch_size, shuffle=True, num_workers=2)\n",
        "val_loader = DataLoader(val_dataset, batch_size=batch_size, shuffle=False, num_workers=2)\n",
        "test_loader = DataLoader(test_dataset, batch_size=batch_size, shuffle=False, num_workers=2)\n",
        "\n",
        "# Step 7: Initialize Model (AFTER device is defined)\n",
        "device = torch.device(\"cuda\" if torch.cuda.is_available() else \"cpu\")\n",
        "model = ViTBinaryClassifier().to(device)\n",
        "\n",
        "# Step 8: Loss and Optimizer\n",
        "criterion = nn.BCELoss()\n",
        "optimizer = torch.optim.Adam(model.parameters(), lr=1e-3)\n"
      ],
      "metadata": {
        "colab": {
          "base_uri": "https://localhost:8080/",
          "height": 190,
          "referenced_widgets": [
            "3907f2dbcb3e4f2ebb070dbe9b21faf8",
            "12d9c43ff73949f6a5a485809d98a551",
            "225fb8d4ba7e49e59a44d479b45d74da",
            "e4c1912ee8ee4b2fa77c59a4aefd142f",
            "37558f861f724ef4879a4d44478fe8b0",
            "f99192dbd74043cf8575818e9584f45d",
            "5e7a232a50414f089f858c4614b57039",
            "63e15bfbd59a4c2d833688d83be451c2",
            "df96e0f5a51d462e9e72eb56ab0c4142",
            "cc82ad83f3d74a8c94593d5dd286977f",
            "7c4f74e4c4f14b20b171ad05c2464555",
            "714c5040d7924c2c9ab5fd2832c85c2e",
            "d48c2ee0a7ff460ca2c65f90d60465c5",
            "c777707f65cc41b1ba2bcbd80294baea",
            "d9144ff14c0a406681ee4037c17ef15a",
            "411346dfbb95443289464b8142d8fb27",
            "39081570c0e146a4bee76c50fccd57d6",
            "6914dbcd375240369f1dd7c42c8ab6d8",
            "207ea9701d8a42f68aad454c581a4f48",
            "e70b19d75b8644a38b0288c13a6ca88f",
            "9e011c36a7af45469e526ebc77aec8fd",
            "1e4796369adf4ac78eda2cc871b9fd65"
          ]
        },
        "id": "9FOp5UGpImSz",
        "outputId": "e9a511c7-3b2c-4f33-eb4e-1a81ad44ece2"
      },
      "execution_count": null,
      "outputs": [
        {
          "output_type": "stream",
          "name": "stderr",
          "text": [
            "/usr/local/lib/python3.11/dist-packages/huggingface_hub/utils/_auth.py:94: UserWarning: \n",
            "The secret `HF_TOKEN` does not exist in your Colab secrets.\n",
            "To authenticate with the Hugging Face Hub, create a token in your settings tab (https://huggingface.co/settings/tokens), set it as secret in your Google Colab and restart your session.\n",
            "You will be able to reuse this secret in all of your notebooks.\n",
            "Please note that authentication is recommended but still optional to access public models or datasets.\n",
            "  warnings.warn(\n"
          ]
        },
        {
          "output_type": "display_data",
          "data": {
            "text/plain": [
              "config.json:   0%|          | 0.00/502 [00:00<?, ?B/s]"
            ],
            "application/vnd.jupyter.widget-view+json": {
              "version_major": 2,
              "version_minor": 0,
              "model_id": "3907f2dbcb3e4f2ebb070dbe9b21faf8"
            }
          },
          "metadata": {}
        },
        {
          "output_type": "display_data",
          "data": {
            "text/plain": [
              "model.safetensors:   0%|          | 0.00/346M [00:00<?, ?B/s]"
            ],
            "application/vnd.jupyter.widget-view+json": {
              "version_major": 2,
              "version_minor": 0,
              "model_id": "714c5040d7924c2c9ab5fd2832c85c2e"
            }
          },
          "metadata": {}
        }
      ]
    },
    {
      "cell_type": "code",
      "source": [
        "# Training loop\n",
        "num_epochs = 500\n",
        "best_val_loss = float('inf')\n",
        "patience = 20\n",
        "epochs_no_improve = 0\n",
        "early_stop = False\n",
        "history = {'train_loss': [], 'val_loss': [], 'val_acc': [], 'lr': []}\n",
        "\n",
        "# Initialize optimizer and scheduler\n",
        "optimizer = torch.optim.Adam(model.parameters(), lr=1e-3, weight_decay=1e-4)\n",
        "scheduler = lr_scheduler.ReduceLROnPlateau(\n",
        "    optimizer,\n",
        "    mode='min',\n",
        "    factor=0.1,\n",
        "    patience=5,\n",
        "    verbose=True\n",
        ")\n",
        "\n",
        "print(f\"\\n{'='*50}\")\n",
        "print(f\"Starting training with early stopping (patience={patience})\")\n",
        "print(f\"and learning rate scheduling (ReduceLROnPlateau)\")\n",
        "print(f\"{'='*50}\\n\")\n",
        "\n",
        "for epoch in range(num_epochs):\n",
        "    if early_stop:\n",
        "        print(f\"[!] Early stopping triggered at epoch {epoch+1}\")\n",
        "        break\n",
        "\n",
        "    epoch_start = time.time()\n",
        "\n",
        "    # Training phase\n",
        "    model.train()\n",
        "    train_loss = 0.0\n",
        "    train_batches = 0\n",
        "\n",
        "    with tqdm(train_loader, unit=\"batch\", desc=f\"Epoch {epoch+1:3d}/{num_epochs} [Train]\") as pbar:\n",
        "        for images, labels in pbar:\n",
        "            images, labels = images.to(device), labels.to(device)\n",
        "\n",
        "            optimizer.zero_grad()\n",
        "            outputs = model(images)  # Shape: (batch_size, 1)\n",
        "            loss = criterion(outputs.squeeze(), labels)  # Squeeze to match shape\n",
        "            loss.backward()\n",
        "            optimizer.step()\n",
        "\n",
        "            train_loss += loss.item() * images.size(0)\n",
        "            train_batches += 1\n",
        "\n",
        "            pbar.set_postfix({\n",
        "                'Loss': f\"{loss.item():.4f}\",\n",
        "                'AvgLoss': f\"{(train_loss/(train_batches*batch_size)):.4f}\"\n",
        "            })\n",
        "\n",
        "    # Validation phase\n",
        "    model.eval()\n",
        "    val_loss = 0.0\n",
        "    correct = 0\n",
        "    total = 0\n",
        "\n",
        "    with tqdm(val_loader, unit=\"batch\", desc=f\"Epoch {epoch+1:3d}/{num_epochs} [Val]  \") as pbar:\n",
        "        with torch.no_grad():\n",
        "            for images, labels in pbar:\n",
        "                images, labels = images.to(device), labels.to(device)\n",
        "                outputs = model(images)  # Shape: (batch_size, 1)\n",
        "                loss = criterion(outputs.squeeze(), labels)\n",
        "\n",
        "                val_loss += loss.item() * images.size(0)\n",
        "                predicted = (outputs > 0.5).float()  # Thresholding for binary classification\n",
        "                correct += (predicted.squeeze() == labels).sum().item()\n",
        "                total += labels.size(0)\n",
        "\n",
        "                pbar.set_postfix({\n",
        "                    'Loss': f\"{loss.item():.4f}\",\n",
        "                    'Acc': f\"{(correct/total):.4f}\"\n",
        "                })\n",
        "\n",
        "    # Calculate metrics\n",
        "    epoch_train_loss = train_loss / len(train_dataset)\n",
        "    epoch_val_loss = val_loss / len(val_dataset)\n",
        "    val_acc = correct / total\n",
        "    current_lr = optimizer.param_groups[0]['lr']\n",
        "\n",
        "    # Update learning rate\n",
        "    scheduler.step(epoch_val_loss)\n",
        "\n",
        "    # Store history\n",
        "    history['train_loss'].append(epoch_train_loss)\n",
        "    history['val_loss'].append(epoch_val_loss)\n",
        "    history['val_acc'].append(val_acc)\n",
        "    history['lr'].append(current_lr)\n",
        "\n",
        "    # Early stopping logic\n",
        "    if epoch_val_loss < best_val_loss:\n",
        "        best_val_loss = epoch_val_loss\n",
        "        epochs_no_improve = 0\n",
        "        torch.save(model.state_dict(), 'best_model.pth')\n",
        "        improvement_msg = f\"(▼ {best_val_loss - epoch_val_loss:.4f})\"\n",
        "    else:\n",
        "        epochs_no_improve += 1\n",
        "        improvement_msg = f\"(▲ {epoch_val_loss - best_val_loss:.4f}) [Patience left: {patience - epochs_no_improve}]\"\n",
        "        if epochs_no_improve >= patience:\n",
        "            early_stop = True\n",
        "\n",
        "    # Calculate epoch duration\n",
        "    epoch_time = time.time() - epoch_start\n",
        "    time_remaining = (epoch_time * (num_epochs - epoch - 1)) / 3600 if not early_stop else 0\n",
        "\n",
        "    # Detailed epoch report\n",
        "    print(f\"\\nEpoch {epoch+1:3d}/{num_epochs} | Duration: {epoch_time:.1f}s | Remaining: ~{time_remaining:.1f}h\")\n",
        "    print(f\"Train Loss: {epoch_train_loss:.4f}\")\n",
        "    print(f\"Val Loss:   {epoch_val_loss:.4f} {improvement_msg}\")\n",
        "    print(f\"Val Acc:    {val_acc:.4f}\")\n",
        "    print(f\"Learning Rate: {current_lr:.2e}\")\n",
        "    print(f\"-\"*60)\n",
        "\n",
        "# Load best model for testing\n",
        "model.load_state_dict(torch.load('best_model.pth'))\n",
        "print(\"\\nLoaded best model weights for final testing\")\n",
        "\n",
        "# Final evaluation\n",
        "model.eval()\n",
        "test_correct = 0\n",
        "test_total = 0\n",
        "test_loss = 0.0\n",
        "\n",
        "with tqdm(test_loader, unit=\"batch\", desc=\"Final Testing\") as pbar:\n",
        "    with torch.no_grad():\n",
        "        for images, labels in pbar:\n",
        "            images, labels = images.to(device), labels.to(device)\n",
        "            outputs = model(images)  # Shape: (batch_size, 1)\n",
        "            loss = criterion(outputs.squeeze(), labels)\n",
        "\n",
        "            test_loss += loss.item() * images.size(0)\n",
        "            predicted = (outputs > 0.5).float()  # Thresholding for binary classification\n",
        "            test_correct += (predicted.squeeze() == labels).sum().item()\n",
        "            test_total += labels.size(0)\n",
        "\n",
        "            pbar.set_postfix({\n",
        "                'Loss': f\"{loss.item():.4f}\",\n",
        "                'Acc': f\"{(test_correct/test_total):.4f}\"\n",
        "            })\n",
        "\n",
        "print(f\"\\n{'='*50}\")\n",
        "print(f\"Final Test Results:\")\n",
        "print(f\"Loss: {test_loss/len(test_dataset):.4f}\")\n",
        "print(f\"Accuracy: {test_correct/test_total:.4f}\")\n",
        "print(f\"{'='*50}\")"
      ],
      "metadata": {
        "colab": {
          "base_uri": "https://localhost:8080/"
        },
        "id": "I9cNP-DzIprp",
        "outputId": "8eaf44a4-cce8-4271-eb94-ba9ed0f2b9a7"
      },
      "execution_count": null,
      "outputs": [
        {
          "output_type": "stream",
          "name": "stdout",
          "text": [
            "\n",
            "==================================================\n",
            "Starting training with early stopping (patience=20)\n",
            "and learning rate scheduling (ReduceLROnPlateau)\n",
            "==================================================\n",
            "\n"
          ]
        },
        {
          "output_type": "stream",
          "name": "stderr",
          "text": [
            "Epoch   1/500 [Train]: 100%|██████████| 9/9 [00:04<00:00,  2.16batch/s, Loss=0.6828, AvgLoss=0.6444]\n",
            "Epoch   1/500 [Val]  : 100%|██████████| 1/1 [00:00<00:00,  1.69batch/s, Loss=0.6816, Acc=0.8333]\n"
          ]
        },
        {
          "output_type": "stream",
          "name": "stdout",
          "text": [
            "\n",
            "Epoch   1/500 | Duration: 5.5s | Remaining: ~0.8h\n",
            "Train Loss: 0.6951\n",
            "Val Loss:   0.6816 (▼ 0.0000)\n",
            "Val Acc:    0.8333\n",
            "Learning Rate: 1.00e-03\n",
            "------------------------------------------------------------\n"
          ]
        },
        {
          "output_type": "stream",
          "name": "stderr",
          "text": [
            "Epoch   2/500 [Train]: 100%|██████████| 9/9 [00:02<00:00,  3.05batch/s, Loss=0.6491, AvgLoss=0.6302]\n",
            "Epoch   2/500 [Val]  : 100%|██████████| 1/1 [00:00<00:00,  2.20batch/s, Loss=0.6720, Acc=0.5667]\n"
          ]
        },
        {
          "output_type": "stream",
          "name": "stdout",
          "text": [
            "\n",
            "Epoch   2/500 | Duration: 4.2s | Remaining: ~0.6h\n",
            "Train Loss: 0.6797\n",
            "Val Loss:   0.6720 (▼ 0.0000)\n",
            "Val Acc:    0.5667\n",
            "Learning Rate: 1.00e-03\n",
            "------------------------------------------------------------\n"
          ]
        },
        {
          "output_type": "stream",
          "name": "stderr",
          "text": [
            "Epoch   3/500 [Train]: 100%|██████████| 9/9 [00:02<00:00,  3.14batch/s, Loss=0.6682, AvgLoss=0.6237]\n",
            "Epoch   3/500 [Val]  : 100%|██████████| 1/1 [00:00<00:00,  2.14batch/s, Loss=0.6618, Acc=0.8000]\n"
          ]
        },
        {
          "output_type": "stream",
          "name": "stdout",
          "text": [
            "\n",
            "Epoch   3/500 | Duration: 4.5s | Remaining: ~0.6h\n",
            "Train Loss: 0.6728\n",
            "Val Loss:   0.6618 (▼ 0.0000)\n",
            "Val Acc:    0.8000\n",
            "Learning Rate: 1.00e-03\n",
            "------------------------------------------------------------\n"
          ]
        },
        {
          "output_type": "stream",
          "name": "stderr",
          "text": [
            "Epoch   4/500 [Train]: 100%|██████████| 9/9 [00:02<00:00,  3.09batch/s, Loss=0.6555, AvgLoss=0.6155]\n",
            "Epoch   4/500 [Val]  : 100%|██████████| 1/1 [00:00<00:00,  1.81batch/s, Loss=0.6529, Acc=0.8000]\n"
          ]
        },
        {
          "output_type": "stream",
          "name": "stdout",
          "text": [
            "\n",
            "Epoch   4/500 | Duration: 4.8s | Remaining: ~0.7h\n",
            "Train Loss: 0.6639\n",
            "Val Loss:   0.6529 (▼ 0.0000)\n",
            "Val Acc:    0.8000\n",
            "Learning Rate: 1.00e-03\n",
            "------------------------------------------------------------\n"
          ]
        },
        {
          "output_type": "stream",
          "name": "stderr",
          "text": [
            "Epoch   5/500 [Train]: 100%|██████████| 9/9 [00:02<00:00,  3.08batch/s, Loss=0.6556, AvgLoss=0.6086]\n",
            "Epoch   5/500 [Val]  : 100%|██████████| 1/1 [00:00<00:00,  2.18batch/s, Loss=0.6443, Acc=0.8000]\n"
          ]
        },
        {
          "output_type": "stream",
          "name": "stdout",
          "text": [
            "\n",
            "Epoch   5/500 | Duration: 4.9s | Remaining: ~0.7h\n",
            "Train Loss: 0.6565\n",
            "Val Loss:   0.6443 (▼ 0.0000)\n",
            "Val Acc:    0.8000\n",
            "Learning Rate: 1.00e-03\n",
            "------------------------------------------------------------\n"
          ]
        },
        {
          "output_type": "stream",
          "name": "stderr",
          "text": [
            "Epoch   6/500 [Train]: 100%|██████████| 9/9 [00:02<00:00,  3.09batch/s, Loss=0.6674, AvgLoss=0.6016]\n",
            "Epoch   6/500 [Val]  : 100%|██████████| 1/1 [00:00<00:00,  2.11batch/s, Loss=0.6360, Acc=0.8333]\n"
          ]
        },
        {
          "output_type": "stream",
          "name": "stdout",
          "text": [
            "\n",
            "Epoch   6/500 | Duration: 4.2s | Remaining: ~0.6h\n",
            "Train Loss: 0.6489\n",
            "Val Loss:   0.6360 (▼ 0.0000)\n",
            "Val Acc:    0.8333\n",
            "Learning Rate: 1.00e-03\n",
            "------------------------------------------------------------\n"
          ]
        },
        {
          "output_type": "stream",
          "name": "stderr",
          "text": [
            "Epoch   7/500 [Train]: 100%|██████████| 9/9 [00:02<00:00,  3.02batch/s, Loss=0.6737, AvgLoss=0.5962]\n",
            "Epoch   7/500 [Val]  : 100%|██████████| 1/1 [00:00<00:00,  1.75batch/s, Loss=0.6277, Acc=0.8333]\n"
          ]
        },
        {
          "output_type": "stream",
          "name": "stdout",
          "text": [
            "\n",
            "Epoch   7/500 | Duration: 4.7s | Remaining: ~0.7h\n",
            "Train Loss: 0.6431\n",
            "Val Loss:   0.6277 (▼ 0.0000)\n",
            "Val Acc:    0.8333\n",
            "Learning Rate: 1.00e-03\n",
            "------------------------------------------------------------\n"
          ]
        },
        {
          "output_type": "stream",
          "name": "stderr",
          "text": [
            "Epoch   8/500 [Train]: 100%|██████████| 9/9 [00:03<00:00,  2.94batch/s, Loss=0.6796, AvgLoss=0.5894]\n",
            "Epoch   8/500 [Val]  : 100%|██████████| 1/1 [00:00<00:00,  1.98batch/s, Loss=0.6212, Acc=0.8000]\n"
          ]
        },
        {
          "output_type": "stream",
          "name": "stdout",
          "text": [
            "\n",
            "Epoch   8/500 | Duration: 4.4s | Remaining: ~0.6h\n",
            "Train Loss: 0.6358\n",
            "Val Loss:   0.6212 (▼ 0.0000)\n",
            "Val Acc:    0.8000\n",
            "Learning Rate: 1.00e-03\n",
            "------------------------------------------------------------\n"
          ]
        },
        {
          "output_type": "stream",
          "name": "stderr",
          "text": [
            "Epoch   9/500 [Train]: 100%|██████████| 9/9 [00:02<00:00,  3.06batch/s, Loss=0.6400, AvgLoss=0.5858]\n",
            "Epoch   9/500 [Val]  : 100%|██████████| 1/1 [00:00<00:00,  2.10batch/s, Loss=0.6145, Acc=0.8000]\n"
          ]
        },
        {
          "output_type": "stream",
          "name": "stdout",
          "text": [
            "\n",
            "Epoch   9/500 | Duration: 4.2s | Remaining: ~0.6h\n",
            "Train Loss: 0.6319\n",
            "Val Loss:   0.6145 (▼ 0.0000)\n",
            "Val Acc:    0.8000\n",
            "Learning Rate: 1.00e-03\n",
            "------------------------------------------------------------\n"
          ]
        },
        {
          "output_type": "stream",
          "name": "stderr",
          "text": [
            "Epoch  10/500 [Train]: 100%|██████████| 9/9 [00:02<00:00,  3.05batch/s, Loss=0.6792, AvgLoss=0.5813]\n",
            "Epoch  10/500 [Val]  : 100%|██████████| 1/1 [00:00<00:00,  2.14batch/s, Loss=0.6074, Acc=0.8667]\n"
          ]
        },
        {
          "output_type": "stream",
          "name": "stdout",
          "text": [
            "\n",
            "Epoch  10/500 | Duration: 4.2s | Remaining: ~0.6h\n",
            "Train Loss: 0.6270\n",
            "Val Loss:   0.6074 (▼ 0.0000)\n",
            "Val Acc:    0.8667\n",
            "Learning Rate: 1.00e-03\n",
            "------------------------------------------------------------\n"
          ]
        },
        {
          "output_type": "stream",
          "name": "stderr",
          "text": [
            "Epoch  11/500 [Train]: 100%|██████████| 9/9 [00:03<00:00,  2.45batch/s, Loss=0.6301, AvgLoss=0.5744]\n",
            "Epoch  11/500 [Val]  : 100%|██████████| 1/1 [00:00<00:00,  1.85batch/s, Loss=0.6018, Acc=0.8333]\n"
          ]
        },
        {
          "output_type": "stream",
          "name": "stdout",
          "text": [
            "\n",
            "Epoch  11/500 | Duration: 5.0s | Remaining: ~0.7h\n",
            "Train Loss: 0.6196\n",
            "Val Loss:   0.6018 (▼ 0.0000)\n",
            "Val Acc:    0.8333\n",
            "Learning Rate: 1.00e-03\n",
            "------------------------------------------------------------\n"
          ]
        },
        {
          "output_type": "stream",
          "name": "stderr",
          "text": [
            "Epoch  12/500 [Train]: 100%|██████████| 9/9 [00:03<00:00,  2.64batch/s, Loss=0.5256, AvgLoss=0.5719]\n",
            "Epoch  12/500 [Val]  : 100%|██████████| 1/1 [00:00<00:00,  2.12batch/s, Loss=0.5972, Acc=0.8000]\n"
          ]
        },
        {
          "output_type": "stream",
          "name": "stdout",
          "text": [
            "\n",
            "Epoch  12/500 | Duration: 6.6s | Remaining: ~0.9h\n",
            "Train Loss: 0.6169\n",
            "Val Loss:   0.5972 (▼ 0.0000)\n",
            "Val Acc:    0.8000\n",
            "Learning Rate: 1.00e-03\n",
            "------------------------------------------------------------\n"
          ]
        },
        {
          "output_type": "stream",
          "name": "stderr",
          "text": [
            "Epoch  13/500 [Train]: 100%|██████████| 9/9 [00:03<00:00,  2.91batch/s, Loss=0.6476, AvgLoss=0.5652]\n",
            "Epoch  13/500 [Val]  : 100%|██████████| 1/1 [00:00<00:00,  1.78batch/s, Loss=0.5904, Acc=0.8667]\n"
          ]
        },
        {
          "output_type": "stream",
          "name": "stdout",
          "text": [
            "\n",
            "Epoch  13/500 | Duration: 4.8s | Remaining: ~0.6h\n",
            "Train Loss: 0.6097\n",
            "Val Loss:   0.5904 (▼ 0.0000)\n",
            "Val Acc:    0.8667\n",
            "Learning Rate: 1.00e-03\n",
            "------------------------------------------------------------\n"
          ]
        },
        {
          "output_type": "stream",
          "name": "stderr",
          "text": [
            "Epoch  14/500 [Train]: 100%|██████████| 9/9 [00:03<00:00,  2.82batch/s, Loss=0.5931, AvgLoss=0.5612]\n",
            "Epoch  14/500 [Val]  : 100%|██████████| 1/1 [00:00<00:00,  2.09batch/s, Loss=0.5848, Acc=0.8667]\n"
          ]
        },
        {
          "output_type": "stream",
          "name": "stdout",
          "text": [
            "\n",
            "Epoch  14/500 | Duration: 4.5s | Remaining: ~0.6h\n",
            "Train Loss: 0.6054\n",
            "Val Loss:   0.5848 (▼ 0.0000)\n",
            "Val Acc:    0.8667\n",
            "Learning Rate: 1.00e-03\n",
            "------------------------------------------------------------\n"
          ]
        },
        {
          "output_type": "stream",
          "name": "stderr",
          "text": [
            "Epoch  15/500 [Train]: 100%|██████████| 9/9 [00:02<00:00,  3.03batch/s, Loss=0.6547, AvgLoss=0.5576]\n",
            "Epoch  15/500 [Val]  : 100%|██████████| 1/1 [00:00<00:00,  2.09batch/s, Loss=0.5807, Acc=0.8000]\n"
          ]
        },
        {
          "output_type": "stream",
          "name": "stdout",
          "text": [
            "\n",
            "Epoch  15/500 | Duration: 4.2s | Remaining: ~0.6h\n",
            "Train Loss: 0.6014\n",
            "Val Loss:   0.5807 (▼ 0.0000)\n",
            "Val Acc:    0.8000\n",
            "Learning Rate: 1.00e-03\n",
            "------------------------------------------------------------\n"
          ]
        },
        {
          "output_type": "stream",
          "name": "stderr",
          "text": [
            "Epoch  16/500 [Train]: 100%|██████████| 9/9 [00:03<00:00,  2.99batch/s, Loss=0.5601, AvgLoss=0.5535]\n",
            "Epoch  16/500 [Val]  : 100%|██████████| 1/1 [00:00<00:00,  2.07batch/s, Loss=0.5751, Acc=0.8667]\n"
          ]
        },
        {
          "output_type": "stream",
          "name": "stdout",
          "text": [
            "\n",
            "Epoch  16/500 | Duration: 4.3s | Remaining: ~0.6h\n",
            "Train Loss: 0.5971\n",
            "Val Loss:   0.5751 (▼ 0.0000)\n",
            "Val Acc:    0.8667\n",
            "Learning Rate: 1.00e-03\n",
            "------------------------------------------------------------\n"
          ]
        },
        {
          "output_type": "stream",
          "name": "stderr",
          "text": [
            "Epoch  17/500 [Train]: 100%|██████████| 9/9 [00:03<00:00,  2.81batch/s, Loss=0.5408, AvgLoss=0.5494]\n",
            "Epoch  17/500 [Val]  : 100%|██████████| 1/1 [00:00<00:00,  1.73batch/s, Loss=0.5703, Acc=0.8000]\n"
          ]
        },
        {
          "output_type": "stream",
          "name": "stdout",
          "text": [
            "\n",
            "Epoch  17/500 | Duration: 4.7s | Remaining: ~0.6h\n",
            "Train Loss: 0.5926\n",
            "Val Loss:   0.5703 (▼ 0.0000)\n",
            "Val Acc:    0.8000\n",
            "Learning Rate: 1.00e-03\n",
            "------------------------------------------------------------\n"
          ]
        },
        {
          "output_type": "stream",
          "name": "stderr",
          "text": [
            "Epoch  18/500 [Train]: 100%|██████████| 9/9 [00:03<00:00,  2.95batch/s, Loss=0.6121, AvgLoss=0.5462]\n",
            "Epoch  18/500 [Val]  : 100%|██████████| 1/1 [00:00<00:00,  2.09batch/s, Loss=0.5650, Acc=0.8000]\n"
          ]
        },
        {
          "output_type": "stream",
          "name": "stdout",
          "text": [
            "\n",
            "Epoch  18/500 | Duration: 4.6s | Remaining: ~0.6h\n",
            "Train Loss: 0.5892\n",
            "Val Loss:   0.5650 (▼ 0.0000)\n",
            "Val Acc:    0.8000\n",
            "Learning Rate: 1.00e-03\n",
            "------------------------------------------------------------\n"
          ]
        },
        {
          "output_type": "stream",
          "name": "stderr",
          "text": [
            "Epoch  19/500 [Train]: 100%|██████████| 9/9 [00:03<00:00,  2.93batch/s, Loss=0.6650, AvgLoss=0.5437]\n",
            "Epoch  19/500 [Val]  : 100%|██████████| 1/1 [00:00<00:00,  2.00batch/s, Loss=0.5609, Acc=0.8000]\n"
          ]
        },
        {
          "output_type": "stream",
          "name": "stdout",
          "text": [
            "\n",
            "Epoch  19/500 | Duration: 4.4s | Remaining: ~0.6h\n",
            "Train Loss: 0.5864\n",
            "Val Loss:   0.5609 (▼ 0.0000)\n",
            "Val Acc:    0.8000\n",
            "Learning Rate: 1.00e-03\n",
            "------------------------------------------------------------\n"
          ]
        },
        {
          "output_type": "stream",
          "name": "stderr",
          "text": [
            "Epoch  20/500 [Train]: 100%|██████████| 9/9 [00:03<00:00,  2.85batch/s, Loss=0.6539, AvgLoss=0.5434]\n",
            "Epoch  20/500 [Val]  : 100%|██████████| 1/1 [00:00<00:00,  1.72batch/s, Loss=0.5577, Acc=0.8000]\n"
          ]
        },
        {
          "output_type": "stream",
          "name": "stdout",
          "text": [
            "\n",
            "Epoch  20/500 | Duration: 4.7s | Remaining: ~0.6h\n",
            "Train Loss: 0.5861\n",
            "Val Loss:   0.5577 (▼ 0.0000)\n",
            "Val Acc:    0.8000\n",
            "Learning Rate: 1.00e-03\n",
            "------------------------------------------------------------\n"
          ]
        },
        {
          "output_type": "stream",
          "name": "stderr",
          "text": [
            "Epoch  21/500 [Train]: 100%|██████████| 9/9 [00:03<00:00,  2.93batch/s, Loss=0.5301, AvgLoss=0.5372]\n",
            "Epoch  21/500 [Val]  : 100%|██████████| 1/1 [00:00<00:00,  2.06batch/s, Loss=0.5533, Acc=0.8333]\n"
          ]
        },
        {
          "output_type": "stream",
          "name": "stdout",
          "text": [
            "\n",
            "Epoch  21/500 | Duration: 4.4s | Remaining: ~0.6h\n",
            "Train Loss: 0.5795\n",
            "Val Loss:   0.5533 (▼ 0.0000)\n",
            "Val Acc:    0.8333\n",
            "Learning Rate: 1.00e-03\n",
            "------------------------------------------------------------\n"
          ]
        },
        {
          "output_type": "stream",
          "name": "stderr",
          "text": [
            "Epoch  22/500 [Train]: 100%|██████████| 9/9 [00:03<00:00,  2.90batch/s, Loss=0.5894, AvgLoss=0.5343]\n",
            "Epoch  22/500 [Val]  : 100%|██████████| 1/1 [00:00<00:00,  2.06batch/s, Loss=0.5506, Acc=0.8000]\n"
          ]
        },
        {
          "output_type": "stream",
          "name": "stdout",
          "text": [
            "\n",
            "Epoch  22/500 | Duration: 6.4s | Remaining: ~0.9h\n",
            "Train Loss: 0.5763\n",
            "Val Loss:   0.5506 (▼ 0.0000)\n",
            "Val Acc:    0.8000\n",
            "Learning Rate: 1.00e-03\n",
            "------------------------------------------------------------\n"
          ]
        },
        {
          "output_type": "stream",
          "name": "stderr",
          "text": [
            "Epoch  23/500 [Train]: 100%|██████████| 9/9 [00:03<00:00,  2.68batch/s, Loss=0.7573, AvgLoss=0.5324]\n",
            "Epoch  23/500 [Val]  : 100%|██████████| 1/1 [00:00<00:00,  1.82batch/s, Loss=0.5456, Acc=0.8667]\n"
          ]
        },
        {
          "output_type": "stream",
          "name": "stdout",
          "text": [
            "\n",
            "Epoch  23/500 | Duration: 4.7s | Remaining: ~0.6h\n",
            "Train Loss: 0.5743\n",
            "Val Loss:   0.5456 (▼ 0.0000)\n",
            "Val Acc:    0.8667\n",
            "Learning Rate: 1.00e-03\n",
            "------------------------------------------------------------\n"
          ]
        },
        {
          "output_type": "stream",
          "name": "stderr",
          "text": [
            "Epoch  24/500 [Train]: 100%|██████████| 9/9 [00:03<00:00,  2.97batch/s, Loss=0.5262, AvgLoss=0.5289]\n",
            "Epoch  24/500 [Val]  : 100%|██████████| 1/1 [00:00<00:00,  2.09batch/s, Loss=0.5437, Acc=0.8333]\n"
          ]
        },
        {
          "output_type": "stream",
          "name": "stdout",
          "text": [
            "\n",
            "Epoch  24/500 | Duration: 4.3s | Remaining: ~0.6h\n",
            "Train Loss: 0.5705\n",
            "Val Loss:   0.5437 (▼ 0.0000)\n",
            "Val Acc:    0.8333\n",
            "Learning Rate: 1.00e-03\n",
            "------------------------------------------------------------\n"
          ]
        },
        {
          "output_type": "stream",
          "name": "stderr",
          "text": [
            "Epoch  25/500 [Train]: 100%|██████████| 9/9 [00:03<00:00,  2.93batch/s, Loss=0.4836, AvgLoss=0.5258]\n",
            "Epoch  25/500 [Val]  : 100%|██████████| 1/1 [00:00<00:00,  2.06batch/s, Loss=0.5415, Acc=0.8000]\n"
          ]
        },
        {
          "output_type": "stream",
          "name": "stdout",
          "text": [
            "\n",
            "Epoch  25/500 | Duration: 7.6s | Remaining: ~1.0h\n",
            "Train Loss: 0.5671\n",
            "Val Loss:   0.5415 (▼ 0.0000)\n",
            "Val Acc:    0.8000\n",
            "Learning Rate: 1.00e-03\n",
            "------------------------------------------------------------\n"
          ]
        },
        {
          "output_type": "stream",
          "name": "stderr",
          "text": [
            "Epoch  26/500 [Train]: 100%|██████████| 9/9 [00:03<00:00,  2.91batch/s, Loss=0.4363, AvgLoss=0.5239]\n",
            "Epoch  26/500 [Val]  : 100%|██████████| 1/1 [00:00<00:00,  2.13batch/s, Loss=0.5371, Acc=0.8000]\n"
          ]
        },
        {
          "output_type": "stream",
          "name": "stdout",
          "text": [
            "\n",
            "Epoch  26/500 | Duration: 4.4s | Remaining: ~0.6h\n",
            "Train Loss: 0.5651\n",
            "Val Loss:   0.5371 (▼ 0.0000)\n",
            "Val Acc:    0.8000\n",
            "Learning Rate: 1.00e-03\n",
            "------------------------------------------------------------\n"
          ]
        },
        {
          "output_type": "stream",
          "name": "stderr",
          "text": [
            "Epoch  27/500 [Train]: 100%|██████████| 9/9 [00:03<00:00,  2.95batch/s, Loss=0.5412, AvgLoss=0.5214]\n",
            "Epoch  27/500 [Val]  : 100%|██████████| 1/1 [00:00<00:00,  1.84batch/s, Loss=0.5339, Acc=0.8667]\n"
          ]
        },
        {
          "output_type": "stream",
          "name": "stdout",
          "text": [
            "\n",
            "Epoch  27/500 | Duration: 4.5s | Remaining: ~0.6h\n",
            "Train Loss: 0.5624\n",
            "Val Loss:   0.5339 (▼ 0.0000)\n",
            "Val Acc:    0.8667\n",
            "Learning Rate: 1.00e-03\n",
            "------------------------------------------------------------\n"
          ]
        },
        {
          "output_type": "stream",
          "name": "stderr",
          "text": [
            "Epoch  28/500 [Train]: 100%|██████████| 9/9 [00:03<00:00,  2.93batch/s, Loss=0.5543, AvgLoss=0.5187]\n",
            "Epoch  28/500 [Val]  : 100%|██████████| 1/1 [00:00<00:00,  1.76batch/s, Loss=0.5316, Acc=0.8000]\n"
          ]
        },
        {
          "output_type": "stream",
          "name": "stdout",
          "text": [
            "\n",
            "Epoch  28/500 | Duration: 4.9s | Remaining: ~0.6h\n",
            "Train Loss: 0.5595\n",
            "Val Loss:   0.5316 (▼ 0.0000)\n",
            "Val Acc:    0.8000\n",
            "Learning Rate: 1.00e-03\n",
            "------------------------------------------------------------\n"
          ]
        },
        {
          "output_type": "stream",
          "name": "stderr",
          "text": [
            "Epoch  29/500 [Train]: 100%|██████████| 9/9 [00:03<00:00,  2.94batch/s, Loss=0.5444, AvgLoss=0.5174]\n",
            "Epoch  29/500 [Val]  : 100%|██████████| 1/1 [00:00<00:00,  2.09batch/s, Loss=0.5304, Acc=0.8000]\n"
          ]
        },
        {
          "output_type": "stream",
          "name": "stdout",
          "text": [
            "\n",
            "Epoch  29/500 | Duration: 4.4s | Remaining: ~0.6h\n",
            "Train Loss: 0.5581\n",
            "Val Loss:   0.5304 (▼ 0.0000)\n",
            "Val Acc:    0.8000\n",
            "Learning Rate: 1.00e-03\n",
            "------------------------------------------------------------\n"
          ]
        },
        {
          "output_type": "stream",
          "name": "stderr",
          "text": [
            "Epoch  30/500 [Train]: 100%|██████████| 9/9 [00:03<00:00,  2.94batch/s, Loss=0.6964, AvgLoss=0.5147]\n",
            "Epoch  30/500 [Val]  : 100%|██████████| 1/1 [00:00<00:00,  2.11batch/s, Loss=0.5257, Acc=0.8333]\n"
          ]
        },
        {
          "output_type": "stream",
          "name": "stdout",
          "text": [
            "\n",
            "Epoch  30/500 | Duration: 4.6s | Remaining: ~0.6h\n",
            "Train Loss: 0.5552\n",
            "Val Loss:   0.5257 (▼ 0.0000)\n",
            "Val Acc:    0.8333\n",
            "Learning Rate: 1.00e-03\n",
            "------------------------------------------------------------\n"
          ]
        },
        {
          "output_type": "stream",
          "name": "stderr",
          "text": [
            "Epoch  31/500 [Train]: 100%|██████████| 9/9 [00:03<00:00,  2.90batch/s, Loss=0.5323, AvgLoss=0.5126]\n",
            "Epoch  31/500 [Val]  : 100%|██████████| 1/1 [00:00<00:00,  1.74batch/s, Loss=0.5238, Acc=0.8667]\n"
          ]
        },
        {
          "output_type": "stream",
          "name": "stdout",
          "text": [
            "\n",
            "Epoch  31/500 | Duration: 4.7s | Remaining: ~0.6h\n",
            "Train Loss: 0.5529\n",
            "Val Loss:   0.5238 (▼ 0.0000)\n",
            "Val Acc:    0.8667\n",
            "Learning Rate: 1.00e-03\n",
            "------------------------------------------------------------\n"
          ]
        },
        {
          "output_type": "stream",
          "name": "stderr",
          "text": [
            "Epoch  32/500 [Train]: 100%|██████████| 9/9 [00:03<00:00,  2.94batch/s, Loss=0.5880, AvgLoss=0.5113]\n",
            "Epoch  32/500 [Val]  : 100%|██████████| 1/1 [00:00<00:00,  2.11batch/s, Loss=0.5219, Acc=0.8667]\n"
          ]
        },
        {
          "output_type": "stream",
          "name": "stdout",
          "text": [
            "\n",
            "Epoch  32/500 | Duration: 4.4s | Remaining: ~0.6h\n",
            "Train Loss: 0.5515\n",
            "Val Loss:   0.5219 (▼ 0.0000)\n",
            "Val Acc:    0.8667\n",
            "Learning Rate: 1.00e-03\n",
            "------------------------------------------------------------\n"
          ]
        },
        {
          "output_type": "stream",
          "name": "stderr",
          "text": [
            "Epoch  33/500 [Train]: 100%|██████████| 9/9 [00:03<00:00,  2.96batch/s, Loss=0.4730, AvgLoss=0.5099]\n",
            "Epoch  33/500 [Val]  : 100%|██████████| 1/1 [00:00<00:00,  2.05batch/s, Loss=0.5200, Acc=0.8333]\n"
          ]
        },
        {
          "output_type": "stream",
          "name": "stdout",
          "text": [
            "\n",
            "Epoch  33/500 | Duration: 4.4s | Remaining: ~0.6h\n",
            "Train Loss: 0.5500\n",
            "Val Loss:   0.5200 (▼ 0.0000)\n",
            "Val Acc:    0.8333\n",
            "Learning Rate: 1.00e-03\n",
            "------------------------------------------------------------\n"
          ]
        },
        {
          "output_type": "stream",
          "name": "stderr",
          "text": [
            "Epoch  34/500 [Train]: 100%|██████████| 9/9 [00:03<00:00,  2.88batch/s, Loss=0.6106, AvgLoss=0.5074]\n",
            "Epoch  34/500 [Val]  : 100%|██████████| 1/1 [00:00<00:00,  1.71batch/s, Loss=0.5180, Acc=0.8667]\n"
          ]
        },
        {
          "output_type": "stream",
          "name": "stdout",
          "text": [
            "\n",
            "Epoch  34/500 | Duration: 4.9s | Remaining: ~0.6h\n",
            "Train Loss: 0.5473\n",
            "Val Loss:   0.5180 (▼ 0.0000)\n",
            "Val Acc:    0.8667\n",
            "Learning Rate: 1.00e-03\n",
            "------------------------------------------------------------\n"
          ]
        },
        {
          "output_type": "stream",
          "name": "stderr",
          "text": [
            "Epoch  35/500 [Train]: 100%|██████████| 9/9 [00:03<00:00,  2.88batch/s, Loss=0.5213, AvgLoss=0.5058]\n",
            "Epoch  35/500 [Val]  : 100%|██████████| 1/1 [00:00<00:00,  1.99batch/s, Loss=0.5157, Acc=0.8333]\n"
          ]
        },
        {
          "output_type": "stream",
          "name": "stdout",
          "text": [
            "\n",
            "Epoch  35/500 | Duration: 4.5s | Remaining: ~0.6h\n",
            "Train Loss: 0.5456\n",
            "Val Loss:   0.5157 (▼ 0.0000)\n",
            "Val Acc:    0.8333\n",
            "Learning Rate: 1.00e-03\n",
            "------------------------------------------------------------\n"
          ]
        },
        {
          "output_type": "stream",
          "name": "stderr",
          "text": [
            "Epoch  36/500 [Train]: 100%|██████████| 9/9 [00:03<00:00,  2.95batch/s, Loss=0.6770, AvgLoss=0.5040]\n",
            "Epoch  36/500 [Val]  : 100%|██████████| 1/1 [00:00<00:00,  2.02batch/s, Loss=0.5136, Acc=0.8667]\n"
          ]
        },
        {
          "output_type": "stream",
          "name": "stdout",
          "text": [
            "\n",
            "Epoch  36/500 | Duration: 4.5s | Remaining: ~0.6h\n",
            "Train Loss: 0.5436\n",
            "Val Loss:   0.5136 (▼ 0.0000)\n",
            "Val Acc:    0.8667\n",
            "Learning Rate: 1.00e-03\n",
            "------------------------------------------------------------\n"
          ]
        },
        {
          "output_type": "stream",
          "name": "stderr",
          "text": [
            "Epoch  37/500 [Train]: 100%|██████████| 9/9 [00:03<00:00,  2.84batch/s, Loss=0.3814, AvgLoss=0.5028]\n",
            "Epoch  37/500 [Val]  : 100%|██████████| 1/1 [00:00<00:00,  1.76batch/s, Loss=0.5121, Acc=0.8667]\n"
          ]
        },
        {
          "output_type": "stream",
          "name": "stdout",
          "text": [
            "\n",
            "Epoch  37/500 | Duration: 11.2s | Remaining: ~1.4h\n",
            "Train Loss: 0.5424\n",
            "Val Loss:   0.5121 (▼ 0.0000)\n",
            "Val Acc:    0.8667\n",
            "Learning Rate: 1.00e-03\n",
            "------------------------------------------------------------\n"
          ]
        },
        {
          "output_type": "stream",
          "name": "stderr",
          "text": [
            "Epoch  38/500 [Train]: 100%|██████████| 9/9 [00:03<00:00,  2.90batch/s, Loss=0.5369, AvgLoss=0.5012]\n",
            "Epoch  38/500 [Val]  : 100%|██████████| 1/1 [00:00<00:00,  2.08batch/s, Loss=0.5099, Acc=0.8333]\n"
          ]
        },
        {
          "output_type": "stream",
          "name": "stdout",
          "text": [
            "\n",
            "Epoch  38/500 | Duration: 22.0s | Remaining: ~2.8h\n",
            "Train Loss: 0.5406\n",
            "Val Loss:   0.5099 (▼ 0.0000)\n",
            "Val Acc:    0.8333\n",
            "Learning Rate: 1.00e-03\n",
            "------------------------------------------------------------\n"
          ]
        },
        {
          "output_type": "stream",
          "name": "stderr",
          "text": [
            "Epoch  39/500 [Train]: 100%|██████████| 9/9 [00:03<00:00,  2.89batch/s, Loss=0.6662, AvgLoss=0.4993]\n",
            "Epoch  39/500 [Val]  : 100%|██████████| 1/1 [00:00<00:00,  2.09batch/s, Loss=0.5080, Acc=0.8333]\n"
          ]
        },
        {
          "output_type": "stream",
          "name": "stdout",
          "text": [
            "\n",
            "Epoch  39/500 | Duration: 7.9s | Remaining: ~1.0h\n",
            "Train Loss: 0.5386\n",
            "Val Loss:   0.5080 (▼ 0.0000)\n",
            "Val Acc:    0.8333\n",
            "Learning Rate: 1.00e-03\n",
            "------------------------------------------------------------\n"
          ]
        },
        {
          "output_type": "stream",
          "name": "stderr",
          "text": [
            "Epoch  40/500 [Train]: 100%|██████████| 9/9 [00:03<00:00,  2.90batch/s, Loss=0.6180, AvgLoss=0.4986]\n",
            "Epoch  40/500 [Val]  : 100%|██████████| 1/1 [00:00<00:00,  1.72batch/s, Loss=0.5064, Acc=0.8667]\n"
          ]
        },
        {
          "output_type": "stream",
          "name": "stdout",
          "text": [
            "\n",
            "Epoch  40/500 | Duration: 5.0s | Remaining: ~0.6h\n",
            "Train Loss: 0.5379\n",
            "Val Loss:   0.5064 (▼ 0.0000)\n",
            "Val Acc:    0.8667\n",
            "Learning Rate: 1.00e-03\n",
            "------------------------------------------------------------\n"
          ]
        },
        {
          "output_type": "stream",
          "name": "stderr",
          "text": [
            "Epoch  41/500 [Train]: 100%|██████████| 9/9 [00:03<00:00,  2.65batch/s, Loss=0.4706, AvgLoss=0.4965]\n",
            "Epoch  41/500 [Val]  : 100%|██████████| 1/1 [00:00<00:00,  1.83batch/s, Loss=0.5068, Acc=0.8000]\n"
          ]
        },
        {
          "output_type": "stream",
          "name": "stdout",
          "text": [
            "\n",
            "Epoch  41/500 | Duration: 4.0s | Remaining: ~0.5h\n",
            "Train Loss: 0.5356\n",
            "Val Loss:   0.5068 (▲ 0.0005) [Patience left: 19]\n",
            "Val Acc:    0.8000\n",
            "Learning Rate: 1.00e-03\n",
            "------------------------------------------------------------\n"
          ]
        },
        {
          "output_type": "stream",
          "name": "stderr",
          "text": [
            "Epoch  42/500 [Train]: 100%|██████████| 9/9 [00:03<00:00,  2.90batch/s, Loss=0.5822, AvgLoss=0.4957]\n",
            "Epoch  42/500 [Val]  : 100%|██████████| 1/1 [00:00<00:00,  2.02batch/s, Loss=0.5048, Acc=0.8000]\n"
          ]
        },
        {
          "output_type": "stream",
          "name": "stdout",
          "text": [
            "\n",
            "Epoch  42/500 | Duration: 4.7s | Remaining: ~0.6h\n",
            "Train Loss: 0.5347\n",
            "Val Loss:   0.5048 (▼ 0.0000)\n",
            "Val Acc:    0.8000\n",
            "Learning Rate: 1.00e-03\n",
            "------------------------------------------------------------\n"
          ]
        },
        {
          "output_type": "stream",
          "name": "stderr",
          "text": [
            "Epoch  43/500 [Train]: 100%|██████████| 9/9 [00:03<00:00,  2.83batch/s, Loss=0.6307, AvgLoss=0.4939]\n",
            "Epoch  43/500 [Val]  : 100%|██████████| 1/1 [00:00<00:00,  2.02batch/s, Loss=0.5012, Acc=0.8667]\n"
          ]
        },
        {
          "output_type": "stream",
          "name": "stdout",
          "text": [
            "\n",
            "Epoch  43/500 | Duration: 9.7s | Remaining: ~1.2h\n",
            "Train Loss: 0.5327\n",
            "Val Loss:   0.5012 (▼ 0.0000)\n",
            "Val Acc:    0.8667\n",
            "Learning Rate: 1.00e-03\n",
            "------------------------------------------------------------\n"
          ]
        },
        {
          "output_type": "stream",
          "name": "stderr",
          "text": [
            "Epoch  44/500 [Train]: 100%|██████████| 9/9 [00:03<00:00,  2.80batch/s, Loss=0.5059, AvgLoss=0.4918]\n",
            "Epoch  44/500 [Val]  : 100%|██████████| 1/1 [00:00<00:00,  2.04batch/s, Loss=0.4999, Acc=0.8333]\n"
          ]
        },
        {
          "output_type": "stream",
          "name": "stdout",
          "text": [
            "\n",
            "Epoch  44/500 | Duration: 4.8s | Remaining: ~0.6h\n",
            "Train Loss: 0.5305\n",
            "Val Loss:   0.4999 (▼ 0.0000)\n",
            "Val Acc:    0.8333\n",
            "Learning Rate: 1.00e-03\n",
            "------------------------------------------------------------\n"
          ]
        },
        {
          "output_type": "stream",
          "name": "stderr",
          "text": [
            "Epoch  45/500 [Train]: 100%|██████████| 9/9 [00:03<00:00,  2.93batch/s, Loss=0.5209, AvgLoss=0.4912]\n",
            "Epoch  45/500 [Val]  : 100%|██████████| 1/1 [00:00<00:00,  2.06batch/s, Loss=0.4998, Acc=0.8000]\n"
          ]
        },
        {
          "output_type": "stream",
          "name": "stdout",
          "text": [
            "\n",
            "Epoch  45/500 | Duration: 9.6s | Remaining: ~1.2h\n",
            "Train Loss: 0.5298\n",
            "Val Loss:   0.4998 (▼ 0.0000)\n",
            "Val Acc:    0.8000\n",
            "Learning Rate: 1.00e-03\n",
            "------------------------------------------------------------\n"
          ]
        },
        {
          "output_type": "stream",
          "name": "stderr",
          "text": [
            "Epoch  46/500 [Train]: 100%|██████████| 9/9 [00:03<00:00,  2.85batch/s, Loss=0.4699, AvgLoss=0.4898]\n",
            "Epoch  46/500 [Val]  : 100%|██████████| 1/1 [00:00<00:00,  2.04batch/s, Loss=0.4979, Acc=0.8000]\n"
          ]
        },
        {
          "output_type": "stream",
          "name": "stdout",
          "text": [
            "\n",
            "Epoch  46/500 | Duration: 4.8s | Remaining: ~0.6h\n",
            "Train Loss: 0.5283\n",
            "Val Loss:   0.4979 (▼ 0.0000)\n",
            "Val Acc:    0.8000\n",
            "Learning Rate: 1.00e-03\n",
            "------------------------------------------------------------\n"
          ]
        },
        {
          "output_type": "stream",
          "name": "stderr",
          "text": [
            "Epoch  47/500 [Train]: 100%|██████████| 9/9 [00:03<00:00,  2.97batch/s, Loss=0.5421, AvgLoss=0.4890]\n",
            "Epoch  47/500 [Val]  : 100%|██████████| 1/1 [00:00<00:00,  2.05batch/s, Loss=0.4959, Acc=0.8667]\n"
          ]
        },
        {
          "output_type": "stream",
          "name": "stdout",
          "text": [
            "\n",
            "Epoch  47/500 | Duration: 4.6s | Remaining: ~0.6h\n",
            "Train Loss: 0.5274\n",
            "Val Loss:   0.4959 (▼ 0.0000)\n",
            "Val Acc:    0.8667\n",
            "Learning Rate: 1.00e-03\n",
            "------------------------------------------------------------\n"
          ]
        },
        {
          "output_type": "stream",
          "name": "stderr",
          "text": [
            "Epoch  48/500 [Train]: 100%|██████████| 9/9 [00:03<00:00,  2.85batch/s, Loss=0.5284, AvgLoss=0.4894]\n",
            "Epoch  48/500 [Val]  : 100%|██████████| 1/1 [00:00<00:00,  1.71batch/s, Loss=0.4948, Acc=0.8000]\n"
          ]
        },
        {
          "output_type": "stream",
          "name": "stdout",
          "text": [
            "\n",
            "Epoch  48/500 | Duration: 5.0s | Remaining: ~0.6h\n",
            "Train Loss: 0.5279\n",
            "Val Loss:   0.4948 (▼ 0.0000)\n",
            "Val Acc:    0.8000\n",
            "Learning Rate: 1.00e-03\n",
            "------------------------------------------------------------\n"
          ]
        },
        {
          "output_type": "stream",
          "name": "stderr",
          "text": [
            "Epoch  49/500 [Train]: 100%|██████████| 9/9 [00:03<00:00,  2.98batch/s, Loss=0.5246, AvgLoss=0.4860]\n",
            "Epoch  49/500 [Val]  : 100%|██████████| 1/1 [00:00<00:00,  1.95batch/s, Loss=0.4935, Acc=0.8333]\n"
          ]
        },
        {
          "output_type": "stream",
          "name": "stdout",
          "text": [
            "\n",
            "Epoch  49/500 | Duration: 4.8s | Remaining: ~0.6h\n",
            "Train Loss: 0.5243\n",
            "Val Loss:   0.4935 (▼ 0.0000)\n",
            "Val Acc:    0.8333\n",
            "Learning Rate: 1.00e-03\n",
            "------------------------------------------------------------\n"
          ]
        },
        {
          "output_type": "stream",
          "name": "stderr",
          "text": [
            "Epoch  50/500 [Train]: 100%|██████████| 9/9 [00:03<00:00,  2.97batch/s, Loss=0.5480, AvgLoss=0.4847]\n",
            "Epoch  50/500 [Val]  : 100%|██████████| 1/1 [00:00<00:00,  1.98batch/s, Loss=0.4928, Acc=0.8333]\n"
          ]
        },
        {
          "output_type": "stream",
          "name": "stdout",
          "text": [
            "\n",
            "Epoch  50/500 | Duration: 5.1s | Remaining: ~0.6h\n",
            "Train Loss: 0.5228\n",
            "Val Loss:   0.4928 (▼ 0.0000)\n",
            "Val Acc:    0.8333\n",
            "Learning Rate: 1.00e-03\n",
            "------------------------------------------------------------\n"
          ]
        },
        {
          "output_type": "stream",
          "name": "stderr",
          "text": [
            "Epoch  51/500 [Train]: 100%|██████████| 9/9 [00:03<00:00,  2.73batch/s, Loss=0.6999, AvgLoss=0.4844]\n",
            "Epoch  51/500 [Val]  : 100%|██████████| 1/1 [00:00<00:00,  1.75batch/s, Loss=0.4918, Acc=0.8000]\n"
          ]
        },
        {
          "output_type": "stream",
          "name": "stdout",
          "text": [
            "\n",
            "Epoch  51/500 | Duration: 4.9s | Remaining: ~0.6h\n",
            "Train Loss: 0.5225\n",
            "Val Loss:   0.4918 (▼ 0.0000)\n",
            "Val Acc:    0.8000\n",
            "Learning Rate: 1.00e-03\n",
            "------------------------------------------------------------\n"
          ]
        },
        {
          "output_type": "stream",
          "name": "stderr",
          "text": [
            "Epoch  52/500 [Train]: 100%|██████████| 9/9 [00:03<00:00,  2.90batch/s, Loss=0.4064, AvgLoss=0.4833]\n",
            "Epoch  52/500 [Val]  : 100%|██████████| 1/1 [00:00<00:00,  2.02batch/s, Loss=0.4899, Acc=0.8000]\n"
          ]
        },
        {
          "output_type": "stream",
          "name": "stdout",
          "text": [
            "\n",
            "Epoch  52/500 | Duration: 4.5s | Remaining: ~0.6h\n",
            "Train Loss: 0.5214\n",
            "Val Loss:   0.4899 (▼ 0.0000)\n",
            "Val Acc:    0.8000\n",
            "Learning Rate: 1.00e-03\n",
            "------------------------------------------------------------\n"
          ]
        },
        {
          "output_type": "stream",
          "name": "stderr",
          "text": [
            "Epoch  53/500 [Train]: 100%|██████████| 9/9 [00:03<00:00,  2.97batch/s, Loss=0.4164, AvgLoss=0.4838]\n",
            "Epoch  53/500 [Val]  : 100%|██████████| 1/1 [00:00<00:00,  2.06batch/s, Loss=0.4897, Acc=0.8000]\n"
          ]
        },
        {
          "output_type": "stream",
          "name": "stdout",
          "text": [
            "\n",
            "Epoch  53/500 | Duration: 4.4s | Remaining: ~0.5h\n",
            "Train Loss: 0.5219\n",
            "Val Loss:   0.4897 (▼ 0.0000)\n",
            "Val Acc:    0.8000\n",
            "Learning Rate: 1.00e-03\n",
            "------------------------------------------------------------\n"
          ]
        },
        {
          "output_type": "stream",
          "name": "stderr",
          "text": [
            "Epoch  54/500 [Train]: 100%|██████████| 9/9 [00:03<00:00,  2.82batch/s, Loss=0.6556, AvgLoss=0.4814]\n",
            "Epoch  54/500 [Val]  : 100%|██████████| 1/1 [00:00<00:00,  1.63batch/s, Loss=0.4875, Acc=0.8667]\n"
          ]
        },
        {
          "output_type": "stream",
          "name": "stdout",
          "text": [
            "\n",
            "Epoch  54/500 | Duration: 4.7s | Remaining: ~0.6h\n",
            "Train Loss: 0.5192\n",
            "Val Loss:   0.4875 (▼ 0.0000)\n",
            "Val Acc:    0.8667\n",
            "Learning Rate: 1.00e-03\n",
            "------------------------------------------------------------\n"
          ]
        },
        {
          "output_type": "stream",
          "name": "stderr",
          "text": [
            "Epoch  55/500 [Train]: 100%|██████████| 9/9 [00:03<00:00,  2.96batch/s, Loss=0.5700, AvgLoss=0.4809]\n",
            "Epoch  55/500 [Val]  : 100%|██████████| 1/1 [00:00<00:00,  2.06batch/s, Loss=0.4869, Acc=0.8000]\n"
          ]
        },
        {
          "output_type": "stream",
          "name": "stdout",
          "text": [
            "\n",
            "Epoch  55/500 | Duration: 9.6s | Remaining: ~1.2h\n",
            "Train Loss: 0.5188\n",
            "Val Loss:   0.4869 (▼ 0.0000)\n",
            "Val Acc:    0.8000\n",
            "Learning Rate: 1.00e-03\n",
            "------------------------------------------------------------\n"
          ]
        },
        {
          "output_type": "stream",
          "name": "stderr",
          "text": [
            "Epoch  56/500 [Train]: 100%|██████████| 9/9 [00:03<00:00,  2.72batch/s, Loss=0.5725, AvgLoss=0.4780]\n",
            "Epoch  56/500 [Val]  : 100%|██████████| 1/1 [00:00<00:00,  1.85batch/s, Loss=0.4852, Acc=0.8667]\n"
          ]
        },
        {
          "output_type": "stream",
          "name": "stdout",
          "text": [
            "\n",
            "Epoch  56/500 | Duration: 4.7s | Remaining: ~0.6h\n",
            "Train Loss: 0.5156\n",
            "Val Loss:   0.4852 (▼ 0.0000)\n",
            "Val Acc:    0.8667\n",
            "Learning Rate: 1.00e-03\n",
            "------------------------------------------------------------\n"
          ]
        },
        {
          "output_type": "stream",
          "name": "stderr",
          "text": [
            "Epoch  57/500 [Train]: 100%|██████████| 9/9 [00:03<00:00,  2.97batch/s, Loss=0.4989, AvgLoss=0.4777]\n",
            "Epoch  57/500 [Val]  : 100%|██████████| 1/1 [00:00<00:00,  2.06batch/s, Loss=0.4837, Acc=0.8667]\n"
          ]
        },
        {
          "output_type": "stream",
          "name": "stdout",
          "text": [
            "\n",
            "Epoch  57/500 | Duration: 4.4s | Remaining: ~0.5h\n",
            "Train Loss: 0.5153\n",
            "Val Loss:   0.4837 (▼ 0.0000)\n",
            "Val Acc:    0.8667\n",
            "Learning Rate: 1.00e-03\n",
            "------------------------------------------------------------\n"
          ]
        },
        {
          "output_type": "stream",
          "name": "stderr",
          "text": [
            "Epoch  58/500 [Train]: 100%|██████████| 9/9 [00:03<00:00,  2.91batch/s, Loss=0.4596, AvgLoss=0.4767]\n",
            "Epoch  58/500 [Val]  : 100%|██████████| 1/1 [00:00<00:00,  1.99batch/s, Loss=0.4830, Acc=0.8667]\n"
          ]
        },
        {
          "output_type": "stream",
          "name": "stdout",
          "text": [
            "\n",
            "Epoch  58/500 | Duration: 4.4s | Remaining: ~0.5h\n",
            "Train Loss: 0.5142\n",
            "Val Loss:   0.4830 (▼ 0.0000)\n",
            "Val Acc:    0.8667\n",
            "Learning Rate: 1.00e-03\n",
            "------------------------------------------------------------\n"
          ]
        },
        {
          "output_type": "stream",
          "name": "stderr",
          "text": [
            "Epoch  59/500 [Train]: 100%|██████████| 9/9 [00:03<00:00,  2.83batch/s, Loss=0.4777, AvgLoss=0.4759]\n",
            "Epoch  59/500 [Val]  : 100%|██████████| 1/1 [00:00<00:00,  1.70batch/s, Loss=0.4824, Acc=0.8333]\n"
          ]
        },
        {
          "output_type": "stream",
          "name": "stdout",
          "text": [
            "\n",
            "Epoch  59/500 | Duration: 4.8s | Remaining: ~0.6h\n",
            "Train Loss: 0.5133\n",
            "Val Loss:   0.4824 (▼ 0.0000)\n",
            "Val Acc:    0.8333\n",
            "Learning Rate: 1.00e-03\n",
            "------------------------------------------------------------\n"
          ]
        },
        {
          "output_type": "stream",
          "name": "stderr",
          "text": [
            "Epoch  60/500 [Train]: 100%|██████████| 9/9 [00:03<00:00,  2.91batch/s, Loss=0.5883, AvgLoss=0.4749]\n",
            "Epoch  60/500 [Val]  : 100%|██████████| 1/1 [00:00<00:00,  2.02batch/s, Loss=0.4819, Acc=0.8000]\n"
          ]
        },
        {
          "output_type": "stream",
          "name": "stdout",
          "text": [
            "\n",
            "Epoch  60/500 | Duration: 4.5s | Remaining: ~0.5h\n",
            "Train Loss: 0.5122\n",
            "Val Loss:   0.4819 (▼ 0.0000)\n",
            "Val Acc:    0.8000\n",
            "Learning Rate: 1.00e-03\n",
            "------------------------------------------------------------\n"
          ]
        },
        {
          "output_type": "stream",
          "name": "stderr",
          "text": [
            "Epoch  61/500 [Train]: 100%|██████████| 9/9 [00:03<00:00,  2.87batch/s, Loss=0.4605, AvgLoss=0.4746]\n",
            "Epoch  61/500 [Val]  : 100%|██████████| 1/1 [00:00<00:00,  2.04batch/s, Loss=0.4826, Acc=0.8000]\n"
          ]
        },
        {
          "output_type": "stream",
          "name": "stdout",
          "text": [
            "\n",
            "Epoch  61/500 | Duration: 3.6s | Remaining: ~0.4h\n",
            "Train Loss: 0.5120\n",
            "Val Loss:   0.4826 (▲ 0.0007) [Patience left: 19]\n",
            "Val Acc:    0.8000\n",
            "Learning Rate: 1.00e-03\n",
            "------------------------------------------------------------\n"
          ]
        },
        {
          "output_type": "stream",
          "name": "stderr",
          "text": [
            "Epoch  62/500 [Train]: 100%|██████████| 9/9 [00:03<00:00,  2.89batch/s, Loss=0.4416, AvgLoss=0.4734]\n",
            "Epoch  62/500 [Val]  : 100%|██████████| 1/1 [00:00<00:00,  1.68batch/s, Loss=0.4809, Acc=0.8333]\n"
          ]
        },
        {
          "output_type": "stream",
          "name": "stdout",
          "text": [
            "\n",
            "Epoch  62/500 | Duration: 4.9s | Remaining: ~0.6h\n",
            "Train Loss: 0.5106\n",
            "Val Loss:   0.4809 (▼ 0.0000)\n",
            "Val Acc:    0.8333\n",
            "Learning Rate: 1.00e-03\n",
            "------------------------------------------------------------\n"
          ]
        },
        {
          "output_type": "stream",
          "name": "stderr",
          "text": [
            "Epoch  63/500 [Train]: 100%|██████████| 9/9 [00:03<00:00,  2.81batch/s, Loss=0.3844, AvgLoss=0.4720]\n",
            "Epoch  63/500 [Val]  : 100%|██████████| 1/1 [00:00<00:00,  2.05batch/s, Loss=0.4788, Acc=0.8667]\n"
          ]
        },
        {
          "output_type": "stream",
          "name": "stdout",
          "text": [
            "\n",
            "Epoch  63/500 | Duration: 6.0s | Remaining: ~0.7h\n",
            "Train Loss: 0.5092\n",
            "Val Loss:   0.4788 (▼ 0.0000)\n",
            "Val Acc:    0.8667\n",
            "Learning Rate: 1.00e-03\n",
            "------------------------------------------------------------\n"
          ]
        },
        {
          "output_type": "stream",
          "name": "stderr",
          "text": [
            "Epoch  64/500 [Train]: 100%|██████████| 9/9 [00:03<00:00,  2.89batch/s, Loss=0.4618, AvgLoss=0.4733]\n",
            "Epoch  64/500 [Val]  : 100%|██████████| 1/1 [00:00<00:00,  2.06batch/s, Loss=0.4779, Acc=0.8000]\n"
          ]
        },
        {
          "output_type": "stream",
          "name": "stdout",
          "text": [
            "\n",
            "Epoch  64/500 | Duration: 4.4s | Remaining: ~0.5h\n",
            "Train Loss: 0.5105\n",
            "Val Loss:   0.4779 (▼ 0.0000)\n",
            "Val Acc:    0.8000\n",
            "Learning Rate: 1.00e-03\n",
            "------------------------------------------------------------\n"
          ]
        },
        {
          "output_type": "stream",
          "name": "stderr",
          "text": [
            "Epoch  65/500 [Train]: 100%|██████████| 9/9 [00:03<00:00,  2.82batch/s, Loss=0.5996, AvgLoss=0.4713]\n",
            "Epoch  65/500 [Val]  : 100%|██████████| 1/1 [00:00<00:00,  1.76batch/s, Loss=0.4761, Acc=0.8667]\n"
          ]
        },
        {
          "output_type": "stream",
          "name": "stdout",
          "text": [
            "\n",
            "Epoch  65/500 | Duration: 4.6s | Remaining: ~0.6h\n",
            "Train Loss: 0.5084\n",
            "Val Loss:   0.4761 (▼ 0.0000)\n",
            "Val Acc:    0.8667\n",
            "Learning Rate: 1.00e-03\n",
            "------------------------------------------------------------\n"
          ]
        },
        {
          "output_type": "stream",
          "name": "stderr",
          "text": [
            "Epoch  66/500 [Train]: 100%|██████████| 9/9 [00:03<00:00,  2.95batch/s, Loss=0.5222, AvgLoss=0.4702]\n",
            "Epoch  66/500 [Val]  : 100%|██████████| 1/1 [00:00<00:00,  2.10batch/s, Loss=0.4766, Acc=0.8000]\n"
          ]
        },
        {
          "output_type": "stream",
          "name": "stdout",
          "text": [
            "\n",
            "Epoch  66/500 | Duration: 3.6s | Remaining: ~0.4h\n",
            "Train Loss: 0.5072\n",
            "Val Loss:   0.4766 (▲ 0.0005) [Patience left: 19]\n",
            "Val Acc:    0.8000\n",
            "Learning Rate: 1.00e-03\n",
            "------------------------------------------------------------\n"
          ]
        },
        {
          "output_type": "stream",
          "name": "stderr",
          "text": [
            "Epoch  67/500 [Train]: 100%|██████████| 9/9 [00:03<00:00,  2.97batch/s, Loss=0.4323, AvgLoss=0.4688]\n",
            "Epoch  67/500 [Val]  : 100%|██████████| 1/1 [00:00<00:00,  2.05batch/s, Loss=0.4751, Acc=0.8667]\n"
          ]
        },
        {
          "output_type": "stream",
          "name": "stdout",
          "text": [
            "\n",
            "Epoch  67/500 | Duration: 4.4s | Remaining: ~0.5h\n",
            "Train Loss: 0.5057\n",
            "Val Loss:   0.4751 (▼ 0.0000)\n",
            "Val Acc:    0.8667\n",
            "Learning Rate: 1.00e-03\n",
            "------------------------------------------------------------\n"
          ]
        },
        {
          "output_type": "stream",
          "name": "stderr",
          "text": [
            "Epoch  68/500 [Train]: 100%|██████████| 9/9 [00:03<00:00,  2.94batch/s, Loss=0.5836, AvgLoss=0.4679]\n",
            "Epoch  68/500 [Val]  : 100%|██████████| 1/1 [00:00<00:00,  1.74batch/s, Loss=0.4743, Acc=0.8667]\n"
          ]
        },
        {
          "output_type": "stream",
          "name": "stdout",
          "text": [
            "\n",
            "Epoch  68/500 | Duration: 4.7s | Remaining: ~0.6h\n",
            "Train Loss: 0.5047\n",
            "Val Loss:   0.4743 (▼ 0.0000)\n",
            "Val Acc:    0.8667\n",
            "Learning Rate: 1.00e-03\n",
            "------------------------------------------------------------\n"
          ]
        },
        {
          "output_type": "stream",
          "name": "stderr",
          "text": [
            "Epoch  69/500 [Train]: 100%|██████████| 9/9 [00:03<00:00,  2.86batch/s, Loss=0.4383, AvgLoss=0.4670]\n",
            "Epoch  69/500 [Val]  : 100%|██████████| 1/1 [00:00<00:00,  2.03batch/s, Loss=0.4729, Acc=0.8667]\n"
          ]
        },
        {
          "output_type": "stream",
          "name": "stdout",
          "text": [
            "\n",
            "Epoch  69/500 | Duration: 4.4s | Remaining: ~0.5h\n",
            "Train Loss: 0.5037\n",
            "Val Loss:   0.4729 (▼ 0.0000)\n",
            "Val Acc:    0.8667\n",
            "Learning Rate: 1.00e-03\n",
            "------------------------------------------------------------\n"
          ]
        },
        {
          "output_type": "stream",
          "name": "stderr",
          "text": [
            "Epoch  70/500 [Train]: 100%|██████████| 9/9 [00:03<00:00,  2.97batch/s, Loss=0.6050, AvgLoss=0.4662]\n",
            "Epoch  70/500 [Val]  : 100%|██████████| 1/1 [00:00<00:00,  2.01batch/s, Loss=0.4717, Acc=0.8667]\n"
          ]
        },
        {
          "output_type": "stream",
          "name": "stdout",
          "text": [
            "\n",
            "Epoch  70/500 | Duration: 4.4s | Remaining: ~0.5h\n",
            "Train Loss: 0.5029\n",
            "Val Loss:   0.4717 (▼ 0.0000)\n",
            "Val Acc:    0.8667\n",
            "Learning Rate: 1.00e-03\n",
            "------------------------------------------------------------\n"
          ]
        },
        {
          "output_type": "stream",
          "name": "stderr",
          "text": [
            "Epoch  71/500 [Train]: 100%|██████████| 9/9 [00:03<00:00,  2.91batch/s, Loss=0.5401, AvgLoss=0.4661]\n",
            "Epoch  71/500 [Val]  : 100%|██████████| 1/1 [00:00<00:00,  1.71batch/s, Loss=0.4710, Acc=0.8667]\n"
          ]
        },
        {
          "output_type": "stream",
          "name": "stdout",
          "text": [
            "\n",
            "Epoch  71/500 | Duration: 4.8s | Remaining: ~0.6h\n",
            "Train Loss: 0.5027\n",
            "Val Loss:   0.4710 (▼ 0.0000)\n",
            "Val Acc:    0.8667\n",
            "Learning Rate: 1.00e-03\n",
            "------------------------------------------------------------\n"
          ]
        },
        {
          "output_type": "stream",
          "name": "stderr",
          "text": [
            "Epoch  72/500 [Train]: 100%|██████████| 9/9 [00:03<00:00,  2.90batch/s, Loss=0.4744, AvgLoss=0.4654]\n",
            "Epoch  72/500 [Val]  : 100%|██████████| 1/1 [00:00<00:00,  2.05batch/s, Loss=0.4697, Acc=0.8667]\n"
          ]
        },
        {
          "output_type": "stream",
          "name": "stdout",
          "text": [
            "\n",
            "Epoch  72/500 | Duration: 4.4s | Remaining: ~0.5h\n",
            "Train Loss: 0.5020\n",
            "Val Loss:   0.4697 (▼ 0.0000)\n",
            "Val Acc:    0.8667\n",
            "Learning Rate: 1.00e-03\n",
            "------------------------------------------------------------\n"
          ]
        },
        {
          "output_type": "stream",
          "name": "stderr",
          "text": [
            "Epoch  73/500 [Train]: 100%|██████████| 9/9 [00:03<00:00,  2.99batch/s, Loss=0.4920, AvgLoss=0.4656]\n",
            "Epoch  73/500 [Val]  : 100%|██████████| 1/1 [00:00<00:00,  2.06batch/s, Loss=0.4693, Acc=0.8667]\n"
          ]
        },
        {
          "output_type": "stream",
          "name": "stdout",
          "text": [
            "\n",
            "Epoch  73/500 | Duration: 4.3s | Remaining: ~0.5h\n",
            "Train Loss: 0.5022\n",
            "Val Loss:   0.4693 (▼ 0.0000)\n",
            "Val Acc:    0.8667\n",
            "Learning Rate: 1.00e-03\n",
            "------------------------------------------------------------\n"
          ]
        },
        {
          "output_type": "stream",
          "name": "stderr",
          "text": [
            "Epoch  74/500 [Train]: 100%|██████████| 9/9 [00:03<00:00,  2.91batch/s, Loss=0.5335, AvgLoss=0.4628]\n",
            "Epoch  74/500 [Val]  : 100%|██████████| 1/1 [00:00<00:00,  1.72batch/s, Loss=0.4690, Acc=0.8667]\n"
          ]
        },
        {
          "output_type": "stream",
          "name": "stdout",
          "text": [
            "\n",
            "Epoch  74/500 | Duration: 4.9s | Remaining: ~0.6h\n",
            "Train Loss: 0.4992\n",
            "Val Loss:   0.4690 (▼ 0.0000)\n",
            "Val Acc:    0.8667\n",
            "Learning Rate: 1.00e-03\n",
            "------------------------------------------------------------\n"
          ]
        },
        {
          "output_type": "stream",
          "name": "stderr",
          "text": [
            "Epoch  75/500 [Train]: 100%|██████████| 9/9 [00:03<00:00,  2.73batch/s, Loss=0.4223, AvgLoss=0.4646]\n",
            "Epoch  75/500 [Val]  : 100%|██████████| 1/1 [00:00<00:00,  2.04batch/s, Loss=0.4691, Acc=0.8667]\n"
          ]
        },
        {
          "output_type": "stream",
          "name": "stdout",
          "text": [
            "\n",
            "Epoch  75/500 | Duration: 3.8s | Remaining: ~0.4h\n",
            "Train Loss: 0.5012\n",
            "Val Loss:   0.4691 (▲ 0.0002) [Patience left: 19]\n",
            "Val Acc:    0.8667\n",
            "Learning Rate: 1.00e-03\n",
            "------------------------------------------------------------\n"
          ]
        },
        {
          "output_type": "stream",
          "name": "stderr",
          "text": [
            "Epoch  76/500 [Train]: 100%|██████████| 9/9 [00:03<00:00,  2.96batch/s, Loss=0.5552, AvgLoss=0.4627]\n",
            "Epoch  76/500 [Val]  : 100%|██████████| 1/1 [00:00<00:00,  2.06batch/s, Loss=0.4678, Acc=0.8667]\n"
          ]
        },
        {
          "output_type": "stream",
          "name": "stdout",
          "text": [
            "\n",
            "Epoch  76/500 | Duration: 4.3s | Remaining: ~0.5h\n",
            "Train Loss: 0.4990\n",
            "Val Loss:   0.4678 (▼ 0.0000)\n",
            "Val Acc:    0.8667\n",
            "Learning Rate: 1.00e-03\n",
            "------------------------------------------------------------\n"
          ]
        },
        {
          "output_type": "stream",
          "name": "stderr",
          "text": [
            "Epoch  77/500 [Train]: 100%|██████████| 9/9 [00:03<00:00,  2.93batch/s, Loss=0.4751, AvgLoss=0.4612]\n",
            "Epoch  77/500 [Val]  : 100%|██████████| 1/1 [00:00<00:00,  2.01batch/s, Loss=0.4673, Acc=0.8000]\n"
          ]
        },
        {
          "output_type": "stream",
          "name": "stdout",
          "text": [
            "\n",
            "Epoch  77/500 | Duration: 4.5s | Remaining: ~0.5h\n",
            "Train Loss: 0.4975\n",
            "Val Loss:   0.4673 (▼ 0.0000)\n",
            "Val Acc:    0.8000\n",
            "Learning Rate: 1.00e-03\n",
            "------------------------------------------------------------\n"
          ]
        },
        {
          "output_type": "stream",
          "name": "stderr",
          "text": [
            "Epoch  78/500 [Train]: 100%|██████████| 9/9 [00:03<00:00,  2.79batch/s, Loss=0.5430, AvgLoss=0.4607]\n",
            "Epoch  78/500 [Val]  : 100%|██████████| 1/1 [00:00<00:00,  1.68batch/s, Loss=0.4667, Acc=0.8667]\n"
          ]
        },
        {
          "output_type": "stream",
          "name": "stdout",
          "text": [
            "\n",
            "Epoch  78/500 | Duration: 4.7s | Remaining: ~0.6h\n",
            "Train Loss: 0.4970\n",
            "Val Loss:   0.4667 (▼ 0.0000)\n",
            "Val Acc:    0.8667\n",
            "Learning Rate: 1.00e-03\n",
            "------------------------------------------------------------\n"
          ]
        },
        {
          "output_type": "stream",
          "name": "stderr",
          "text": [
            "Epoch  79/500 [Train]: 100%|██████████| 9/9 [00:03<00:00,  2.96batch/s, Loss=0.4091, AvgLoss=0.4596]\n",
            "Epoch  79/500 [Val]  : 100%|██████████| 1/1 [00:00<00:00,  2.07batch/s, Loss=0.4661, Acc=0.8667]\n"
          ]
        },
        {
          "output_type": "stream",
          "name": "stdout",
          "text": [
            "\n",
            "Epoch  79/500 | Duration: 6.3s | Remaining: ~0.7h\n",
            "Train Loss: 0.4957\n",
            "Val Loss:   0.4661 (▼ 0.0000)\n",
            "Val Acc:    0.8667\n",
            "Learning Rate: 1.00e-03\n",
            "------------------------------------------------------------\n"
          ]
        },
        {
          "output_type": "stream",
          "name": "stderr",
          "text": [
            "Epoch  80/500 [Train]: 100%|██████████| 9/9 [00:03<00:00,  2.85batch/s, Loss=0.4140, AvgLoss=0.4597]\n",
            "Epoch  80/500 [Val]  : 100%|██████████| 1/1 [00:00<00:00,  1.70batch/s, Loss=0.4657, Acc=0.8667]\n"
          ]
        },
        {
          "output_type": "stream",
          "name": "stdout",
          "text": [
            "\n",
            "Epoch  80/500 | Duration: 4.8s | Remaining: ~0.6h\n",
            "Train Loss: 0.4959\n",
            "Val Loss:   0.4657 (▼ 0.0000)\n",
            "Val Acc:    0.8667\n",
            "Learning Rate: 1.00e-03\n",
            "------------------------------------------------------------\n"
          ]
        },
        {
          "output_type": "stream",
          "name": "stderr",
          "text": [
            "Epoch  81/500 [Train]: 100%|██████████| 9/9 [00:03<00:00,  2.71batch/s, Loss=0.5008, AvgLoss=0.4596]\n",
            "Epoch  81/500 [Val]  : 100%|██████████| 1/1 [00:00<00:00,  1.81batch/s, Loss=0.4658, Acc=0.8667]\n"
          ]
        },
        {
          "output_type": "stream",
          "name": "stdout",
          "text": [
            "\n",
            "Epoch  81/500 | Duration: 3.9s | Remaining: ~0.5h\n",
            "Train Loss: 0.4957\n",
            "Val Loss:   0.4658 (▲ 0.0001) [Patience left: 19]\n",
            "Val Acc:    0.8667\n",
            "Learning Rate: 1.00e-03\n",
            "------------------------------------------------------------\n"
          ]
        },
        {
          "output_type": "stream",
          "name": "stderr",
          "text": [
            "Epoch  82/500 [Train]: 100%|██████████| 9/9 [00:03<00:00,  2.96batch/s, Loss=0.6837, AvgLoss=0.4576]\n",
            "Epoch  82/500 [Val]  : 100%|██████████| 1/1 [00:00<00:00,  2.02batch/s, Loss=0.4654, Acc=0.8667]\n"
          ]
        },
        {
          "output_type": "stream",
          "name": "stdout",
          "text": [
            "\n",
            "Epoch  82/500 | Duration: 4.4s | Remaining: ~0.5h\n",
            "Train Loss: 0.4936\n",
            "Val Loss:   0.4654 (▼ 0.0000)\n",
            "Val Acc:    0.8667\n",
            "Learning Rate: 1.00e-03\n",
            "------------------------------------------------------------\n"
          ]
        },
        {
          "output_type": "stream",
          "name": "stderr",
          "text": [
            "Epoch  83/500 [Train]: 100%|██████████| 9/9 [00:03<00:00,  2.94batch/s, Loss=0.4533, AvgLoss=0.4573]\n",
            "Epoch  83/500 [Val]  : 100%|██████████| 1/1 [00:00<00:00,  1.91batch/s, Loss=0.4658, Acc=0.8667]\n"
          ]
        },
        {
          "output_type": "stream",
          "name": "stdout",
          "text": [
            "\n",
            "Epoch  83/500 | Duration: 3.6s | Remaining: ~0.4h\n",
            "Train Loss: 0.4933\n",
            "Val Loss:   0.4658 (▲ 0.0004) [Patience left: 19]\n",
            "Val Acc:    0.8667\n",
            "Learning Rate: 1.00e-03\n",
            "------------------------------------------------------------\n"
          ]
        },
        {
          "output_type": "stream",
          "name": "stderr",
          "text": [
            "Epoch  84/500 [Train]: 100%|██████████| 9/9 [00:03<00:00,  2.90batch/s, Loss=0.7375, AvgLoss=0.4602]\n",
            "Epoch  84/500 [Val]  : 100%|██████████| 1/1 [00:00<00:00,  1.71batch/s, Loss=0.4662, Acc=0.8667]\n"
          ]
        },
        {
          "output_type": "stream",
          "name": "stdout",
          "text": [
            "\n",
            "Epoch  84/500 | Duration: 3.7s | Remaining: ~0.4h\n",
            "Train Loss: 0.4964\n",
            "Val Loss:   0.4662 (▲ 0.0009) [Patience left: 18]\n",
            "Val Acc:    0.8667\n",
            "Learning Rate: 1.00e-03\n",
            "------------------------------------------------------------\n"
          ]
        },
        {
          "output_type": "stream",
          "name": "stderr",
          "text": [
            "Epoch  85/500 [Train]: 100%|██████████| 9/9 [00:03<00:00,  2.77batch/s, Loss=0.5504, AvgLoss=0.4565]\n",
            "Epoch  85/500 [Val]  : 100%|██████████| 1/1 [00:00<00:00,  1.95batch/s, Loss=0.4662, Acc=0.8000]\n"
          ]
        },
        {
          "output_type": "stream",
          "name": "stdout",
          "text": [
            "\n",
            "Epoch  85/500 | Duration: 3.8s | Remaining: ~0.4h\n",
            "Train Loss: 0.4924\n",
            "Val Loss:   0.4662 (▲ 0.0008) [Patience left: 17]\n",
            "Val Acc:    0.8000\n",
            "Learning Rate: 1.00e-03\n",
            "------------------------------------------------------------\n"
          ]
        },
        {
          "output_type": "stream",
          "name": "stderr",
          "text": [
            "Epoch  86/500 [Train]: 100%|██████████| 9/9 [00:03<00:00,  2.93batch/s, Loss=0.3658, AvgLoss=0.4555]\n",
            "Epoch  86/500 [Val]  : 100%|██████████| 1/1 [00:00<00:00,  2.05batch/s, Loss=0.4660, Acc=0.8000]\n"
          ]
        },
        {
          "output_type": "stream",
          "name": "stdout",
          "text": [
            "\n",
            "Epoch  86/500 | Duration: 3.6s | Remaining: ~0.4h\n",
            "Train Loss: 0.4913\n",
            "Val Loss:   0.4660 (▲ 0.0006) [Patience left: 16]\n",
            "Val Acc:    0.8000\n",
            "Learning Rate: 1.00e-03\n",
            "------------------------------------------------------------\n"
          ]
        },
        {
          "output_type": "stream",
          "name": "stderr",
          "text": [
            "Epoch  87/500 [Train]: 100%|██████████| 9/9 [00:03<00:00,  2.96batch/s, Loss=0.4535, AvgLoss=0.4568]\n",
            "Epoch  87/500 [Val]  : 100%|██████████| 1/1 [00:00<00:00,  2.02batch/s, Loss=0.4638, Acc=0.8667]\n"
          ]
        },
        {
          "output_type": "stream",
          "name": "stdout",
          "text": [
            "\n",
            "Epoch  87/500 | Duration: 4.4s | Remaining: ~0.5h\n",
            "Train Loss: 0.4928\n",
            "Val Loss:   0.4638 (▼ 0.0000)\n",
            "Val Acc:    0.8667\n",
            "Learning Rate: 1.00e-03\n",
            "------------------------------------------------------------\n"
          ]
        },
        {
          "output_type": "stream",
          "name": "stderr",
          "text": [
            "Epoch  88/500 [Train]: 100%|██████████| 9/9 [00:03<00:00,  2.90batch/s, Loss=0.3760, AvgLoss=0.4538]\n",
            "Epoch  88/500 [Val]  : 100%|██████████| 1/1 [00:00<00:00,  1.65batch/s, Loss=0.4633, Acc=0.8667]\n"
          ]
        },
        {
          "output_type": "stream",
          "name": "stdout",
          "text": [
            "\n",
            "Epoch  88/500 | Duration: 5.0s | Remaining: ~0.6h\n",
            "Train Loss: 0.4895\n",
            "Val Loss:   0.4633 (▼ 0.0000)\n",
            "Val Acc:    0.8667\n",
            "Learning Rate: 1.00e-03\n",
            "------------------------------------------------------------\n"
          ]
        },
        {
          "output_type": "stream",
          "name": "stderr",
          "text": [
            "Epoch  89/500 [Train]: 100%|██████████| 9/9 [00:03<00:00,  2.69batch/s, Loss=0.5174, AvgLoss=0.4538]\n",
            "Epoch  89/500 [Val]  : 100%|██████████| 1/1 [00:00<00:00,  2.01batch/s, Loss=0.4641, Acc=0.8000]\n"
          ]
        },
        {
          "output_type": "stream",
          "name": "stdout",
          "text": [
            "\n",
            "Epoch  89/500 | Duration: 3.9s | Remaining: ~0.4h\n",
            "Train Loss: 0.4895\n",
            "Val Loss:   0.4641 (▲ 0.0008) [Patience left: 19]\n",
            "Val Acc:    0.8000\n",
            "Learning Rate: 1.00e-03\n",
            "------------------------------------------------------------\n"
          ]
        },
        {
          "output_type": "stream",
          "name": "stderr",
          "text": [
            "Epoch  90/500 [Train]: 100%|██████████| 9/9 [00:03<00:00,  2.96batch/s, Loss=0.5230, AvgLoss=0.4530]\n",
            "Epoch  90/500 [Val]  : 100%|██████████| 1/1 [00:00<00:00,  1.99batch/s, Loss=0.4619, Acc=0.8667]\n"
          ]
        },
        {
          "output_type": "stream",
          "name": "stdout",
          "text": [
            "\n",
            "Epoch  90/500 | Duration: 4.4s | Remaining: ~0.5h\n",
            "Train Loss: 0.4886\n",
            "Val Loss:   0.4619 (▼ 0.0000)\n",
            "Val Acc:    0.8667\n",
            "Learning Rate: 1.00e-03\n",
            "------------------------------------------------------------\n"
          ]
        },
        {
          "output_type": "stream",
          "name": "stderr",
          "text": [
            "Epoch  91/500 [Train]: 100%|██████████| 9/9 [00:03<00:00,  2.92batch/s, Loss=0.5146, AvgLoss=0.4516]\n",
            "Epoch  91/500 [Val]  : 100%|██████████| 1/1 [00:00<00:00,  1.75batch/s, Loss=0.4620, Acc=0.8667]\n"
          ]
        },
        {
          "output_type": "stream",
          "name": "stdout",
          "text": [
            "\n",
            "Epoch  91/500 | Duration: 3.7s | Remaining: ~0.4h\n",
            "Train Loss: 0.4871\n",
            "Val Loss:   0.4620 (▲ 0.0001) [Patience left: 19]\n",
            "Val Acc:    0.8667\n",
            "Learning Rate: 1.00e-03\n",
            "------------------------------------------------------------\n"
          ]
        },
        {
          "output_type": "stream",
          "name": "stderr",
          "text": [
            "Epoch  92/500 [Train]: 100%|██████████| 9/9 [00:03<00:00,  2.74batch/s, Loss=0.5198, AvgLoss=0.4515]\n",
            "Epoch  92/500 [Val]  : 100%|██████████| 1/1 [00:00<00:00,  1.83batch/s, Loss=0.4620, Acc=0.8667]\n"
          ]
        },
        {
          "output_type": "stream",
          "name": "stdout",
          "text": [
            "\n",
            "Epoch  92/500 | Duration: 3.9s | Remaining: ~0.4h\n",
            "Train Loss: 0.4870\n",
            "Val Loss:   0.4620 (▲ 0.0002) [Patience left: 18]\n",
            "Val Acc:    0.8667\n",
            "Learning Rate: 1.00e-03\n",
            "------------------------------------------------------------\n"
          ]
        },
        {
          "output_type": "stream",
          "name": "stderr",
          "text": [
            "Epoch  93/500 [Train]: 100%|██████████| 9/9 [00:03<00:00,  2.97batch/s, Loss=0.3731, AvgLoss=0.4507]\n",
            "Epoch  93/500 [Val]  : 100%|██████████| 1/1 [00:00<00:00,  1.99batch/s, Loss=0.4616, Acc=0.8667]\n"
          ]
        },
        {
          "output_type": "stream",
          "name": "stdout",
          "text": [
            "\n",
            "Epoch  93/500 | Duration: 6.3s | Remaining: ~0.7h\n",
            "Train Loss: 0.4861\n",
            "Val Loss:   0.4616 (▼ 0.0000)\n",
            "Val Acc:    0.8667\n",
            "Learning Rate: 1.00e-03\n",
            "------------------------------------------------------------\n"
          ]
        },
        {
          "output_type": "stream",
          "name": "stderr",
          "text": [
            "Epoch  94/500 [Train]: 100%|██████████| 9/9 [00:03<00:00,  2.92batch/s, Loss=0.3847, AvgLoss=0.4499]\n",
            "Epoch  94/500 [Val]  : 100%|██████████| 1/1 [00:00<00:00,  2.00batch/s, Loss=0.4607, Acc=0.8667]\n"
          ]
        },
        {
          "output_type": "stream",
          "name": "stdout",
          "text": [
            "\n",
            "Epoch  94/500 | Duration: 4.9s | Remaining: ~0.6h\n",
            "Train Loss: 0.4853\n",
            "Val Loss:   0.4607 (▼ 0.0000)\n",
            "Val Acc:    0.8667\n",
            "Learning Rate: 1.00e-03\n",
            "------------------------------------------------------------\n"
          ]
        },
        {
          "output_type": "stream",
          "name": "stderr",
          "text": [
            "Epoch  95/500 [Train]: 100%|██████████| 9/9 [00:03<00:00,  2.81batch/s, Loss=0.4313, AvgLoss=0.4492]\n",
            "Epoch  95/500 [Val]  : 100%|██████████| 1/1 [00:00<00:00,  1.83batch/s, Loss=0.4599, Acc=0.8667]\n"
          ]
        },
        {
          "output_type": "stream",
          "name": "stdout",
          "text": [
            "\n",
            "Epoch  95/500 | Duration: 4.6s | Remaining: ~0.5h\n",
            "Train Loss: 0.4845\n",
            "Val Loss:   0.4599 (▼ 0.0000)\n",
            "Val Acc:    0.8667\n",
            "Learning Rate: 1.00e-03\n",
            "------------------------------------------------------------\n"
          ]
        },
        {
          "output_type": "stream",
          "name": "stderr",
          "text": [
            "Epoch  96/500 [Train]: 100%|██████████| 9/9 [00:03<00:00,  2.97batch/s, Loss=0.4982, AvgLoss=0.4490]\n",
            "Epoch  96/500 [Val]  : 100%|██████████| 1/1 [00:00<00:00,  2.08batch/s, Loss=0.4588, Acc=0.8667]\n"
          ]
        },
        {
          "output_type": "stream",
          "name": "stdout",
          "text": [
            "\n",
            "Epoch  96/500 | Duration: 4.3s | Remaining: ~0.5h\n",
            "Train Loss: 0.4844\n",
            "Val Loss:   0.4588 (▼ 0.0000)\n",
            "Val Acc:    0.8667\n",
            "Learning Rate: 1.00e-03\n",
            "------------------------------------------------------------\n"
          ]
        },
        {
          "output_type": "stream",
          "name": "stderr",
          "text": [
            "Epoch  97/500 [Train]: 100%|██████████| 9/9 [00:03<00:00,  2.93batch/s, Loss=0.4506, AvgLoss=0.4483]\n",
            "Epoch  97/500 [Val]  : 100%|██████████| 1/1 [00:00<00:00,  2.01batch/s, Loss=0.4595, Acc=0.8333]\n"
          ]
        },
        {
          "output_type": "stream",
          "name": "stdout",
          "text": [
            "\n",
            "Epoch  97/500 | Duration: 3.6s | Remaining: ~0.4h\n",
            "Train Loss: 0.4835\n",
            "Val Loss:   0.4595 (▲ 0.0006) [Patience left: 19]\n",
            "Val Acc:    0.8333\n",
            "Learning Rate: 1.00e-03\n",
            "------------------------------------------------------------\n"
          ]
        },
        {
          "output_type": "stream",
          "name": "stderr",
          "text": [
            "Epoch  98/500 [Train]: 100%|██████████| 9/9 [00:03<00:00,  2.93batch/s, Loss=0.4604, AvgLoss=0.4492]\n",
            "Epoch  98/500 [Val]  : 100%|██████████| 1/1 [00:00<00:00,  1.78batch/s, Loss=0.4609, Acc=0.8000]\n"
          ]
        },
        {
          "output_type": "stream",
          "name": "stdout",
          "text": [
            "\n",
            "Epoch  98/500 | Duration: 3.7s | Remaining: ~0.4h\n",
            "Train Loss: 0.4846\n",
            "Val Loss:   0.4609 (▲ 0.0020) [Patience left: 18]\n",
            "Val Acc:    0.8000\n",
            "Learning Rate: 1.00e-03\n",
            "------------------------------------------------------------\n"
          ]
        },
        {
          "output_type": "stream",
          "name": "stderr",
          "text": [
            "Epoch  99/500 [Train]: 100%|██████████| 9/9 [00:03<00:00,  2.78batch/s, Loss=0.6008, AvgLoss=0.4482]\n",
            "Epoch  99/500 [Val]  : 100%|██████████| 1/1 [00:00<00:00,  1.99batch/s, Loss=0.4587, Acc=0.8333]\n"
          ]
        },
        {
          "output_type": "stream",
          "name": "stdout",
          "text": [
            "\n",
            "Epoch  99/500 | Duration: 37.3s | Remaining: ~4.2h\n",
            "Train Loss: 0.4835\n",
            "Val Loss:   0.4587 (▼ 0.0000)\n",
            "Val Acc:    0.8333\n",
            "Learning Rate: 1.00e-03\n",
            "------------------------------------------------------------\n"
          ]
        },
        {
          "output_type": "stream",
          "name": "stderr",
          "text": [
            "Epoch 100/500 [Train]: 100%|██████████| 9/9 [00:03<00:00,  2.87batch/s, Loss=0.4646, AvgLoss=0.4464]\n",
            "Epoch 100/500 [Val]  : 100%|██████████| 1/1 [00:00<00:00,  2.04batch/s, Loss=0.4578, Acc=0.8667]\n"
          ]
        },
        {
          "output_type": "stream",
          "name": "stdout",
          "text": [
            "\n",
            "Epoch 100/500 | Duration: 10.1s | Remaining: ~1.1h\n",
            "Train Loss: 0.4815\n",
            "Val Loss:   0.4578 (▼ 0.0000)\n",
            "Val Acc:    0.8667\n",
            "Learning Rate: 1.00e-03\n",
            "------------------------------------------------------------\n"
          ]
        },
        {
          "output_type": "stream",
          "name": "stderr",
          "text": [
            "Epoch 101/500 [Train]: 100%|██████████| 9/9 [00:03<00:00,  2.72batch/s, Loss=0.5774, AvgLoss=0.4457]\n",
            "Epoch 101/500 [Val]  : 100%|██████████| 1/1 [00:00<00:00,  1.79batch/s, Loss=0.4577, Acc=0.8667]\n"
          ]
        },
        {
          "output_type": "stream",
          "name": "stdout",
          "text": [
            "\n",
            "Epoch 101/500 | Duration: 10.3s | Remaining: ~1.1h\n",
            "Train Loss: 0.4808\n",
            "Val Loss:   0.4577 (▼ 0.0000)\n",
            "Val Acc:    0.8667\n",
            "Learning Rate: 1.00e-03\n",
            "------------------------------------------------------------\n"
          ]
        },
        {
          "output_type": "stream",
          "name": "stderr",
          "text": [
            "Epoch 102/500 [Train]: 100%|██████████| 9/9 [00:03<00:00,  2.87batch/s, Loss=0.4705, AvgLoss=0.4453]\n",
            "Epoch 102/500 [Val]  : 100%|██████████| 1/1 [00:00<00:00,  1.88batch/s, Loss=0.4575, Acc=0.8667]\n"
          ]
        },
        {
          "output_type": "stream",
          "name": "stdout",
          "text": [
            "\n",
            "Epoch 102/500 | Duration: 5.0s | Remaining: ~0.5h\n",
            "Train Loss: 0.4803\n",
            "Val Loss:   0.4575 (▼ 0.0000)\n",
            "Val Acc:    0.8667\n",
            "Learning Rate: 1.00e-03\n",
            "------------------------------------------------------------\n"
          ]
        },
        {
          "output_type": "stream",
          "name": "stderr",
          "text": [
            "Epoch 103/500 [Train]: 100%|██████████| 9/9 [00:03<00:00,  2.76batch/s, Loss=0.3332, AvgLoss=0.4450]\n",
            "Epoch 103/500 [Val]  : 100%|██████████| 1/1 [00:00<00:00,  1.80batch/s, Loss=0.4583, Acc=0.8333]\n"
          ]
        },
        {
          "output_type": "stream",
          "name": "stdout",
          "text": [
            "\n",
            "Epoch 103/500 | Duration: 3.8s | Remaining: ~0.4h\n",
            "Train Loss: 0.4800\n",
            "Val Loss:   0.4583 (▲ 0.0008) [Patience left: 19]\n",
            "Val Acc:    0.8333\n",
            "Learning Rate: 1.00e-03\n",
            "------------------------------------------------------------\n"
          ]
        },
        {
          "output_type": "stream",
          "name": "stderr",
          "text": [
            "Epoch 104/500 [Train]: 100%|██████████| 9/9 [00:03<00:00,  2.89batch/s, Loss=0.6163, AvgLoss=0.4445]\n",
            "Epoch 104/500 [Val]  : 100%|██████████| 1/1 [00:00<00:00,  1.99batch/s, Loss=0.4566, Acc=0.8667]\n"
          ]
        },
        {
          "output_type": "stream",
          "name": "stdout",
          "text": [
            "\n",
            "Epoch 104/500 | Duration: 19.6s | Remaining: ~2.2h\n",
            "Train Loss: 0.4795\n",
            "Val Loss:   0.4566 (▼ 0.0000)\n",
            "Val Acc:    0.8667\n",
            "Learning Rate: 1.00e-03\n",
            "------------------------------------------------------------\n"
          ]
        },
        {
          "output_type": "stream",
          "name": "stderr",
          "text": [
            "Epoch 105/500 [Train]: 100%|██████████| 9/9 [00:03<00:00,  2.90batch/s, Loss=0.3664, AvgLoss=0.4436]\n",
            "Epoch 105/500 [Val]  : 100%|██████████| 1/1 [00:00<00:00,  1.97batch/s, Loss=0.4561, Acc=0.8667]\n"
          ]
        },
        {
          "output_type": "stream",
          "name": "stdout",
          "text": [
            "\n",
            "Epoch 105/500 | Duration: 5.0s | Remaining: ~0.5h\n",
            "Train Loss: 0.4785\n",
            "Val Loss:   0.4561 (▼ 0.0000)\n",
            "Val Acc:    0.8667\n",
            "Learning Rate: 1.00e-03\n",
            "------------------------------------------------------------\n"
          ]
        },
        {
          "output_type": "stream",
          "name": "stderr",
          "text": [
            "Epoch 106/500 [Train]: 100%|██████████| 9/9 [00:03<00:00,  2.96batch/s, Loss=0.4394, AvgLoss=0.4437]\n",
            "Epoch 106/500 [Val]  : 100%|██████████| 1/1 [00:00<00:00,  2.04batch/s, Loss=0.4556, Acc=0.8667]\n"
          ]
        },
        {
          "output_type": "stream",
          "name": "stdout",
          "text": [
            "\n",
            "Epoch 106/500 | Duration: 4.6s | Remaining: ~0.5h\n",
            "Train Loss: 0.4786\n",
            "Val Loss:   0.4556 (▼ 0.0000)\n",
            "Val Acc:    0.8667\n",
            "Learning Rate: 1.00e-03\n",
            "------------------------------------------------------------\n"
          ]
        },
        {
          "output_type": "stream",
          "name": "stderr",
          "text": [
            "Epoch 107/500 [Train]: 100%|██████████| 9/9 [00:03<00:00,  2.84batch/s, Loss=0.5035, AvgLoss=0.4437]\n",
            "Epoch 107/500 [Val]  : 100%|██████████| 1/1 [00:00<00:00,  1.74batch/s, Loss=0.4549, Acc=0.8333]\n"
          ]
        },
        {
          "output_type": "stream",
          "name": "stdout",
          "text": [
            "\n",
            "Epoch 107/500 | Duration: 5.0s | Remaining: ~0.5h\n",
            "Train Loss: 0.4786\n",
            "Val Loss:   0.4549 (▼ 0.0000)\n",
            "Val Acc:    0.8333\n",
            "Learning Rate: 1.00e-03\n",
            "------------------------------------------------------------\n"
          ]
        },
        {
          "output_type": "stream",
          "name": "stderr",
          "text": [
            "Epoch 108/500 [Train]: 100%|██████████| 9/9 [00:03<00:00,  2.90batch/s, Loss=0.4656, AvgLoss=0.4429]\n",
            "Epoch 108/500 [Val]  : 100%|██████████| 1/1 [00:00<00:00,  1.94batch/s, Loss=0.4544, Acc=0.8333]\n"
          ]
        },
        {
          "output_type": "stream",
          "name": "stdout",
          "text": [
            "\n",
            "Epoch 108/500 | Duration: 4.7s | Remaining: ~0.5h\n",
            "Train Loss: 0.4777\n",
            "Val Loss:   0.4544 (▼ 0.0000)\n",
            "Val Acc:    0.8333\n",
            "Learning Rate: 1.00e-03\n",
            "------------------------------------------------------------\n"
          ]
        },
        {
          "output_type": "stream",
          "name": "stderr",
          "text": [
            "Epoch 109/500 [Train]: 100%|██████████| 9/9 [00:03<00:00,  2.90batch/s, Loss=0.3412, AvgLoss=0.4423]\n",
            "Epoch 109/500 [Val]  : 100%|██████████| 1/1 [00:00<00:00,  1.98batch/s, Loss=0.4540, Acc=0.8333]\n"
          ]
        },
        {
          "output_type": "stream",
          "name": "stdout",
          "text": [
            "\n",
            "Epoch 109/500 | Duration: 4.7s | Remaining: ~0.5h\n",
            "Train Loss: 0.4771\n",
            "Val Loss:   0.4540 (▼ 0.0000)\n",
            "Val Acc:    0.8333\n",
            "Learning Rate: 1.00e-03\n",
            "------------------------------------------------------------\n"
          ]
        },
        {
          "output_type": "stream",
          "name": "stderr",
          "text": [
            "Epoch 110/500 [Train]: 100%|██████████| 9/9 [00:03<00:00,  2.81batch/s, Loss=0.3933, AvgLoss=0.4427]\n",
            "Epoch 110/500 [Val]  : 100%|██████████| 1/1 [00:00<00:00,  1.71batch/s, Loss=0.4544, Acc=0.8667]\n"
          ]
        },
        {
          "output_type": "stream",
          "name": "stdout",
          "text": [
            "\n",
            "Epoch 110/500 | Duration: 3.8s | Remaining: ~0.4h\n",
            "Train Loss: 0.4775\n",
            "Val Loss:   0.4544 (▲ 0.0004) [Patience left: 19]\n",
            "Val Acc:    0.8667\n",
            "Learning Rate: 1.00e-03\n",
            "------------------------------------------------------------\n"
          ]
        },
        {
          "output_type": "stream",
          "name": "stderr",
          "text": [
            "Epoch 111/500 [Train]: 100%|██████████| 9/9 [00:03<00:00,  2.94batch/s, Loss=0.4786, AvgLoss=0.4404]\n",
            "Epoch 111/500 [Val]  : 100%|██████████| 1/1 [00:00<00:00,  1.97batch/s, Loss=0.4542, Acc=0.8667]\n"
          ]
        },
        {
          "output_type": "stream",
          "name": "stdout",
          "text": [
            "\n",
            "Epoch 111/500 | Duration: 3.6s | Remaining: ~0.4h\n",
            "Train Loss: 0.4751\n",
            "Val Loss:   0.4542 (▲ 0.0002) [Patience left: 18]\n",
            "Val Acc:    0.8667\n",
            "Learning Rate: 1.00e-03\n",
            "------------------------------------------------------------\n"
          ]
        },
        {
          "output_type": "stream",
          "name": "stderr",
          "text": [
            "Epoch 112/500 [Train]: 100%|██████████| 9/9 [00:03<00:00,  2.96batch/s, Loss=0.4775, AvgLoss=0.4401]\n",
            "Epoch 112/500 [Val]  : 100%|██████████| 1/1 [00:00<00:00,  2.00batch/s, Loss=0.4547, Acc=0.8333]\n"
          ]
        },
        {
          "output_type": "stream",
          "name": "stdout",
          "text": [
            "\n",
            "Epoch 112/500 | Duration: 3.6s | Remaining: ~0.4h\n",
            "Train Loss: 0.4747\n",
            "Val Loss:   0.4547 (▲ 0.0007) [Patience left: 17]\n",
            "Val Acc:    0.8333\n",
            "Learning Rate: 1.00e-03\n",
            "------------------------------------------------------------\n"
          ]
        },
        {
          "output_type": "stream",
          "name": "stderr",
          "text": [
            "Epoch 113/500 [Train]: 100%|██████████| 9/9 [00:03<00:00,  2.91batch/s, Loss=0.5109, AvgLoss=0.4397]\n",
            "Epoch 113/500 [Val]  : 100%|██████████| 1/1 [00:00<00:00,  1.69batch/s, Loss=0.4530, Acc=0.8667]\n"
          ]
        },
        {
          "output_type": "stream",
          "name": "stdout",
          "text": [
            "\n",
            "Epoch 113/500 | Duration: 5.0s | Remaining: ~0.5h\n",
            "Train Loss: 0.4743\n",
            "Val Loss:   0.4530 (▼ 0.0000)\n",
            "Val Acc:    0.8667\n",
            "Learning Rate: 1.00e-03\n",
            "------------------------------------------------------------\n"
          ]
        },
        {
          "output_type": "stream",
          "name": "stderr",
          "text": [
            "Epoch 114/500 [Train]: 100%|██████████| 9/9 [00:03<00:00,  2.73batch/s, Loss=0.6290, AvgLoss=0.4386]\n",
            "Epoch 114/500 [Val]  : 100%|██████████| 1/1 [00:00<00:00,  1.84batch/s, Loss=0.4531, Acc=0.8667]\n"
          ]
        },
        {
          "output_type": "stream",
          "name": "stdout",
          "text": [
            "\n",
            "Epoch 114/500 | Duration: 3.9s | Remaining: ~0.4h\n",
            "Train Loss: 0.4731\n",
            "Val Loss:   0.4531 (▲ 0.0002) [Patience left: 19]\n",
            "Val Acc:    0.8667\n",
            "Learning Rate: 1.00e-03\n",
            "------------------------------------------------------------\n"
          ]
        },
        {
          "output_type": "stream",
          "name": "stderr",
          "text": [
            "Epoch 115/500 [Train]: 100%|██████████| 9/9 [00:03<00:00,  2.94batch/s, Loss=0.4643, AvgLoss=0.4383]\n",
            "Epoch 115/500 [Val]  : 100%|██████████| 1/1 [00:00<00:00,  2.02batch/s, Loss=0.4532, Acc=0.8667]\n"
          ]
        },
        {
          "output_type": "stream",
          "name": "stdout",
          "text": [
            "\n",
            "Epoch 115/500 | Duration: 3.6s | Remaining: ~0.4h\n",
            "Train Loss: 0.4727\n",
            "Val Loss:   0.4532 (▲ 0.0002) [Patience left: 18]\n",
            "Val Acc:    0.8667\n",
            "Learning Rate: 1.00e-03\n",
            "------------------------------------------------------------\n"
          ]
        },
        {
          "output_type": "stream",
          "name": "stderr",
          "text": [
            "Epoch 116/500 [Train]: 100%|██████████| 9/9 [00:03<00:00,  2.97batch/s, Loss=0.5835, AvgLoss=0.4383]\n",
            "Epoch 116/500 [Val]  : 100%|██████████| 1/1 [00:00<00:00,  2.04batch/s, Loss=0.4520, Acc=0.8667]\n"
          ]
        },
        {
          "output_type": "stream",
          "name": "stdout",
          "text": [
            "\n",
            "Epoch 116/500 | Duration: 4.6s | Remaining: ~0.5h\n",
            "Train Loss: 0.4728\n",
            "Val Loss:   0.4520 (▼ 0.0000)\n",
            "Val Acc:    0.8667\n",
            "Learning Rate: 1.00e-03\n",
            "------------------------------------------------------------\n"
          ]
        },
        {
          "output_type": "stream",
          "name": "stderr",
          "text": [
            "Epoch 117/500 [Train]: 100%|██████████| 9/9 [00:03<00:00,  2.87batch/s, Loss=0.4249, AvgLoss=0.4379]\n",
            "Epoch 117/500 [Val]  : 100%|██████████| 1/1 [00:00<00:00,  1.63batch/s, Loss=0.4535, Acc=0.8333]\n"
          ]
        },
        {
          "output_type": "stream",
          "name": "stdout",
          "text": [
            "\n",
            "Epoch 117/500 | Duration: 3.8s | Remaining: ~0.4h\n",
            "Train Loss: 0.4723\n",
            "Val Loss:   0.4535 (▲ 0.0016) [Patience left: 19]\n",
            "Val Acc:    0.8333\n",
            "Learning Rate: 1.00e-03\n",
            "------------------------------------------------------------\n"
          ]
        },
        {
          "output_type": "stream",
          "name": "stderr",
          "text": [
            "Epoch 118/500 [Train]: 100%|██████████| 9/9 [00:03<00:00,  2.83batch/s, Loss=0.3928, AvgLoss=0.4376]\n",
            "Epoch 118/500 [Val]  : 100%|██████████| 1/1 [00:00<00:00,  2.04batch/s, Loss=0.4517, Acc=0.8667]\n"
          ]
        },
        {
          "output_type": "stream",
          "name": "stdout",
          "text": [
            "\n",
            "Epoch 118/500 | Duration: 22.5s | Remaining: ~2.4h\n",
            "Train Loss: 0.4720\n",
            "Val Loss:   0.4517 (▼ 0.0000)\n",
            "Val Acc:    0.8667\n",
            "Learning Rate: 1.00e-03\n",
            "------------------------------------------------------------\n"
          ]
        },
        {
          "output_type": "stream",
          "name": "stderr",
          "text": [
            "Epoch 119/500 [Train]: 100%|██████████| 9/9 [00:03<00:00,  2.88batch/s, Loss=0.5432, AvgLoss=0.4360]\n",
            "Epoch 119/500 [Val]  : 100%|██████████| 1/1 [00:00<00:00,  2.04batch/s, Loss=0.4522, Acc=0.8667]\n"
          ]
        },
        {
          "output_type": "stream",
          "name": "stdout",
          "text": [
            "\n",
            "Epoch 119/500 | Duration: 3.6s | Remaining: ~0.4h\n",
            "Train Loss: 0.4703\n",
            "Val Loss:   0.4522 (▲ 0.0005) [Patience left: 19]\n",
            "Val Acc:    0.8667\n",
            "Learning Rate: 1.00e-03\n",
            "------------------------------------------------------------\n"
          ]
        },
        {
          "output_type": "stream",
          "name": "stderr",
          "text": [
            "Epoch 120/500 [Train]: 100%|██████████| 9/9 [00:03<00:00,  3.00batch/s, Loss=0.3899, AvgLoss=0.4355]\n",
            "Epoch 120/500 [Val]  : 100%|██████████| 1/1 [00:00<00:00,  2.04batch/s, Loss=0.4517, Acc=0.8667]\n"
          ]
        },
        {
          "output_type": "stream",
          "name": "stdout",
          "text": [
            "\n",
            "Epoch 120/500 | Duration: 17.0s | Remaining: ~1.8h\n",
            "Train Loss: 0.4697\n",
            "Val Loss:   0.4517 (▼ 0.0000)\n",
            "Val Acc:    0.8667\n",
            "Learning Rate: 1.00e-03\n",
            "------------------------------------------------------------\n"
          ]
        },
        {
          "output_type": "stream",
          "name": "stderr",
          "text": [
            "Epoch 121/500 [Train]: 100%|██████████| 9/9 [00:03<00:00,  2.84batch/s, Loss=0.4886, AvgLoss=0.4349]\n",
            "Epoch 121/500 [Val]  : 100%|██████████| 1/1 [00:00<00:00,  2.03batch/s, Loss=0.4521, Acc=0.8667]\n"
          ]
        },
        {
          "output_type": "stream",
          "name": "stdout",
          "text": [
            "\n",
            "Epoch 121/500 | Duration: 3.7s | Remaining: ~0.4h\n",
            "Train Loss: 0.4691\n",
            "Val Loss:   0.4521 (▲ 0.0004) [Patience left: 19]\n",
            "Val Acc:    0.8667\n",
            "Learning Rate: 1.00e-03\n",
            "------------------------------------------------------------\n"
          ]
        },
        {
          "output_type": "stream",
          "name": "stderr",
          "text": [
            "Epoch 122/500 [Train]: 100%|██████████| 9/9 [00:03<00:00,  2.96batch/s, Loss=0.5077, AvgLoss=0.4350]\n",
            "Epoch 122/500 [Val]  : 100%|██████████| 1/1 [00:00<00:00,  2.01batch/s, Loss=0.4520, Acc=0.8667]\n"
          ]
        },
        {
          "output_type": "stream",
          "name": "stdout",
          "text": [
            "\n",
            "Epoch 122/500 | Duration: 3.6s | Remaining: ~0.4h\n",
            "Train Loss: 0.4692\n",
            "Val Loss:   0.4520 (▲ 0.0003) [Patience left: 18]\n",
            "Val Acc:    0.8667\n",
            "Learning Rate: 1.00e-03\n",
            "------------------------------------------------------------\n"
          ]
        },
        {
          "output_type": "stream",
          "name": "stderr",
          "text": [
            "Epoch 123/500 [Train]: 100%|██████████| 9/9 [00:03<00:00,  2.93batch/s, Loss=0.3741, AvgLoss=0.4349]\n",
            "Epoch 123/500 [Val]  : 100%|██████████| 1/1 [00:00<00:00,  1.68batch/s, Loss=0.4533, Acc=0.8333]\n"
          ]
        },
        {
          "output_type": "stream",
          "name": "stdout",
          "text": [
            "\n",
            "Epoch 123/500 | Duration: 3.7s | Remaining: ~0.4h\n",
            "Train Loss: 0.4691\n",
            "Val Loss:   0.4533 (▲ 0.0016) [Patience left: 17]\n",
            "Val Acc:    0.8333\n",
            "Learning Rate: 1.00e-03\n",
            "------------------------------------------------------------\n"
          ]
        },
        {
          "output_type": "stream",
          "name": "stderr",
          "text": [
            "Epoch 124/500 [Train]: 100%|██████████| 9/9 [00:03<00:00,  2.69batch/s, Loss=0.4748, AvgLoss=0.4333]\n",
            "Epoch 124/500 [Val]  : 100%|██████████| 1/1 [00:00<00:00,  1.70batch/s, Loss=0.4513, Acc=0.8667]\n"
          ]
        },
        {
          "output_type": "stream",
          "name": "stdout",
          "text": [
            "\n",
            "Epoch 124/500 | Duration: 30.7s | Remaining: ~3.2h\n",
            "Train Loss: 0.4673\n",
            "Val Loss:   0.4513 (▼ 0.0000)\n",
            "Val Acc:    0.8667\n",
            "Learning Rate: 1.00e-03\n",
            "------------------------------------------------------------\n"
          ]
        },
        {
          "output_type": "stream",
          "name": "stderr",
          "text": [
            "Epoch 125/500 [Train]: 100%|██████████| 9/9 [00:03<00:00,  2.84batch/s, Loss=0.7848, AvgLoss=0.4341]\n",
            "Epoch 125/500 [Val]  : 100%|██████████| 1/1 [00:00<00:00,  2.03batch/s, Loss=0.4519, Acc=0.8333]\n"
          ]
        },
        {
          "output_type": "stream",
          "name": "stdout",
          "text": [
            "\n",
            "Epoch 125/500 | Duration: 3.7s | Remaining: ~0.4h\n",
            "Train Loss: 0.4682\n",
            "Val Loss:   0.4519 (▲ 0.0006) [Patience left: 19]\n",
            "Val Acc:    0.8333\n",
            "Learning Rate: 1.00e-03\n",
            "------------------------------------------------------------\n"
          ]
        },
        {
          "output_type": "stream",
          "name": "stderr",
          "text": [
            "Epoch 126/500 [Train]: 100%|██████████| 9/9 [00:03<00:00,  2.92batch/s, Loss=0.4489, AvgLoss=0.4322]\n",
            "Epoch 126/500 [Val]  : 100%|██████████| 1/1 [00:00<00:00,  1.98batch/s, Loss=0.4526, Acc=0.8667]\n"
          ]
        },
        {
          "output_type": "stream",
          "name": "stdout",
          "text": [
            "\n",
            "Epoch 126/500 | Duration: 3.6s | Remaining: ~0.4h\n",
            "Train Loss: 0.4662\n",
            "Val Loss:   0.4526 (▲ 0.0013) [Patience left: 18]\n",
            "Val Acc:    0.8667\n",
            "Learning Rate: 1.00e-03\n",
            "------------------------------------------------------------\n"
          ]
        },
        {
          "output_type": "stream",
          "name": "stderr",
          "text": [
            "Epoch 127/500 [Train]: 100%|██████████| 9/9 [00:03<00:00,  2.88batch/s, Loss=0.4700, AvgLoss=0.4337]\n",
            "Epoch 127/500 [Val]  : 100%|██████████| 1/1 [00:00<00:00,  1.69batch/s, Loss=0.4546, Acc=0.8333]\n"
          ]
        },
        {
          "output_type": "stream",
          "name": "stdout",
          "text": [
            "\n",
            "Epoch 127/500 | Duration: 3.7s | Remaining: ~0.4h\n",
            "Train Loss: 0.4678\n",
            "Val Loss:   0.4546 (▲ 0.0033) [Patience left: 17]\n",
            "Val Acc:    0.8333\n",
            "Learning Rate: 1.00e-03\n",
            "------------------------------------------------------------\n"
          ]
        },
        {
          "output_type": "stream",
          "name": "stderr",
          "text": [
            "Epoch 128/500 [Train]: 100%|██████████| 9/9 [00:03<00:00,  2.68batch/s, Loss=0.4386, AvgLoss=0.4329]\n",
            "Epoch 128/500 [Val]  : 100%|██████████| 1/1 [00:00<00:00,  1.78batch/s, Loss=0.4522, Acc=0.8333]\n"
          ]
        },
        {
          "output_type": "stream",
          "name": "stdout",
          "text": [
            "\n",
            "Epoch 128/500 | Duration: 3.9s | Remaining: ~0.4h\n",
            "Train Loss: 0.4669\n",
            "Val Loss:   0.4522 (▲ 0.0008) [Patience left: 16]\n",
            "Val Acc:    0.8333\n",
            "Learning Rate: 1.00e-03\n",
            "------------------------------------------------------------\n"
          ]
        },
        {
          "output_type": "stream",
          "name": "stderr",
          "text": [
            "Epoch 129/500 [Train]: 100%|██████████| 9/9 [00:03<00:00,  2.88batch/s, Loss=0.3528, AvgLoss=0.4315]\n",
            "Epoch 129/500 [Val]  : 100%|██████████| 1/1 [00:00<00:00,  1.97batch/s, Loss=0.4519, Acc=0.8333]\n"
          ]
        },
        {
          "output_type": "stream",
          "name": "stdout",
          "text": [
            "\n",
            "Epoch 129/500 | Duration: 3.7s | Remaining: ~0.4h\n",
            "Train Loss: 0.4654\n",
            "Val Loss:   0.4519 (▲ 0.0005) [Patience left: 15]\n",
            "Val Acc:    0.8333\n",
            "Learning Rate: 1.00e-03\n",
            "------------------------------------------------------------\n"
          ]
        },
        {
          "output_type": "stream",
          "name": "stderr",
          "text": [
            "Epoch 130/500 [Train]: 100%|██████████| 9/9 [00:03<00:00,  2.86batch/s, Loss=0.5207, AvgLoss=0.4316]\n",
            "Epoch 130/500 [Val]  : 100%|██████████| 1/1 [00:00<00:00,  1.98batch/s, Loss=0.4516, Acc=0.8667]\n"
          ]
        },
        {
          "output_type": "stream",
          "name": "stdout",
          "text": [
            "\n",
            "Epoch 130/500 | Duration: 3.7s | Remaining: ~0.4h\n",
            "Train Loss: 0.4655\n",
            "Val Loss:   0.4516 (▲ 0.0002) [Patience left: 14]\n",
            "Val Acc:    0.8667\n",
            "Learning Rate: 1.00e-03\n",
            "------------------------------------------------------------\n"
          ]
        },
        {
          "output_type": "stream",
          "name": "stderr",
          "text": [
            "Epoch 131/500 [Train]: 100%|██████████| 9/9 [00:03<00:00,  2.80batch/s, Loss=0.5544, AvgLoss=0.4299]\n",
            "Epoch 131/500 [Val]  : 100%|██████████| 1/1 [00:00<00:00,  1.69batch/s, Loss=0.4515, Acc=0.8667]\n"
          ]
        },
        {
          "output_type": "stream",
          "name": "stdout",
          "text": [
            "\n",
            "Epoch 131/500 | Duration: 3.8s | Remaining: ~0.4h\n",
            "Train Loss: 0.4638\n",
            "Val Loss:   0.4515 (▲ 0.0001) [Patience left: 13]\n",
            "Val Acc:    0.8667\n",
            "Learning Rate: 1.00e-04\n",
            "------------------------------------------------------------\n"
          ]
        },
        {
          "output_type": "stream",
          "name": "stderr",
          "text": [
            "Epoch 132/500 [Train]: 100%|██████████| 9/9 [00:03<00:00,  2.71batch/s, Loss=0.5784, AvgLoss=0.4299]\n",
            "Epoch 132/500 [Val]  : 100%|██████████| 1/1 [00:00<00:00,  1.79batch/s, Loss=0.4513, Acc=0.8667]\n"
          ]
        },
        {
          "output_type": "stream",
          "name": "stdout",
          "text": [
            "\n",
            "Epoch 132/500 | Duration: 5.0s | Remaining: ~0.5h\n",
            "Train Loss: 0.4637\n",
            "Val Loss:   0.4513 (▼ 0.0000)\n",
            "Val Acc:    0.8667\n",
            "Learning Rate: 1.00e-04\n",
            "------------------------------------------------------------\n"
          ]
        },
        {
          "output_type": "stream",
          "name": "stderr",
          "text": [
            "Epoch 133/500 [Train]: 100%|██████████| 9/9 [00:03<00:00,  2.91batch/s, Loss=0.4241, AvgLoss=0.4298]\n",
            "Epoch 133/500 [Val]  : 100%|██████████| 1/1 [00:00<00:00,  1.94batch/s, Loss=0.4513, Acc=0.8667]\n"
          ]
        },
        {
          "output_type": "stream",
          "name": "stdout",
          "text": [
            "\n",
            "Epoch 133/500 | Duration: 3.6s | Remaining: ~0.4h\n",
            "Train Loss: 0.4636\n",
            "Val Loss:   0.4513 (▲ 0.0000) [Patience left: 19]\n",
            "Val Acc:    0.8667\n",
            "Learning Rate: 1.00e-04\n",
            "------------------------------------------------------------\n"
          ]
        },
        {
          "output_type": "stream",
          "name": "stderr",
          "text": [
            "Epoch 134/500 [Train]: 100%|██████████| 9/9 [00:03<00:00,  2.91batch/s, Loss=0.4771, AvgLoss=0.4297]\n",
            "Epoch 134/500 [Val]  : 100%|██████████| 1/1 [00:00<00:00,  1.98batch/s, Loss=0.4513, Acc=0.8667]\n"
          ]
        },
        {
          "output_type": "stream",
          "name": "stdout",
          "text": [
            "\n",
            "Epoch 134/500 | Duration: 4.6s | Remaining: ~0.5h\n",
            "Train Loss: 0.4635\n",
            "Val Loss:   0.4513 (▼ 0.0000)\n",
            "Val Acc:    0.8667\n",
            "Learning Rate: 1.00e-04\n",
            "------------------------------------------------------------\n"
          ]
        },
        {
          "output_type": "stream",
          "name": "stderr",
          "text": [
            "Epoch 135/500 [Train]: 100%|██████████| 9/9 [00:03<00:00,  2.91batch/s, Loss=0.6688, AvgLoss=0.4297]\n",
            "Epoch 135/500 [Val]  : 100%|██████████| 1/1 [00:00<00:00,  1.57batch/s, Loss=0.4514, Acc=0.8667]\n"
          ]
        },
        {
          "output_type": "stream",
          "name": "stdout",
          "text": [
            "\n",
            "Epoch 135/500 | Duration: 3.8s | Remaining: ~0.4h\n",
            "Train Loss: 0.4635\n",
            "Val Loss:   0.4514 (▲ 0.0001) [Patience left: 19]\n",
            "Val Acc:    0.8667\n",
            "Learning Rate: 1.00e-04\n",
            "------------------------------------------------------------\n"
          ]
        },
        {
          "output_type": "stream",
          "name": "stderr",
          "text": [
            "Epoch 136/500 [Train]: 100%|██████████| 9/9 [00:03<00:00,  2.87batch/s, Loss=0.4066, AvgLoss=0.4297]\n",
            "Epoch 136/500 [Val]  : 100%|██████████| 1/1 [00:00<00:00,  2.04batch/s, Loss=0.4515, Acc=0.8667]\n"
          ]
        },
        {
          "output_type": "stream",
          "name": "stdout",
          "text": [
            "\n",
            "Epoch 136/500 | Duration: 3.6s | Remaining: ~0.4h\n",
            "Train Loss: 0.4635\n",
            "Val Loss:   0.4515 (▲ 0.0002) [Patience left: 18]\n",
            "Val Acc:    0.8667\n",
            "Learning Rate: 1.00e-04\n",
            "------------------------------------------------------------\n"
          ]
        },
        {
          "output_type": "stream",
          "name": "stderr",
          "text": [
            "Epoch 137/500 [Train]: 100%|██████████| 9/9 [00:03<00:00,  2.98batch/s, Loss=0.3116, AvgLoss=0.4297]\n",
            "Epoch 137/500 [Val]  : 100%|██████████| 1/1 [00:00<00:00,  2.06batch/s, Loss=0.4515, Acc=0.8667]\n"
          ]
        },
        {
          "output_type": "stream",
          "name": "stdout",
          "text": [
            "\n",
            "Epoch 137/500 | Duration: 3.5s | Remaining: ~0.4h\n",
            "Train Loss: 0.4635\n",
            "Val Loss:   0.4515 (▲ 0.0002) [Patience left: 17]\n",
            "Val Acc:    0.8667\n",
            "Learning Rate: 1.00e-04\n",
            "------------------------------------------------------------\n"
          ]
        },
        {
          "output_type": "stream",
          "name": "stderr",
          "text": [
            "Epoch 138/500 [Train]: 100%|██████████| 9/9 [00:03<00:00,  2.97batch/s, Loss=0.4543, AvgLoss=0.4296]\n",
            "Epoch 138/500 [Val]  : 100%|██████████| 1/1 [00:00<00:00,  1.95batch/s, Loss=0.4514, Acc=0.8667]\n"
          ]
        },
        {
          "output_type": "stream",
          "name": "stdout",
          "text": [
            "\n",
            "Epoch 138/500 | Duration: 3.6s | Remaining: ~0.4h\n",
            "Train Loss: 0.4634\n",
            "Val Loss:   0.4514 (▲ 0.0001) [Patience left: 16]\n",
            "Val Acc:    0.8667\n",
            "Learning Rate: 1.00e-04\n",
            "------------------------------------------------------------\n"
          ]
        },
        {
          "output_type": "stream",
          "name": "stderr",
          "text": [
            "Epoch 139/500 [Train]: 100%|██████████| 9/9 [00:03<00:00,  2.76batch/s, Loss=0.4889, AvgLoss=0.4295]\n",
            "Epoch 139/500 [Val]  : 100%|██████████| 1/1 [00:00<00:00,  1.83batch/s, Loss=0.4513, Acc=0.8667]\n"
          ]
        },
        {
          "output_type": "stream",
          "name": "stdout",
          "text": [
            "\n",
            "Epoch 139/500 | Duration: 4.9s | Remaining: ~0.5h\n",
            "Train Loss: 0.4633\n",
            "Val Loss:   0.4513 (▼ 0.0000)\n",
            "Val Acc:    0.8667\n",
            "Learning Rate: 1.00e-04\n",
            "------------------------------------------------------------\n"
          ]
        },
        {
          "output_type": "stream",
          "name": "stderr",
          "text": [
            "Epoch 140/500 [Train]: 100%|██████████| 9/9 [00:03<00:00,  2.97batch/s, Loss=0.3930, AvgLoss=0.4294]\n",
            "Epoch 140/500 [Val]  : 100%|██████████| 1/1 [00:00<00:00,  1.95batch/s, Loss=0.4512, Acc=0.8667]\n"
          ]
        },
        {
          "output_type": "stream",
          "name": "stdout",
          "text": [
            "\n",
            "Epoch 140/500 | Duration: 4.6s | Remaining: ~0.5h\n",
            "Train Loss: 0.4632\n",
            "Val Loss:   0.4512 (▼ 0.0000)\n",
            "Val Acc:    0.8667\n",
            "Learning Rate: 1.00e-04\n",
            "------------------------------------------------------------\n"
          ]
        },
        {
          "output_type": "stream",
          "name": "stderr",
          "text": [
            "Epoch 141/500 [Train]: 100%|██████████| 9/9 [00:03<00:00,  2.92batch/s, Loss=0.5121, AvgLoss=0.4296]\n",
            "Epoch 141/500 [Val]  : 100%|██████████| 1/1 [00:00<00:00,  2.07batch/s, Loss=0.4510, Acc=0.8667]\n"
          ]
        },
        {
          "output_type": "stream",
          "name": "stdout",
          "text": [
            "\n",
            "Epoch 141/500 | Duration: 5.1s | Remaining: ~0.5h\n",
            "Train Loss: 0.4634\n",
            "Val Loss:   0.4510 (▼ 0.0000)\n",
            "Val Acc:    0.8667\n",
            "Learning Rate: 1.00e-04\n",
            "------------------------------------------------------------\n"
          ]
        },
        {
          "output_type": "stream",
          "name": "stderr",
          "text": [
            "Epoch 142/500 [Train]: 100%|██████████| 9/9 [00:03<00:00,  2.72batch/s, Loss=0.3167, AvgLoss=0.4293]\n",
            "Epoch 142/500 [Val]  : 100%|██████████| 1/1 [00:00<00:00,  1.75batch/s, Loss=0.4510, Acc=0.8667]\n"
          ]
        },
        {
          "output_type": "stream",
          "name": "stdout",
          "text": [
            "\n",
            "Epoch 142/500 | Duration: 3.9s | Remaining: ~0.4h\n",
            "Train Loss: 0.4631\n",
            "Val Loss:   0.4510 (▲ 0.0000) [Patience left: 19]\n",
            "Val Acc:    0.8667\n",
            "Learning Rate: 1.00e-04\n",
            "------------------------------------------------------------\n"
          ]
        },
        {
          "output_type": "stream",
          "name": "stderr",
          "text": [
            "Epoch 143/500 [Train]: 100%|██████████| 9/9 [00:03<00:00,  2.98batch/s, Loss=0.5467, AvgLoss=0.4294]\n",
            "Epoch 143/500 [Val]  : 100%|██████████| 1/1 [00:00<00:00,  2.03batch/s, Loss=0.4512, Acc=0.8667]\n"
          ]
        },
        {
          "output_type": "stream",
          "name": "stdout",
          "text": [
            "\n",
            "Epoch 143/500 | Duration: 3.5s | Remaining: ~0.4h\n",
            "Train Loss: 0.4632\n",
            "Val Loss:   0.4512 (▲ 0.0002) [Patience left: 18]\n",
            "Val Acc:    0.8667\n",
            "Learning Rate: 1.00e-04\n",
            "------------------------------------------------------------\n"
          ]
        },
        {
          "output_type": "stream",
          "name": "stderr",
          "text": [
            "Epoch 144/500 [Train]: 100%|██████████| 9/9 [00:03<00:00,  2.98batch/s, Loss=0.3375, AvgLoss=0.4293]\n",
            "Epoch 144/500 [Val]  : 100%|██████████| 1/1 [00:00<00:00,  2.03batch/s, Loss=0.4512, Acc=0.8667]\n"
          ]
        },
        {
          "output_type": "stream",
          "name": "stdout",
          "text": [
            "\n",
            "Epoch 144/500 | Duration: 3.5s | Remaining: ~0.3h\n",
            "Train Loss: 0.4631\n",
            "Val Loss:   0.4512 (▲ 0.0002) [Patience left: 17]\n",
            "Val Acc:    0.8667\n",
            "Learning Rate: 1.00e-04\n",
            "------------------------------------------------------------\n"
          ]
        },
        {
          "output_type": "stream",
          "name": "stderr",
          "text": [
            "Epoch 145/500 [Train]: 100%|██████████| 9/9 [00:03<00:00,  2.90batch/s, Loss=0.5465, AvgLoss=0.4292]\n",
            "Epoch 145/500 [Val]  : 100%|██████████| 1/1 [00:00<00:00,  1.71batch/s, Loss=0.4512, Acc=0.8667]\n"
          ]
        },
        {
          "output_type": "stream",
          "name": "stdout",
          "text": [
            "\n",
            "Epoch 145/500 | Duration: 3.7s | Remaining: ~0.4h\n",
            "Train Loss: 0.4630\n",
            "Val Loss:   0.4512 (▲ 0.0002) [Patience left: 16]\n",
            "Val Acc:    0.8667\n",
            "Learning Rate: 1.00e-04\n",
            "------------------------------------------------------------\n"
          ]
        },
        {
          "output_type": "stream",
          "name": "stderr",
          "text": [
            "Epoch 146/500 [Train]: 100%|██████████| 9/9 [00:03<00:00,  2.80batch/s, Loss=0.4026, AvgLoss=0.4292]\n",
            "Epoch 146/500 [Val]  : 100%|██████████| 1/1 [00:00<00:00,  1.80batch/s, Loss=0.4511, Acc=0.8667]\n"
          ]
        },
        {
          "output_type": "stream",
          "name": "stdout",
          "text": [
            "\n",
            "Epoch 146/500 | Duration: 3.8s | Remaining: ~0.4h\n",
            "Train Loss: 0.4629\n",
            "Val Loss:   0.4511 (▲ 0.0001) [Patience left: 15]\n",
            "Val Acc:    0.8667\n",
            "Learning Rate: 1.00e-04\n",
            "------------------------------------------------------------\n"
          ]
        },
        {
          "output_type": "stream",
          "name": "stderr",
          "text": [
            "Epoch 147/500 [Train]: 100%|██████████| 9/9 [00:03<00:00,  2.97batch/s, Loss=0.6748, AvgLoss=0.4292]\n",
            "Epoch 147/500 [Val]  : 100%|██████████| 1/1 [00:00<00:00,  2.06batch/s, Loss=0.4512, Acc=0.8667]\n"
          ]
        },
        {
          "output_type": "stream",
          "name": "stdout",
          "text": [
            "\n",
            "Epoch 147/500 | Duration: 3.5s | Remaining: ~0.3h\n",
            "Train Loss: 0.4630\n",
            "Val Loss:   0.4512 (▲ 0.0002) [Patience left: 14]\n",
            "Val Acc:    0.8667\n",
            "Learning Rate: 1.00e-04\n",
            "------------------------------------------------------------\n"
          ]
        },
        {
          "output_type": "stream",
          "name": "stderr",
          "text": [
            "Epoch 148/500 [Train]: 100%|██████████| 9/9 [00:03<00:00,  2.93batch/s, Loss=0.4179, AvgLoss=0.4291]\n",
            "Epoch 148/500 [Val]  : 100%|██████████| 1/1 [00:00<00:00,  1.96batch/s, Loss=0.4512, Acc=0.8667]\n"
          ]
        },
        {
          "output_type": "stream",
          "name": "stdout",
          "text": [
            "\n",
            "Epoch 148/500 | Duration: 3.6s | Remaining: ~0.4h\n",
            "Train Loss: 0.4628\n",
            "Val Loss:   0.4512 (▲ 0.0002) [Patience left: 13]\n",
            "Val Acc:    0.8667\n",
            "Learning Rate: 1.00e-05\n",
            "------------------------------------------------------------\n"
          ]
        },
        {
          "output_type": "stream",
          "name": "stderr",
          "text": [
            "Epoch 149/500 [Train]: 100%|██████████| 9/9 [00:03<00:00,  2.90batch/s, Loss=0.6074, AvgLoss=0.4291]\n",
            "Epoch 149/500 [Val]  : 100%|██████████| 1/1 [00:00<00:00,  1.74batch/s, Loss=0.4512, Acc=0.8667]\n"
          ]
        },
        {
          "output_type": "stream",
          "name": "stdout",
          "text": [
            "\n",
            "Epoch 149/500 | Duration: 3.7s | Remaining: ~0.4h\n",
            "Train Loss: 0.4628\n",
            "Val Loss:   0.4512 (▲ 0.0001) [Patience left: 12]\n",
            "Val Acc:    0.8667\n",
            "Learning Rate: 1.00e-05\n",
            "------------------------------------------------------------\n"
          ]
        },
        {
          "output_type": "stream",
          "name": "stderr",
          "text": [
            "Epoch 150/500 [Train]: 100%|██████████| 9/9 [00:03<00:00,  2.78batch/s, Loss=0.4510, AvgLoss=0.4291]\n",
            "Epoch 150/500 [Val]  : 100%|██████████| 1/1 [00:00<00:00,  1.79batch/s, Loss=0.4512, Acc=0.8667]\n"
          ]
        },
        {
          "output_type": "stream",
          "name": "stdout",
          "text": [
            "\n",
            "Epoch 150/500 | Duration: 3.8s | Remaining: ~0.4h\n",
            "Train Loss: 0.4628\n",
            "Val Loss:   0.4512 (▲ 0.0001) [Patience left: 11]\n",
            "Val Acc:    0.8667\n",
            "Learning Rate: 1.00e-05\n",
            "------------------------------------------------------------\n"
          ]
        },
        {
          "output_type": "stream",
          "name": "stderr",
          "text": [
            "Epoch 151/500 [Train]: 100%|██████████| 9/9 [00:03<00:00,  2.89batch/s, Loss=0.6220, AvgLoss=0.4291]\n",
            "Epoch 151/500 [Val]  : 100%|██████████| 1/1 [00:00<00:00,  2.02batch/s, Loss=0.4511, Acc=0.8667]\n"
          ]
        },
        {
          "output_type": "stream",
          "name": "stdout",
          "text": [
            "\n",
            "Epoch 151/500 | Duration: 3.6s | Remaining: ~0.4h\n",
            "Train Loss: 0.4628\n",
            "Val Loss:   0.4511 (▲ 0.0001) [Patience left: 10]\n",
            "Val Acc:    0.8667\n",
            "Learning Rate: 1.00e-05\n",
            "------------------------------------------------------------\n"
          ]
        },
        {
          "output_type": "stream",
          "name": "stderr",
          "text": [
            "Epoch 152/500 [Train]: 100%|██████████| 9/9 [00:03<00:00,  2.93batch/s, Loss=0.5905, AvgLoss=0.4290]\n",
            "Epoch 152/500 [Val]  : 100%|██████████| 1/1 [00:00<00:00,  2.03batch/s, Loss=0.4511, Acc=0.8667]\n"
          ]
        },
        {
          "output_type": "stream",
          "name": "stdout",
          "text": [
            "\n",
            "Epoch 152/500 | Duration: 3.6s | Remaining: ~0.3h\n",
            "Train Loss: 0.4628\n",
            "Val Loss:   0.4511 (▲ 0.0001) [Patience left: 9]\n",
            "Val Acc:    0.8667\n",
            "Learning Rate: 1.00e-05\n",
            "------------------------------------------------------------\n"
          ]
        },
        {
          "output_type": "stream",
          "name": "stderr",
          "text": [
            "Epoch 153/500 [Train]: 100%|██████████| 9/9 [00:03<00:00,  2.92batch/s, Loss=0.5146, AvgLoss=0.4290]\n",
            "Epoch 153/500 [Val]  : 100%|██████████| 1/1 [00:00<00:00,  1.74batch/s, Loss=0.4511, Acc=0.8667]\n"
          ]
        },
        {
          "output_type": "stream",
          "name": "stdout",
          "text": [
            "\n",
            "Epoch 153/500 | Duration: 3.7s | Remaining: ~0.4h\n",
            "Train Loss: 0.4628\n",
            "Val Loss:   0.4511 (▲ 0.0001) [Patience left: 8]\n",
            "Val Acc:    0.8667\n",
            "Learning Rate: 1.00e-05\n",
            "------------------------------------------------------------\n"
          ]
        },
        {
          "output_type": "stream",
          "name": "stderr",
          "text": [
            "Epoch 154/500 [Train]: 100%|██████████| 9/9 [00:03<00:00,  2.69batch/s, Loss=0.3964, AvgLoss=0.4290]\n",
            "Epoch 154/500 [Val]  : 100%|██████████| 1/1 [00:00<00:00,  1.79batch/s, Loss=0.4511, Acc=0.8667]\n"
          ]
        },
        {
          "output_type": "stream",
          "name": "stdout",
          "text": [
            "\n",
            "Epoch 154/500 | Duration: 3.9s | Remaining: ~0.4h\n",
            "Train Loss: 0.4628\n",
            "Val Loss:   0.4511 (▲ 0.0001) [Patience left: 7]\n",
            "Val Acc:    0.8667\n",
            "Learning Rate: 1.00e-06\n",
            "------------------------------------------------------------\n"
          ]
        },
        {
          "output_type": "stream",
          "name": "stderr",
          "text": [
            "Epoch 155/500 [Train]: 100%|██████████| 9/9 [00:03<00:00,  2.90batch/s, Loss=0.3573, AvgLoss=0.4290]\n",
            "Epoch 155/500 [Val]  : 100%|██████████| 1/1 [00:00<00:00,  1.93batch/s, Loss=0.4511, Acc=0.8667]\n"
          ]
        },
        {
          "output_type": "stream",
          "name": "stdout",
          "text": [
            "\n",
            "Epoch 155/500 | Duration: 3.6s | Remaining: ~0.3h\n",
            "Train Loss: 0.4628\n",
            "Val Loss:   0.4511 (▲ 0.0001) [Patience left: 6]\n",
            "Val Acc:    0.8667\n",
            "Learning Rate: 1.00e-06\n",
            "------------------------------------------------------------\n"
          ]
        },
        {
          "output_type": "stream",
          "name": "stderr",
          "text": [
            "Epoch 156/500 [Train]: 100%|██████████| 9/9 [00:03<00:00,  2.91batch/s, Loss=0.5722, AvgLoss=0.4290]\n",
            "Epoch 156/500 [Val]  : 100%|██████████| 1/1 [00:00<00:00,  2.02batch/s, Loss=0.4511, Acc=0.8667]\n"
          ]
        },
        {
          "output_type": "stream",
          "name": "stdout",
          "text": [
            "\n",
            "Epoch 156/500 | Duration: 3.6s | Remaining: ~0.3h\n",
            "Train Loss: 0.4628\n",
            "Val Loss:   0.4511 (▲ 0.0001) [Patience left: 5]\n",
            "Val Acc:    0.8667\n",
            "Learning Rate: 1.00e-06\n",
            "------------------------------------------------------------\n"
          ]
        },
        {
          "output_type": "stream",
          "name": "stderr",
          "text": [
            "Epoch 157/500 [Train]: 100%|██████████| 9/9 [00:03<00:00,  2.91batch/s, Loss=0.4953, AvgLoss=0.4290]\n",
            "Epoch 157/500 [Val]  : 100%|██████████| 1/1 [00:00<00:00,  1.76batch/s, Loss=0.4511, Acc=0.8667]\n"
          ]
        },
        {
          "output_type": "stream",
          "name": "stdout",
          "text": [
            "\n",
            "Epoch 157/500 | Duration: 3.7s | Remaining: ~0.4h\n",
            "Train Loss: 0.4628\n",
            "Val Loss:   0.4511 (▲ 0.0001) [Patience left: 4]\n",
            "Val Acc:    0.8667\n",
            "Learning Rate: 1.00e-06\n",
            "------------------------------------------------------------\n"
          ]
        },
        {
          "output_type": "stream",
          "name": "stderr",
          "text": [
            "Epoch 158/500 [Train]: 100%|██████████| 9/9 [00:03<00:00,  2.79batch/s, Loss=0.4635, AvgLoss=0.4290]\n",
            "Epoch 158/500 [Val]  : 100%|██████████| 1/1 [00:00<00:00,  1.78batch/s, Loss=0.4511, Acc=0.8667]\n"
          ]
        },
        {
          "output_type": "stream",
          "name": "stdout",
          "text": [
            "\n",
            "Epoch 158/500 | Duration: 3.8s | Remaining: ~0.4h\n",
            "Train Loss: 0.4628\n",
            "Val Loss:   0.4511 (▲ 0.0001) [Patience left: 3]\n",
            "Val Acc:    0.8667\n",
            "Learning Rate: 1.00e-06\n",
            "------------------------------------------------------------\n"
          ]
        },
        {
          "output_type": "stream",
          "name": "stderr",
          "text": [
            "Epoch 159/500 [Train]: 100%|██████████| 9/9 [00:03<00:00,  2.94batch/s, Loss=0.7082, AvgLoss=0.4290]\n",
            "Epoch 159/500 [Val]  : 100%|██████████| 1/1 [00:00<00:00,  2.01batch/s, Loss=0.4511, Acc=0.8667]\n"
          ]
        },
        {
          "output_type": "stream",
          "name": "stdout",
          "text": [
            "\n",
            "Epoch 159/500 | Duration: 3.6s | Remaining: ~0.3h\n",
            "Train Loss: 0.4628\n",
            "Val Loss:   0.4511 (▲ 0.0001) [Patience left: 2]\n",
            "Val Acc:    0.8667\n",
            "Learning Rate: 1.00e-06\n",
            "------------------------------------------------------------\n"
          ]
        },
        {
          "output_type": "stream",
          "name": "stderr",
          "text": [
            "Epoch 160/500 [Train]: 100%|██████████| 9/9 [00:03<00:00,  2.95batch/s, Loss=0.4111, AvgLoss=0.4290]\n",
            "Epoch 160/500 [Val]  : 100%|██████████| 1/1 [00:00<00:00,  2.06batch/s, Loss=0.4511, Acc=0.8667]\n"
          ]
        },
        {
          "output_type": "stream",
          "name": "stdout",
          "text": [
            "\n",
            "Epoch 160/500 | Duration: 3.6s | Remaining: ~0.3h\n",
            "Train Loss: 0.4628\n",
            "Val Loss:   0.4511 (▲ 0.0001) [Patience left: 1]\n",
            "Val Acc:    0.8667\n",
            "Learning Rate: 1.00e-07\n",
            "------------------------------------------------------------\n"
          ]
        },
        {
          "output_type": "stream",
          "name": "stderr",
          "text": [
            "Epoch 161/500 [Train]: 100%|██████████| 9/9 [00:03<00:00,  2.92batch/s, Loss=0.3810, AvgLoss=0.4290]\n",
            "Epoch 161/500 [Val]  : 100%|██████████| 1/1 [00:00<00:00,  1.70batch/s, Loss=0.4511, Acc=0.8667]\n",
            "<ipython-input-6-ea554c8b544c>:117: FutureWarning: You are using `torch.load` with `weights_only=False` (the current default value), which uses the default pickle module implicitly. It is possible to construct malicious pickle data which will execute arbitrary code during unpickling (See https://github.com/pytorch/pytorch/blob/main/SECURITY.md#untrusted-models for more details). In a future release, the default value for `weights_only` will be flipped to `True`. This limits the functions that could be executed during unpickling. Arbitrary objects will no longer be allowed to be loaded via this mode unless they are explicitly allowlisted by the user via `torch.serialization.add_safe_globals`. We recommend you start setting `weights_only=True` for any use case where you don't have full control of the loaded file. Please open an issue on GitHub for any issues related to this experimental feature.\n",
            "  model.load_state_dict(torch.load('best_model.pth'))\n"
          ]
        },
        {
          "output_type": "stream",
          "name": "stdout",
          "text": [
            "\n",
            "Epoch 161/500 | Duration: 3.7s | Remaining: ~0.0h\n",
            "Train Loss: 0.4628\n",
            "Val Loss:   0.4511 (▲ 0.0001) [Patience left: 0]\n",
            "Val Acc:    0.8667\n",
            "Learning Rate: 1.00e-07\n",
            "------------------------------------------------------------\n",
            "[!] Early stopping triggered at epoch 162\n",
            "\n",
            "Loaded best model weights for final testing\n"
          ]
        },
        {
          "output_type": "stream",
          "name": "stderr",
          "text": [
            "Final Testing: 100%|██████████| 3/3 [00:01<00:00,  2.60batch/s, Loss=0.3690, Acc=0.7333]"
          ]
        },
        {
          "output_type": "stream",
          "name": "stdout",
          "text": [
            "\n",
            "==================================================\n",
            "Final Test Results:\n",
            "Loss: 0.4982\n",
            "Accuracy: 0.7333\n",
            "==================================================\n"
          ]
        },
        {
          "output_type": "stream",
          "name": "stderr",
          "text": [
            "\n"
          ]
        }
      ]
    },
    {
      "cell_type": "code",
      "source": [
        "import matplotlib.pyplot as plt\n",
        "import seaborn as sns\n",
        "from sklearn.metrics import confusion_matrix, accuracy_score, precision_score, recall_score, f1_score, cohen_kappa_score\n",
        "\n",
        "# For accuracy graph (assuming you have training history)\n",
        "train_accuracies = []  # Populate these during training\n",
        "val_accuracies = []    # Populate these during validation\n",
        "\n",
        "def plot_metrics(phase_name, cm, accuracy, precision, recall, f1, kappa):\n",
        "    plt.figure(figsize=(15, 5))\n",
        "\n",
        "    # Confusion Matrix\n",
        "    plt.subplot(1, 2, 1)\n",
        "    sns.heatmap(cm, annot=True, fmt='d', cmap='Blues',\n",
        "                xticklabels=['Predicted Normal[0]', 'Predicted Osteoporosis[1]'],\n",
        "                yticklabels=['Actual Normal[0]', 'Actual Osteoporosis[1]'])\n",
        "    plt.title(f'{phase_name} Confusion Matrix')\n",
        "\n",
        "    # Metrics Text\n",
        "    plt.subplot(1, 2, 2)\n",
        "    plt.text(0.1, 0.9, f'Accuracy: {accuracy:.4f}', fontsize=12)\n",
        "    plt.text(0.1, 0.7, f'Precision: {precision:.4f}', fontsize=12)\n",
        "    plt.text(0.1, 0.5, f'Recall: {recall:.4f}', fontsize=12)\n",
        "    plt.text(0.1, 0.3, f'F1 Score: {f1:.4f}', fontsize=12)\n",
        "    plt.text(0.1, 0.1, f\"Kappa: {kappa:.4f}\", fontsize=12)\n",
        "    plt.axis('off')\n",
        "\n",
        "    plt.tight_layout()\n",
        "    plt.show()\n",
        "\n",
        "def evaluate_model(loader, phase_name):\n",
        "    model.eval()\n",
        "    all_labels = []\n",
        "    all_preds = []\n",
        "    with torch.no_grad():\n",
        "        for images, labels in loader:\n",
        "            images, labels = images.to(device), labels.to(device)\n",
        "            outputs = model(images).squeeze()\n",
        "            preds = (outputs >= 0.5).float()\n",
        "\n",
        "            all_labels.extend(labels.cpu().numpy())\n",
        "            all_preds.extend(preds.cpu().numpy())\n",
        "\n",
        "    accuracy = accuracy_score(all_labels, all_preds)\n",
        "    precision = precision_score(all_labels, all_preds)\n",
        "    recall = recall_score(all_labels, all_preds)\n",
        "    f1 = f1_score(all_labels, all_preds)\n",
        "    kappa = cohen_kappa_score(all_labels, all_preds)\n",
        "    cm = confusion_matrix(all_labels, all_preds)\n",
        "\n",
        "    plot_metrics(phase_name, cm, accuracy, precision, recall, f1, kappa)\n",
        "\n",
        "    return accuracy\n",
        "\n",
        "\n",
        "\n",
        "# Evaluate both sets\n",
        "test_accuracy = evaluate_model(test_loader, 'Test')\n",
        "val_accuracy = evaluate_model(val_loader, 'Validation')\n"
      ],
      "metadata": {
        "colab": {
          "base_uri": "https://localhost:8080/",
          "height": 997
        },
        "id": "n7T1Ps5GIsba",
        "outputId": "c28ae60b-4a0f-4cbd-e836-1ce474485adc"
      },
      "execution_count": null,
      "outputs": [
        {
          "output_type": "display_data",
          "data": {
            "text/plain": [
              "<Figure size 1500x500 with 3 Axes>"
            ],
            "image/png": "[encoded data removed]"
          },
          "metadata": {}
        },
        {
          "output_type": "display_data",
          "data": {
            "text/plain": [
              "<Figure size 1500x500 with 3 Axes>"
            ],
            "image/png": "[encoded data removed]"
          },
          "metadata": {}
        }
      ]
    },
    {
      "cell_type": "markdown",
      "source": [
        "# ViT Large"
      ],
      "metadata": {
        "id": "eeQXLuXnZf1X"
      }
    },
    {
      "cell_type": "code",
      "source": [
        "# Modified ViT Model without DWT Processing\n",
        "class ViTBinaryClassifier(nn.Module):\n",
        "    def __init__(self, pretrained_model='google/vit-large-patch16-224-in21k'):\n",
        "        super().__init__()\n",
        "        self.vit = ViTModel.from_pretrained(pretrained_model)\n",
        "        self.classifier = nn.Linear(self.vit.config.hidden_size, 1)  # Output for binary classification\n",
        "        self.sigmoid = nn.Sigmoid()\n",
        "        # Freeze ViT parameters\n",
        "        for param in self.vit.parameters():\n",
        "            param.requires_grad = False\n",
        "\n",
        "    def forward(self, x):\n",
        "        # Directly use the input images\n",
        "        outputs = self.vit(x)\n",
        "        # Use the output of the [CLS] token for classification\n",
        "        cls_output = outputs.last_hidden_state[:, 0, :]\n",
        "        return self.sigmoid(self.classifier(cls_output))\n",
        "\n",
        "# Step 6: Create Datasets and DataLoaders\n",
        "# (Assuming x_train, y_train, x_val, y_val, x_test, y_test are defined)\n",
        "batch_size = 32\n",
        "train_dataset = NumpyDataset(x_train, y_train, transform=transform)\n",
        "val_dataset = NumpyDataset(x_val, y_val, transform=transform)\n",
        "test_dataset = NumpyDataset(x_test, y_test, transform=transform)\n",
        "train_loader = DataLoader(train_dataset, batch_size=batch_size, shuffle=True, num_workers=2)\n",
        "val_loader = DataLoader(val_dataset, batch_size=batch_size, shuffle=False, num_workers=2)\n",
        "test_loader = DataLoader(test_dataset, batch_size=batch_size, shuffle=False, num_workers=2)\n",
        "\n",
        "# Step 7: Initialize Model (AFTER device is defined)\n",
        "device = torch.device(\"cuda\" if torch.cuda.is_available() else \"cpu\")\n",
        "model = ViTBinaryClassifier().to(device)\n",
        "\n",
        "# Step 8: Loss and Optimizer\n",
        "criterion = nn.BCELoss()\n",
        "optimizer = torch.optim.Adam(model.parameters(), lr=1e-3)\n"
      ],
      "metadata": {
        "colab": {
          "base_uri": "https://localhost:8080/",
          "height": 81,
          "referenced_widgets": [
            "dc112f42290c4deaaf84e0f886947e62",
            "64bd9c8af60844ddb74c3c6fdb67463e",
            "0f864b8c4e1e482c9e40af4dc0478164",
            "b740936a311645c6a679a9bf45629c26",
            "2ca1a186574541bea5cb418346ce3a4f",
            "3be200f4fb5d49dc84f3b965d7b98708",
            "2e576612315048e283b2bf7395e9d019",
            "bfa73ade22704225abcb7f425e72eaf6",
            "1f41d44d577940269e0ce873c54c7be9",
            "0805750461424f48ad83291a88c5d0f9",
            "42397990e2b448f58d0c4e16aa89116f",
            "c7a6655945204788a8883a6c9d917614",
            "a2c7ad3d1de84d85a420e3856c5eec8d",
            "4f0df122435948faa1c78f3872b7f107",
            "dc058184a70f4e9a892bd1b88c1c468b",
            "9ee53ecae70347348ff456ddfe703faf",
            "9f2f26d7c50c41759e1d1560d448a3e5",
            "29c80f67618e4a7aa591addea6a5e357",
            "7ed13b4aca5e4cd5bb255f5ed370ccfd",
            "65f0546a20044aa4ad4b20fc898c9fbb",
            "ca55709f6fcc4368af2a2da4d690b458",
            "166dae5bf8b0492592e44c5715a1081c"
          ]
        },
        "id": "sfHDOpiRZPif",
        "outputId": "955af563-0400-48ff-ab56-d088d994044a"
      },
      "execution_count": null,
      "outputs": [
        {
          "output_type": "display_data",
          "data": {
            "text/plain": [
              "config.json:   0%|          | 0.00/504 [00:00<?, ?B/s]"
            ],
            "application/vnd.jupyter.widget-view+json": {
              "version_major": 2,
              "version_minor": 0,
              "model_id": "dc112f42290c4deaaf84e0f886947e62"
            }
          },
          "metadata": {}
        },
        {
          "output_type": "display_data",
          "data": {
            "text/plain": [
              "model.safetensors:   0%|          | 0.00/1.22G [00:00<?, ?B/s]"
            ],
            "application/vnd.jupyter.widget-view+json": {
              "version_major": 2,
              "version_minor": 0,
              "model_id": "c7a6655945204788a8883a6c9d917614"
            }
          },
          "metadata": {}
        }
      ]
    },
    {
      "cell_type": "code",
      "source": [
        "# Training loop\n",
        "num_epochs = 500\n",
        "best_val_loss = float('inf')\n",
        "patience = 20\n",
        "epochs_no_improve = 0\n",
        "early_stop = False\n",
        "history = {'train_loss': [], 'val_loss': [], 'val_acc': [], 'lr': []}\n",
        "\n",
        "# Initialize optimizer and scheduler\n",
        "optimizer = torch.optim.Adam(model.parameters(), lr=1e-3, weight_decay=1e-4)\n",
        "scheduler = lr_scheduler.ReduceLROnPlateau(\n",
        "    optimizer,\n",
        "    mode='min',\n",
        "    factor=0.1,\n",
        "    patience=5,\n",
        "    verbose=True\n",
        ")\n",
        "\n",
        "print(f\"\\n{'='*50}\")\n",
        "print(f\"Starting training with early stopping (patience={patience})\")\n",
        "print(f\"and learning rate scheduling (ReduceLROnPlateau)\")\n",
        "print(f\"{'='*50}\\n\")\n",
        "\n",
        "for epoch in range(num_epochs):\n",
        "    if early_stop:\n",
        "        print(f\"[!] Early stopping triggered at epoch {epoch+1}\")\n",
        "        break\n",
        "\n",
        "    epoch_start = time.time()\n",
        "\n",
        "    # Training phase\n",
        "    model.train()\n",
        "    train_loss = 0.0\n",
        "    train_batches = 0\n",
        "\n",
        "    with tqdm(train_loader, unit=\"batch\", desc=f\"Epoch {epoch+1:3d}/{num_epochs} [Train]\") as pbar:\n",
        "        for images, labels in pbar:\n",
        "            images, labels = images.to(device), labels.to(device)\n",
        "\n",
        "            optimizer.zero_grad()\n",
        "            outputs = model(images)  # Shape: (batch_size, 1)\n",
        "            loss = criterion(outputs.squeeze(), labels)  # Squeeze to match shape\n",
        "            loss.backward()\n",
        "            optimizer.step()\n",
        "\n",
        "            train_loss += loss.item() * images.size(0)\n",
        "            train_batches += 1\n",
        "\n",
        "            pbar.set_postfix({\n",
        "                'Loss': f\"{loss.item():.4f}\",\n",
        "                'AvgLoss': f\"{(train_loss/(train_batches*batch_size)):.4f}\"\n",
        "            })\n",
        "\n",
        "    # Validation phase\n",
        "    model.eval()\n",
        "    val_loss = 0.0\n",
        "    correct = 0\n",
        "    total = 0\n",
        "\n",
        "    with tqdm(val_loader, unit=\"batch\", desc=f\"Epoch {epoch+1:3d}/{num_epochs} [Val]  \") as pbar:\n",
        "        with torch.no_grad():\n",
        "            for images, labels in pbar:\n",
        "                images, labels = images.to(device), labels.to(device)\n",
        "                outputs = model(images)  # Shape: (batch_size, 1)\n",
        "                loss = criterion(outputs.squeeze(), labels)\n",
        "\n",
        "                val_loss += loss.item() * images.size(0)\n",
        "                predicted = (outputs > 0.5).float()  # Thresholding for binary classification\n",
        "                correct += (predicted.squeeze() == labels).sum().item()\n",
        "                total += labels.size(0)\n",
        "\n",
        "                pbar.set_postfix({\n",
        "                    'Loss': f\"{loss.item():.4f}\",\n",
        "                    'Acc': f\"{(correct/total):.4f}\"\n",
        "                })\n",
        "\n",
        "    # Calculate metrics\n",
        "    epoch_train_loss = train_loss / len(train_dataset)\n",
        "    epoch_val_loss = val_loss / len(val_dataset)\n",
        "    val_acc = correct / total\n",
        "    current_lr = optimizer.param_groups[0]['lr']\n",
        "\n",
        "    # Update learning rate\n",
        "    scheduler.step(epoch_val_loss)\n",
        "\n",
        "    # Store history\n",
        "    history['train_loss'].append(epoch_train_loss)\n",
        "    history['val_loss'].append(epoch_val_loss)\n",
        "    history['val_acc'].append(val_acc)\n",
        "    history['lr'].append(current_lr)\n",
        "\n",
        "    # Early stopping logic\n",
        "    if epoch_val_loss < best_val_loss:\n",
        "        best_val_loss = epoch_val_loss\n",
        "        epochs_no_improve = 0\n",
        "        torch.save(model.state_dict(), 'best_model.pth')\n",
        "        improvement_msg = f\"(▼ {best_val_loss - epoch_val_loss:.4f})\"\n",
        "    else:\n",
        "        epochs_no_improve += 1\n",
        "        improvement_msg = f\"(▲ {epoch_val_loss - best_val_loss:.4f}) [Patience left: {patience - epochs_no_improve}]\"\n",
        "        if epochs_no_improve >= patience:\n",
        "            early_stop = True\n",
        "\n",
        "    # Calculate epoch duration\n",
        "    epoch_time = time.time() - epoch_start\n",
        "    time_remaining = (epoch_time * (num_epochs - epoch - 1)) / 3600 if not early_stop else 0\n",
        "\n",
        "    # Detailed epoch report\n",
        "    print(f\"\\nEpoch {epoch+1:3d}/{num_epochs} | Duration: {epoch_time:.1f}s | Remaining: ~{time_remaining:.1f}h\")\n",
        "    print(f\"Train Loss: {epoch_train_loss:.4f}\")\n",
        "    print(f\"Val Loss:   {epoch_val_loss:.4f} {improvement_msg}\")\n",
        "    print(f\"Val Acc:    {val_acc:.4f}\")\n",
        "    print(f\"Learning Rate: {current_lr:.2e}\")\n",
        "    print(f\"-\"*60)\n",
        "\n",
        "# Load best model for testing\n",
        "model.load_state_dict(torch.load('best_model.pth'))\n",
        "print(\"\\nLoaded best model weights for final testing\")\n",
        "\n",
        "# Final evaluation\n",
        "model.eval()\n",
        "test_correct = 0\n",
        "test_total = 0\n",
        "test_loss = 0.0\n",
        "\n",
        "with tqdm(test_loader, unit=\"batch\", desc=\"Final Testing\") as pbar:\n",
        "    with torch.no_grad():\n",
        "        for images, labels in pbar:\n",
        "            images, labels = images.to(device), labels.to(device)\n",
        "            outputs = model(images)  # Shape: (batch_size, 1)\n",
        "            loss = criterion(outputs.squeeze(), labels)\n",
        "\n",
        "            test_loss += loss.item() * images.size(0)\n",
        "            predicted = (outputs > 0.5).float()  # Thresholding for binary classification\n",
        "            test_correct += (predicted.squeeze() == labels).sum().item()\n",
        "            test_total += labels.size(0)\n",
        "\n",
        "            pbar.set_postfix({\n",
        "                'Loss': f\"{loss.item():.4f}\",\n",
        "                'Acc': f\"{(test_correct/test_total):.4f}\"\n",
        "            })\n",
        "\n",
        "print(f\"\\n{'='*50}\")\n",
        "print(f\"Final Test Results:\")\n",
        "print(f\"Loss: {test_loss/len(test_dataset):.4f}\")\n",
        "print(f\"Accuracy: {test_correct/test_total:.4f}\")\n",
        "print(f\"{'='*50}\")"
      ],
      "metadata": {
        "colab": {
          "base_uri": "https://localhost:8080/"
        },
        "id": "kDOPa848ZWmZ",
        "outputId": "c2943e4b-5f10-40c7-ed29-e3300749b3f5"
      },
      "execution_count": null,
      "outputs": [
        {
          "output_type": "stream",
          "name": "stdout",
          "text": [
            "\n",
            "==================================================\n",
            "Starting training with early stopping (patience=20)\n",
            "and learning rate scheduling (ReduceLROnPlateau)\n",
            "==================================================\n",
            "\n"
          ]
        },
        {
          "output_type": "stream",
          "name": "stderr",
          "text": [
            "Epoch   1/500 [Train]: 100%|██████████| 9/9 [00:09<00:00,  1.04s/batch, Loss=0.6388, AvgLoss=0.6466]\n",
            "Epoch   1/500 [Val]  : 100%|██████████| 1/1 [00:01<00:00,  1.27s/batch, Loss=0.6764, Acc=0.5000]\n"
          ]
        },
        {
          "output_type": "stream",
          "name": "stdout",
          "text": [
            "\n",
            "Epoch   1/500 | Duration: 29.0s | Remaining: ~4.0h\n",
            "Train Loss: 0.6974\n",
            "Val Loss:   0.6764 (▼ 0.0000)\n",
            "Val Acc:    0.5000\n",
            "Learning Rate: 1.00e-03\n",
            "------------------------------------------------------------\n"
          ]
        },
        {
          "output_type": "stream",
          "name": "stderr",
          "text": [
            "Epoch   2/500 [Train]: 100%|██████████| 9/9 [00:09<00:00,  1.04s/batch, Loss=0.6611, AvgLoss=0.6238]\n",
            "Epoch   2/500 [Val]  : 100%|██████████| 1/1 [00:01<00:00,  1.22s/batch, Loss=0.6310, Acc=0.7000]\n"
          ]
        },
        {
          "output_type": "stream",
          "name": "stdout",
          "text": [
            "\n",
            "Epoch   2/500 | Duration: 15.3s | Remaining: ~2.1h\n",
            "Train Loss: 0.6729\n",
            "Val Loss:   0.6310 (▼ 0.0000)\n",
            "Val Acc:    0.7000\n",
            "Learning Rate: 1.00e-03\n",
            "------------------------------------------------------------\n"
          ]
        },
        {
          "output_type": "stream",
          "name": "stderr",
          "text": [
            "Epoch   3/500 [Train]: 100%|██████████| 9/9 [00:09<00:00,  1.05s/batch, Loss=0.6804, AvgLoss=0.5899]\n",
            "Epoch   3/500 [Val]  : 100%|██████████| 1/1 [00:01<00:00,  1.26s/batch, Loss=0.6133, Acc=0.7667]\n"
          ]
        },
        {
          "output_type": "stream",
          "name": "stdout",
          "text": [
            "\n",
            "Epoch   3/500 | Duration: 65.7s | Remaining: ~9.1h\n",
            "Train Loss: 0.6363\n",
            "Val Loss:   0.6133 (▼ 0.0000)\n",
            "Val Acc:    0.7667\n",
            "Learning Rate: 1.00e-03\n",
            "------------------------------------------------------------\n"
          ]
        },
        {
          "output_type": "stream",
          "name": "stderr",
          "text": [
            "Epoch   4/500 [Train]: 100%|██████████| 9/9 [00:09<00:00,  1.03s/batch, Loss=0.6622, AvgLoss=0.5580]\n",
            "Epoch   4/500 [Val]  : 100%|██████████| 1/1 [00:01<00:00,  1.28s/batch, Loss=0.5875, Acc=0.7000]\n"
          ]
        },
        {
          "output_type": "stream",
          "name": "stdout",
          "text": [
            "\n",
            "Epoch   4/500 | Duration: 17.7s | Remaining: ~2.4h\n",
            "Train Loss: 0.6019\n",
            "Val Loss:   0.5875 (▼ 0.0000)\n",
            "Val Acc:    0.7000\n",
            "Learning Rate: 1.00e-03\n",
            "------------------------------------------------------------\n"
          ]
        },
        {
          "output_type": "stream",
          "name": "stderr",
          "text": [
            "Epoch   5/500 [Train]: 100%|██████████| 9/9 [00:09<00:00,  1.04s/batch, Loss=0.6029, AvgLoss=0.5482]\n",
            "Epoch   5/500 [Val]  : 100%|██████████| 1/1 [00:01<00:00,  1.22s/batch, Loss=0.5583, Acc=0.7667]\n"
          ]
        },
        {
          "output_type": "stream",
          "name": "stdout",
          "text": [
            "\n",
            "Epoch   5/500 | Duration: 45.0s | Remaining: ~6.2h\n",
            "Train Loss: 0.5913\n",
            "Val Loss:   0.5583 (▼ 0.0000)\n",
            "Val Acc:    0.7667\n",
            "Learning Rate: 1.00e-03\n",
            "------------------------------------------------------------\n"
          ]
        },
        {
          "output_type": "stream",
          "name": "stderr",
          "text": [
            "Epoch   6/500 [Train]: 100%|██████████| 9/9 [00:09<00:00,  1.03s/batch, Loss=0.5249, AvgLoss=0.5400]\n",
            "Epoch   6/500 [Val]  : 100%|██████████| 1/1 [00:01<00:00,  1.23s/batch, Loss=0.5495, Acc=0.8000]\n"
          ]
        },
        {
          "output_type": "stream",
          "name": "stdout",
          "text": [
            "\n",
            "Epoch   6/500 | Duration: 18.1s | Remaining: ~2.5h\n",
            "Train Loss: 0.5824\n",
            "Val Loss:   0.5495 (▼ 0.0000)\n",
            "Val Acc:    0.8000\n",
            "Learning Rate: 1.00e-03\n",
            "------------------------------------------------------------\n"
          ]
        },
        {
          "output_type": "stream",
          "name": "stderr",
          "text": [
            "Epoch   7/500 [Train]: 100%|██████████| 9/9 [00:09<00:00,  1.05s/batch, Loss=0.5243, AvgLoss=0.5238]\n",
            "Epoch   7/500 [Val]  : 100%|██████████| 1/1 [00:01<00:00,  1.30s/batch, Loss=0.5355, Acc=0.8333]\n"
          ]
        },
        {
          "output_type": "stream",
          "name": "stdout",
          "text": [
            "\n",
            "Epoch   7/500 | Duration: 29.2s | Remaining: ~4.0h\n",
            "Train Loss: 0.5650\n",
            "Val Loss:   0.5355 (▼ 0.0000)\n",
            "Val Acc:    0.8333\n",
            "Learning Rate: 1.00e-03\n",
            "------------------------------------------------------------\n"
          ]
        },
        {
          "output_type": "stream",
          "name": "stderr",
          "text": [
            "Epoch   8/500 [Train]: 100%|██████████| 9/9 [00:09<00:00,  1.03s/batch, Loss=0.5135, AvgLoss=0.5069]\n",
            "Epoch   8/500 [Val]  : 100%|██████████| 1/1 [00:01<00:00,  1.27s/batch, Loss=0.5204, Acc=0.8000]\n"
          ]
        },
        {
          "output_type": "stream",
          "name": "stdout",
          "text": [
            "\n",
            "Epoch   8/500 | Duration: 15.3s | Remaining: ~2.1h\n",
            "Train Loss: 0.5468\n",
            "Val Loss:   0.5204 (▼ 0.0000)\n",
            "Val Acc:    0.8000\n",
            "Learning Rate: 1.00e-03\n",
            "------------------------------------------------------------\n"
          ]
        },
        {
          "output_type": "stream",
          "name": "stderr",
          "text": [
            "Epoch   9/500 [Train]: 100%|██████████| 9/9 [00:09<00:00,  1.04s/batch, Loss=0.5026, AvgLoss=0.5010]\n",
            "Epoch   9/500 [Val]  : 100%|██████████| 1/1 [00:01<00:00,  1.27s/batch, Loss=0.5096, Acc=0.7333]\n"
          ]
        },
        {
          "output_type": "stream",
          "name": "stdout",
          "text": [
            "\n",
            "Epoch   9/500 | Duration: 38.6s | Remaining: ~5.3h\n",
            "Train Loss: 0.5404\n",
            "Val Loss:   0.5096 (▼ 0.0000)\n",
            "Val Acc:    0.7333\n",
            "Learning Rate: 1.00e-03\n",
            "------------------------------------------------------------\n"
          ]
        },
        {
          "output_type": "stream",
          "name": "stderr",
          "text": [
            "Epoch  10/500 [Train]: 100%|██████████| 9/9 [00:09<00:00,  1.03s/batch, Loss=0.3845, AvgLoss=0.4904]\n",
            "Epoch  10/500 [Val]  : 100%|██████████| 1/1 [00:01<00:00,  1.29s/batch, Loss=0.4993, Acc=0.8000]\n"
          ]
        },
        {
          "output_type": "stream",
          "name": "stdout",
          "text": [
            "\n",
            "Epoch  10/500 | Duration: 26.4s | Remaining: ~3.6h\n",
            "Train Loss: 0.5290\n",
            "Val Loss:   0.4993 (▼ 0.0000)\n",
            "Val Acc:    0.8000\n",
            "Learning Rate: 1.00e-03\n",
            "------------------------------------------------------------\n"
          ]
        },
        {
          "output_type": "stream",
          "name": "stderr",
          "text": [
            "Epoch  11/500 [Train]: 100%|██████████| 9/9 [00:09<00:00,  1.04s/batch, Loss=0.6189, AvgLoss=0.4856]\n",
            "Epoch  11/500 [Val]  : 100%|██████████| 1/1 [00:01<00:00,  1.21s/batch, Loss=0.4926, Acc=0.8000]\n"
          ]
        },
        {
          "output_type": "stream",
          "name": "stdout",
          "text": [
            "\n",
            "Epoch  11/500 | Duration: 21.5s | Remaining: ~2.9h\n",
            "Train Loss: 0.5237\n",
            "Val Loss:   0.4926 (▼ 0.0000)\n",
            "Val Acc:    0.8000\n",
            "Learning Rate: 1.00e-03\n",
            "------------------------------------------------------------\n"
          ]
        },
        {
          "output_type": "stream",
          "name": "stderr",
          "text": [
            "Epoch  12/500 [Train]: 100%|██████████| 9/9 [00:09<00:00,  1.03s/batch, Loss=0.5554, AvgLoss=0.4779]\n",
            "Epoch  12/500 [Val]  : 100%|██████████| 1/1 [00:01<00:00,  1.29s/batch, Loss=0.4873, Acc=0.7667]\n"
          ]
        },
        {
          "output_type": "stream",
          "name": "stdout",
          "text": [
            "\n",
            "Epoch  12/500 | Duration: 15.5s | Remaining: ~2.1h\n",
            "Train Loss: 0.5155\n",
            "Val Loss:   0.4873 (▼ 0.0000)\n",
            "Val Acc:    0.7667\n",
            "Learning Rate: 1.00e-03\n",
            "------------------------------------------------------------\n"
          ]
        },
        {
          "output_type": "stream",
          "name": "stderr",
          "text": [
            "Epoch  13/500 [Train]: 100%|██████████| 9/9 [00:09<00:00,  1.04s/batch, Loss=0.3553, AvgLoss=0.4713]\n",
            "Epoch  13/500 [Val]  : 100%|██████████| 1/1 [00:01<00:00,  1.31s/batch, Loss=0.4847, Acc=0.8000]\n"
          ]
        },
        {
          "output_type": "stream",
          "name": "stdout",
          "text": [
            "\n",
            "Epoch  13/500 | Duration: 64.2s | Remaining: ~8.7h\n",
            "Train Loss: 0.5083\n",
            "Val Loss:   0.4847 (▼ 0.0000)\n",
            "Val Acc:    0.8000\n",
            "Learning Rate: 1.00e-03\n",
            "------------------------------------------------------------\n"
          ]
        },
        {
          "output_type": "stream",
          "name": "stderr",
          "text": [
            "Epoch  14/500 [Train]: 100%|██████████| 9/9 [00:09<00:00,  1.03s/batch, Loss=0.6599, AvgLoss=0.4686]\n",
            "Epoch  14/500 [Val]  : 100%|██████████| 1/1 [00:01<00:00,  1.24s/batch, Loss=0.4776, Acc=0.7333]\n"
          ]
        },
        {
          "output_type": "stream",
          "name": "stdout",
          "text": [
            "\n",
            "Epoch  14/500 | Duration: 15.6s | Remaining: ~2.1h\n",
            "Train Loss: 0.5055\n",
            "Val Loss:   0.4776 (▼ 0.0000)\n",
            "Val Acc:    0.7333\n",
            "Learning Rate: 1.00e-03\n",
            "------------------------------------------------------------\n"
          ]
        },
        {
          "output_type": "stream",
          "name": "stderr",
          "text": [
            "Epoch  15/500 [Train]: 100%|██████████| 9/9 [00:09<00:00,  1.04s/batch, Loss=0.4812, AvgLoss=0.4725]\n",
            "Epoch  15/500 [Val]  : 100%|██████████| 1/1 [00:01<00:00,  1.35s/batch, Loss=0.4801, Acc=0.8333]\n"
          ]
        },
        {
          "output_type": "stream",
          "name": "stdout",
          "text": [
            "\n",
            "Epoch  15/500 | Duration: 10.8s | Remaining: ~1.5h\n",
            "Train Loss: 0.5097\n",
            "Val Loss:   0.4801 (▲ 0.0025) [Patience left: 19]\n",
            "Val Acc:    0.8333\n",
            "Learning Rate: 1.00e-03\n",
            "------------------------------------------------------------\n"
          ]
        },
        {
          "output_type": "stream",
          "name": "stderr",
          "text": [
            "Epoch  16/500 [Train]: 100%|██████████| 9/9 [00:09<00:00,  1.05s/batch, Loss=0.4259, AvgLoss=0.4587]\n",
            "Epoch  16/500 [Val]  : 100%|██████████| 1/1 [00:01<00:00,  1.22s/batch, Loss=0.4778, Acc=0.8000]\n"
          ]
        },
        {
          "output_type": "stream",
          "name": "stdout",
          "text": [
            "\n",
            "Epoch  16/500 | Duration: 10.7s | Remaining: ~1.4h\n",
            "Train Loss: 0.4947\n",
            "Val Loss:   0.4778 (▲ 0.0001) [Patience left: 18]\n",
            "Val Acc:    0.8000\n",
            "Learning Rate: 1.00e-03\n",
            "------------------------------------------------------------\n"
          ]
        },
        {
          "output_type": "stream",
          "name": "stderr",
          "text": [
            "Epoch  17/500 [Train]: 100%|██████████| 9/9 [00:09<00:00,  1.03s/batch, Loss=0.4554, AvgLoss=0.4569]\n",
            "Epoch  17/500 [Val]  : 100%|██████████| 1/1 [00:01<00:00,  1.20s/batch, Loss=0.4698, Acc=0.7333]\n"
          ]
        },
        {
          "output_type": "stream",
          "name": "stdout",
          "text": [
            "\n",
            "Epoch  17/500 | Duration: 30.1s | Remaining: ~4.0h\n",
            "Train Loss: 0.4928\n",
            "Val Loss:   0.4698 (▼ 0.0000)\n",
            "Val Acc:    0.7333\n",
            "Learning Rate: 1.00e-03\n",
            "------------------------------------------------------------\n"
          ]
        },
        {
          "output_type": "stream",
          "name": "stderr",
          "text": [
            "Epoch  18/500 [Train]: 100%|██████████| 9/9 [00:09<00:00,  1.03s/batch, Loss=0.6868, AvgLoss=0.4517]\n",
            "Epoch  18/500 [Val]  : 100%|██████████| 1/1 [00:01<00:00,  1.19s/batch, Loss=0.4675, Acc=0.8000]\n"
          ]
        },
        {
          "output_type": "stream",
          "name": "stdout",
          "text": [
            "\n",
            "Epoch  18/500 | Duration: 37.6s | Remaining: ~5.0h\n",
            "Train Loss: 0.4872\n",
            "Val Loss:   0.4675 (▼ 0.0000)\n",
            "Val Acc:    0.8000\n",
            "Learning Rate: 1.00e-03\n",
            "------------------------------------------------------------\n"
          ]
        },
        {
          "output_type": "stream",
          "name": "stderr",
          "text": [
            "Epoch  19/500 [Train]: 100%|██████████| 9/9 [00:09<00:00,  1.03s/batch, Loss=0.4828, AvgLoss=0.4474]\n",
            "Epoch  19/500 [Val]  : 100%|██████████| 1/1 [00:01<00:00,  1.27s/batch, Loss=0.4640, Acc=0.7333]\n"
          ]
        },
        {
          "output_type": "stream",
          "name": "stdout",
          "text": [
            "\n",
            "Epoch  19/500 | Duration: 27.0s | Remaining: ~3.6h\n",
            "Train Loss: 0.4826\n",
            "Val Loss:   0.4640 (▼ 0.0000)\n",
            "Val Acc:    0.7333\n",
            "Learning Rate: 1.00e-03\n",
            "------------------------------------------------------------\n"
          ]
        },
        {
          "output_type": "stream",
          "name": "stderr",
          "text": [
            "Epoch  20/500 [Train]: 100%|██████████| 9/9 [00:09<00:00,  1.04s/batch, Loss=0.3881, AvgLoss=0.4440]\n",
            "Epoch  20/500 [Val]  : 100%|██████████| 1/1 [00:01<00:00,  1.29s/batch, Loss=0.4591, Acc=0.7333]\n"
          ]
        },
        {
          "output_type": "stream",
          "name": "stdout",
          "text": [
            "\n",
            "Epoch  20/500 | Duration: 22.5s | Remaining: ~3.0h\n",
            "Train Loss: 0.4790\n",
            "Val Loss:   0.4591 (▼ 0.0000)\n",
            "Val Acc:    0.7333\n",
            "Learning Rate: 1.00e-03\n",
            "------------------------------------------------------------\n"
          ]
        },
        {
          "output_type": "stream",
          "name": "stderr",
          "text": [
            "Epoch  21/500 [Train]: 100%|██████████| 9/9 [00:09<00:00,  1.03s/batch, Loss=0.7031, AvgLoss=0.4418]\n",
            "Epoch  21/500 [Val]  : 100%|██████████| 1/1 [00:01<00:00,  1.30s/batch, Loss=0.4560, Acc=0.7333]\n"
          ]
        },
        {
          "output_type": "stream",
          "name": "stdout",
          "text": [
            "\n",
            "Epoch  21/500 | Duration: 27.0s | Remaining: ~3.6h\n",
            "Train Loss: 0.4766\n",
            "Val Loss:   0.4560 (▼ 0.0000)\n",
            "Val Acc:    0.7333\n",
            "Learning Rate: 1.00e-03\n",
            "------------------------------------------------------------\n"
          ]
        },
        {
          "output_type": "stream",
          "name": "stderr",
          "text": [
            "Epoch  22/500 [Train]: 100%|██████████| 9/9 [00:09<00:00,  1.03s/batch, Loss=0.4241, AvgLoss=0.4437]\n",
            "Epoch  22/500 [Val]  : 100%|██████████| 1/1 [00:01<00:00,  1.28s/batch, Loss=0.4553, Acc=0.7333]\n"
          ]
        },
        {
          "output_type": "stream",
          "name": "stdout",
          "text": [
            "\n",
            "Epoch  22/500 | Duration: 25.6s | Remaining: ~3.4h\n",
            "Train Loss: 0.4786\n",
            "Val Loss:   0.4553 (▼ 0.0000)\n",
            "Val Acc:    0.7333\n",
            "Learning Rate: 1.00e-03\n",
            "------------------------------------------------------------\n"
          ]
        },
        {
          "output_type": "stream",
          "name": "stderr",
          "text": [
            "Epoch  23/500 [Train]: 100%|██████████| 9/9 [00:09<00:00,  1.04s/batch, Loss=0.2888, AvgLoss=0.4409]\n",
            "Epoch  23/500 [Val]  : 100%|██████████| 1/1 [00:01<00:00,  1.31s/batch, Loss=0.4559, Acc=0.8333]\n"
          ]
        },
        {
          "output_type": "stream",
          "name": "stdout",
          "text": [
            "\n",
            "Epoch  23/500 | Duration: 10.7s | Remaining: ~1.4h\n",
            "Train Loss: 0.4755\n",
            "Val Loss:   0.4559 (▲ 0.0006) [Patience left: 19]\n",
            "Val Acc:    0.8333\n",
            "Learning Rate: 1.00e-03\n",
            "------------------------------------------------------------\n"
          ]
        },
        {
          "output_type": "stream",
          "name": "stderr",
          "text": [
            "Epoch  24/500 [Train]: 100%|██████████| 9/9 [00:09<00:00,  1.06s/batch, Loss=0.2946, AvgLoss=0.4315]\n",
            "Epoch  24/500 [Val]  : 100%|██████████| 1/1 [00:01<00:00,  1.23s/batch, Loss=0.4546, Acc=0.7667]\n"
          ]
        },
        {
          "output_type": "stream",
          "name": "stdout",
          "text": [
            "\n",
            "Epoch  24/500 | Duration: 15.4s | Remaining: ~2.0h\n",
            "Train Loss: 0.4654\n",
            "Val Loss:   0.4546 (▼ 0.0000)\n",
            "Val Acc:    0.7667\n",
            "Learning Rate: 1.00e-03\n",
            "------------------------------------------------------------\n"
          ]
        },
        {
          "output_type": "stream",
          "name": "stderr",
          "text": [
            "Epoch  25/500 [Train]: 100%|██████████| 9/9 [00:09<00:00,  1.05s/batch, Loss=0.6345, AvgLoss=0.4337]\n",
            "Epoch  25/500 [Val]  : 100%|██████████| 1/1 [00:01<00:00,  1.20s/batch, Loss=0.4495, Acc=0.7333]\n"
          ]
        },
        {
          "output_type": "stream",
          "name": "stdout",
          "text": [
            "\n",
            "Epoch  25/500 | Duration: 35.0s | Remaining: ~4.6h\n",
            "Train Loss: 0.4679\n",
            "Val Loss:   0.4495 (▼ 0.0000)\n",
            "Val Acc:    0.7333\n",
            "Learning Rate: 1.00e-03\n",
            "------------------------------------------------------------\n"
          ]
        },
        {
          "output_type": "stream",
          "name": "stderr",
          "text": [
            "Epoch  26/500 [Train]: 100%|██████████| 9/9 [00:09<00:00,  1.03s/batch, Loss=0.3175, AvgLoss=0.4281]\n",
            "Epoch  26/500 [Val]  : 100%|██████████| 1/1 [00:01<00:00,  1.25s/batch, Loss=0.4493, Acc=0.8333]\n"
          ]
        },
        {
          "output_type": "stream",
          "name": "stdout",
          "text": [
            "\n",
            "Epoch  26/500 | Duration: 17.8s | Remaining: ~2.3h\n",
            "Train Loss: 0.4618\n",
            "Val Loss:   0.4493 (▼ 0.0000)\n",
            "Val Acc:    0.8333\n",
            "Learning Rate: 1.00e-03\n",
            "------------------------------------------------------------\n"
          ]
        },
        {
          "output_type": "stream",
          "name": "stderr",
          "text": [
            "Epoch  27/500 [Train]: 100%|██████████| 9/9 [00:09<00:00,  1.04s/batch, Loss=0.4622, AvgLoss=0.4266]\n",
            "Epoch  27/500 [Val]  : 100%|██████████| 1/1 [00:01<00:00,  1.25s/batch, Loss=0.4462, Acc=0.7667]\n"
          ]
        },
        {
          "output_type": "stream",
          "name": "stdout",
          "text": [
            "\n",
            "Epoch  27/500 | Duration: 16.9s | Remaining: ~2.2h\n",
            "Train Loss: 0.4601\n",
            "Val Loss:   0.4462 (▼ 0.0000)\n",
            "Val Acc:    0.7667\n",
            "Learning Rate: 1.00e-03\n",
            "------------------------------------------------------------\n"
          ]
        },
        {
          "output_type": "stream",
          "name": "stderr",
          "text": [
            "Epoch  28/500 [Train]: 100%|██████████| 9/9 [00:09<00:00,  1.05s/batch, Loss=0.6738, AvgLoss=0.4269]\n",
            "Epoch  28/500 [Val]  : 100%|██████████| 1/1 [00:01<00:00,  1.23s/batch, Loss=0.4483, Acc=0.7667]\n"
          ]
        },
        {
          "output_type": "stream",
          "name": "stdout",
          "text": [
            "\n",
            "Epoch  28/500 | Duration: 10.7s | Remaining: ~1.4h\n",
            "Train Loss: 0.4604\n",
            "Val Loss:   0.4483 (▲ 0.0021) [Patience left: 19]\n",
            "Val Acc:    0.7667\n",
            "Learning Rate: 1.00e-03\n",
            "------------------------------------------------------------\n"
          ]
        },
        {
          "output_type": "stream",
          "name": "stderr",
          "text": [
            "Epoch  29/500 [Train]: 100%|██████████| 9/9 [00:09<00:00,  1.04s/batch, Loss=0.6566, AvgLoss=0.4259]\n",
            "Epoch  29/500 [Val]  : 100%|██████████| 1/1 [00:01<00:00,  1.28s/batch, Loss=0.4484, Acc=0.8000]\n"
          ]
        },
        {
          "output_type": "stream",
          "name": "stdout",
          "text": [
            "\n",
            "Epoch  29/500 | Duration: 10.6s | Remaining: ~1.4h\n",
            "Train Loss: 0.4594\n",
            "Val Loss:   0.4484 (▲ 0.0022) [Patience left: 18]\n",
            "Val Acc:    0.8000\n",
            "Learning Rate: 1.00e-03\n",
            "------------------------------------------------------------\n"
          ]
        },
        {
          "output_type": "stream",
          "name": "stderr",
          "text": [
            "Epoch  30/500 [Train]: 100%|██████████| 9/9 [00:09<00:00,  1.03s/batch, Loss=0.3867, AvgLoss=0.4190]\n",
            "Epoch  30/500 [Val]  : 100%|██████████| 1/1 [00:01<00:00,  1.29s/batch, Loss=0.4470, Acc=0.7667]\n"
          ]
        },
        {
          "output_type": "stream",
          "name": "stdout",
          "text": [
            "\n",
            "Epoch  30/500 | Duration: 10.6s | Remaining: ~1.4h\n",
            "Train Loss: 0.4520\n",
            "Val Loss:   0.4470 (▲ 0.0009) [Patience left: 17]\n",
            "Val Acc:    0.7667\n",
            "Learning Rate: 1.00e-03\n",
            "------------------------------------------------------------\n"
          ]
        },
        {
          "output_type": "stream",
          "name": "stderr",
          "text": [
            "Epoch  31/500 [Train]: 100%|██████████| 9/9 [00:09<00:00,  1.04s/batch, Loss=0.5340, AvgLoss=0.4189]\n",
            "Epoch  31/500 [Val]  : 100%|██████████| 1/1 [00:01<00:00,  1.19s/batch, Loss=0.4431, Acc=0.7667]\n"
          ]
        },
        {
          "output_type": "stream",
          "name": "stdout",
          "text": [
            "\n",
            "Epoch  31/500 | Duration: 37.5s | Remaining: ~4.9h\n",
            "Train Loss: 0.4519\n",
            "Val Loss:   0.4431 (▼ 0.0000)\n",
            "Val Acc:    0.7667\n",
            "Learning Rate: 1.00e-03\n",
            "------------------------------------------------------------\n"
          ]
        },
        {
          "output_type": "stream",
          "name": "stderr",
          "text": [
            "Epoch  32/500 [Train]: 100%|██████████| 9/9 [00:09<00:00,  1.03s/batch, Loss=0.4086, AvgLoss=0.4166]\n",
            "Epoch  32/500 [Val]  : 100%|██████████| 1/1 [00:01<00:00,  1.24s/batch, Loss=0.4423, Acc=0.7667]\n"
          ]
        },
        {
          "output_type": "stream",
          "name": "stdout",
          "text": [
            "\n",
            "Epoch  32/500 | Duration: 20.6s | Remaining: ~2.7h\n",
            "Train Loss: 0.4494\n",
            "Val Loss:   0.4423 (▼ 0.0000)\n",
            "Val Acc:    0.7667\n",
            "Learning Rate: 1.00e-03\n",
            "------------------------------------------------------------\n"
          ]
        },
        {
          "output_type": "stream",
          "name": "stderr",
          "text": [
            "Epoch  33/500 [Train]: 100%|██████████| 9/9 [00:09<00:00,  1.05s/batch, Loss=0.4334, AvgLoss=0.4142]\n",
            "Epoch  33/500 [Val]  : 100%|██████████| 1/1 [00:01<00:00,  1.21s/batch, Loss=0.4416, Acc=0.7667]\n"
          ]
        },
        {
          "output_type": "stream",
          "name": "stdout",
          "text": [
            "\n",
            "Epoch  33/500 | Duration: 30.6s | Remaining: ~4.0h\n",
            "Train Loss: 0.4467\n",
            "Val Loss:   0.4416 (▼ 0.0000)\n",
            "Val Acc:    0.7667\n",
            "Learning Rate: 1.00e-03\n",
            "------------------------------------------------------------\n"
          ]
        },
        {
          "output_type": "stream",
          "name": "stderr",
          "text": [
            "Epoch  34/500 [Train]: 100%|██████████| 9/9 [00:09<00:00,  1.03s/batch, Loss=0.5123, AvgLoss=0.4127]\n",
            "Epoch  34/500 [Val]  : 100%|██████████| 1/1 [00:01<00:00,  1.32s/batch, Loss=0.4406, Acc=0.7667]\n"
          ]
        },
        {
          "output_type": "stream",
          "name": "stdout",
          "text": [
            "\n",
            "Epoch  34/500 | Duration: 21.7s | Remaining: ~2.8h\n",
            "Train Loss: 0.4452\n",
            "Val Loss:   0.4406 (▼ 0.0000)\n",
            "Val Acc:    0.7667\n",
            "Learning Rate: 1.00e-03\n",
            "------------------------------------------------------------\n"
          ]
        },
        {
          "output_type": "stream",
          "name": "stderr",
          "text": [
            "Epoch  35/500 [Train]: 100%|██████████| 9/9 [00:09<00:00,  1.06s/batch, Loss=0.4095, AvgLoss=0.4207]\n",
            "Epoch  35/500 [Val]  : 100%|██████████| 1/1 [00:01<00:00,  1.21s/batch, Loss=0.4414, Acc=0.8000]\n"
          ]
        },
        {
          "output_type": "stream",
          "name": "stdout",
          "text": [
            "\n",
            "Epoch  35/500 | Duration: 10.7s | Remaining: ~1.4h\n",
            "Train Loss: 0.4538\n",
            "Val Loss:   0.4414 (▲ 0.0009) [Patience left: 19]\n",
            "Val Acc:    0.8000\n",
            "Learning Rate: 1.00e-03\n",
            "------------------------------------------------------------\n"
          ]
        },
        {
          "output_type": "stream",
          "name": "stderr",
          "text": [
            "Epoch  36/500 [Train]: 100%|██████████| 9/9 [00:09<00:00,  1.03s/batch, Loss=0.2913, AvgLoss=0.4108]\n",
            "Epoch  36/500 [Val]  : 100%|██████████| 1/1 [00:01<00:00,  1.28s/batch, Loss=0.4439, Acc=0.7667]\n"
          ]
        },
        {
          "output_type": "stream",
          "name": "stdout",
          "text": [
            "\n",
            "Epoch  36/500 | Duration: 10.6s | Remaining: ~1.4h\n",
            "Train Loss: 0.4431\n",
            "Val Loss:   0.4439 (▲ 0.0033) [Patience left: 18]\n",
            "Val Acc:    0.7667\n",
            "Learning Rate: 1.00e-03\n",
            "------------------------------------------------------------\n"
          ]
        },
        {
          "output_type": "stream",
          "name": "stderr",
          "text": [
            "Epoch  37/500 [Train]: 100%|██████████| 9/9 [00:09<00:00,  1.03s/batch, Loss=0.5079, AvgLoss=0.4080]\n",
            "Epoch  37/500 [Val]  : 100%|██████████| 1/1 [00:01<00:00,  1.30s/batch, Loss=0.4397, Acc=0.7667]\n"
          ]
        },
        {
          "output_type": "stream",
          "name": "stdout",
          "text": [
            "\n",
            "Epoch  37/500 | Duration: 15.2s | Remaining: ~2.0h\n",
            "Train Loss: 0.4401\n",
            "Val Loss:   0.4397 (▼ 0.0000)\n",
            "Val Acc:    0.7667\n",
            "Learning Rate: 1.00e-03\n",
            "------------------------------------------------------------\n"
          ]
        },
        {
          "output_type": "stream",
          "name": "stderr",
          "text": [
            "Epoch  38/500 [Train]: 100%|██████████| 9/9 [00:09<00:00,  1.03s/batch, Loss=0.6239, AvgLoss=0.4045]\n",
            "Epoch  38/500 [Val]  : 100%|██████████| 1/1 [00:01<00:00,  1.29s/batch, Loss=0.4387, Acc=0.7667]\n"
          ]
        },
        {
          "output_type": "stream",
          "name": "stdout",
          "text": [
            "\n",
            "Epoch  38/500 | Duration: 17.6s | Remaining: ~2.3h\n",
            "Train Loss: 0.4363\n",
            "Val Loss:   0.4387 (▼ 0.0000)\n",
            "Val Acc:    0.7667\n",
            "Learning Rate: 1.00e-03\n",
            "------------------------------------------------------------\n"
          ]
        },
        {
          "output_type": "stream",
          "name": "stderr",
          "text": [
            "Epoch  39/500 [Train]: 100%|██████████| 9/9 [00:09<00:00,  1.03s/batch, Loss=0.6343, AvgLoss=0.4031]\n",
            "Epoch  39/500 [Val]  : 100%|██████████| 1/1 [00:01<00:00,  1.26s/batch, Loss=0.4383, Acc=0.7667]\n"
          ]
        },
        {
          "output_type": "stream",
          "name": "stdout",
          "text": [
            "\n",
            "Epoch  39/500 | Duration: 18.4s | Remaining: ~2.4h\n",
            "Train Loss: 0.4348\n",
            "Val Loss:   0.4383 (▼ 0.0000)\n",
            "Val Acc:    0.7667\n",
            "Learning Rate: 1.00e-03\n",
            "------------------------------------------------------------\n"
          ]
        },
        {
          "output_type": "stream",
          "name": "stderr",
          "text": [
            "Epoch  40/500 [Train]: 100%|██████████| 9/9 [00:09<00:00,  1.04s/batch, Loss=0.4753, AvgLoss=0.4045]\n",
            "Epoch  40/500 [Val]  : 100%|██████████| 1/1 [00:01<00:00,  1.21s/batch, Loss=0.4380, Acc=0.7667]\n"
          ]
        },
        {
          "output_type": "stream",
          "name": "stdout",
          "text": [
            "\n",
            "Epoch  40/500 | Duration: 16.5s | Remaining: ~2.1h\n",
            "Train Loss: 0.4363\n",
            "Val Loss:   0.4380 (▼ 0.0000)\n",
            "Val Acc:    0.7667\n",
            "Learning Rate: 1.00e-03\n",
            "------------------------------------------------------------\n"
          ]
        },
        {
          "output_type": "stream",
          "name": "stderr",
          "text": [
            "Epoch  41/500 [Train]: 100%|██████████| 9/9 [00:09<00:00,  1.04s/batch, Loss=0.5562, AvgLoss=0.3999]\n",
            "Epoch  41/500 [Val]  : 100%|██████████| 1/1 [00:01<00:00,  1.22s/batch, Loss=0.4364, Acc=0.7667]\n"
          ]
        },
        {
          "output_type": "stream",
          "name": "stdout",
          "text": [
            "\n",
            "Epoch  41/500 | Duration: 16.5s | Remaining: ~2.1h\n",
            "Train Loss: 0.4314\n",
            "Val Loss:   0.4364 (▼ 0.0000)\n",
            "Val Acc:    0.7667\n",
            "Learning Rate: 1.00e-03\n",
            "------------------------------------------------------------\n"
          ]
        },
        {
          "output_type": "stream",
          "name": "stderr",
          "text": [
            "Epoch  42/500 [Train]: 100%|██████████| 9/9 [00:09<00:00,  1.06s/batch, Loss=0.3525, AvgLoss=0.3977]\n",
            "Epoch  42/500 [Val]  : 100%|██████████| 1/1 [00:01<00:00,  1.23s/batch, Loss=0.4379, Acc=0.8000]\n"
          ]
        },
        {
          "output_type": "stream",
          "name": "stdout",
          "text": [
            "\n",
            "Epoch  42/500 | Duration: 10.8s | Remaining: ~1.4h\n",
            "Train Loss: 0.4290\n",
            "Val Loss:   0.4379 (▲ 0.0015) [Patience left: 19]\n",
            "Val Acc:    0.8000\n",
            "Learning Rate: 1.00e-03\n",
            "------------------------------------------------------------\n"
          ]
        },
        {
          "output_type": "stream",
          "name": "stderr",
          "text": [
            "Epoch  43/500 [Train]: 100%|██████████| 9/9 [00:09<00:00,  1.03s/batch, Loss=0.4117, AvgLoss=0.3971]\n",
            "Epoch  43/500 [Val]  : 100%|██████████| 1/1 [00:01<00:00,  1.28s/batch, Loss=0.4346, Acc=0.7667]\n"
          ]
        },
        {
          "output_type": "stream",
          "name": "stdout",
          "text": [
            "\n",
            "Epoch  43/500 | Duration: 22.5s | Remaining: ~2.9h\n",
            "Train Loss: 0.4283\n",
            "Val Loss:   0.4346 (▼ 0.0000)\n",
            "Val Acc:    0.7667\n",
            "Learning Rate: 1.00e-03\n",
            "------------------------------------------------------------\n"
          ]
        },
        {
          "output_type": "stream",
          "name": "stderr",
          "text": [
            "Epoch  44/500 [Train]: 100%|██████████| 9/9 [00:09<00:00,  1.03s/batch, Loss=0.4152, AvgLoss=0.3953]\n",
            "Epoch  44/500 [Val]  : 100%|██████████| 1/1 [00:01<00:00,  1.24s/batch, Loss=0.4352, Acc=0.7667]\n"
          ]
        },
        {
          "output_type": "stream",
          "name": "stdout",
          "text": [
            "\n",
            "Epoch  44/500 | Duration: 10.6s | Remaining: ~1.3h\n",
            "Train Loss: 0.4264\n",
            "Val Loss:   0.4352 (▲ 0.0006) [Patience left: 19]\n",
            "Val Acc:    0.7667\n",
            "Learning Rate: 1.00e-03\n",
            "------------------------------------------------------------\n"
          ]
        },
        {
          "output_type": "stream",
          "name": "stderr",
          "text": [
            "Epoch  45/500 [Train]: 100%|██████████| 9/9 [00:09<00:00,  1.04s/batch, Loss=0.3955, AvgLoss=0.3952]\n",
            "Epoch  45/500 [Val]  : 100%|██████████| 1/1 [00:01<00:00,  1.21s/batch, Loss=0.4332, Acc=0.7667]\n"
          ]
        },
        {
          "output_type": "stream",
          "name": "stdout",
          "text": [
            "\n",
            "Epoch  45/500 | Duration: 15.3s | Remaining: ~1.9h\n",
            "Train Loss: 0.4263\n",
            "Val Loss:   0.4332 (▼ 0.0000)\n",
            "Val Acc:    0.7667\n",
            "Learning Rate: 1.00e-03\n",
            "------------------------------------------------------------\n"
          ]
        },
        {
          "output_type": "stream",
          "name": "stderr",
          "text": [
            "Epoch  46/500 [Train]: 100%|██████████| 9/9 [00:09<00:00,  1.04s/batch, Loss=0.5166, AvgLoss=0.3938]\n",
            "Epoch  46/500 [Val]  : 100%|██████████| 1/1 [00:01<00:00,  1.21s/batch, Loss=0.4323, Acc=0.7667]\n"
          ]
        },
        {
          "output_type": "stream",
          "name": "stdout",
          "text": [
            "\n",
            "Epoch  46/500 | Duration: 27.7s | Remaining: ~3.5h\n",
            "Train Loss: 0.4247\n",
            "Val Loss:   0.4323 (▼ 0.0000)\n",
            "Val Acc:    0.7667\n",
            "Learning Rate: 1.00e-03\n",
            "------------------------------------------------------------\n"
          ]
        },
        {
          "output_type": "stream",
          "name": "stderr",
          "text": [
            "Epoch  47/500 [Train]: 100%|██████████| 9/9 [00:09<00:00,  1.03s/batch, Loss=0.5259, AvgLoss=0.3986]\n",
            "Epoch  47/500 [Val]  : 100%|██████████| 1/1 [00:01<00:00,  1.23s/batch, Loss=0.4353, Acc=0.7667]\n"
          ]
        },
        {
          "output_type": "stream",
          "name": "stdout",
          "text": [
            "\n",
            "Epoch  47/500 | Duration: 10.5s | Remaining: ~1.3h\n",
            "Train Loss: 0.4299\n",
            "Val Loss:   0.4353 (▲ 0.0031) [Patience left: 19]\n",
            "Val Acc:    0.7667\n",
            "Learning Rate: 1.00e-03\n",
            "------------------------------------------------------------\n"
          ]
        },
        {
          "output_type": "stream",
          "name": "stderr",
          "text": [
            "Epoch  48/500 [Train]: 100%|██████████| 9/9 [00:09<00:00,  1.05s/batch, Loss=0.5786, AvgLoss=0.3952]\n",
            "Epoch  48/500 [Val]  : 100%|██████████| 1/1 [00:01<00:00,  1.23s/batch, Loss=0.4350, Acc=0.8333]\n"
          ]
        },
        {
          "output_type": "stream",
          "name": "stdout",
          "text": [
            "\n",
            "Epoch  48/500 | Duration: 10.7s | Remaining: ~1.3h\n",
            "Train Loss: 0.4263\n",
            "Val Loss:   0.4350 (▲ 0.0027) [Patience left: 18]\n",
            "Val Acc:    0.8333\n",
            "Learning Rate: 1.00e-03\n",
            "------------------------------------------------------------\n"
          ]
        },
        {
          "output_type": "stream",
          "name": "stderr",
          "text": [
            "Epoch  49/500 [Train]: 100%|██████████| 9/9 [00:09<00:00,  1.05s/batch, Loss=0.3165, AvgLoss=0.3887]\n",
            "Epoch  49/500 [Val]  : 100%|██████████| 1/1 [00:01<00:00,  1.31s/batch, Loss=0.4301, Acc=0.7667]\n"
          ]
        },
        {
          "output_type": "stream",
          "name": "stdout",
          "text": [
            "\n",
            "Epoch  49/500 | Duration: 22.0s | Remaining: ~2.8h\n",
            "Train Loss: 0.4193\n",
            "Val Loss:   0.4301 (▼ 0.0000)\n",
            "Val Acc:    0.7667\n",
            "Learning Rate: 1.00e-03\n",
            "------------------------------------------------------------\n"
          ]
        },
        {
          "output_type": "stream",
          "name": "stderr",
          "text": [
            "Epoch  50/500 [Train]: 100%|██████████| 9/9 [00:09<00:00,  1.06s/batch, Loss=0.3795, AvgLoss=0.3899]\n",
            "Epoch  50/500 [Val]  : 100%|██████████| 1/1 [00:01<00:00,  1.20s/batch, Loss=0.4323, Acc=0.7667]\n"
          ]
        },
        {
          "output_type": "stream",
          "name": "stdout",
          "text": [
            "\n",
            "Epoch  50/500 | Duration: 10.8s | Remaining: ~1.3h\n",
            "Train Loss: 0.4206\n",
            "Val Loss:   0.4323 (▲ 0.0022) [Patience left: 19]\n",
            "Val Acc:    0.7667\n",
            "Learning Rate: 1.00e-03\n",
            "------------------------------------------------------------\n"
          ]
        },
        {
          "output_type": "stream",
          "name": "stderr",
          "text": [
            "Epoch  51/500 [Train]: 100%|██████████| 9/9 [00:09<00:00,  1.03s/batch, Loss=0.4680, AvgLoss=0.3836]\n",
            "Epoch  51/500 [Val]  : 100%|██████████| 1/1 [00:01<00:00,  1.28s/batch, Loss=0.4311, Acc=0.8000]\n"
          ]
        },
        {
          "output_type": "stream",
          "name": "stdout",
          "text": [
            "\n",
            "Epoch  51/500 | Duration: 10.6s | Remaining: ~1.3h\n",
            "Train Loss: 0.4137\n",
            "Val Loss:   0.4311 (▲ 0.0010) [Patience left: 18]\n",
            "Val Acc:    0.8000\n",
            "Learning Rate: 1.00e-03\n",
            "------------------------------------------------------------\n"
          ]
        },
        {
          "output_type": "stream",
          "name": "stderr",
          "text": [
            "Epoch  52/500 [Train]: 100%|██████████| 9/9 [00:09<00:00,  1.02s/batch, Loss=0.2764, AvgLoss=0.3864]\n",
            "Epoch  52/500 [Val]  : 100%|██████████| 1/1 [00:01<00:00,  1.31s/batch, Loss=0.4306, Acc=0.8000]\n"
          ]
        },
        {
          "output_type": "stream",
          "name": "stdout",
          "text": [
            "\n",
            "Epoch  52/500 | Duration: 10.5s | Remaining: ~1.3h\n",
            "Train Loss: 0.4168\n",
            "Val Loss:   0.4306 (▲ 0.0005) [Patience left: 17]\n",
            "Val Acc:    0.8000\n",
            "Learning Rate: 1.00e-03\n",
            "------------------------------------------------------------\n"
          ]
        },
        {
          "output_type": "stream",
          "name": "stderr",
          "text": [
            "Epoch  53/500 [Train]: 100%|██████████| 9/9 [00:09<00:00,  1.04s/batch, Loss=0.5454, AvgLoss=0.3827]\n",
            "Epoch  53/500 [Val]  : 100%|██████████| 1/1 [00:01<00:00,  1.21s/batch, Loss=0.4317, Acc=0.7667]\n"
          ]
        },
        {
          "output_type": "stream",
          "name": "stdout",
          "text": [
            "\n",
            "Epoch  53/500 | Duration: 10.6s | Remaining: ~1.3h\n",
            "Train Loss: 0.4128\n",
            "Val Loss:   0.4317 (▲ 0.0016) [Patience left: 16]\n",
            "Val Acc:    0.7667\n",
            "Learning Rate: 1.00e-03\n",
            "------------------------------------------------------------\n"
          ]
        },
        {
          "output_type": "stream",
          "name": "stderr",
          "text": [
            "Epoch  54/500 [Train]: 100%|██████████| 9/9 [00:09<00:00,  1.03s/batch, Loss=0.4651, AvgLoss=0.3810]\n",
            "Epoch  54/500 [Val]  : 100%|██████████| 1/1 [00:01<00:00,  1.21s/batch, Loss=0.4294, Acc=0.7667]\n"
          ]
        },
        {
          "output_type": "stream",
          "name": "stdout",
          "text": [
            "\n",
            "Epoch  54/500 | Duration: 31.5s | Remaining: ~3.9h\n",
            "Train Loss: 0.4110\n",
            "Val Loss:   0.4294 (▼ 0.0000)\n",
            "Val Acc:    0.7667\n",
            "Learning Rate: 1.00e-03\n",
            "------------------------------------------------------------\n"
          ]
        },
        {
          "output_type": "stream",
          "name": "stderr",
          "text": [
            "Epoch  55/500 [Train]: 100%|██████████| 9/9 [00:09<00:00,  1.03s/batch, Loss=0.5211, AvgLoss=0.3799]\n",
            "Epoch  55/500 [Val]  : 100%|██████████| 1/1 [00:01<00:00,  1.29s/batch, Loss=0.4291, Acc=0.8000]\n"
          ]
        },
        {
          "output_type": "stream",
          "name": "stdout",
          "text": [
            "\n",
            "Epoch  55/500 | Duration: 29.3s | Remaining: ~3.6h\n",
            "Train Loss: 0.4098\n",
            "Val Loss:   0.4291 (▼ 0.0000)\n",
            "Val Acc:    0.8000\n",
            "Learning Rate: 1.00e-03\n",
            "------------------------------------------------------------\n"
          ]
        },
        {
          "output_type": "stream",
          "name": "stderr",
          "text": [
            "Epoch  56/500 [Train]: 100%|██████████| 9/9 [00:09<00:00,  1.04s/batch, Loss=0.5508, AvgLoss=0.3791]\n",
            "Epoch  56/500 [Val]  : 100%|██████████| 1/1 [00:01<00:00,  1.29s/batch, Loss=0.4272, Acc=0.7667]\n"
          ]
        },
        {
          "output_type": "stream",
          "name": "stdout",
          "text": [
            "\n",
            "Epoch  56/500 | Duration: 20.8s | Remaining: ~2.6h\n",
            "Train Loss: 0.4089\n",
            "Val Loss:   0.4272 (▼ 0.0000)\n",
            "Val Acc:    0.7667\n",
            "Learning Rate: 1.00e-03\n",
            "------------------------------------------------------------\n"
          ]
        },
        {
          "output_type": "stream",
          "name": "stderr",
          "text": [
            "Epoch  57/500 [Train]: 100%|██████████| 9/9 [00:09<00:00,  1.06s/batch, Loss=0.5376, AvgLoss=0.3774]\n",
            "Epoch  57/500 [Val]  : 100%|██████████| 1/1 [00:01<00:00,  1.22s/batch, Loss=0.4254, Acc=0.7333]\n"
          ]
        },
        {
          "output_type": "stream",
          "name": "stdout",
          "text": [
            "\n",
            "Epoch  57/500 | Duration: 20.1s | Remaining: ~2.5h\n",
            "Train Loss: 0.4071\n",
            "Val Loss:   0.4254 (▼ 0.0000)\n",
            "Val Acc:    0.7333\n",
            "Learning Rate: 1.00e-03\n",
            "------------------------------------------------------------\n"
          ]
        },
        {
          "output_type": "stream",
          "name": "stderr",
          "text": [
            "Epoch  58/500 [Train]: 100%|██████████| 9/9 [00:09<00:00,  1.04s/batch, Loss=0.5662, AvgLoss=0.3772]\n",
            "Epoch  58/500 [Val]  : 100%|██████████| 1/1 [00:01<00:00,  1.31s/batch, Loss=0.4232, Acc=0.8000]\n"
          ]
        },
        {
          "output_type": "stream",
          "name": "stdout",
          "text": [
            "\n",
            "Epoch  58/500 | Duration: 18.5s | Remaining: ~2.3h\n",
            "Train Loss: 0.4069\n",
            "Val Loss:   0.4232 (▼ 0.0000)\n",
            "Val Acc:    0.8000\n",
            "Learning Rate: 1.00e-03\n",
            "------------------------------------------------------------\n"
          ]
        },
        {
          "output_type": "stream",
          "name": "stderr",
          "text": [
            "Epoch  59/500 [Train]: 100%|██████████| 9/9 [00:09<00:00,  1.03s/batch, Loss=0.4996, AvgLoss=0.3791]\n",
            "Epoch  59/500 [Val]  : 100%|██████████| 1/1 [00:01<00:00,  1.21s/batch, Loss=0.4244, Acc=0.8000]\n"
          ]
        },
        {
          "output_type": "stream",
          "name": "stdout",
          "text": [
            "\n",
            "Epoch  59/500 | Duration: 10.5s | Remaining: ~1.3h\n",
            "Train Loss: 0.4089\n",
            "Val Loss:   0.4244 (▲ 0.0012) [Patience left: 19]\n",
            "Val Acc:    0.8000\n",
            "Learning Rate: 1.00e-03\n",
            "------------------------------------------------------------\n"
          ]
        },
        {
          "output_type": "stream",
          "name": "stderr",
          "text": [
            "Epoch  60/500 [Train]: 100%|██████████| 9/9 [00:09<00:00,  1.03s/batch, Loss=0.2651, AvgLoss=0.3741]\n",
            "Epoch  60/500 [Val]  : 100%|██████████| 1/1 [00:01<00:00,  1.30s/batch, Loss=0.4250, Acc=0.7667]\n"
          ]
        },
        {
          "output_type": "stream",
          "name": "stdout",
          "text": [
            "\n",
            "Epoch  60/500 | Duration: 10.6s | Remaining: ~1.3h\n",
            "Train Loss: 0.4035\n",
            "Val Loss:   0.4250 (▲ 0.0018) [Patience left: 18]\n",
            "Val Acc:    0.7667\n",
            "Learning Rate: 1.00e-03\n",
            "------------------------------------------------------------\n"
          ]
        },
        {
          "output_type": "stream",
          "name": "stderr",
          "text": [
            "Epoch  61/500 [Train]: 100%|██████████| 9/9 [00:09<00:00,  1.05s/batch, Loss=0.2637, AvgLoss=0.3779]\n",
            "Epoch  61/500 [Val]  : 100%|██████████| 1/1 [00:01<00:00,  1.21s/batch, Loss=0.4235, Acc=0.8000]\n"
          ]
        },
        {
          "output_type": "stream",
          "name": "stdout",
          "text": [
            "\n",
            "Epoch  61/500 | Duration: 10.7s | Remaining: ~1.3h\n",
            "Train Loss: 0.4076\n",
            "Val Loss:   0.4235 (▲ 0.0003) [Patience left: 17]\n",
            "Val Acc:    0.8000\n",
            "Learning Rate: 1.00e-03\n",
            "------------------------------------------------------------\n"
          ]
        },
        {
          "output_type": "stream",
          "name": "stderr",
          "text": [
            "Epoch  62/500 [Train]: 100%|██████████| 9/9 [00:09<00:00,  1.03s/batch, Loss=0.4266, AvgLoss=0.3716]\n",
            "Epoch  62/500 [Val]  : 100%|██████████| 1/1 [00:01<00:00,  1.21s/batch, Loss=0.4236, Acc=0.7667]\n"
          ]
        },
        {
          "output_type": "stream",
          "name": "stdout",
          "text": [
            "\n",
            "Epoch  62/500 | Duration: 10.5s | Remaining: ~1.3h\n",
            "Train Loss: 0.4009\n",
            "Val Loss:   0.4236 (▲ 0.0004) [Patience left: 16]\n",
            "Val Acc:    0.7667\n",
            "Learning Rate: 1.00e-03\n",
            "------------------------------------------------------------\n"
          ]
        },
        {
          "output_type": "stream",
          "name": "stderr",
          "text": [
            "Epoch  63/500 [Train]: 100%|██████████| 9/9 [00:09<00:00,  1.02s/batch, Loss=0.3581, AvgLoss=0.3740]\n",
            "Epoch  63/500 [Val]  : 100%|██████████| 1/1 [00:01<00:00,  1.31s/batch, Loss=0.4260, Acc=0.7667]\n"
          ]
        },
        {
          "output_type": "stream",
          "name": "stdout",
          "text": [
            "\n",
            "Epoch  63/500 | Duration: 10.6s | Remaining: ~1.3h\n",
            "Train Loss: 0.4035\n",
            "Val Loss:   0.4260 (▲ 0.0028) [Patience left: 15]\n",
            "Val Acc:    0.7667\n",
            "Learning Rate: 1.00e-03\n",
            "------------------------------------------------------------\n"
          ]
        },
        {
          "output_type": "stream",
          "name": "stderr",
          "text": [
            "Epoch  64/500 [Train]: 100%|██████████| 9/9 [00:09<00:00,  1.03s/batch, Loss=0.4804, AvgLoss=0.3728]\n",
            "Epoch  64/500 [Val]  : 100%|██████████| 1/1 [00:01<00:00,  1.19s/batch, Loss=0.4258, Acc=0.7667]\n"
          ]
        },
        {
          "output_type": "stream",
          "name": "stdout",
          "text": [
            "\n",
            "Epoch  64/500 | Duration: 10.5s | Remaining: ~1.3h\n",
            "Train Loss: 0.4021\n",
            "Val Loss:   0.4258 (▲ 0.0026) [Patience left: 14]\n",
            "Val Acc:    0.7667\n",
            "Learning Rate: 1.00e-03\n",
            "------------------------------------------------------------\n"
          ]
        },
        {
          "output_type": "stream",
          "name": "stderr",
          "text": [
            "Epoch  65/500 [Train]: 100%|██████████| 9/9 [00:09<00:00,  1.02s/batch, Loss=0.2422, AvgLoss=0.3707]\n",
            "Epoch  65/500 [Val]  : 100%|██████████| 1/1 [00:01<00:00,  1.24s/batch, Loss=0.4240, Acc=0.7667]\n"
          ]
        },
        {
          "output_type": "stream",
          "name": "stdout",
          "text": [
            "\n",
            "Epoch  65/500 | Duration: 10.5s | Remaining: ~1.3h\n",
            "Train Loss: 0.3999\n",
            "Val Loss:   0.4240 (▲ 0.0007) [Patience left: 13]\n",
            "Val Acc:    0.7667\n",
            "Learning Rate: 1.00e-04\n",
            "------------------------------------------------------------\n"
          ]
        },
        {
          "output_type": "stream",
          "name": "stderr",
          "text": [
            "Epoch  66/500 [Train]: 100%|██████████| 9/9 [00:09<00:00,  1.02s/batch, Loss=0.2707, AvgLoss=0.3689]\n",
            "Epoch  66/500 [Val]  : 100%|██████████| 1/1 [00:01<00:00,  1.28s/batch, Loss=0.4231, Acc=0.7667]\n"
          ]
        },
        {
          "output_type": "stream",
          "name": "stdout",
          "text": [
            "\n",
            "Epoch  66/500 | Duration: 20.9s | Remaining: ~2.5h\n",
            "Train Loss: 0.3979\n",
            "Val Loss:   0.4231 (▼ 0.0000)\n",
            "Val Acc:    0.7667\n",
            "Learning Rate: 1.00e-04\n",
            "------------------------------------------------------------\n"
          ]
        },
        {
          "output_type": "stream",
          "name": "stderr",
          "text": [
            "Epoch  67/500 [Train]: 100%|██████████| 9/9 [00:09<00:00,  1.03s/batch, Loss=0.5905, AvgLoss=0.3679]\n",
            "Epoch  67/500 [Val]  : 100%|██████████| 1/1 [00:01<00:00,  1.18s/batch, Loss=0.4226, Acc=0.7333]\n"
          ]
        },
        {
          "output_type": "stream",
          "name": "stdout",
          "text": [
            "\n",
            "Epoch  67/500 | Duration: 15.1s | Remaining: ~1.8h\n",
            "Train Loss: 0.3968\n",
            "Val Loss:   0.4226 (▼ 0.0000)\n",
            "Val Acc:    0.7333\n",
            "Learning Rate: 1.00e-04\n",
            "------------------------------------------------------------\n"
          ]
        },
        {
          "output_type": "stream",
          "name": "stderr",
          "text": [
            "Epoch  68/500 [Train]: 100%|██████████| 9/9 [00:09<00:00,  1.04s/batch, Loss=0.4668, AvgLoss=0.3674]\n",
            "Epoch  68/500 [Val]  : 100%|██████████| 1/1 [00:01<00:00,  1.20s/batch, Loss=0.4225, Acc=0.7667]\n"
          ]
        },
        {
          "output_type": "stream",
          "name": "stdout",
          "text": [
            "\n",
            "Epoch  68/500 | Duration: 16.4s | Remaining: ~2.0h\n",
            "Train Loss: 0.3963\n",
            "Val Loss:   0.4225 (▼ 0.0000)\n",
            "Val Acc:    0.7667\n",
            "Learning Rate: 1.00e-04\n",
            "------------------------------------------------------------\n"
          ]
        },
        {
          "output_type": "stream",
          "name": "stderr",
          "text": [
            "Epoch  69/500 [Train]: 100%|██████████| 9/9 [00:09<00:00,  1.04s/batch, Loss=0.3967, AvgLoss=0.3676]\n",
            "Epoch  69/500 [Val]  : 100%|██████████| 1/1 [00:01<00:00,  1.21s/batch, Loss=0.4225, Acc=0.7667]\n"
          ]
        },
        {
          "output_type": "stream",
          "name": "stdout",
          "text": [
            "\n",
            "Epoch  69/500 | Duration: 10.6s | Remaining: ~1.3h\n",
            "Train Loss: 0.3965\n",
            "Val Loss:   0.4225 (▲ 0.0000) [Patience left: 19]\n",
            "Val Acc:    0.7667\n",
            "Learning Rate: 1.00e-04\n",
            "------------------------------------------------------------\n"
          ]
        },
        {
          "output_type": "stream",
          "name": "stderr",
          "text": [
            "Epoch  70/500 [Train]: 100%|██████████| 9/9 [00:09<00:00,  1.03s/batch, Loss=0.2561, AvgLoss=0.3671]\n",
            "Epoch  70/500 [Val]  : 100%|██████████| 1/1 [00:01<00:00,  1.31s/batch, Loss=0.4224, Acc=0.7667]\n"
          ]
        },
        {
          "output_type": "stream",
          "name": "stdout",
          "text": [
            "\n",
            "Epoch  70/500 | Duration: 16.4s | Remaining: ~2.0h\n",
            "Train Loss: 0.3960\n",
            "Val Loss:   0.4224 (▼ 0.0000)\n",
            "Val Acc:    0.7667\n",
            "Learning Rate: 1.00e-04\n",
            "------------------------------------------------------------\n"
          ]
        },
        {
          "output_type": "stream",
          "name": "stderr",
          "text": [
            "Epoch  71/500 [Train]: 100%|██████████| 9/9 [00:09<00:00,  1.03s/batch, Loss=0.3548, AvgLoss=0.3670]\n",
            "Epoch  71/500 [Val]  : 100%|██████████| 1/1 [00:01<00:00,  1.20s/batch, Loss=0.4224, Acc=0.7667]\n"
          ]
        },
        {
          "output_type": "stream",
          "name": "stdout",
          "text": [
            "\n",
            "Epoch  71/500 | Duration: 10.5s | Remaining: ~1.2h\n",
            "Train Loss: 0.3959\n",
            "Val Loss:   0.4224 (▲ 0.0000) [Patience left: 19]\n",
            "Val Acc:    0.7667\n",
            "Learning Rate: 1.00e-04\n",
            "------------------------------------------------------------\n"
          ]
        },
        {
          "output_type": "stream",
          "name": "stderr",
          "text": [
            "Epoch  72/500 [Train]: 100%|██████████| 9/9 [00:09<00:00,  1.02s/batch, Loss=0.4560, AvgLoss=0.3668]\n",
            "Epoch  72/500 [Val]  : 100%|██████████| 1/1 [00:01<00:00,  1.28s/batch, Loss=0.4223, Acc=0.8000]\n"
          ]
        },
        {
          "output_type": "stream",
          "name": "stdout",
          "text": [
            "\n",
            "Epoch  72/500 | Duration: 16.8s | Remaining: ~2.0h\n",
            "Train Loss: 0.3956\n",
            "Val Loss:   0.4223 (▼ 0.0000)\n",
            "Val Acc:    0.8000\n",
            "Learning Rate: 1.00e-04\n",
            "------------------------------------------------------------\n"
          ]
        },
        {
          "output_type": "stream",
          "name": "stderr",
          "text": [
            "Epoch  73/500 [Train]: 100%|██████████| 9/9 [00:09<00:00,  1.04s/batch, Loss=0.3061, AvgLoss=0.3667]\n",
            "Epoch  73/500 [Val]  : 100%|██████████| 1/1 [00:01<00:00,  1.26s/batch, Loss=0.4224, Acc=0.7667]\n"
          ]
        },
        {
          "output_type": "stream",
          "name": "stdout",
          "text": [
            "\n",
            "Epoch  73/500 | Duration: 10.7s | Remaining: ~1.3h\n",
            "Train Loss: 0.3955\n",
            "Val Loss:   0.4224 (▲ 0.0001) [Patience left: 19]\n",
            "Val Acc:    0.7667\n",
            "Learning Rate: 1.00e-04\n",
            "------------------------------------------------------------\n"
          ]
        },
        {
          "output_type": "stream",
          "name": "stderr",
          "text": [
            "Epoch  74/500 [Train]: 100%|██████████| 9/9 [00:09<00:00,  1.02s/batch, Loss=0.5009, AvgLoss=0.3667]\n",
            "Epoch  74/500 [Val]  : 100%|██████████| 1/1 [00:01<00:00,  1.33s/batch, Loss=0.4224, Acc=0.7667]\n"
          ]
        },
        {
          "output_type": "stream",
          "name": "stdout",
          "text": [
            "\n",
            "Epoch  74/500 | Duration: 10.5s | Remaining: ~1.2h\n",
            "Train Loss: 0.3956\n",
            "Val Loss:   0.4224 (▲ 0.0001) [Patience left: 18]\n",
            "Val Acc:    0.7667\n",
            "Learning Rate: 1.00e-04\n",
            "------------------------------------------------------------\n"
          ]
        },
        {
          "output_type": "stream",
          "name": "stderr",
          "text": [
            "Epoch  75/500 [Train]: 100%|██████████| 9/9 [00:09<00:00,  1.04s/batch, Loss=0.2353, AvgLoss=0.3671]\n",
            "Epoch  75/500 [Val]  : 100%|██████████| 1/1 [00:01<00:00,  1.21s/batch, Loss=0.4226, Acc=0.7667]\n"
          ]
        },
        {
          "output_type": "stream",
          "name": "stdout",
          "text": [
            "\n",
            "Epoch  75/500 | Duration: 10.6s | Remaining: ~1.3h\n",
            "Train Loss: 0.3960\n",
            "Val Loss:   0.4226 (▲ 0.0003) [Patience left: 17]\n",
            "Val Acc:    0.7667\n",
            "Learning Rate: 1.00e-04\n",
            "------------------------------------------------------------\n"
          ]
        },
        {
          "output_type": "stream",
          "name": "stderr",
          "text": [
            "Epoch  76/500 [Train]: 100%|██████████| 9/9 [00:09<00:00,  1.03s/batch, Loss=0.3180, AvgLoss=0.3663]\n",
            "Epoch  76/500 [Val]  : 100%|██████████| 1/1 [00:01<00:00,  1.22s/batch, Loss=0.4226, Acc=0.7667]\n"
          ]
        },
        {
          "output_type": "stream",
          "name": "stdout",
          "text": [
            "\n",
            "Epoch  76/500 | Duration: 10.5s | Remaining: ~1.2h\n",
            "Train Loss: 0.3951\n",
            "Val Loss:   0.4226 (▲ 0.0003) [Patience left: 16]\n",
            "Val Acc:    0.7667\n",
            "Learning Rate: 1.00e-04\n",
            "------------------------------------------------------------\n"
          ]
        },
        {
          "output_type": "stream",
          "name": "stderr",
          "text": [
            "Epoch  77/500 [Train]: 100%|██████████| 9/9 [00:09<00:00,  1.02s/batch, Loss=0.3355, AvgLoss=0.3663]\n",
            "Epoch  77/500 [Val]  : 100%|██████████| 1/1 [00:01<00:00,  1.30s/batch, Loss=0.4225, Acc=0.7667]\n"
          ]
        },
        {
          "output_type": "stream",
          "name": "stdout",
          "text": [
            "\n",
            "Epoch  77/500 | Duration: 10.5s | Remaining: ~1.2h\n",
            "Train Loss: 0.3952\n",
            "Val Loss:   0.4225 (▲ 0.0002) [Patience left: 15]\n",
            "Val Acc:    0.7667\n",
            "Learning Rate: 1.00e-04\n",
            "------------------------------------------------------------\n"
          ]
        },
        {
          "output_type": "stream",
          "name": "stderr",
          "text": [
            "Epoch  78/500 [Train]: 100%|██████████| 9/9 [00:09<00:00,  1.04s/batch, Loss=0.3708, AvgLoss=0.3662]\n",
            "Epoch  78/500 [Val]  : 100%|██████████| 1/1 [00:01<00:00,  1.20s/batch, Loss=0.4224, Acc=0.7667]\n"
          ]
        },
        {
          "output_type": "stream",
          "name": "stdout",
          "text": [
            "\n",
            "Epoch  78/500 | Duration: 10.6s | Remaining: ~1.2h\n",
            "Train Loss: 0.3950\n",
            "Val Loss:   0.4224 (▲ 0.0001) [Patience left: 14]\n",
            "Val Acc:    0.7667\n",
            "Learning Rate: 1.00e-04\n",
            "------------------------------------------------------------\n"
          ]
        },
        {
          "output_type": "stream",
          "name": "stderr",
          "text": [
            "Epoch  79/500 [Train]: 100%|██████████| 9/9 [00:09<00:00,  1.02s/batch, Loss=0.6527, AvgLoss=0.3661]\n",
            "Epoch  79/500 [Val]  : 100%|██████████| 1/1 [00:01<00:00,  1.18s/batch, Loss=0.4224, Acc=0.7667]\n"
          ]
        },
        {
          "output_type": "stream",
          "name": "stdout",
          "text": [
            "\n",
            "Epoch  79/500 | Duration: 10.4s | Remaining: ~1.2h\n",
            "Train Loss: 0.3949\n",
            "Val Loss:   0.4224 (▲ 0.0001) [Patience left: 13]\n",
            "Val Acc:    0.7667\n",
            "Learning Rate: 1.00e-05\n",
            "------------------------------------------------------------\n"
          ]
        },
        {
          "output_type": "stream",
          "name": "stderr",
          "text": [
            "Epoch  80/500 [Train]: 100%|██████████| 9/9 [00:09<00:00,  1.02s/batch, Loss=0.2112, AvgLoss=0.3661]\n",
            "Epoch  80/500 [Val]  : 100%|██████████| 1/1 [00:01<00:00,  1.29s/batch, Loss=0.4224, Acc=0.7667]\n"
          ]
        },
        {
          "output_type": "stream",
          "name": "stdout",
          "text": [
            "\n",
            "Epoch  80/500 | Duration: 10.5s | Remaining: ~1.2h\n",
            "Train Loss: 0.3949\n",
            "Val Loss:   0.4224 (▲ 0.0001) [Patience left: 12]\n",
            "Val Acc:    0.7667\n",
            "Learning Rate: 1.00e-05\n",
            "------------------------------------------------------------\n"
          ]
        },
        {
          "output_type": "stream",
          "name": "stderr",
          "text": [
            "Epoch  81/500 [Train]: 100%|██████████| 9/9 [00:09<00:00,  1.04s/batch, Loss=0.3748, AvgLoss=0.3661]\n",
            "Epoch  81/500 [Val]  : 100%|██████████| 1/1 [00:01<00:00,  1.18s/batch, Loss=0.4225, Acc=0.7667]\n"
          ]
        },
        {
          "output_type": "stream",
          "name": "stdout",
          "text": [
            "\n",
            "Epoch  81/500 | Duration: 10.5s | Remaining: ~1.2h\n",
            "Train Loss: 0.3949\n",
            "Val Loss:   0.4225 (▲ 0.0002) [Patience left: 11]\n",
            "Val Acc:    0.7667\n",
            "Learning Rate: 1.00e-05\n",
            "------------------------------------------------------------\n"
          ]
        },
        {
          "output_type": "stream",
          "name": "stderr",
          "text": [
            "Epoch  82/500 [Train]: 100%|██████████| 9/9 [00:09<00:00,  1.02s/batch, Loss=0.3291, AvgLoss=0.3661]\n",
            "Epoch  82/500 [Val]  : 100%|██████████| 1/1 [00:01<00:00,  1.20s/batch, Loss=0.4225, Acc=0.7667]\n"
          ]
        },
        {
          "output_type": "stream",
          "name": "stdout",
          "text": [
            "\n",
            "Epoch  82/500 | Duration: 10.4s | Remaining: ~1.2h\n",
            "Train Loss: 0.3949\n",
            "Val Loss:   0.4225 (▲ 0.0001) [Patience left: 10]\n",
            "Val Acc:    0.7667\n",
            "Learning Rate: 1.00e-05\n",
            "------------------------------------------------------------\n"
          ]
        },
        {
          "output_type": "stream",
          "name": "stderr",
          "text": [
            "Epoch  83/500 [Train]: 100%|██████████| 9/9 [00:09<00:00,  1.02s/batch, Loss=0.5203, AvgLoss=0.3661]\n",
            "Epoch  83/500 [Val]  : 100%|██████████| 1/1 [00:01<00:00,  1.24s/batch, Loss=0.4224, Acc=0.7667]\n"
          ]
        },
        {
          "output_type": "stream",
          "name": "stdout",
          "text": [
            "\n",
            "Epoch  83/500 | Duration: 10.4s | Remaining: ~1.2h\n",
            "Train Loss: 0.3949\n",
            "Val Loss:   0.4224 (▲ 0.0001) [Patience left: 9]\n",
            "Val Acc:    0.7667\n",
            "Learning Rate: 1.00e-05\n",
            "------------------------------------------------------------\n"
          ]
        },
        {
          "output_type": "stream",
          "name": "stderr",
          "text": [
            "Epoch  84/500 [Train]: 100%|██████████| 9/9 [00:09<00:00,  1.02s/batch, Loss=0.3100, AvgLoss=0.3660]\n",
            "Epoch  84/500 [Val]  : 100%|██████████| 1/1 [00:01<00:00,  1.29s/batch, Loss=0.4224, Acc=0.7667]\n"
          ]
        },
        {
          "output_type": "stream",
          "name": "stdout",
          "text": [
            "\n",
            "Epoch  84/500 | Duration: 10.5s | Remaining: ~1.2h\n",
            "Train Loss: 0.3948\n",
            "Val Loss:   0.4224 (▲ 0.0001) [Patience left: 8]\n",
            "Val Acc:    0.7667\n",
            "Learning Rate: 1.00e-05\n",
            "------------------------------------------------------------\n"
          ]
        },
        {
          "output_type": "stream",
          "name": "stderr",
          "text": [
            "Epoch  85/500 [Train]: 100%|██████████| 9/9 [00:09<00:00,  1.05s/batch, Loss=0.5080, AvgLoss=0.3660]\n",
            "Epoch  85/500 [Val]  : 100%|██████████| 1/1 [00:01<00:00,  1.20s/batch, Loss=0.4224, Acc=0.7667]\n"
          ]
        },
        {
          "output_type": "stream",
          "name": "stdout",
          "text": [
            "\n",
            "Epoch  85/500 | Duration: 10.7s | Remaining: ~1.2h\n",
            "Train Loss: 0.3948\n",
            "Val Loss:   0.4224 (▲ 0.0001) [Patience left: 7]\n",
            "Val Acc:    0.7667\n",
            "Learning Rate: 1.00e-06\n",
            "------------------------------------------------------------\n"
          ]
        },
        {
          "output_type": "stream",
          "name": "stderr",
          "text": [
            "Epoch  86/500 [Train]: 100%|██████████| 9/9 [00:09<00:00,  1.03s/batch, Loss=0.3418, AvgLoss=0.3660]\n",
            "Epoch  86/500 [Val]  : 100%|██████████| 1/1 [00:01<00:00,  1.25s/batch, Loss=0.4224, Acc=0.7667]\n"
          ]
        },
        {
          "output_type": "stream",
          "name": "stdout",
          "text": [
            "\n",
            "Epoch  86/500 | Duration: 10.6s | Remaining: ~1.2h\n",
            "Train Loss: 0.3948\n",
            "Val Loss:   0.4224 (▲ 0.0001) [Patience left: 6]\n",
            "Val Acc:    0.7667\n",
            "Learning Rate: 1.00e-06\n",
            "------------------------------------------------------------\n"
          ]
        },
        {
          "output_type": "stream",
          "name": "stderr",
          "text": [
            "Epoch  87/500 [Train]: 100%|██████████| 9/9 [00:09<00:00,  1.02s/batch, Loss=0.3125, AvgLoss=0.3660]\n",
            "Epoch  87/500 [Val]  : 100%|██████████| 1/1 [00:01<00:00,  1.31s/batch, Loss=0.4224, Acc=0.7667]\n"
          ]
        },
        {
          "output_type": "stream",
          "name": "stdout",
          "text": [
            "\n",
            "Epoch  87/500 | Duration: 10.6s | Remaining: ~1.2h\n",
            "Train Loss: 0.3948\n",
            "Val Loss:   0.4224 (▲ 0.0001) [Patience left: 5]\n",
            "Val Acc:    0.7667\n",
            "Learning Rate: 1.00e-06\n",
            "------------------------------------------------------------\n"
          ]
        },
        {
          "output_type": "stream",
          "name": "stderr",
          "text": [
            "Epoch  88/500 [Train]: 100%|██████████| 9/9 [00:09<00:00,  1.04s/batch, Loss=0.4172, AvgLoss=0.3660]\n",
            "Epoch  88/500 [Val]  : 100%|██████████| 1/1 [00:01<00:00,  1.21s/batch, Loss=0.4224, Acc=0.7667]\n"
          ]
        },
        {
          "output_type": "stream",
          "name": "stdout",
          "text": [
            "\n",
            "Epoch  88/500 | Duration: 10.6s | Remaining: ~1.2h\n",
            "Train Loss: 0.3948\n",
            "Val Loss:   0.4224 (▲ 0.0001) [Patience left: 4]\n",
            "Val Acc:    0.7667\n",
            "Learning Rate: 1.00e-06\n",
            "------------------------------------------------------------\n"
          ]
        },
        {
          "output_type": "stream",
          "name": "stderr",
          "text": [
            "Epoch  89/500 [Train]: 100%|██████████| 9/9 [00:09<00:00,  1.03s/batch, Loss=0.3095, AvgLoss=0.3660]\n",
            "Epoch  89/500 [Val]  : 100%|██████████| 1/1 [00:01<00:00,  1.27s/batch, Loss=0.4224, Acc=0.7667]\n"
          ]
        },
        {
          "output_type": "stream",
          "name": "stdout",
          "text": [
            "\n",
            "Epoch  89/500 | Duration: 10.5s | Remaining: ~1.2h\n",
            "Train Loss: 0.3948\n",
            "Val Loss:   0.4224 (▲ 0.0001) [Patience left: 3]\n",
            "Val Acc:    0.7667\n",
            "Learning Rate: 1.00e-06\n",
            "------------------------------------------------------------\n"
          ]
        },
        {
          "output_type": "stream",
          "name": "stderr",
          "text": [
            "Epoch  90/500 [Train]: 100%|██████████| 9/9 [00:09<00:00,  1.02s/batch, Loss=0.7741, AvgLoss=0.3660]\n",
            "Epoch  90/500 [Val]  : 100%|██████████| 1/1 [00:01<00:00,  1.29s/batch, Loss=0.4224, Acc=0.7667]\n"
          ]
        },
        {
          "output_type": "stream",
          "name": "stdout",
          "text": [
            "\n",
            "Epoch  90/500 | Duration: 10.5s | Remaining: ~1.2h\n",
            "Train Loss: 0.3948\n",
            "Val Loss:   0.4224 (▲ 0.0001) [Patience left: 2]\n",
            "Val Acc:    0.7667\n",
            "Learning Rate: 1.00e-06\n",
            "------------------------------------------------------------\n"
          ]
        },
        {
          "output_type": "stream",
          "name": "stderr",
          "text": [
            "Epoch  91/500 [Train]: 100%|██████████| 9/9 [00:09<00:00,  1.04s/batch, Loss=0.3106, AvgLoss=0.3660]\n",
            "Epoch  91/500 [Val]  : 100%|██████████| 1/1 [00:01<00:00,  1.18s/batch, Loss=0.4224, Acc=0.7667]\n"
          ]
        },
        {
          "output_type": "stream",
          "name": "stdout",
          "text": [
            "\n",
            "Epoch  91/500 | Duration: 10.6s | Remaining: ~1.2h\n",
            "Train Loss: 0.3948\n",
            "Val Loss:   0.4224 (▲ 0.0001) [Patience left: 1]\n",
            "Val Acc:    0.7667\n",
            "Learning Rate: 1.00e-07\n",
            "------------------------------------------------------------\n"
          ]
        },
        {
          "output_type": "stream",
          "name": "stderr",
          "text": [
            "Epoch  92/500 [Train]: 100%|██████████| 9/9 [00:09<00:00,  1.03s/batch, Loss=0.3437, AvgLoss=0.3660]\n",
            "Epoch  92/500 [Val]  : 100%|██████████| 1/1 [00:01<00:00,  1.26s/batch, Loss=0.4224, Acc=0.7667]\n",
            "<ipython-input-11-ea554c8b544c>:117: FutureWarning: You are using `torch.load` with `weights_only=False` (the current default value), which uses the default pickle module implicitly. It is possible to construct malicious pickle data which will execute arbitrary code during unpickling (See https://github.com/pytorch/pytorch/blob/main/SECURITY.md#untrusted-models for more details). In a future release, the default value for `weights_only` will be flipped to `True`. This limits the functions that could be executed during unpickling. Arbitrary objects will no longer be allowed to be loaded via this mode unless they are explicitly allowlisted by the user via `torch.serialization.add_safe_globals`. We recommend you start setting `weights_only=True` for any use case where you don't have full control of the loaded file. Please open an issue on GitHub for any issues related to this experimental feature.\n",
            "  model.load_state_dict(torch.load('best_model.pth'))\n"
          ]
        },
        {
          "output_type": "stream",
          "name": "stdout",
          "text": [
            "\n",
            "Epoch  92/500 | Duration: 10.5s | Remaining: ~0.0h\n",
            "Train Loss: 0.3948\n",
            "Val Loss:   0.4224 (▲ 0.0001) [Patience left: 0]\n",
            "Val Acc:    0.7667\n",
            "Learning Rate: 1.00e-07\n",
            "------------------------------------------------------------\n",
            "[!] Early stopping triggered at epoch 93\n",
            "\n",
            "Loaded best model weights for final testing\n"
          ]
        },
        {
          "output_type": "stream",
          "name": "stderr",
          "text": [
            "Final Testing: 100%|██████████| 3/3 [00:02<00:00,  1.07batch/s, Loss=0.3899, Acc=0.7733]"
          ]
        },
        {
          "output_type": "stream",
          "name": "stdout",
          "text": [
            "\n",
            "==================================================\n",
            "Final Test Results:\n",
            "Loss: 0.4636\n",
            "Accuracy: 0.7733\n",
            "==================================================\n"
          ]
        },
        {
          "output_type": "stream",
          "name": "stderr",
          "text": [
            "\n"
          ]
        }
      ]
    },
    {
      "cell_type": "code",
      "source": [
        "import matplotlib.pyplot as plt\n",
        "import seaborn as sns\n",
        "from sklearn.metrics import confusion_matrix, accuracy_score, precision_score, recall_score, f1_score, cohen_kappa_score\n",
        "\n",
        "# For accuracy graph (assuming you have training history)\n",
        "train_accuracies = []  # Populate these during training\n",
        "val_accuracies = []    # Populate these during validation\n",
        "\n",
        "def plot_metrics(phase_name, cm, accuracy, precision, recall, f1, kappa):\n",
        "    plt.figure(figsize=(15, 5))\n",
        "\n",
        "    # Confusion Matrix\n",
        "    plt.subplot(1, 2, 1)\n",
        "    sns.heatmap(cm, annot=True, fmt='d', cmap='Blues',\n",
        "                xticklabels=['Predicted Normal[0]', 'Predicted Osteoporosis[1]'],\n",
        "                yticklabels=['Actual Normal[0]', 'Actual Osteoporosis[1]'])\n",
        "    plt.title(f'{phase_name} Confusion Matrix')\n",
        "\n",
        "    # Metrics Text\n",
        "    plt.subplot(1, 2, 2)\n",
        "    plt.text(0.1, 0.9, f'Accuracy: {accuracy:.4f}', fontsize=12)\n",
        "    plt.text(0.1, 0.7, f'Precision: {precision:.4f}', fontsize=12)\n",
        "    plt.text(0.1, 0.5, f'Recall: {recall:.4f}', fontsize=12)\n",
        "    plt.text(0.1, 0.3, f'F1 Score: {f1:.4f}', fontsize=12)\n",
        "    plt.text(0.1, 0.1, f\"Kappa: {kappa:.4f}\", fontsize=12)\n",
        "    plt.axis('off')\n",
        "\n",
        "    plt.tight_layout()\n",
        "    plt.show()\n",
        "\n",
        "def evaluate_model(loader, phase_name):\n",
        "    model.eval()\n",
        "    all_labels = []\n",
        "    all_preds = []\n",
        "    with torch.no_grad():\n",
        "        for images, labels in loader:\n",
        "            images, labels = images.to(device), labels.to(device)\n",
        "            outputs = model(images).squeeze()\n",
        "            preds = (outputs >= 0.5).float()\n",
        "\n",
        "            all_labels.extend(labels.cpu().numpy())\n",
        "            all_preds.extend(preds.cpu().numpy())\n",
        "\n",
        "    accuracy = accuracy_score(all_labels, all_preds)\n",
        "    precision = precision_score(all_labels, all_preds)\n",
        "    recall = recall_score(all_labels, all_preds)\n",
        "    f1 = f1_score(all_labels, all_preds)\n",
        "    kappa = cohen_kappa_score(all_labels, all_preds)\n",
        "    cm = confusion_matrix(all_labels, all_preds)\n",
        "\n",
        "    plot_metrics(phase_name, cm, accuracy, precision, recall, f1, kappa)\n",
        "\n",
        "    return accuracy\n",
        "\n",
        "\n",
        "\n",
        "# Evaluate both sets\n",
        "test_accuracy = evaluate_model(test_loader, 'Test')\n",
        "val_accuracy = evaluate_model(val_loader, 'Validation')\n"
      ],
      "metadata": {
        "colab": {
          "base_uri": "https://localhost:8080/",
          "height": 997
        },
        "id": "wCQ8HxsMZZnS",
        "outputId": "4b4302e2-df9f-4165-e3f4-1cd2663507d5"
      },
      "execution_count": null,
      "outputs": [
        {
          "output_type": "display_data",
          "data": {
            "text/plain": [
              "<Figure size 1500x500 with 3 Axes>"
            ],
            "image/png": "[encoded data removed]"
          },
          "metadata": {}
        },
        {
          "output_type": "display_data",
          "data": {
            "text/plain": [
              "<Figure size 1500x500 with 3 Axes>"
            ],
            "image/png": "[encoded data removed]"
          },
          "metadata": {}
        }
      ]
    },
    {
      "cell_type": "code",
      "source": [],
      "metadata": {
        "id": "PpFGvlbCZdRK"
      },
      "execution_count": null,
      "outputs": []
    }
  ],
  "metadata": {
    "accelerator": "GPU",
    "colab": {
      "gpuType": "T4",
      "provenance": []
    },
    "kernelspec": {
      "display_name": "Python 3",
      "name": "python3"
    },
    "language_info": {
      "name": "python"
    },
    "widgets": {
      "application/vnd.jupyter.widget-state+json": {
        "3907f2dbcb3e4f2ebb070dbe9b21faf8": {
          "model_module": "@jupyter-widgets/controls",
          "model_name": "HBoxModel",
          "model_module_version": "1.5.0",
          "state": {
            "_dom_classes": [],
            "_model_module": "@jupyter-widgets/controls",
            "_model_module_version": "1.5.0",
            "_model_name": "HBoxModel",
            "_view_count": null,
            "_view_module": "@jupyter-widgets/controls",
            "_view_module_version": "1.5.0",
            "_view_name": "HBoxView",
            "box_style": "",
            "children": [
              "IPY_MODEL_12d9c43ff73949f6a5a485809d98a551",
              "IPY_MODEL_225fb8d4ba7e49e59a44d479b45d74da",
              "IPY_MODEL_e4c1912ee8ee4b2fa77c59a4aefd142f"
            ],
            "layout": "IPY_MODEL_37558f861f724ef4879a4d44478fe8b0"
          }
        },
        "12d9c43ff73949f6a5a485809d98a551": {
          "model_module": "@jupyter-widgets/controls",
          "model_name": "HTMLModel",
          "model_module_version": "1.5.0",
          "state": {
            "_dom_classes": [],
            "_model_module": "@jupyter-widgets/controls",
            "_model_module_version": "1.5.0",
            "_model_name": "HTMLModel",
            "_view_count": null,
            "_view_module": "@jupyter-widgets/controls",
            "_view_module_version": "1.5.0",
            "_view_name": "HTMLView",
            "description": "",
            "description_tooltip": null,
            "layout": "IPY_MODEL_f99192dbd74043cf8575818e9584f45d",
            "placeholder": "​",
            "style": "IPY_MODEL_5e7a232a50414f089f858c4614b57039",
            "value": "config.json: 100%"
          }
        },
        "225fb8d4ba7e49e59a44d479b45d74da": {
          "model_module": "@jupyter-widgets/controls",
          "model_name": "FloatProgressModel",
          "model_module_version": "1.5.0",
          "state": {
            "_dom_classes": [],
            "_model_module": "@jupyter-widgets/controls",
            "_model_module_version": "1.5.0",
            "_model_name": "FloatProgressModel",
            "_view_count": null,
            "_view_module": "@jupyter-widgets/controls",
            "_view_module_version": "1.5.0",
            "_view_name": "ProgressView",
            "bar_style": "success",
            "description": "",
            "description_tooltip": null,
            "layout": "IPY_MODEL_63e15bfbd59a4c2d833688d83be451c2",
            "max": 502,
            "min": 0,
            "orientation": "horizontal",
            "style": "IPY_MODEL_df96e0f5a51d462e9e72eb56ab0c4142",
            "value": 502
          }
        },
        "e4c1912ee8ee4b2fa77c59a4aefd142f": {
          "model_module": "@jupyter-widgets/controls",
          "model_name": "HTMLModel",
          "model_module_version": "1.5.0",
          "state": {
            "_dom_classes": [],
            "_model_module": "@jupyter-widgets/controls",
            "_model_module_version": "1.5.0",
            "_model_name": "HTMLModel",
            "_view_count": null,
            "_view_module": "@jupyter-widgets/controls",
            "_view_module_version": "1.5.0",
            "_view_name": "HTMLView",
            "description": "",
            "description_tooltip": null,
            "layout": "IPY_MODEL_cc82ad83f3d74a8c94593d5dd286977f",
            "placeholder": "​",
            "style": "IPY_MODEL_7c4f74e4c4f14b20b171ad05c2464555",
            "value": " 502/502 [00:00&lt;00:00, 35.7kB/s]"
          }
        },
        "37558f861f724ef4879a4d44478fe8b0": {
          "model_module": "@jupyter-widgets/base",
          "model_name": "LayoutModel",
          "model_module_version": "1.2.0",
          "state": {
            "_model_module": "@jupyter-widgets/base",
            "_model_module_version": "1.2.0",
            "_model_name": "LayoutModel",
            "_view_count": null,
            "_view_module": "@jupyter-widgets/base",
            "_view_module_version": "1.2.0",
            "_view_name": "LayoutView",
            "align_content": null,
            "align_items": null,
            "align_self": null,
            "border": null,
            "bottom": null,
            "display": null,
            "flex": null,
            "flex_flow": null,
            "grid_area": null,
            "grid_auto_columns": null,
            "grid_auto_flow": null,
            "grid_auto_rows": null,
            "grid_column": null,
            "grid_gap": null,
            "grid_row": null,
            "grid_template_areas": null,
            "grid_template_columns": null,
            "grid_template_rows": null,
            "height": null,
            "justify_content": null,
            "justify_items": null,
            "left": null,
            "margin": null,
            "max_height": null,
            "max_width": null,
            "min_height": null,
            "min_width": null,
            "object_fit": null,
            "object_position": null,
            "order": null,
            "overflow": null,
            "overflow_x": null,
            "overflow_y": null,
            "padding": null,
            "right": null,
            "top": null,
            "visibility": null,
            "width": null
          }
        },
        "f99192dbd74043cf8575818e9584f45d": {
          "model_module": "@jupyter-widgets/base",
          "model_name": "LayoutModel",
          "model_module_version": "1.2.0",
          "state": {
            "_model_module": "@jupyter-widgets/base",
            "_model_module_version": "1.2.0",
            "_model_name": "LayoutModel",
            "_view_count": null,
            "_view_module": "@jupyter-widgets/base",
            "_view_module_version": "1.2.0",
            "_view_name": "LayoutView",
            "align_content": null,
            "align_items": null,
            "align_self": null,
            "border": null,
            "bottom": null,
            "display": null,
            "flex": null,
            "flex_flow": null,
            "grid_area": null,
            "grid_auto_columns": null,
            "grid_auto_flow": null,
            "grid_auto_rows": null,
            "grid_column": null,
            "grid_gap": null,
            "grid_row": null,
            "grid_template_areas": null,
            "grid_template_columns": null,
            "grid_template_rows": null,
            "height": null,
            "justify_content": null,
            "justify_items": null,
            "left": null,
            "margin": null,
            "max_height": null,
            "max_width": null,
            "min_height": null,
            "min_width": null,
            "object_fit": null,
            "object_position": null,
            "order": null,
            "overflow": null,
            "overflow_x": null,
            "overflow_y": null,
            "padding": null,
            "right": null,
            "top": null,
            "visibility": null,
            "width": null
          }
        },
        "5e7a232a50414f089f858c4614b57039": {
          "model_module": "@jupyter-widgets/controls",
          "model_name": "DescriptionStyleModel",
          "model_module_version": "1.5.0",
          "state": {
            "_model_module": "@jupyter-widgets/controls",
            "_model_module_version": "1.5.0",
            "_model_name": "DescriptionStyleModel",
            "_view_count": null,
            "_view_module": "@jupyter-widgets/base",
            "_view_module_version": "1.2.0",
            "_view_name": "StyleView",
            "description_width": ""
          }
        },
        "63e15bfbd59a4c2d833688d83be451c2": {
          "model_module": "@jupyter-widgets/base",
          "model_name": "LayoutModel",
          "model_module_version": "1.2.0",
          "state": {
            "_model_module": "@jupyter-widgets/base",
            "_model_module_version": "1.2.0",
            "_model_name": "LayoutModel",
            "_view_count": null,
            "_view_module": "@jupyter-widgets/base",
            "_view_module_version": "1.2.0",
            "_view_name": "LayoutView",
            "align_content": null,
            "align_items": null,
            "align_self": null,
            "border": null,
            "bottom": null,
            "display": null,
            "flex": null,
            "flex_flow": null,
            "grid_area": null,
            "grid_auto_columns": null,
            "grid_auto_flow": null,
            "grid_auto_rows": null,
            "grid_column": null,
            "grid_gap": null,
            "grid_row": null,
            "grid_template_areas": null,
            "grid_template_columns": null,
            "grid_template_rows": null,
            "height": null,
            "justify_content": null,
            "justify_items": null,
            "left": null,
            "margin": null,
            "max_height": null,
            "max_width": null,
            "min_height": null,
            "min_width": null,
            "object_fit": null,
            "object_position": null,
            "order": null,
            "overflow": null,
            "overflow_x": null,
            "overflow_y": null,
            "padding": null,
            "right": null,
            "top": null,
            "visibility": null,
            "width": null
          }
        },
        "df96e0f5a51d462e9e72eb56ab0c4142": {
          "model_module": "@jupyter-widgets/controls",
          "model_name": "ProgressStyleModel",
          "model_module_version": "1.5.0",
          "state": {
            "_model_module": "@jupyter-widgets/controls",
            "_model_module_version": "1.5.0",
            "_model_name": "ProgressStyleModel",
            "_view_count": null,
            "_view_module": "@jupyter-widgets/base",
            "_view_module_version": "1.2.0",
            "_view_name": "StyleView",
            "bar_color": null,
            "description_width": ""
          }
        },
        "cc82ad83f3d74a8c94593d5dd286977f": {
          "model_module": "@jupyter-widgets/base",
          "model_name": "LayoutModel",
          "model_module_version": "1.2.0",
          "state": {
            "_model_module": "@jupyter-widgets/base",
            "_model_module_version": "1.2.0",
            "_model_name": "LayoutModel",
            "_view_count": null,
            "_view_module": "@jupyter-widgets/base",
            "_view_module_version": "1.2.0",
            "_view_name": "LayoutView",
            "align_content": null,
            "align_items": null,
            "align_self": null,
            "border": null,
            "bottom": null,
            "display": null,
            "flex": null,
            "flex_flow": null,
            "grid_area": null,
            "grid_auto_columns": null,
            "grid_auto_flow": null,
            "grid_auto_rows": null,
            "grid_column": null,
            "grid_gap": null,
            "grid_row": null,
            "grid_template_areas": null,
            "grid_template_columns": null,
            "grid_template_rows": null,
            "height": null,
            "justify_content": null,
            "justify_items": null,
            "left": null,
            "margin": null,
            "max_height": null,
            "max_width": null,
            "min_height": null,
            "min_width": null,
            "object_fit": null,
            "object_position": null,
            "order": null,
            "overflow": null,
            "overflow_x": null,
            "overflow_y": null,
            "padding": null,
            "right": null,
            "top": null,
            "visibility": null,
            "width": null
          }
        },
        "7c4f74e4c4f14b20b171ad05c2464555": {
          "model_module": "@jupyter-widgets/controls",
          "model_name": "DescriptionStyleModel",
          "model_module_version": "1.5.0",
          "state": {
            "_model_module": "@jupyter-widgets/controls",
            "_model_module_version": "1.5.0",
            "_model_name": "DescriptionStyleModel",
            "_view_count": null,
            "_view_module": "@jupyter-widgets/base",
            "_view_module_version": "1.2.0",
            "_view_name": "StyleView",
            "description_width": ""
          }
        },
        "714c5040d7924c2c9ab5fd2832c85c2e": {
          "model_module": "@jupyter-widgets/controls",
          "model_name": "HBoxModel",
          "model_module_version": "1.5.0",
          "state": {
            "_dom_classes": [],
            "_model_module": "@jupyter-widgets/controls",
            "_model_module_version": "1.5.0",
            "_model_name": "HBoxModel",
            "_view_count": null,
            "_view_module": "@jupyter-widgets/controls",
            "_view_module_version": "1.5.0",
            "_view_name": "HBoxView",
            "box_style": "",
            "children": [
              "IPY_MODEL_d48c2ee0a7ff460ca2c65f90d60465c5",
              "IPY_MODEL_c777707f65cc41b1ba2bcbd80294baea",
              "IPY_MODEL_d9144ff14c0a406681ee4037c17ef15a"
            ],
            "layout": "IPY_MODEL_411346dfbb95443289464b8142d8fb27"
          }
        },
        "d48c2ee0a7ff460ca2c65f90d60465c5": {
          "model_module": "@jupyter-widgets/controls",
          "model_name": "HTMLModel",
          "model_module_version": "1.5.0",
          "state": {
            "_dom_classes": [],
            "_model_module": "@jupyter-widgets/controls",
            "_model_module_version": "1.5.0",
            "_model_name": "HTMLModel",
            "_view_count": null,
            "_view_module": "@jupyter-widgets/controls",
            "_view_module_version": "1.5.0",
            "_view_name": "HTMLView",
            "description": "",
            "description_tooltip": null,
            "layout": "IPY_MODEL_39081570c0e146a4bee76c50fccd57d6",
            "placeholder": "​",
            "style": "IPY_MODEL_6914dbcd375240369f1dd7c42c8ab6d8",
            "value": "model.safetensors: 100%"
          }
        },
        "c777707f65cc41b1ba2bcbd80294baea": {
          "model_module": "@jupyter-widgets/controls",
          "model_name": "FloatProgressModel",
          "model_module_version": "1.5.0",
          "state": {
            "_dom_classes": [],
            "_model_module": "@jupyter-widgets/controls",
            "_model_module_version": "1.5.0",
            "_model_name": "FloatProgressModel",
            "_view_count": null,
            "_view_module": "@jupyter-widgets/controls",
            "_view_module_version": "1.5.0",
            "_view_name": "ProgressView",
            "bar_style": "success",
            "description": "",
            "description_tooltip": null,
            "layout": "IPY_MODEL_207ea9701d8a42f68aad454c581a4f48",
            "max": 345579424,
            "min": 0,
            "orientation": "horizontal",
            "style": "IPY_MODEL_e70b19d75b8644a38b0288c13a6ca88f",
            "value": 345579424
          }
        },
        "d9144ff14c0a406681ee4037c17ef15a": {
          "model_module": "@jupyter-widgets/controls",
          "model_name": "HTMLModel",
          "model_module_version": "1.5.0",
          "state": {
            "_dom_classes": [],
            "_model_module": "@jupyter-widgets/controls",
            "_model_module_version": "1.5.0",
            "_model_name": "HTMLModel",
            "_view_count": null,
            "_view_module": "@jupyter-widgets/controls",
            "_view_module_version": "1.5.0",
            "_view_name": "HTMLView",
            "description": "",
            "description_tooltip": null,
            "layout": "IPY_MODEL_9e011c36a7af45469e526ebc77aec8fd",
            "placeholder": "​",
            "style": "IPY_MODEL_1e4796369adf4ac78eda2cc871b9fd65",
            "value": " 346M/346M [00:01&lt;00:00, 235MB/s]"
          }
        },
        "411346dfbb95443289464b8142d8fb27": {
          "model_module": "@jupyter-widgets/base",
          "model_name": "LayoutModel",
          "model_module_version": "1.2.0",
          "state": {
            "_model_module": "@jupyter-widgets/base",
            "_model_module_version": "1.2.0",
            "_model_name": "LayoutModel",
            "_view_count": null,
            "_view_module": "@jupyter-widgets/base",
            "_view_module_version": "1.2.0",
            "_view_name": "LayoutView",
            "align_content": null,
            "align_items": null,
            "align_self": null,
            "border": null,
            "bottom": null,
            "display": null,
            "flex": null,
            "flex_flow": null,
            "grid_area": null,
            "grid_auto_columns": null,
            "grid_auto_flow": null,
            "grid_auto_rows": null,
            "grid_column": null,
            "grid_gap": null,
            "grid_row": null,
            "grid_template_areas": null,
            "grid_template_columns": null,
            "grid_template_rows": null,
            "height": null,
            "justify_content": null,
            "justify_items": null,
            "left": null,
            "margin": null,
            "max_height": null,
            "max_width": null,
            "min_height": null,
            "min_width": null,
            "object_fit": null,
            "object_position": null,
            "order": null,
            "overflow": null,
            "overflow_x": null,
            "overflow_y": null,
            "padding": null,
            "right": null,
            "top": null,
            "visibility": null,
            "width": null
          }
        },
        "39081570c0e146a4bee76c50fccd57d6": {
          "model_module": "@jupyter-widgets/base",
          "model_name": "LayoutModel",
          "model_module_version": "1.2.0",
          "state": {
            "_model_module": "@jupyter-widgets/base",
            "_model_module_version": "1.2.0",
            "_model_name": "LayoutModel",
            "_view_count": null,
            "_view_module": "@jupyter-widgets/base",
            "_view_module_version": "1.2.0",
            "_view_name": "LayoutView",
            "align_content": null,
            "align_items": null,
            "align_self": null,
            "border": null,
            "bottom": null,
            "display": null,
            "flex": null,
            "flex_flow": null,
            "grid_area": null,
            "grid_auto_columns": null,
            "grid_auto_flow": null,
            "grid_auto_rows": null,
            "grid_column": null,
            "grid_gap": null,
            "grid_row": null,
            "grid_template_areas": null,
            "grid_template_columns": null,
            "grid_template_rows": null,
            "height": null,
            "justify_content": null,
            "justify_items": null,
            "left": null,
            "margin": null,
            "max_height": null,
            "max_width": null,
            "min_height": null,
            "min_width": null,
            "object_fit": null,
            "object_position": null,
            "order": null,
            "overflow": null,
            "overflow_x": null,
            "overflow_y": null,
            "padding": null,
            "right": null,
            "top": null,
            "visibility": null,
            "width": null
          }
        },
        "6914dbcd375240369f1dd7c42c8ab6d8": {
          "model_module": "@jupyter-widgets/controls",
          "model_name": "DescriptionStyleModel",
          "model_module_version": "1.5.0",
          "state": {
            "_model_module": "@jupyter-widgets/controls",
            "_model_module_version": "1.5.0",
            "_model_name": "DescriptionStyleModel",
            "_view_count": null,
            "_view_module": "@jupyter-widgets/base",
            "_view_module_version": "1.2.0",
            "_view_name": "StyleView",
            "description_width": ""
          }
        },
        "207ea9701d8a42f68aad454c581a4f48": {
          "model_module": "@jupyter-widgets/base",
          "model_name": "LayoutModel",
          "model_module_version": "1.2.0",
          "state": {
            "_model_module": "@jupyter-widgets/base",
            "_model_module_version": "1.2.0",
            "_model_name": "LayoutModel",
            "_view_count": null,
            "_view_module": "@jupyter-widgets/base",
            "_view_module_version": "1.2.0",
            "_view_name": "LayoutView",
            "align_content": null,
            "align_items": null,
            "align_self": null,
            "border": null,
            "bottom": null,
            "display": null,
            "flex": null,
            "flex_flow": null,
            "grid_area": null,
            "grid_auto_columns": null,
            "grid_auto_flow": null,
            "grid_auto_rows": null,
            "grid_column": null,
            "grid_gap": null,
            "grid_row": null,
            "grid_template_areas": null,
            "grid_template_columns": null,
            "grid_template_rows": null,
            "height": null,
            "justify_content": null,
            "justify_items": null,
            "left": null,
            "margin": null,
            "max_height": null,
            "max_width": null,
            "min_height": null,
            "min_width": null,
            "object_fit": null,
            "object_position": null,
            "order": null,
            "overflow": null,
            "overflow_x": null,
            "overflow_y": null,
            "padding": null,
            "right": null,
            "top": null,
            "visibility": null,
            "width": null
          }
        },
        "e70b19d75b8644a38b0288c13a6ca88f": {
          "model_module": "@jupyter-widgets/controls",
          "model_name": "ProgressStyleModel",
          "model_module_version": "1.5.0",
          "state": {
            "_model_module": "@jupyter-widgets/controls",
            "_model_module_version": "1.5.0",
            "_model_name": "ProgressStyleModel",
            "_view_count": null,
            "_view_module": "@jupyter-widgets/base",
            "_view_module_version": "1.2.0",
            "_view_name": "StyleView",
            "bar_color": null,
            "description_width": ""
          }
        },
        "9e011c36a7af45469e526ebc77aec8fd": {
          "model_module": "@jupyter-widgets/base",
          "model_name": "LayoutModel",
          "model_module_version": "1.2.0",
          "state": {
            "_model_module": "@jupyter-widgets/base",
            "_model_module_version": "1.2.0",
            "_model_name": "LayoutModel",
            "_view_count": null,
            "_view_module": "@jupyter-widgets/base",
            "_view_module_version": "1.2.0",
            "_view_name": "LayoutView",
            "align_content": null,
            "align_items": null,
            "align_self": null,
            "border": null,
            "bottom": null,
            "display": null,
            "flex": null,
            "flex_flow": null,
            "grid_area": null,
            "grid_auto_columns": null,
            "grid_auto_flow": null,
            "grid_auto_rows": null,
            "grid_column": null,
            "grid_gap": null,
            "grid_row": null,
            "grid_template_areas": null,
            "grid_template_columns": null,
            "grid_template_rows": null,
            "height": null,
            "justify_content": null,
            "justify_items": null,
            "left": null,
            "margin": null,
            "max_height": null,
            "max_width": null,
            "min_height": null,
            "min_width": null,
            "object_fit": null,
            "object_position": null,
            "order": null,
            "overflow": null,
            "overflow_x": null,
            "overflow_y": null,
            "padding": null,
            "right": null,
            "top": null,
            "visibility": null,
            "width": null
          }
        },
        "1e4796369adf4ac78eda2cc871b9fd65": {
          "model_module": "@jupyter-widgets/controls",
          "model_name": "DescriptionStyleModel",
          "model_module_version": "1.5.0",
          "state": {
            "_model_module": "@jupyter-widgets/controls",
            "_model_module_version": "1.5.0",
            "_model_name": "DescriptionStyleModel",
            "_view_count": null,
            "_view_module": "@jupyter-widgets/base",
            "_view_module_version": "1.2.0",
            "_view_name": "StyleView",
            "description_width": ""
          }
        },
        "dc112f42290c4deaaf84e0f886947e62": {
          "model_module": "@jupyter-widgets/controls",
          "model_name": "HBoxModel",
          "model_module_version": "1.5.0",
          "state": {
            "_dom_classes": [],
            "_model_module": "@jupyter-widgets/controls",
            "_model_module_version": "1.5.0",
            "_model_name": "HBoxModel",
            "_view_count": null,
            "_view_module": "@jupyter-widgets/controls",
            "_view_module_version": "1.5.0",
            "_view_name": "HBoxView",
            "box_style": "",
            "children": [
              "IPY_MODEL_64bd9c8af60844ddb74c3c6fdb67463e",
              "IPY_MODEL_0f864b8c4e1e482c9e40af4dc0478164",
              "IPY_MODEL_b740936a311645c6a679a9bf45629c26"
            ],
            "layout": "IPY_MODEL_2ca1a186574541bea5cb418346ce3a4f"
          }
        },
        "64bd9c8af60844ddb74c3c6fdb67463e": {
          "model_module": "@jupyter-widgets/controls",
          "model_name": "HTMLModel",
          "model_module_version": "1.5.0",
          "state": {
            "_dom_classes": [],
            "_model_module": "@jupyter-widgets/controls",
            "_model_module_version": "1.5.0",
            "_model_name": "HTMLModel",
            "_view_count": null,
            "_view_module": "@jupyter-widgets/controls",
            "_view_module_version": "1.5.0",
            "_view_name": "HTMLView",
            "description": "",
            "description_tooltip": null,
            "layout": "IPY_MODEL_3be200f4fb5d49dc84f3b965d7b98708",
            "placeholder": "​",
            "style": "IPY_MODEL_2e576612315048e283b2bf7395e9d019",
            "value": "config.json: 100%"
          }
        },
        "0f864b8c4e1e482c9e40af4dc0478164": {
          "model_module": "@jupyter-widgets/controls",
          "model_name": "FloatProgressModel",
          "model_module_version": "1.5.0",
          "state": {
            "_dom_classes": [],
            "_model_module": "@jupyter-widgets/controls",
            "_model_module_version": "1.5.0",
            "_model_name": "FloatProgressModel",
            "_view_count": null,
            "_view_module": "@jupyter-widgets/controls",
            "_view_module_version": "1.5.0",
            "_view_name": "ProgressView",
            "bar_style": "success",
            "description": "",
            "description_tooltip": null,
            "layout": "IPY_MODEL_bfa73ade22704225abcb7f425e72eaf6",
            "max": 504,
            "min": 0,
            "orientation": "horizontal",
            "style": "IPY_MODEL_1f41d44d577940269e0ce873c54c7be9",
            "value": 504
          }
        },
        "b740936a311645c6a679a9bf45629c26": {
          "model_module": "@jupyter-widgets/controls",
          "model_name": "HTMLModel",
          "model_module_version": "1.5.0",
          "state": {
            "_dom_classes": [],
            "_model_module": "@jupyter-widgets/controls",
            "_model_module_version": "1.5.0",
            "_model_name": "HTMLModel",
            "_view_count": null,
            "_view_module": "@jupyter-widgets/controls",
            "_view_module_version": "1.5.0",
            "_view_name": "HTMLView",
            "description": "",
            "description_tooltip": null,
            "layout": "IPY_MODEL_0805750461424f48ad83291a88c5d0f9",
            "placeholder": "​",
            "style": "IPY_MODEL_42397990e2b448f58d0c4e16aa89116f",
            "value": " 504/504 [00:00&lt;00:00, 36.5kB/s]"
          }
        },
        "2ca1a186574541bea5cb418346ce3a4f": {
          "model_module": "@jupyter-widgets/base",
          "model_name": "LayoutModel",
          "model_module_version": "1.2.0",
          "state": {
            "_model_module": "@jupyter-widgets/base",
            "_model_module_version": "1.2.0",
            "_model_name": "LayoutModel",
            "_view_count": null,
            "_view_module": "@jupyter-widgets/base",
            "_view_module_version": "1.2.0",
            "_view_name": "LayoutView",
            "align_content": null,
            "align_items": null,
            "align_self": null,
            "border": null,
            "bottom": null,
            "display": null,
            "flex": null,
            "flex_flow": null,
            "grid_area": null,
            "grid_auto_columns": null,
            "grid_auto_flow": null,
            "grid_auto_rows": null,
            "grid_column": null,
            "grid_gap": null,
            "grid_row": null,
            "grid_template_areas": null,
            "grid_template_columns": null,
            "grid_template_rows": null,
            "height": null,
            "justify_content": null,
            "justify_items": null,
            "left": null,
            "margin": null,
            "max_height": null,
            "max_width": null,
            "min_height": null,
            "min_width": null,
            "object_fit": null,
            "object_position": null,
            "order": null,
            "overflow": null,
            "overflow_x": null,
            "overflow_y": null,
            "padding": null,
            "right": null,
            "top": null,
            "visibility": null,
            "width": null
          }
        },
        "3be200f4fb5d49dc84f3b965d7b98708": {
          "model_module": "@jupyter-widgets/base",
          "model_name": "LayoutModel",
          "model_module_version": "1.2.0",
          "state": {
            "_model_module": "@jupyter-widgets/base",
            "_model_module_version": "1.2.0",
            "_model_name": "LayoutModel",
            "_view_count": null,
            "_view_module": "@jupyter-widgets/base",
            "_view_module_version": "1.2.0",
            "_view_name": "LayoutView",
            "align_content": null,
            "align_items": null,
            "align_self": null,
            "border": null,
            "bottom": null,
            "display": null,
            "flex": null,
            "flex_flow": null,
            "grid_area": null,
            "grid_auto_columns": null,
            "grid_auto_flow": null,
            "grid_auto_rows": null,
            "grid_column": null,
            "grid_gap": null,
            "grid_row": null,
            "grid_template_areas": null,
            "grid_template_columns": null,
            "grid_template_rows": null,
            "height": null,
            "justify_content": null,
            "justify_items": null,
            "left": null,
            "margin": null,
            "max_height": null,
            "max_width": null,
            "min_height": null,
            "min_width": null,
            "object_fit": null,
            "object_position": null,
            "order": null,
            "overflow": null,
            "overflow_x": null,
            "overflow_y": null,
            "padding": null,
            "right": null,
            "top": null,
            "visibility": null,
            "width": null
          }
        },
        "2e576612315048e283b2bf7395e9d019": {
          "model_module": "@jupyter-widgets/controls",
          "model_name": "DescriptionStyleModel",
          "model_module_version": "1.5.0",
          "state": {
            "_model_module": "@jupyter-widgets/controls",
            "_model_module_version": "1.5.0",
            "_model_name": "DescriptionStyleModel",
            "_view_count": null,
            "_view_module": "@jupyter-widgets/base",
            "_view_module_version": "1.2.0",
            "_view_name": "StyleView",
            "description_width": ""
          }
        },
        "bfa73ade22704225abcb7f425e72eaf6": {
          "model_module": "@jupyter-widgets/base",
          "model_name": "LayoutModel",
          "model_module_version": "1.2.0",
          "state": {
            "_model_module": "@jupyter-widgets/base",
            "_model_module_version": "1.2.0",
            "_model_name": "LayoutModel",
            "_view_count": null,
            "_view_module": "@jupyter-widgets/base",
            "_view_module_version": "1.2.0",
            "_view_name": "LayoutView",
            "align_content": null,
            "align_items": null,
            "align_self": null,
            "border": null,
            "bottom": null,
            "display": null,
            "flex": null,
            "flex_flow": null,
            "grid_area": null,
            "grid_auto_columns": null,
            "grid_auto_flow": null,
            "grid_auto_rows": null,
            "grid_column": null,
            "grid_gap": null,
            "grid_row": null,
            "grid_template_areas": null,
            "grid_template_columns": null,
            "grid_template_rows": null,
            "height": null,
            "justify_content": null,
            "justify_items": null,
            "left": null,
            "margin": null,
            "max_height": null,
            "max_width": null,
            "min_height": null,
            "min_width": null,
            "object_fit": null,
            "object_position": null,
            "order": null,
            "overflow": null,
            "overflow_x": null,
            "overflow_y": null,
            "padding": null,
            "right": null,
            "top": null,
            "visibility": null,
            "width": null
          }
        },
        "1f41d44d577940269e0ce873c54c7be9": {
          "model_module": "@jupyter-widgets/controls",
          "model_name": "ProgressStyleModel",
          "model_module_version": "1.5.0",
          "state": {
            "_model_module": "@jupyter-widgets/controls",
            "_model_module_version": "1.5.0",
            "_model_name": "ProgressStyleModel",
            "_view_count": null,
            "_view_module": "@jupyter-widgets/base",
            "_view_module_version": "1.2.0",
            "_view_name": "StyleView",
            "bar_color": null,
            "description_width": ""
          }
        },
        "0805750461424f48ad83291a88c5d0f9": {
          "model_module": "@jupyter-widgets/base",
          "model_name": "LayoutModel",
          "model_module_version": "1.2.0",
          "state": {
            "_model_module": "@jupyter-widgets/base",
            "_model_module_version": "1.2.0",
            "_model_name": "LayoutModel",
            "_view_count": null,
            "_view_module": "@jupyter-widgets/base",
            "_view_module_version": "1.2.0",
            "_view_name": "LayoutView",
            "align_content": null,
            "align_items": null,
            "align_self": null,
            "border": null,
            "bottom": null,
            "display": null,
            "flex": null,
            "flex_flow": null,
            "grid_area": null,
            "grid_auto_columns": null,
            "grid_auto_flow": null,
            "grid_auto_rows": null,
            "grid_column": null,
            "grid_gap": null,
            "grid_row": null,
            "grid_template_areas": null,
            "grid_template_columns": null,
            "grid_template_rows": null,
            "height": null,
            "justify_content": null,
            "justify_items": null,
            "left": null,
            "margin": null,
            "max_height": null,
            "max_width": null,
            "min_height": null,
            "min_width": null,
            "object_fit": null,
            "object_position": null,
            "order": null,
            "overflow": null,
            "overflow_x": null,
            "overflow_y": null,
            "padding": null,
            "right": null,
            "top": null,
            "visibility": null,
            "width": null
          }
        },
        "42397990e2b448f58d0c4e16aa89116f": {
          "model_module": "@jupyter-widgets/controls",
          "model_name": "DescriptionStyleModel",
          "model_module_version": "1.5.0",
          "state": {
            "_model_module": "@jupyter-widgets/controls",
            "_model_module_version": "1.5.0",
            "_model_name": "DescriptionStyleModel",
            "_view_count": null,
            "_view_module": "@jupyter-widgets/base",
            "_view_module_version": "1.2.0",
            "_view_name": "StyleView",
            "description_width": ""
          }
        },
        "c7a6655945204788a8883a6c9d917614": {
          "model_module": "@jupyter-widgets/controls",
          "model_name": "HBoxModel",
          "model_module_version": "1.5.0",
          "state": {
            "_dom_classes": [],
            "_model_module": "@jupyter-widgets/controls",
            "_model_module_version": "1.5.0",
            "_model_name": "HBoxModel",
            "_view_count": null,
            "_view_module": "@jupyter-widgets/controls",
            "_view_module_version": "1.5.0",
            "_view_name": "HBoxView",
            "box_style": "",
            "children": [
              "IPY_MODEL_a2c7ad3d1de84d85a420e3856c5eec8d",
              "IPY_MODEL_4f0df122435948faa1c78f3872b7f107",
              "IPY_MODEL_dc058184a70f4e9a892bd1b88c1c468b"
            ],
            "layout": "IPY_MODEL_9ee53ecae70347348ff456ddfe703faf"
          }
        },
        "a2c7ad3d1de84d85a420e3856c5eec8d": {
          "model_module": "@jupyter-widgets/controls",
          "model_name": "HTMLModel",
          "model_module_version": "1.5.0",
          "state": {
            "_dom_classes": [],
            "_model_module": "@jupyter-widgets/controls",
            "_model_module_version": "1.5.0",
            "_model_name": "HTMLModel",
            "_view_count": null,
            "_view_module": "@jupyter-widgets/controls",
            "_view_module_version": "1.5.0",
            "_view_name": "HTMLView",
            "description": "",
            "description_tooltip": null,
            "layout": "IPY_MODEL_9f2f26d7c50c41759e1d1560d448a3e5",
            "placeholder": "​",
            "style": "IPY_MODEL_29c80f67618e4a7aa591addea6a5e357",
            "value": "model.safetensors: 100%"
          }
        },
        "4f0df122435948faa1c78f3872b7f107": {
          "model_module": "@jupyter-widgets/controls",
          "model_name": "FloatProgressModel",
          "model_module_version": "1.5.0",
          "state": {
            "_dom_classes": [],
            "_model_module": "@jupyter-widgets/controls",
            "_model_module_version": "1.5.0",
            "_model_name": "FloatProgressModel",
            "_view_count": null,
            "_view_module": "@jupyter-widgets/controls",
            "_view_module_version": "1.5.0",
            "_view_name": "ProgressView",
            "bar_style": "success",
            "description": "",
            "description_tooltip": null,
            "layout": "IPY_MODEL_7ed13b4aca5e4cd5bb255f5ed370ccfd",
            "max": 1217449944,
            "min": 0,
            "orientation": "horizontal",
            "style": "IPY_MODEL_65f0546a20044aa4ad4b20fc898c9fbb",
            "value": 1217449944
          }
        },
        "dc058184a70f4e9a892bd1b88c1c468b": {
          "model_module": "@jupyter-widgets/controls",
          "model_name": "HTMLModel",
          "model_module_version": "1.5.0",
          "state": {
            "_dom_classes": [],
            "_model_module": "@jupyter-widgets/controls",
            "_model_module_version": "1.5.0",
            "_model_name": "HTMLModel",
            "_view_count": null,
            "_view_module": "@jupyter-widgets/controls",
            "_view_module_version": "1.5.0",
            "_view_name": "HTMLView",
            "description": "",
            "description_tooltip": null,
            "layout": "IPY_MODEL_ca55709f6fcc4368af2a2da4d690b458",
            "placeholder": "​",
            "style": "IPY_MODEL_166dae5bf8b0492592e44c5715a1081c",
            "value": " 1.22G/1.22G [00:05&lt;00:00, 219MB/s]"
          }
        },
        "9ee53ecae70347348ff456ddfe703faf": {
          "model_module": "@jupyter-widgets/base",
          "model_name": "LayoutModel",
          "model_module_version": "1.2.0",
          "state": {
            "_model_module": "@jupyter-widgets/base",
            "_model_module_version": "1.2.0",
            "_model_name": "LayoutModel",
            "_view_count": null,
            "_view_module": "@jupyter-widgets/base",
            "_view_module_version": "1.2.0",
            "_view_name": "LayoutView",
            "align_content": null,
            "align_items": null,
            "align_self": null,
            "border": null,
            "bottom": null,
            "display": null,
            "flex": null,
            "flex_flow": null,
            "grid_area": null,
            "grid_auto_columns": null,
            "grid_auto_flow": null,
            "grid_auto_rows": null,
            "grid_column": null,
            "grid_gap": null,
            "grid_row": null,
            "grid_template_areas": null,
            "grid_template_columns": null,
            "grid_template_rows": null,
            "height": null,
            "justify_content": null,
            "justify_items": null,
            "left": null,
            "margin": null,
            "max_height": null,
            "max_width": null,
            "min_height": null,
            "min_width": null,
            "object_fit": null,
            "object_position": null,
            "order": null,
            "overflow": null,
            "overflow_x": null,
            "overflow_y": null,
            "padding": null,
            "right": null,
            "top": null,
            "visibility": null,
            "width": null
          }
        },
        "9f2f26d7c50c41759e1d1560d448a3e5": {
          "model_module": "@jupyter-widgets/base",
          "model_name": "LayoutModel",
          "model_module_version": "1.2.0",
          "state": {
            "_model_module": "@jupyter-widgets/base",
            "_model_module_version": "1.2.0",
            "_model_name": "LayoutModel",
            "_view_count": null,
            "_view_module": "@jupyter-widgets/base",
            "_view_module_version": "1.2.0",
            "_view_name": "LayoutView",
            "align_content": null,
            "align_items": null,
            "align_self": null,
            "border": null,
            "bottom": null,
            "display": null,
            "flex": null,
            "flex_flow": null,
            "grid_area": null,
            "grid_auto_columns": null,
            "grid_auto_flow": null,
            "grid_auto_rows": null,
            "grid_column": null,
            "grid_gap": null,
            "grid_row": null,
            "grid_template_areas": null,
            "grid_template_columns": null,
            "grid_template_rows": null,
            "height": null,
            "justify_content": null,
            "justify_items": null,
            "left": null,
            "margin": null,
            "max_height": null,
            "max_width": null,
            "min_height": null,
            "min_width": null,
            "object_fit": null,
            "object_position": null,
            "order": null,
            "overflow": null,
            "overflow_x": null,
            "overflow_y": null,
            "padding": null,
            "right": null,
            "top": null,
            "visibility": null,
            "width": null
          }
        },
        "29c80f67618e4a7aa591addea6a5e357": {
          "model_module": "@jupyter-widgets/controls",
          "model_name": "DescriptionStyleModel",
          "model_module_version": "1.5.0",
          "state": {
            "_model_module": "@jupyter-widgets/controls",
            "_model_module_version": "1.5.0",
            "_model_name": "DescriptionStyleModel",
            "_view_count": null,
            "_view_module": "@jupyter-widgets/base",
            "_view_module_version": "1.2.0",
            "_view_name": "StyleView",
            "description_width": ""
          }
        },
        "7ed13b4aca5e4cd5bb255f5ed370ccfd": {
          "model_module": "@jupyter-widgets/base",
          "model_name": "LayoutModel",
          "model_module_version": "1.2.0",
          "state": {
            "_model_module": "@jupyter-widgets/base",
            "_model_module_version": "1.2.0",
            "_model_name": "LayoutModel",
            "_view_count": null,
            "_view_module": "@jupyter-widgets/base",
            "_view_module_version": "1.2.0",
            "_view_name": "LayoutView",
            "align_content": null,
            "align_items": null,
            "align_self": null,
            "border": null,
            "bottom": null,
            "display": null,
            "flex": null,
            "flex_flow": null,
            "grid_area": null,
            "grid_auto_columns": null,
            "grid_auto_flow": null,
            "grid_auto_rows": null,
            "grid_column": null,
            "grid_gap": null,
            "grid_row": null,
            "grid_template_areas": null,
            "grid_template_columns": null,
            "grid_template_rows": null,
            "height": null,
            "justify_content": null,
            "justify_items": null,
            "left": null,
            "margin": null,
            "max_height": null,
            "max_width": null,
            "min_height": null,
            "min_width": null,
            "object_fit": null,
            "object_position": null,
            "order": null,
            "overflow": null,
            "overflow_x": null,
            "overflow_y": null,
            "padding": null,
            "right": null,
            "top": null,
            "visibility": null,
            "width": null
          }
        },
        "65f0546a20044aa4ad4b20fc898c9fbb": {
          "model_module": "@jupyter-widgets/controls",
          "model_name": "ProgressStyleModel",
          "model_module_version": "1.5.0",
          "state": {
            "_model_module": "@jupyter-widgets/controls",
            "_model_module_version": "1.5.0",
            "_model_name": "ProgressStyleModel",
            "_view_count": null,
            "_view_module": "@jupyter-widgets/base",
            "_view_module_version": "1.2.0",
            "_view_name": "StyleView",
            "bar_color": null,
            "description_width": ""
          }
        },
        "ca55709f6fcc4368af2a2da4d690b458": {
          "model_module": "@jupyter-widgets/base",
          "model_name": "LayoutModel",
          "model_module_version": "1.2.0",
          "state": {
            "_model_module": "@jupyter-widgets/base",
            "_model_module_version": "1.2.0",
            "_model_name": "LayoutModel",
            "_view_count": null,
            "_view_module": "@jupyter-widgets/base",
            "_view_module_version": "1.2.0",
            "_view_name": "LayoutView",
            "align_content": null,
            "align_items": null,
            "align_self": null,
            "border": null,
            "bottom": null,
            "display": null,
            "flex": null,
            "flex_flow": null,
            "grid_area": null,
            "grid_auto_columns": null,
            "grid_auto_flow": null,
            "grid_auto_rows": null,
            "grid_column": null,
            "grid_gap": null,
            "grid_row": null,
            "grid_template_areas": null,
            "grid_template_columns": null,
            "grid_template_rows": null,
            "height": null,
            "justify_content": null,
            "justify_items": null,
            "left": null,
            "margin": null,
            "max_height": null,
            "max_width": null,
            "min_height": null,
            "min_width": null,
            "object_fit": null,
            "object_position": null,
            "order": null,
            "overflow": null,
            "overflow_x": null,
            "overflow_y": null,
            "padding": null,
            "right": null,
            "top": null,
            "visibility": null,
            "width": null
          }
        },
        "166dae5bf8b0492592e44c5715a1081c": {
          "model_module": "@jupyter-widgets/controls",
          "model_name": "DescriptionStyleModel",
          "model_module_version": "1.5.0",
          "state": {
            "_model_module": "@jupyter-widgets/controls",
            "_model_module_version": "1.5.0",
            "_model_name": "DescriptionStyleModel",
            "_view_count": null,
            "_view_module": "@jupyter-widgets/base",
            "_view_module_version": "1.2.0",
            "_view_name": "StyleView",
            "description_width": ""
          }
        }
      }
    }
  },
  "nbformat": 4,
  "nbformat_minor": 0
}