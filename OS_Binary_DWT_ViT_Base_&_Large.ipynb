{
  "nbformat": 4,
  "nbformat_minor": 0,
  "metadata": {
    "colab": {
      "provenance": [],
      "gpuType": "T4"
    },
    "kernelspec": {
      "name": "python3",
      "display_name": "Python 3"
    },
    "language_info": {
      "name": "python"
    },
    "accelerator": "GPU",
    "widgets": {
      "application/vnd.jupyter.widget-state+json": {
        "ddd1638d55ca494f9684d4b689ce64a0": {
          "model_module": "@jupyter-widgets/controls",
          "model_name": "HBoxModel",
          "model_module_version": "1.5.0",
          "state": {
            "_dom_classes": [],
            "_model_module": "@jupyter-widgets/controls",
            "_model_module_version": "1.5.0",
            "_model_name": "HBoxModel",
            "_view_count": null,
            "_view_module": "@jupyter-widgets/controls",
            "_view_module_version": "1.5.0",
            "_view_name": "HBoxView",
            "box_style": "",
            "children": [
              "IPY_MODEL_0ed8b97af69549c3a0286ffa7b3a2858",
              "IPY_MODEL_b962810d069040fd851e8a62c6592427",
              "IPY_MODEL_cbe18689f25f4166b8c63c87684366fb"
            ],
            "layout": "IPY_MODEL_7ca9f33b27da48a0957e374e2e871c48"
          }
        },
        "0ed8b97af69549c3a0286ffa7b3a2858": {
          "model_module": "@jupyter-widgets/controls",
          "model_name": "HTMLModel",
          "model_module_version": "1.5.0",
          "state": {
            "_dom_classes": [],
            "_model_module": "@jupyter-widgets/controls",
            "_model_module_version": "1.5.0",
            "_model_name": "HTMLModel",
            "_view_count": null,
            "_view_module": "@jupyter-widgets/controls",
            "_view_module_version": "1.5.0",
            "_view_name": "HTMLView",
            "description": "",
            "description_tooltip": null,
            "layout": "IPY_MODEL_ac647631a853436aa3887fa036d007ff",
            "placeholder": "​",
            "style": "IPY_MODEL_b708fcdf6232465caff4dcb2025bd54b",
            "value": "config.json: 100%"
          }
        },
        "b962810d069040fd851e8a62c6592427": {
          "model_module": "@jupyter-widgets/controls",
          "model_name": "FloatProgressModel",
          "model_module_version": "1.5.0",
          "state": {
            "_dom_classes": [],
            "_model_module": "@jupyter-widgets/controls",
            "_model_module_version": "1.5.0",
            "_model_name": "FloatProgressModel",
            "_view_count": null,
            "_view_module": "@jupyter-widgets/controls",
            "_view_module_version": "1.5.0",
            "_view_name": "ProgressView",
            "bar_style": "success",
            "description": "",
            "description_tooltip": null,
            "layout": "IPY_MODEL_8effc197598c4ca388f4b63c607858df",
            "max": 502,
            "min": 0,
            "orientation": "horizontal",
            "style": "IPY_MODEL_338b6f1e44064b98a85bbbf210e1a33f",
            "value": 502
          }
        },
        "cbe18689f25f4166b8c63c87684366fb": {
          "model_module": "@jupyter-widgets/controls",
          "model_name": "HTMLModel",
          "model_module_version": "1.5.0",
          "state": {
            "_dom_classes": [],
            "_model_module": "@jupyter-widgets/controls",
            "_model_module_version": "1.5.0",
            "_model_name": "HTMLModel",
            "_view_count": null,
            "_view_module": "@jupyter-widgets/controls",
            "_view_module_version": "1.5.0",
            "_view_name": "HTMLView",
            "description": "",
            "description_tooltip": null,
            "layout": "IPY_MODEL_17c1e6b13a6848288c0454163a1f7c8e",
            "placeholder": "​",
            "style": "IPY_MODEL_d4641000df4b4f1b9d84f8f494acb032",
            "value": " 502/502 [00:00&lt;00:00, 29.4kB/s]"
          }
        },
        "7ca9f33b27da48a0957e374e2e871c48": {
          "model_module": "@jupyter-widgets/base",
          "model_name": "LayoutModel",
          "model_module_version": "1.2.0",
          "state": {
            "_model_module": "@jupyter-widgets/base",
            "_model_module_version": "1.2.0",
            "_model_name": "LayoutModel",
            "_view_count": null,
            "_view_module": "@jupyter-widgets/base",
            "_view_module_version": "1.2.0",
            "_view_name": "LayoutView",
            "align_content": null,
            "align_items": null,
            "align_self": null,
            "border": null,
            "bottom": null,
            "display": null,
            "flex": null,
            "flex_flow": null,
            "grid_area": null,
            "grid_auto_columns": null,
            "grid_auto_flow": null,
            "grid_auto_rows": null,
            "grid_column": null,
            "grid_gap": null,
            "grid_row": null,
            "grid_template_areas": null,
            "grid_template_columns": null,
            "grid_template_rows": null,
            "height": null,
            "justify_content": null,
            "justify_items": null,
            "left": null,
            "margin": null,
            "max_height": null,
            "max_width": null,
            "min_height": null,
            "min_width": null,
            "object_fit": null,
            "object_position": null,
            "order": null,
            "overflow": null,
            "overflow_x": null,
            "overflow_y": null,
            "padding": null,
            "right": null,
            "top": null,
            "visibility": null,
            "width": null
          }
        },
        "ac647631a853436aa3887fa036d007ff": {
          "model_module": "@jupyter-widgets/base",
          "model_name": "LayoutModel",
          "model_module_version": "1.2.0",
          "state": {
            "_model_module": "@jupyter-widgets/base",
            "_model_module_version": "1.2.0",
            "_model_name": "LayoutModel",
            "_view_count": null,
            "_view_module": "@jupyter-widgets/base",
            "_view_module_version": "1.2.0",
            "_view_name": "LayoutView",
            "align_content": null,
            "align_items": null,
            "align_self": null,
            "border": null,
            "bottom": null,
            "display": null,
            "flex": null,
            "flex_flow": null,
            "grid_area": null,
            "grid_auto_columns": null,
            "grid_auto_flow": null,
            "grid_auto_rows": null,
            "grid_column": null,
            "grid_gap": null,
            "grid_row": null,
            "grid_template_areas": null,
            "grid_template_columns": null,
            "grid_template_rows": null,
            "height": null,
            "justify_content": null,
            "justify_items": null,
            "left": null,
            "margin": null,
            "max_height": null,
            "max_width": null,
            "min_height": null,
            "min_width": null,
            "object_fit": null,
            "object_position": null,
            "order": null,
            "overflow": null,
            "overflow_x": null,
            "overflow_y": null,
            "padding": null,
            "right": null,
            "top": null,
            "visibility": null,
            "width": null
          }
        },
        "b708fcdf6232465caff4dcb2025bd54b": {
          "model_module": "@jupyter-widgets/controls",
          "model_name": "DescriptionStyleModel",
          "model_module_version": "1.5.0",
          "state": {
            "_model_module": "@jupyter-widgets/controls",
            "_model_module_version": "1.5.0",
            "_model_name": "DescriptionStyleModel",
            "_view_count": null,
            "_view_module": "@jupyter-widgets/base",
            "_view_module_version": "1.2.0",
            "_view_name": "StyleView",
            "description_width": ""
          }
        },
        "8effc197598c4ca388f4b63c607858df": {
          "model_module": "@jupyter-widgets/base",
          "model_name": "LayoutModel",
          "model_module_version": "1.2.0",
          "state": {
            "_model_module": "@jupyter-widgets/base",
            "_model_module_version": "1.2.0",
            "_model_name": "LayoutModel",
            "_view_count": null,
            "_view_module": "@jupyter-widgets/base",
            "_view_module_version": "1.2.0",
            "_view_name": "LayoutView",
            "align_content": null,
            "align_items": null,
            "align_self": null,
            "border": null,
            "bottom": null,
            "display": null,
            "flex": null,
            "flex_flow": null,
            "grid_area": null,
            "grid_auto_columns": null,
            "grid_auto_flow": null,
            "grid_auto_rows": null,
            "grid_column": null,
            "grid_gap": null,
            "grid_row": null,
            "grid_template_areas": null,
            "grid_template_columns": null,
            "grid_template_rows": null,
            "height": null,
            "justify_content": null,
            "justify_items": null,
            "left": null,
            "margin": null,
            "max_height": null,
            "max_width": null,
            "min_height": null,
            "min_width": null,
            "object_fit": null,
            "object_position": null,
            "order": null,
            "overflow": null,
            "overflow_x": null,
            "overflow_y": null,
            "padding": null,
            "right": null,
            "top": null,
            "visibility": null,
            "width": null
          }
        },
        "338b6f1e44064b98a85bbbf210e1a33f": {
          "model_module": "@jupyter-widgets/controls",
          "model_name": "ProgressStyleModel",
          "model_module_version": "1.5.0",
          "state": {
            "_model_module": "@jupyter-widgets/controls",
            "_model_module_version": "1.5.0",
            "_model_name": "ProgressStyleModel",
            "_view_count": null,
            "_view_module": "@jupyter-widgets/base",
            "_view_module_version": "1.2.0",
            "_view_name": "StyleView",
            "bar_color": null,
            "description_width": ""
          }
        },
        "17c1e6b13a6848288c0454163a1f7c8e": {
          "model_module": "@jupyter-widgets/base",
          "model_name": "LayoutModel",
          "model_module_version": "1.2.0",
          "state": {
            "_model_module": "@jupyter-widgets/base",
            "_model_module_version": "1.2.0",
            "_model_name": "LayoutModel",
            "_view_count": null,
            "_view_module": "@jupyter-widgets/base",
            "_view_module_version": "1.2.0",
            "_view_name": "LayoutView",
            "align_content": null,
            "align_items": null,
            "align_self": null,
            "border": null,
            "bottom": null,
            "display": null,
            "flex": null,
            "flex_flow": null,
            "grid_area": null,
            "grid_auto_columns": null,
            "grid_auto_flow": null,
            "grid_auto_rows": null,
            "grid_column": null,
            "grid_gap": null,
            "grid_row": null,
            "grid_template_areas": null,
            "grid_template_columns": null,
            "grid_template_rows": null,
            "height": null,
            "justify_content": null,
            "justify_items": null,
            "left": null,
            "margin": null,
            "max_height": null,
            "max_width": null,
            "min_height": null,
            "min_width": null,
            "object_fit": null,
            "object_position": null,
            "order": null,
            "overflow": null,
            "overflow_x": null,
            "overflow_y": null,
            "padding": null,
            "right": null,
            "top": null,
            "visibility": null,
            "width": null
          }
        },
        "d4641000df4b4f1b9d84f8f494acb032": {
          "model_module": "@jupyter-widgets/controls",
          "model_name": "DescriptionStyleModel",
          "model_module_version": "1.5.0",
          "state": {
            "_model_module": "@jupyter-widgets/controls",
            "_model_module_version": "1.5.0",
            "_model_name": "DescriptionStyleModel",
            "_view_count": null,
            "_view_module": "@jupyter-widgets/base",
            "_view_module_version": "1.2.0",
            "_view_name": "StyleView",
            "description_width": ""
          }
        },
        "be264e25ea3b48f38d3a23a628cc7e86": {
          "model_module": "@jupyter-widgets/controls",
          "model_name": "HBoxModel",
          "model_module_version": "1.5.0",
          "state": {
            "_dom_classes": [],
            "_model_module": "@jupyter-widgets/controls",
            "_model_module_version": "1.5.0",
            "_model_name": "HBoxModel",
            "_view_count": null,
            "_view_module": "@jupyter-widgets/controls",
            "_view_module_version": "1.5.0",
            "_view_name": "HBoxView",
            "box_style": "",
            "children": [
              "IPY_MODEL_c9ecf108fb6545f49177d4a9377d45f2",
              "IPY_MODEL_c88b70ea4d6f462dbcad6026108d4f79",
              "IPY_MODEL_e5066d5486674181b15f9722181c27fe"
            ],
            "layout": "IPY_MODEL_bffa968b30e44b4ca9857c16a04a80ee"
          }
        },
        "c9ecf108fb6545f49177d4a9377d45f2": {
          "model_module": "@jupyter-widgets/controls",
          "model_name": "HTMLModel",
          "model_module_version": "1.5.0",
          "state": {
            "_dom_classes": [],
            "_model_module": "@jupyter-widgets/controls",
            "_model_module_version": "1.5.0",
            "_model_name": "HTMLModel",
            "_view_count": null,
            "_view_module": "@jupyter-widgets/controls",
            "_view_module_version": "1.5.0",
            "_view_name": "HTMLView",
            "description": "",
            "description_tooltip": null,
            "layout": "IPY_MODEL_1a795c04d29e44f3933c97fa367e3f78",
            "placeholder": "​",
            "style": "IPY_MODEL_2910d46dd4e34098ae64a59ba094247e",
            "value": "model.safetensors: 100%"
          }
        },
        "c88b70ea4d6f462dbcad6026108d4f79": {
          "model_module": "@jupyter-widgets/controls",
          "model_name": "FloatProgressModel",
          "model_module_version": "1.5.0",
          "state": {
            "_dom_classes": [],
            "_model_module": "@jupyter-widgets/controls",
            "_model_module_version": "1.5.0",
            "_model_name": "FloatProgressModel",
            "_view_count": null,
            "_view_module": "@jupyter-widgets/controls",
            "_view_module_version": "1.5.0",
            "_view_name": "ProgressView",
            "bar_style": "success",
            "description": "",
            "description_tooltip": null,
            "layout": "IPY_MODEL_f10402c5f5db441984da2d448ab0545b",
            "max": 345579424,
            "min": 0,
            "orientation": "horizontal",
            "style": "IPY_MODEL_28c9c355a4334de7ba393f51b2207df5",
            "value": 345579424
          }
        },
        "e5066d5486674181b15f9722181c27fe": {
          "model_module": "@jupyter-widgets/controls",
          "model_name": "HTMLModel",
          "model_module_version": "1.5.0",
          "state": {
            "_dom_classes": [],
            "_model_module": "@jupyter-widgets/controls",
            "_model_module_version": "1.5.0",
            "_model_name": "HTMLModel",
            "_view_count": null,
            "_view_module": "@jupyter-widgets/controls",
            "_view_module_version": "1.5.0",
            "_view_name": "HTMLView",
            "description": "",
            "description_tooltip": null,
            "layout": "IPY_MODEL_174e9087f9344cb69398540740d5a9c5",
            "placeholder": "​",
            "style": "IPY_MODEL_f9e0bb29b5124bd78253cdf06c5932c4",
            "value": " 346M/346M [00:01&lt;00:00, 245MB/s]"
          }
        },
        "bffa968b30e44b4ca9857c16a04a80ee": {
          "model_module": "@jupyter-widgets/base",
          "model_name": "LayoutModel",
          "model_module_version": "1.2.0",
          "state": {
            "_model_module": "@jupyter-widgets/base",
            "_model_module_version": "1.2.0",
            "_model_name": "LayoutModel",
            "_view_count": null,
            "_view_module": "@jupyter-widgets/base",
            "_view_module_version": "1.2.0",
            "_view_name": "LayoutView",
            "align_content": null,
            "align_items": null,
            "align_self": null,
            "border": null,
            "bottom": null,
            "display": null,
            "flex": null,
            "flex_flow": null,
            "grid_area": null,
            "grid_auto_columns": null,
            "grid_auto_flow": null,
            "grid_auto_rows": null,
            "grid_column": null,
            "grid_gap": null,
            "grid_row": null,
            "grid_template_areas": null,
            "grid_template_columns": null,
            "grid_template_rows": null,
            "height": null,
            "justify_content": null,
            "justify_items": null,
            "left": null,
            "margin": null,
            "max_height": null,
            "max_width": null,
            "min_height": null,
            "min_width": null,
            "object_fit": null,
            "object_position": null,
            "order": null,
            "overflow": null,
            "overflow_x": null,
            "overflow_y": null,
            "padding": null,
            "right": null,
            "top": null,
            "visibility": null,
            "width": null
          }
        },
        "1a795c04d29e44f3933c97fa367e3f78": {
          "model_module": "@jupyter-widgets/base",
          "model_name": "LayoutModel",
          "model_module_version": "1.2.0",
          "state": {
            "_model_module": "@jupyter-widgets/base",
            "_model_module_version": "1.2.0",
            "_model_name": "LayoutModel",
            "_view_count": null,
            "_view_module": "@jupyter-widgets/base",
            "_view_module_version": "1.2.0",
            "_view_name": "LayoutView",
            "align_content": null,
            "align_items": null,
            "align_self": null,
            "border": null,
            "bottom": null,
            "display": null,
            "flex": null,
            "flex_flow": null,
            "grid_area": null,
            "grid_auto_columns": null,
            "grid_auto_flow": null,
            "grid_auto_rows": null,
            "grid_column": null,
            "grid_gap": null,
            "grid_row": null,
            "grid_template_areas": null,
            "grid_template_columns": null,
            "grid_template_rows": null,
            "height": null,
            "justify_content": null,
            "justify_items": null,
            "left": null,
            "margin": null,
            "max_height": null,
            "max_width": null,
            "min_height": null,
            "min_width": null,
            "object_fit": null,
            "object_position": null,
            "order": null,
            "overflow": null,
            "overflow_x": null,
            "overflow_y": null,
            "padding": null,
            "right": null,
            "top": null,
            "visibility": null,
            "width": null
          }
        },
        "2910d46dd4e34098ae64a59ba094247e": {
          "model_module": "@jupyter-widgets/controls",
          "model_name": "DescriptionStyleModel",
          "model_module_version": "1.5.0",
          "state": {
            "_model_module": "@jupyter-widgets/controls",
            "_model_module_version": "1.5.0",
            "_model_name": "DescriptionStyleModel",
            "_view_count": null,
            "_view_module": "@jupyter-widgets/base",
            "_view_module_version": "1.2.0",
            "_view_name": "StyleView",
            "description_width": ""
          }
        },
        "f10402c5f5db441984da2d448ab0545b": {
          "model_module": "@jupyter-widgets/base",
          "model_name": "LayoutModel",
          "model_module_version": "1.2.0",
          "state": {
            "_model_module": "@jupyter-widgets/base",
            "_model_module_version": "1.2.0",
            "_model_name": "LayoutModel",
            "_view_count": null,
            "_view_module": "@jupyter-widgets/base",
            "_view_module_version": "1.2.0",
            "_view_name": "LayoutView",
            "align_content": null,
            "align_items": null,
            "align_self": null,
            "border": null,
            "bottom": null,
            "display": null,
            "flex": null,
            "flex_flow": null,
            "grid_area": null,
            "grid_auto_columns": null,
            "grid_auto_flow": null,
            "grid_auto_rows": null,
            "grid_column": null,
            "grid_gap": null,
            "grid_row": null,
            "grid_template_areas": null,
            "grid_template_columns": null,
            "grid_template_rows": null,
            "height": null,
            "justify_content": null,
            "justify_items": null,
            "left": null,
            "margin": null,
            "max_height": null,
            "max_width": null,
            "min_height": null,
            "min_width": null,
            "object_fit": null,
            "object_position": null,
            "order": null,
            "overflow": null,
            "overflow_x": null,
            "overflow_y": null,
            "padding": null,
            "right": null,
            "top": null,
            "visibility": null,
            "width": null
          }
        },
        "28c9c355a4334de7ba393f51b2207df5": {
          "model_module": "@jupyter-widgets/controls",
          "model_name": "ProgressStyleModel",
          "model_module_version": "1.5.0",
          "state": {
            "_model_module": "@jupyter-widgets/controls",
            "_model_module_version": "1.5.0",
            "_model_name": "ProgressStyleModel",
            "_view_count": null,
            "_view_module": "@jupyter-widgets/base",
            "_view_module_version": "1.2.0",
            "_view_name": "StyleView",
            "bar_color": null,
            "description_width": ""
          }
        },
        "174e9087f9344cb69398540740d5a9c5": {
          "model_module": "@jupyter-widgets/base",
          "model_name": "LayoutModel",
          "model_module_version": "1.2.0",
          "state": {
            "_model_module": "@jupyter-widgets/base",
            "_model_module_version": "1.2.0",
            "_model_name": "LayoutModel",
            "_view_count": null,
            "_view_module": "@jupyter-widgets/base",
            "_view_module_version": "1.2.0",
            "_view_name": "LayoutView",
            "align_content": null,
            "align_items": null,
            "align_self": null,
            "border": null,
            "bottom": null,
            "display": null,
            "flex": null,
            "flex_flow": null,
            "grid_area": null,
            "grid_auto_columns": null,
            "grid_auto_flow": null,
            "grid_auto_rows": null,
            "grid_column": null,
            "grid_gap": null,
            "grid_row": null,
            "grid_template_areas": null,
            "grid_template_columns": null,
            "grid_template_rows": null,
            "height": null,
            "justify_content": null,
            "justify_items": null,
            "left": null,
            "margin": null,
            "max_height": null,
            "max_width": null,
            "min_height": null,
            "min_width": null,
            "object_fit": null,
            "object_position": null,
            "order": null,
            "overflow": null,
            "overflow_x": null,
            "overflow_y": null,
            "padding": null,
            "right": null,
            "top": null,
            "visibility": null,
            "width": null
          }
        },
        "f9e0bb29b5124bd78253cdf06c5932c4": {
          "model_module": "@jupyter-widgets/controls",
          "model_name": "DescriptionStyleModel",
          "model_module_version": "1.5.0",
          "state": {
            "_model_module": "@jupyter-widgets/controls",
            "_model_module_version": "1.5.0",
            "_model_name": "DescriptionStyleModel",
            "_view_count": null,
            "_view_module": "@jupyter-widgets/base",
            "_view_module_version": "1.2.0",
            "_view_name": "StyleView",
            "description_width": ""
          }
        },
        "576f9a97b34741989735486c66d4c68e": {
          "model_module": "@jupyter-widgets/controls",
          "model_name": "HBoxModel",
          "model_module_version": "1.5.0",
          "state": {
            "_dom_classes": [],
            "_model_module": "@jupyter-widgets/controls",
            "_model_module_version": "1.5.0",
            "_model_name": "HBoxModel",
            "_view_count": null,
            "_view_module": "@jupyter-widgets/controls",
            "_view_module_version": "1.5.0",
            "_view_name": "HBoxView",
            "box_style": "",
            "children": [
              "IPY_MODEL_d6fb716b7c824a768bdc0270000ee084",
              "IPY_MODEL_9e0886db58404ef7b7ee9f9d6583088a",
              "IPY_MODEL_161ac95bf5074305b85ca6d72a8603a9"
            ],
            "layout": "IPY_MODEL_9289ed0b7df44705822eca01795df9c2"
          }
        },
        "d6fb716b7c824a768bdc0270000ee084": {
          "model_module": "@jupyter-widgets/controls",
          "model_name": "HTMLModel",
          "model_module_version": "1.5.0",
          "state": {
            "_dom_classes": [],
            "_model_module": "@jupyter-widgets/controls",
            "_model_module_version": "1.5.0",
            "_model_name": "HTMLModel",
            "_view_count": null,
            "_view_module": "@jupyter-widgets/controls",
            "_view_module_version": "1.5.0",
            "_view_name": "HTMLView",
            "description": "",
            "description_tooltip": null,
            "layout": "IPY_MODEL_c8c2383f2fed4480b643f3d910f222ef",
            "placeholder": "​",
            "style": "IPY_MODEL_981ed7f7bc324154a432034aeb019ca7",
            "value": "config.json: 100%"
          }
        },
        "9e0886db58404ef7b7ee9f9d6583088a": {
          "model_module": "@jupyter-widgets/controls",
          "model_name": "FloatProgressModel",
          "model_module_version": "1.5.0",
          "state": {
            "_dom_classes": [],
            "_model_module": "@jupyter-widgets/controls",
            "_model_module_version": "1.5.0",
            "_model_name": "FloatProgressModel",
            "_view_count": null,
            "_view_module": "@jupyter-widgets/controls",
            "_view_module_version": "1.5.0",
            "_view_name": "ProgressView",
            "bar_style": "success",
            "description": "",
            "description_tooltip": null,
            "layout": "IPY_MODEL_8586bffa18c24127b336789e04b4eacf",
            "max": 504,
            "min": 0,
            "orientation": "horizontal",
            "style": "IPY_MODEL_c2a1bce3ebc04869961b5d7c93da744b",
            "value": 504
          }
        },
        "161ac95bf5074305b85ca6d72a8603a9": {
          "model_module": "@jupyter-widgets/controls",
          "model_name": "HTMLModel",
          "model_module_version": "1.5.0",
          "state": {
            "_dom_classes": [],
            "_model_module": "@jupyter-widgets/controls",
            "_model_module_version": "1.5.0",
            "_model_name": "HTMLModel",
            "_view_count": null,
            "_view_module": "@jupyter-widgets/controls",
            "_view_module_version": "1.5.0",
            "_view_name": "HTMLView",
            "description": "",
            "description_tooltip": null,
            "layout": "IPY_MODEL_e75359b5bffe461498d7c8bb6bb98a9b",
            "placeholder": "​",
            "style": "IPY_MODEL_632852e83893458d992f59cd8b2ecb16",
            "value": " 504/504 [00:00&lt;00:00, 17.9kB/s]"
          }
        },
        "9289ed0b7df44705822eca01795df9c2": {
          "model_module": "@jupyter-widgets/base",
          "model_name": "LayoutModel",
          "model_module_version": "1.2.0",
          "state": {
            "_model_module": "@jupyter-widgets/base",
            "_model_module_version": "1.2.0",
            "_model_name": "LayoutModel",
            "_view_count": null,
            "_view_module": "@jupyter-widgets/base",
            "_view_module_version": "1.2.0",
            "_view_name": "LayoutView",
            "align_content": null,
            "align_items": null,
            "align_self": null,
            "border": null,
            "bottom": null,
            "display": null,
            "flex": null,
            "flex_flow": null,
            "grid_area": null,
            "grid_auto_columns": null,
            "grid_auto_flow": null,
            "grid_auto_rows": null,
            "grid_column": null,
            "grid_gap": null,
            "grid_row": null,
            "grid_template_areas": null,
            "grid_template_columns": null,
            "grid_template_rows": null,
            "height": null,
            "justify_content": null,
            "justify_items": null,
            "left": null,
            "margin": null,
            "max_height": null,
            "max_width": null,
            "min_height": null,
            "min_width": null,
            "object_fit": null,
            "object_position": null,
            "order": null,
            "overflow": null,
            "overflow_x": null,
            "overflow_y": null,
            "padding": null,
            "right": null,
            "top": null,
            "visibility": null,
            "width": null
          }
        },
        "c8c2383f2fed4480b643f3d910f222ef": {
          "model_module": "@jupyter-widgets/base",
          "model_name": "LayoutModel",
          "model_module_version": "1.2.0",
          "state": {
            "_model_module": "@jupyter-widgets/base",
            "_model_module_version": "1.2.0",
            "_model_name": "LayoutModel",
            "_view_count": null,
            "_view_module": "@jupyter-widgets/base",
            "_view_module_version": "1.2.0",
            "_view_name": "LayoutView",
            "align_content": null,
            "align_items": null,
            "align_self": null,
            "border": null,
            "bottom": null,
            "display": null,
            "flex": null,
            "flex_flow": null,
            "grid_area": null,
            "grid_auto_columns": null,
            "grid_auto_flow": null,
            "grid_auto_rows": null,
            "grid_column": null,
            "grid_gap": null,
            "grid_row": null,
            "grid_template_areas": null,
            "grid_template_columns": null,
            "grid_template_rows": null,
            "height": null,
            "justify_content": null,
            "justify_items": null,
            "left": null,
            "margin": null,
            "max_height": null,
            "max_width": null,
            "min_height": null,
            "min_width": null,
            "object_fit": null,
            "object_position": null,
            "order": null,
            "overflow": null,
            "overflow_x": null,
            "overflow_y": null,
            "padding": null,
            "right": null,
            "top": null,
            "visibility": null,
            "width": null
          }
        },
        "981ed7f7bc324154a432034aeb019ca7": {
          "model_module": "@jupyter-widgets/controls",
          "model_name": "DescriptionStyleModel",
          "model_module_version": "1.5.0",
          "state": {
            "_model_module": "@jupyter-widgets/controls",
            "_model_module_version": "1.5.0",
            "_model_name": "DescriptionStyleModel",
            "_view_count": null,
            "_view_module": "@jupyter-widgets/base",
            "_view_module_version": "1.2.0",
            "_view_name": "StyleView",
            "description_width": ""
          }
        },
        "8586bffa18c24127b336789e04b4eacf": {
          "model_module": "@jupyter-widgets/base",
          "model_name": "LayoutModel",
          "model_module_version": "1.2.0",
          "state": {
            "_model_module": "@jupyter-widgets/base",
            "_model_module_version": "1.2.0",
            "_model_name": "LayoutModel",
            "_view_count": null,
            "_view_module": "@jupyter-widgets/base",
            "_view_module_version": "1.2.0",
            "_view_name": "LayoutView",
            "align_content": null,
            "align_items": null,
            "align_self": null,
            "border": null,
            "bottom": null,
            "display": null,
            "flex": null,
            "flex_flow": null,
            "grid_area": null,
            "grid_auto_columns": null,
            "grid_auto_flow": null,
            "grid_auto_rows": null,
            "grid_column": null,
            "grid_gap": null,
            "grid_row": null,
            "grid_template_areas": null,
            "grid_template_columns": null,
            "grid_template_rows": null,
            "height": null,
            "justify_content": null,
            "justify_items": null,
            "left": null,
            "margin": null,
            "max_height": null,
            "max_width": null,
            "min_height": null,
            "min_width": null,
            "object_fit": null,
            "object_position": null,
            "order": null,
            "overflow": null,
            "overflow_x": null,
            "overflow_y": null,
            "padding": null,
            "right": null,
            "top": null,
            "visibility": null,
            "width": null
          }
        },
        "c2a1bce3ebc04869961b5d7c93da744b": {
          "model_module": "@jupyter-widgets/controls",
          "model_name": "ProgressStyleModel",
          "model_module_version": "1.5.0",
          "state": {
            "_model_module": "@jupyter-widgets/controls",
            "_model_module_version": "1.5.0",
            "_model_name": "ProgressStyleModel",
            "_view_count": null,
            "_view_module": "@jupyter-widgets/base",
            "_view_module_version": "1.2.0",
            "_view_name": "StyleView",
            "bar_color": null,
            "description_width": ""
          }
        },
        "e75359b5bffe461498d7c8bb6bb98a9b": {
          "model_module": "@jupyter-widgets/base",
          "model_name": "LayoutModel",
          "model_module_version": "1.2.0",
          "state": {
            "_model_module": "@jupyter-widgets/base",
            "_model_module_version": "1.2.0",
            "_model_name": "LayoutModel",
            "_view_count": null,
            "_view_module": "@jupyter-widgets/base",
            "_view_module_version": "1.2.0",
            "_view_name": "LayoutView",
            "align_content": null,
            "align_items": null,
            "align_self": null,
            "border": null,
            "bottom": null,
            "display": null,
            "flex": null,
            "flex_flow": null,
            "grid_area": null,
            "grid_auto_columns": null,
            "grid_auto_flow": null,
            "grid_auto_rows": null,
            "grid_column": null,
            "grid_gap": null,
            "grid_row": null,
            "grid_template_areas": null,
            "grid_template_columns": null,
            "grid_template_rows": null,
            "height": null,
            "justify_content": null,
            "justify_items": null,
            "left": null,
            "margin": null,
            "max_height": null,
            "max_width": null,
            "min_height": null,
            "min_width": null,
            "object_fit": null,
            "object_position": null,
            "order": null,
            "overflow": null,
            "overflow_x": null,
            "overflow_y": null,
            "padding": null,
            "right": null,
            "top": null,
            "visibility": null,
            "width": null
          }
        },
        "632852e83893458d992f59cd8b2ecb16": {
          "model_module": "@jupyter-widgets/controls",
          "model_name": "DescriptionStyleModel",
          "model_module_version": "1.5.0",
          "state": {
            "_model_module": "@jupyter-widgets/controls",
            "_model_module_version": "1.5.0",
            "_model_name": "DescriptionStyleModel",
            "_view_count": null,
            "_view_module": "@jupyter-widgets/base",
            "_view_module_version": "1.2.0",
            "_view_name": "StyleView",
            "description_width": ""
          }
        },
        "f65432caae37494db25e885b2f80eaaf": {
          "model_module": "@jupyter-widgets/controls",
          "model_name": "HBoxModel",
          "model_module_version": "1.5.0",
          "state": {
            "_dom_classes": [],
            "_model_module": "@jupyter-widgets/controls",
            "_model_module_version": "1.5.0",
            "_model_name": "HBoxModel",
            "_view_count": null,
            "_view_module": "@jupyter-widgets/controls",
            "_view_module_version": "1.5.0",
            "_view_name": "HBoxView",
            "box_style": "",
            "children": [
              "IPY_MODEL_8f40f3feb6c74abfa6b1292a70892509",
              "IPY_MODEL_4d8b38c6ba674ceb8dfff9306248fba9",
              "IPY_MODEL_6492e65bb37f4327af7da07ba688850f"
            ],
            "layout": "IPY_MODEL_b3a730f5825043bcb3cd5336b212d46d"
          }
        },
        "8f40f3feb6c74abfa6b1292a70892509": {
          "model_module": "@jupyter-widgets/controls",
          "model_name": "HTMLModel",
          "model_module_version": "1.5.0",
          "state": {
            "_dom_classes": [],
            "_model_module": "@jupyter-widgets/controls",
            "_model_module_version": "1.5.0",
            "_model_name": "HTMLModel",
            "_view_count": null,
            "_view_module": "@jupyter-widgets/controls",
            "_view_module_version": "1.5.0",
            "_view_name": "HTMLView",
            "description": "",
            "description_tooltip": null,
            "layout": "IPY_MODEL_e0e8566de0f14dc587b2263fb766e722",
            "placeholder": "​",
            "style": "IPY_MODEL_8171ae0c46d04984ad3289def8d8df74",
            "value": "model.safetensors: 100%"
          }
        },
        "4d8b38c6ba674ceb8dfff9306248fba9": {
          "model_module": "@jupyter-widgets/controls",
          "model_name": "FloatProgressModel",
          "model_module_version": "1.5.0",
          "state": {
            "_dom_classes": [],
            "_model_module": "@jupyter-widgets/controls",
            "_model_module_version": "1.5.0",
            "_model_name": "FloatProgressModel",
            "_view_count": null,
            "_view_module": "@jupyter-widgets/controls",
            "_view_module_version": "1.5.0",
            "_view_name": "ProgressView",
            "bar_style": "success",
            "description": "",
            "description_tooltip": null,
            "layout": "IPY_MODEL_ba77d4231bc143c4958c7ffdc3fe0341",
            "max": 1217449944,
            "min": 0,
            "orientation": "horizontal",
            "style": "IPY_MODEL_d2d3527fc5e44cfbaee63816d55fdb31",
            "value": 1217449944
          }
        },
        "6492e65bb37f4327af7da07ba688850f": {
          "model_module": "@jupyter-widgets/controls",
          "model_name": "HTMLModel",
          "model_module_version": "1.5.0",
          "state": {
            "_dom_classes": [],
            "_model_module": "@jupyter-widgets/controls",
            "_model_module_version": "1.5.0",
            "_model_name": "HTMLModel",
            "_view_count": null,
            "_view_module": "@jupyter-widgets/controls",
            "_view_module_version": "1.5.0",
            "_view_name": "HTMLView",
            "description": "",
            "description_tooltip": null,
            "layout": "IPY_MODEL_d6446fbd8fef49079e6e83babf3ad74b",
            "placeholder": "​",
            "style": "IPY_MODEL_f2b4725f550144f9b9574daa4febe145",
            "value": " 1.22G/1.22G [00:09&lt;00:00, 36.8MB/s]"
          }
        },
        "b3a730f5825043bcb3cd5336b212d46d": {
          "model_module": "@jupyter-widgets/base",
          "model_name": "LayoutModel",
          "model_module_version": "1.2.0",
          "state": {
            "_model_module": "@jupyter-widgets/base",
            "_model_module_version": "1.2.0",
            "_model_name": "LayoutModel",
            "_view_count": null,
            "_view_module": "@jupyter-widgets/base",
            "_view_module_version": "1.2.0",
            "_view_name": "LayoutView",
            "align_content": null,
            "align_items": null,
            "align_self": null,
            "border": null,
            "bottom": null,
            "display": null,
            "flex": null,
            "flex_flow": null,
            "grid_area": null,
            "grid_auto_columns": null,
            "grid_auto_flow": null,
            "grid_auto_rows": null,
            "grid_column": null,
            "grid_gap": null,
            "grid_row": null,
            "grid_template_areas": null,
            "grid_template_columns": null,
            "grid_template_rows": null,
            "height": null,
            "justify_content": null,
            "justify_items": null,
            "left": null,
            "margin": null,
            "max_height": null,
            "max_width": null,
            "min_height": null,
            "min_width": null,
            "object_fit": null,
            "object_position": null,
            "order": null,
            "overflow": null,
            "overflow_x": null,
            "overflow_y": null,
            "padding": null,
            "right": null,
            "top": null,
            "visibility": null,
            "width": null
          }
        },
        "e0e8566de0f14dc587b2263fb766e722": {
          "model_module": "@jupyter-widgets/base",
          "model_name": "LayoutModel",
          "model_module_version": "1.2.0",
          "state": {
            "_model_module": "@jupyter-widgets/base",
            "_model_module_version": "1.2.0",
            "_model_name": "LayoutModel",
            "_view_count": null,
            "_view_module": "@jupyter-widgets/base",
            "_view_module_version": "1.2.0",
            "_view_name": "LayoutView",
            "align_content": null,
            "align_items": null,
            "align_self": null,
            "border": null,
            "bottom": null,
            "display": null,
            "flex": null,
            "flex_flow": null,
            "grid_area": null,
            "grid_auto_columns": null,
            "grid_auto_flow": null,
            "grid_auto_rows": null,
            "grid_column": null,
            "grid_gap": null,
            "grid_row": null,
            "grid_template_areas": null,
            "grid_template_columns": null,
            "grid_template_rows": null,
            "height": null,
            "justify_content": null,
            "justify_items": null,
            "left": null,
            "margin": null,
            "max_height": null,
            "max_width": null,
            "min_height": null,
            "min_width": null,
            "object_fit": null,
            "object_position": null,
            "order": null,
            "overflow": null,
            "overflow_x": null,
            "overflow_y": null,
            "padding": null,
            "right": null,
            "top": null,
            "visibility": null,
            "width": null
          }
        },
        "8171ae0c46d04984ad3289def8d8df74": {
          "model_module": "@jupyter-widgets/controls",
          "model_name": "DescriptionStyleModel",
          "model_module_version": "1.5.0",
          "state": {
            "_model_module": "@jupyter-widgets/controls",
            "_model_module_version": "1.5.0",
            "_model_name": "DescriptionStyleModel",
            "_view_count": null,
            "_view_module": "@jupyter-widgets/base",
            "_view_module_version": "1.2.0",
            "_view_name": "StyleView",
            "description_width": ""
          }
        },
        "ba77d4231bc143c4958c7ffdc3fe0341": {
          "model_module": "@jupyter-widgets/base",
          "model_name": "LayoutModel",
          "model_module_version": "1.2.0",
          "state": {
            "_model_module": "@jupyter-widgets/base",
            "_model_module_version": "1.2.0",
            "_model_name": "LayoutModel",
            "_view_count": null,
            "_view_module": "@jupyter-widgets/base",
            "_view_module_version": "1.2.0",
            "_view_name": "LayoutView",
            "align_content": null,
            "align_items": null,
            "align_self": null,
            "border": null,
            "bottom": null,
            "display": null,
            "flex": null,
            "flex_flow": null,
            "grid_area": null,
            "grid_auto_columns": null,
            "grid_auto_flow": null,
            "grid_auto_rows": null,
            "grid_column": null,
            "grid_gap": null,
            "grid_row": null,
            "grid_template_areas": null,
            "grid_template_columns": null,
            "grid_template_rows": null,
            "height": null,
            "justify_content": null,
            "justify_items": null,
            "left": null,
            "margin": null,
            "max_height": null,
            "max_width": null,
            "min_height": null,
            "min_width": null,
            "object_fit": null,
            "object_position": null,
            "order": null,
            "overflow": null,
            "overflow_x": null,
            "overflow_y": null,
            "padding": null,
            "right": null,
            "top": null,
            "visibility": null,
            "width": null
          }
        },
        "d2d3527fc5e44cfbaee63816d55fdb31": {
          "model_module": "@jupyter-widgets/controls",
          "model_name": "ProgressStyleModel",
          "model_module_version": "1.5.0",
          "state": {
            "_model_module": "@jupyter-widgets/controls",
            "_model_module_version": "1.5.0",
            "_model_name": "ProgressStyleModel",
            "_view_count": null,
            "_view_module": "@jupyter-widgets/base",
            "_view_module_version": "1.2.0",
            "_view_name": "StyleView",
            "bar_color": null,
            "description_width": ""
          }
        },
        "d6446fbd8fef49079e6e83babf3ad74b": {
          "model_module": "@jupyter-widgets/base",
          "model_name": "LayoutModel",
          "model_module_version": "1.2.0",
          "state": {
            "_model_module": "@jupyter-widgets/base",
            "_model_module_version": "1.2.0",
            "_model_name": "LayoutModel",
            "_view_count": null,
            "_view_module": "@jupyter-widgets/base",
            "_view_module_version": "1.2.0",
            "_view_name": "LayoutView",
            "align_content": null,
            "align_items": null,
            "align_self": null,
            "border": null,
            "bottom": null,
            "display": null,
            "flex": null,
            "flex_flow": null,
            "grid_area": null,
            "grid_auto_columns": null,
            "grid_auto_flow": null,
            "grid_auto_rows": null,
            "grid_column": null,
            "grid_gap": null,
            "grid_row": null,
            "grid_template_areas": null,
            "grid_template_columns": null,
            "grid_template_rows": null,
            "height": null,
            "justify_content": null,
            "justify_items": null,
            "left": null,
            "margin": null,
            "max_height": null,
            "max_width": null,
            "min_height": null,
            "min_width": null,
            "object_fit": null,
            "object_position": null,
            "order": null,
            "overflow": null,
            "overflow_x": null,
            "overflow_y": null,
            "padding": null,
            "right": null,
            "top": null,
            "visibility": null,
            "width": null
          }
        },
        "f2b4725f550144f9b9574daa4febe145": {
          "model_module": "@jupyter-widgets/controls",
          "model_name": "DescriptionStyleModel",
          "model_module_version": "1.5.0",
          "state": {
            "_model_module": "@jupyter-widgets/controls",
            "_model_module_version": "1.5.0",
            "_model_name": "DescriptionStyleModel",
            "_view_count": null,
            "_view_module": "@jupyter-widgets/base",
            "_view_module_version": "1.2.0",
            "_view_name": "StyleView",
            "description_width": ""
          }
        }
      }
    }
  },
  "cells": [
    {
      "cell_type": "code",
      "execution_count": null,
      "metadata": {
        "id": "uxqjlRchv1TC"
      },
      "outputs": [],
      "source": [
        "import cv2\n",
        "import os\n",
        "import numpy as np\n",
        "import tensorflow as tf\n",
        "from google.colab import drive\n",
        "from sklearn.model_selection import train_test_split\n",
        "import torch\n",
        "from torch.utils.data import Dataset, DataLoader\n",
        "import torch.nn as nn\n",
        "import torch.nn.functional as F\n",
        "from transformers import ViTModel"
      ]
    },
    {
      "cell_type": "markdown",
      "source": [
        "# Dataset"
      ],
      "metadata": {
        "id": "dOPijBhEFMet"
      }
    },
    {
      "cell_type": "code",
      "source": [
        "# Mount Google Drive (only for Colab)\n",
        "drive.mount('/content/drive')\n",
        "\n",
        "# ========================================================================\n",
        "# 1. Dataset Configuration\n",
        "# ========================================================================\n",
        "dataset_paths = {\n",
        "    'Normal': '/content/drive/MyDrive/Normal and Osteoporosis Binary Classification Dataset/normal/',\n",
        "    'Osteoporosis': '/content/drive/MyDrive/Normal and Osteoporosis Binary Classification Dataset/osteoporosis/'\n",
        "}\n",
        "\n",
        "# ========================================================================\n",
        "# 2. Image Loading & Preprocessing\n",
        "# ========================================================================\n",
        "def load_images_and_labels(folder_path, label):\n",
        "    images = []\n",
        "    labels = []\n",
        "    for filename in sorted(os.listdir(folder_path)):\n",
        "        if filename.lower().endswith(('.png', '.jpg', '.jpeg', '.bmp')):\n",
        "            img_path = os.path.join(folder_path, filename)\n",
        "            try:\n",
        "                # Load image and verify successful read\n",
        "                img = cv2.imread(img_path)\n",
        "                if img is None:\n",
        "                    print(f\"Warning: Could not read image {img_path}\")\n",
        "                    continue\n",
        "\n",
        "                # Critical Fix 1: Resize to ViT's required 224x224\n",
        "                img = cv2.resize(img, (224, 224))\n",
        "\n",
        "                # Critical Fix 2: Convert BGR to RGB\n",
        "                img = cv2.cvtColor(img, cv2.COLOR_BGR2RGB)\n",
        "\n",
        "                # Critical Fix 3: Convert to channels-first format\n",
        "                img = np.transpose(img, (2, 0, 1))  # (3, 224, 224)\n",
        "\n",
        "                # Critical Fix 4: Normalize to [-1, 1] range\n",
        "                img = (img.astype(np.float32) / 127.5) - 1.0\n",
        "\n",
        "                images.append(img)\n",
        "                labels.append(label)\n",
        "            except Exception as e:\n",
        "                print(f\"Error processing {img_path}: {e}\")\n",
        "    return np.array(images), np.array(labels)\n",
        "\n",
        "# ========================================================================\n",
        "# 3. Load and Prepare Data\n",
        "# ========================================================================\n",
        "# Load datasets\n",
        "normal_images, normal_labels = load_images_and_labels(dataset_paths['Normal'], 0)\n",
        "osteo_images, osteo_labels = load_images_and_labels(dataset_paths['Osteoporosis'], 1)\n",
        "\n",
        "# Combine and shuffle data\n",
        "x_data = np.concatenate([normal_images, osteo_images], axis=0)\n",
        "y_data = np.concatenate([normal_labels, osteo_labels], axis=0)\n",
        "\n",
        "# Random shuffle with fixed seed for reproducibility\n",
        "np.random.seed(42)\n",
        "shuffle_idx = np.random.permutation(len(x_data))\n",
        "x_data = x_data[shuffle_idx]\n",
        "y_data = y_data[shuffle_idx]\n",
        "\n",
        "# ========================================================================\n",
        "# 4. Train/Validation/Test Split\n",
        "# ========================================================================\n",
        "# Stratified split to maintain class balance\n",
        "x_train_val, x_test, y_train_val, y_test = train_test_split(\n",
        "    x_data, y_data,\n",
        "    test_size=0.2,\n",
        "    stratify=y_data,\n",
        "    random_state=42\n",
        ")\n",
        "\n",
        "x_train, x_val, y_train, y_val = train_test_split(\n",
        "    x_train_val, y_train_val,\n",
        "    test_size=0.1,  # 10% of training for validation\n",
        "    stratify=y_train_val,\n",
        "    random_state=42\n",
        ")"
      ],
      "metadata": {
        "colab": {
          "base_uri": "https://localhost:8080/"
        },
        "id": "oab_TF4cv3_2",
        "outputId": "374ea7b8-0c23-4e7a-b544-4b1aa53379de"
      },
      "execution_count": null,
      "outputs": [
        {
          "output_type": "stream",
          "name": "stdout",
          "text": [
            "Mounted at /content/drive\n"
          ]
        }
      ]
    },
    {
      "cell_type": "code",
      "source": [
        "print(f'Number of Normal Images: {len(normal_images)}')\n",
        "print(f'Number of Oestroporosis Images: {len(osteo_images)}')"
      ],
      "metadata": {
        "colab": {
          "base_uri": "https://localhost:8080/"
        },
        "id": "NrY6Blamv6G-",
        "outputId": "2da36067-be68-4924-eeb9-3cca7c9065f6"
      },
      "execution_count": null,
      "outputs": [
        {
          "output_type": "stream",
          "name": "stdout",
          "text": [
            "Number of Normal Images: 186\n",
            "Number of Oestroporosis Images: 186\n"
          ]
        }
      ]
    },
    {
      "cell_type": "code",
      "source": [
        "# Step 2: Define device\n",
        "device = torch.device('cuda' if torch.cuda.is_available() else 'cpu')\n",
        "print(f\"Using device: {device}\")\n",
        "\n",
        "# Step 3: DWT Implementation\n",
        "def dwt_haar(img):\n",
        "    \"\"\"Performs Haar wavelet transform on a batch of images.\"\"\"\n",
        "    # img shape: (batch, channels, height, width)\n",
        "    batch, channels, h, w = img.shape\n",
        "\n",
        "    # Split rows into even and odd indices\n",
        "    even_rows = img[:, :, 0::2, :]\n",
        "    odd_rows = img[:, :, 1::2, :]\n",
        "\n",
        "    # Compute row-wise averages and differences\n",
        "    avg_rows = (even_rows + odd_rows) / 2\n",
        "    diff_rows = (even_rows - odd_rows) / 2\n",
        "\n",
        "    # Split columns for avg_rows (LL and HL)\n",
        "    even_cols_avg = avg_rows[:, :, :, 0::2]\n",
        "    odd_cols_avg = avg_rows[:, :, :, 1::2]\n",
        "    LL = (even_cols_avg + odd_cols_avg) / 2\n",
        "    HL = (even_cols_avg - odd_cols_avg) / 2\n",
        "\n",
        "    # Split columns for diff_rows (LH and HH)\n",
        "    even_cols_diff = diff_rows[:, :, :, 0::2]\n",
        "    odd_cols_diff = diff_rows[:, :, :, 1::2]\n",
        "    LH = (even_cols_diff + odd_cols_diff) / 2\n",
        "    HH = (even_cols_diff - odd_cols_diff) / 2\n",
        "\n",
        "    return torch.cat([LL, HL, LH, HH], dim=1)\n",
        "\n",
        "# Step 4: Dataset Class (unchanged)\n",
        "class NumpyDataset(Dataset):\n",
        "    def __init__(self, x_data, y_data):\n",
        "        self.x_data = x_data\n",
        "        self.y_data = y_data\n",
        "\n",
        "    def __len__(self):\n",
        "        return len(self.x_data)\n",
        "\n",
        "    def __getitem__(self, idx):\n",
        "        image = torch.from_numpy(self.x_data[idx]).float()\n",
        "        label = torch.tensor(self.y_data[idx], dtype=torch.float32)\n",
        "        return image, label"
      ],
      "metadata": {
        "colab": {
          "base_uri": "https://localhost:8080/"
        },
        "id": "aymcF9Zny-u2",
        "outputId": "7499f0d1-5956-400e-9450-2b00e2e98931"
      },
      "execution_count": null,
      "outputs": [
        {
          "output_type": "stream",
          "name": "stdout",
          "text": [
            "Using device: cuda\n"
          ]
        }
      ]
    },
    {
      "cell_type": "markdown",
      "source": [
        "# Base ViT Model"
      ],
      "metadata": {
        "id": "NSaAmCiLFVoL"
      }
    },
    {
      "cell_type": "code",
      "source": [
        "# Step 5: Modified ViT Model with DWT Processing\n",
        "class ViTBinaryClassifier(nn.Module):\n",
        "    def __init__(self, pretrained_model='google/vit-base-patch16-224-in21k'):\n",
        "        super().__init__()\n",
        "        self.vit = ViTModel.from_pretrained(pretrained_model)\n",
        "        self.classifier = nn.Linear(self.vit.config.hidden_size * 4, 1)\n",
        "        self.sigmoid = nn.Sigmoid()\n",
        "\n",
        "        # Freeze ViT parameters\n",
        "        for param in self.vit.parameters():\n",
        "            param.requires_grad = False\n",
        "\n",
        "    def forward(self, x):\n",
        "        # Apply Haar DWT\n",
        "        x_dwt = dwt_haar(x)\n",
        "        batch_size = x_dwt.size(0)\n",
        "\n",
        "        # Reshape and process each subband\n",
        "        x_dwt = x_dwt.view(batch_size, 4, 3, 112, 112)\n",
        "        vit_outputs = []\n",
        "\n",
        "        for i in range(4):\n",
        "            subband = x_dwt[:, i, :, :, :]\n",
        "            subband_up = F.interpolate(subband, size=(224, 224),\n",
        "                                     mode='bilinear', align_corners=False)\n",
        "            outputs = self.vit(subband_up)\n",
        "            vit_outputs.append(outputs.last_hidden_state[:, 0, :])\n",
        "\n",
        "        # Concatenate and classify\n",
        "        combined = torch.cat(vit_outputs, dim=1)\n",
        "        return self.sigmoid(self.classifier(combined))\n",
        "\n",
        "# Step 6: Create Datasets and DataLoaders\n",
        "# (Assuming x_train, y_train, x_val, y_val, x_test, y_test are defined)\n",
        "batch_size = 32\n",
        "train_dataset = NumpyDataset(x_train, y_train)\n",
        "val_dataset = NumpyDataset(x_val, y_val)\n",
        "test_dataset = NumpyDataset(x_test, y_test)\n",
        "\n",
        "train_loader = DataLoader(train_dataset, batch_size=batch_size, shuffle=True, num_workers=2)\n",
        "val_loader = DataLoader(val_dataset, batch_size=batch_size, shuffle=False, num_workers=2)\n",
        "test_loader = DataLoader(test_dataset, batch_size=batch_size, shuffle=False, num_workers=2)\n",
        "\n",
        "# Step 7: Initialize Model (AFTER device is defined)\n",
        "model = ViTBinaryClassifier().to(device)\n",
        "\n",
        "# Step 8: Loss and Optimizer\n",
        "criterion = nn.BCELoss()\n",
        "optimizer = torch.optim.Adam(model.parameters(), lr=1e-3)"
      ],
      "metadata": {
        "colab": {
          "base_uri": "https://localhost:8080/",
          "height": 205,
          "referenced_widgets": [
            "ddd1638d55ca494f9684d4b689ce64a0",
            "0ed8b97af69549c3a0286ffa7b3a2858",
            "b962810d069040fd851e8a62c6592427",
            "cbe18689f25f4166b8c63c87684366fb",
            "7ca9f33b27da48a0957e374e2e871c48",
            "ac647631a853436aa3887fa036d007ff",
            "b708fcdf6232465caff4dcb2025bd54b",
            "8effc197598c4ca388f4b63c607858df",
            "338b6f1e44064b98a85bbbf210e1a33f",
            "17c1e6b13a6848288c0454163a1f7c8e",
            "d4641000df4b4f1b9d84f8f494acb032",
            "be264e25ea3b48f38d3a23a628cc7e86",
            "c9ecf108fb6545f49177d4a9377d45f2",
            "c88b70ea4d6f462dbcad6026108d4f79",
            "e5066d5486674181b15f9722181c27fe",
            "bffa968b30e44b4ca9857c16a04a80ee",
            "1a795c04d29e44f3933c97fa367e3f78",
            "2910d46dd4e34098ae64a59ba094247e",
            "f10402c5f5db441984da2d448ab0545b",
            "28c9c355a4334de7ba393f51b2207df5",
            "174e9087f9344cb69398540740d5a9c5",
            "f9e0bb29b5124bd78253cdf06c5932c4"
          ]
        },
        "id": "c3mKWsMZzA95",
        "outputId": "a0983e17-31e4-4839-ad57-6461c3d145f4"
      },
      "execution_count": null,
      "outputs": [
        {
          "output_type": "stream",
          "name": "stderr",
          "text": [
            "/usr/local/lib/python3.11/dist-packages/huggingface_hub/utils/_auth.py:94: UserWarning: \n",
            "The secret `HF_TOKEN` does not exist in your Colab secrets.\n",
            "To authenticate with the Hugging Face Hub, create a token in your settings tab (https://huggingface.co/settings/tokens), set it as secret in your Google Colab and restart your session.\n",
            "You will be able to reuse this secret in all of your notebooks.\n",
            "Please note that authentication is recommended but still optional to access public models or datasets.\n",
            "  warnings.warn(\n"
          ]
        },
        {
          "output_type": "display_data",
          "data": {
            "text/plain": [
              "config.json:   0%|          | 0.00/502 [00:00<?, ?B/s]"
            ],
            "application/vnd.jupyter.widget-view+json": {
              "version_major": 2,
              "version_minor": 0,
              "model_id": "ddd1638d55ca494f9684d4b689ce64a0"
            }
          },
          "metadata": {}
        },
        {
          "output_type": "display_data",
          "data": {
            "text/plain": [
              "model.safetensors:   0%|          | 0.00/346M [00:00<?, ?B/s]"
            ],
            "application/vnd.jupyter.widget-view+json": {
              "version_major": 2,
              "version_minor": 0,
              "model_id": "be264e25ea3b48f38d3a23a628cc7e86"
            }
          },
          "metadata": {}
        }
      ]
    },
    {
      "cell_type": "code",
      "source": [
        "import time\n",
        "from tqdm import tqdm\n",
        "import torch.optim.lr_scheduler as lr_scheduler\n",
        "\n",
        "# Modified training loop with learning rate scheduling\n",
        "num_epochs = 500\n",
        "best_val_loss = float('inf')\n",
        "patience = 20\n",
        "epochs_no_improve = 0\n",
        "early_stop = False\n",
        "history = {'train_loss': [], 'val_loss': [], 'val_acc': [], 'lr': []}\n",
        "\n",
        "# Initialize optimizer and scheduler\n",
        "optimizer = torch.optim.Adam(model.parameters(), lr=1e-3, weight_decay=1e-4)\n",
        "scheduler = lr_scheduler.ReduceLROnPlateau(\n",
        "    optimizer,\n",
        "    mode='min',\n",
        "    factor=0.1,\n",
        "    patience=5,\n",
        "    verbose=True\n",
        ")\n",
        "\n",
        "print(f\"\\n{'='*50}\")\n",
        "print(f\"Starting training with early stopping (patience={patience})\")\n",
        "print(f\"and learning rate scheduling (ReduceLROnPlateau)\")\n",
        "print(f\"{'='*50}\\n\")\n",
        "\n",
        "for epoch in range(num_epochs):\n",
        "    if early_stop:\n",
        "        print(f\"[!] Early stopping triggered at epoch {epoch+1}\")\n",
        "        break\n",
        "\n",
        "    epoch_start = time.time()\n",
        "\n",
        "    # Training phase\n",
        "    model.train()\n",
        "    train_loss = 0.0\n",
        "    train_batches = 0\n",
        "\n",
        "    with tqdm(train_loader, unit=\"batch\", desc=f\"Epoch {epoch+1:3d}/{num_epochs} [Train]\") as pbar:\n",
        "        for images, labels in pbar:\n",
        "            images, labels = images.to(device), labels.to(device)\n",
        "\n",
        "            optimizer.zero_grad()\n",
        "            outputs = model(images).squeeze()\n",
        "            loss = criterion(outputs, labels)\n",
        "            loss.backward()\n",
        "            optimizer.step()\n",
        "\n",
        "            train_loss += loss.item() * images.size(0)\n",
        "            train_batches += 1\n",
        "\n",
        "            pbar.set_postfix({\n",
        "                'Loss': f\"{loss.item():.4f}\",\n",
        "                'AvgLoss': f\"{(train_loss/(train_batches*batch_size)):.4f}\"\n",
        "            })\n",
        "\n",
        "    # Validation phase\n",
        "    model.eval()\n",
        "    val_loss = 0.0\n",
        "    correct = 0\n",
        "    total = 0\n",
        "\n",
        "    with tqdm(val_loader, unit=\"batch\", desc=f\"Epoch {epoch+1:3d}/{num_epochs} [Val]  \") as pbar:\n",
        "        with torch.no_grad():\n",
        "            for images, labels in pbar:\n",
        "                images, labels = images.to(device), labels.to(device)\n",
        "                outputs = model(images).squeeze()\n",
        "                loss = criterion(outputs, labels)\n",
        "\n",
        "                val_loss += loss.item() * images.size(0)\n",
        "                predicted = (outputs >= 0.5).float()\n",
        "                correct += (predicted == labels).sum().item()\n",
        "                total += labels.size(0)\n",
        "\n",
        "                pbar.set_postfix({\n",
        "                    'Loss': f\"{loss.item():.4f}\",\n",
        "                    'Acc': f\"{(correct/total):.4f}\"\n",
        "                })\n",
        "\n",
        "    # Calculate metrics\n",
        "    epoch_train_loss = train_loss / len(train_dataset)\n",
        "    epoch_val_loss = val_loss / len(val_dataset)\n",
        "    val_acc = correct / total\n",
        "    current_lr = optimizer.param_groups[0]['lr']\n",
        "\n",
        "    # Update learning rate\n",
        "    scheduler.step(epoch_val_loss)\n",
        "\n",
        "    # Store history\n",
        "    history['train_loss'].append(epoch_train_loss)\n",
        "    history['val_loss'].append(epoch_val_loss)\n",
        "    history['val_acc'].append(val_acc)\n",
        "    history['lr'].append(current_lr)\n",
        "\n",
        "    # Early stopping logic\n",
        "    if epoch_val_loss < best_val_loss:\n",
        "        best_val_loss = epoch_val_loss\n",
        "        epochs_no_improve = 0\n",
        "        torch.save(model.state_dict(), 'best_model.pth')\n",
        "        improvement_msg = f\"(▼ {best_val_loss - epoch_val_loss:.4f})\"\n",
        "    else:\n",
        "        epochs_no_improve += 1\n",
        "        improvement_msg = f\"(▲ {epoch_val_loss - best_val_loss:.4f}) [Patience left: {patience - epochs_no_improve}]\"\n",
        "        if epochs_no_improve >= patience:\n",
        "            early_stop = True\n",
        "\n",
        "    # Calculate epoch duration\n",
        "    epoch_time = time.time() - epoch_start\n",
        "    time_remaining = (epoch_time * (num_epochs - epoch - 1)) / 3600 if not early_stop else 0\n",
        "\n",
        "    # Detailed epoch report\n",
        "    print(f\"\\nEpoch {epoch+1:3d}/{num_epochs} | Duration: {epoch_time:.1f}s | Remaining: ~{time_remaining:.1f}h\")\n",
        "    print(f\"Train Loss: {epoch_train_loss:.4f}\")\n",
        "    print(f\"Val Loss:   {epoch_val_loss:.4f} {improvement_msg}\")\n",
        "    print(f\"Val Acc:    {val_acc:.4f}\")\n",
        "    print(f\"Learning Rate: {current_lr:.2e}\")\n",
        "    print(f\"-\"*60)\n",
        "\n",
        "# Load best model for testing\n",
        "model.load_state_dict(torch.load('best_model.pth'))\n",
        "print(\"\\nLoaded best model weights for final testing\")\n",
        "\n",
        "# Final evaluation\n",
        "model.eval()\n",
        "test_correct = 0\n",
        "test_total = 0\n",
        "test_loss = 0.0\n",
        "\n",
        "with tqdm(test_loader, unit=\"batch\", desc=\"Final Testing\") as pbar:\n",
        "    with torch.no_grad():\n",
        "        for images, labels in pbar:\n",
        "            images, labels = images.to(device), labels.to(device)\n",
        "            outputs = model(images).squeeze()\n",
        "            loss = criterion(outputs, labels)\n",
        "\n",
        "            test_loss += loss.item() * images.size(0)\n",
        "            predicted = (outputs >= 0.5).float()\n",
        "            test_correct += (predicted == labels).sum().item()\n",
        "            test_total += labels.size(0)\n",
        "\n",
        "            pbar.set_postfix({\n",
        "                'Loss': f\"{loss.item():.4f}\",\n",
        "                'Acc': f\"{(test_correct/test_total):.4f}\"\n",
        "            })\n",
        "\n",
        "print(f\"\\n{'='*50}\")\n",
        "print(f\"Final Test Results:\")\n",
        "print(f\"Loss: {test_loss/len(test_dataset):.4f}\")\n",
        "print(f\"Accuracy: {test_correct/test_total:.4f}\")\n",
        "print(f\"{'='*50}\")"
      ],
      "metadata": {
        "colab": {
          "base_uri": "https://localhost:8080/"
        },
        "id": "ubv_ML34v8wH",
        "outputId": "b41c7062-36b0-4a6a-ee9a-8785e8b6fa25"
      },
      "execution_count": null,
      "outputs": [
        {
          "output_type": "stream",
          "name": "stdout",
          "text": [
            "\n",
            "==================================================\n",
            "Starting training with early stopping (patience=20)\n",
            "and learning rate scheduling (ReduceLROnPlateau)\n",
            "==================================================\n",
            "\n"
          ]
        },
        {
          "output_type": "stream",
          "name": "stderr",
          "text": [
            "Epoch   1/500 [Train]: 100%|██████████| 9/9 [00:12<00:00,  1.35s/batch, Loss=0.3582, AvgLoss=0.4212]\n",
            "Epoch   1/500 [Val]  : 100%|██████████| 1/1 [00:01<00:00,  1.58s/batch, Loss=0.4702, Acc=0.7667]\n"
          ]
        },
        {
          "output_type": "stream",
          "name": "stdout",
          "text": [
            "\n",
            "Epoch   1/500 | Duration: 14.6s | Remaining: ~2.0h\n",
            "Train Loss: 0.4543\n",
            "Val Loss:   0.4702 (▼ 0.0000)\n",
            "Val Acc:    0.7667\n",
            "Learning Rate: 1.00e-03\n",
            "------------------------------------------------------------\n"
          ]
        },
        {
          "output_type": "stream",
          "name": "stderr",
          "text": [
            "Epoch   2/500 [Train]: 100%|██████████| 9/9 [00:12<00:00,  1.41s/batch, Loss=0.2157, AvgLoss=0.4163]\n",
            "Epoch   2/500 [Val]  : 100%|██████████| 1/1 [00:01<00:00,  1.64s/batch, Loss=0.4634, Acc=0.8000]\n"
          ]
        },
        {
          "output_type": "stream",
          "name": "stdout",
          "text": [
            "\n",
            "Epoch   2/500 | Duration: 15.1s | Remaining: ~2.1h\n",
            "Train Loss: 0.4490\n",
            "Val Loss:   0.4634 (▼ 0.0000)\n",
            "Val Acc:    0.8000\n",
            "Learning Rate: 1.00e-03\n",
            "------------------------------------------------------------\n"
          ]
        },
        {
          "output_type": "stream",
          "name": "stderr",
          "text": [
            "Epoch   3/500 [Train]: 100%|██████████| 9/9 [00:12<00:00,  1.42s/batch, Loss=0.4378, AvgLoss=0.4004]\n",
            "Epoch   3/500 [Val]  : 100%|██████████| 1/1 [00:01<00:00,  1.63s/batch, Loss=0.4607, Acc=0.7667]\n"
          ]
        },
        {
          "output_type": "stream",
          "name": "stdout",
          "text": [
            "\n",
            "Epoch   3/500 | Duration: 15.2s | Remaining: ~2.1h\n",
            "Train Loss: 0.4319\n",
            "Val Loss:   0.4607 (▼ 0.0000)\n",
            "Val Acc:    0.7667\n",
            "Learning Rate: 1.00e-03\n",
            "------------------------------------------------------------\n"
          ]
        },
        {
          "output_type": "stream",
          "name": "stderr",
          "text": [
            "Epoch   4/500 [Train]: 100%|██████████| 9/9 [00:12<00:00,  1.37s/batch, Loss=0.5437, AvgLoss=0.4006]\n",
            "Epoch   4/500 [Val]  : 100%|██████████| 1/1 [00:01<00:00,  1.56s/batch, Loss=0.4578, Acc=0.7667]\n"
          ]
        },
        {
          "output_type": "stream",
          "name": "stdout",
          "text": [
            "\n",
            "Epoch   4/500 | Duration: 14.6s | Remaining: ~2.0h\n",
            "Train Loss: 0.4322\n",
            "Val Loss:   0.4578 (▼ 0.0000)\n",
            "Val Acc:    0.7667\n",
            "Learning Rate: 1.00e-03\n",
            "------------------------------------------------------------\n"
          ]
        },
        {
          "output_type": "stream",
          "name": "stderr",
          "text": [
            "Epoch   5/500 [Train]: 100%|██████████| 9/9 [00:12<00:00,  1.33s/batch, Loss=0.4344, AvgLoss=0.3926]\n",
            "Epoch   5/500 [Val]  : 100%|██████████| 1/1 [00:01<00:00,  1.54s/batch, Loss=0.4616, Acc=0.7333]\n"
          ]
        },
        {
          "output_type": "stream",
          "name": "stdout",
          "text": [
            "\n",
            "Epoch   5/500 | Duration: 13.6s | Remaining: ~1.9h\n",
            "Train Loss: 0.4235\n",
            "Val Loss:   0.4616 (▲ 0.0037) [Patience left: 19]\n",
            "Val Acc:    0.7333\n",
            "Learning Rate: 1.00e-03\n",
            "------------------------------------------------------------\n"
          ]
        },
        {
          "output_type": "stream",
          "name": "stderr",
          "text": [
            "Epoch   6/500 [Train]: 100%|██████████| 9/9 [00:11<00:00,  1.33s/batch, Loss=0.4089, AvgLoss=0.3847]\n",
            "Epoch   6/500 [Val]  : 100%|██████████| 1/1 [00:01<00:00,  1.55s/batch, Loss=0.4603, Acc=0.7667]\n"
          ]
        },
        {
          "output_type": "stream",
          "name": "stdout",
          "text": [
            "\n",
            "Epoch   6/500 | Duration: 13.5s | Remaining: ~1.9h\n",
            "Train Loss: 0.4150\n",
            "Val Loss:   0.4603 (▲ 0.0024) [Patience left: 18]\n",
            "Val Acc:    0.7667\n",
            "Learning Rate: 1.00e-03\n",
            "------------------------------------------------------------\n"
          ]
        },
        {
          "output_type": "stream",
          "name": "stderr",
          "text": [
            "Epoch   7/500 [Train]: 100%|██████████| 9/9 [00:12<00:00,  1.35s/batch, Loss=0.3112, AvgLoss=0.3799]\n",
            "Epoch   7/500 [Val]  : 100%|██████████| 1/1 [00:01<00:00,  1.61s/batch, Loss=0.4644, Acc=0.7667]\n"
          ]
        },
        {
          "output_type": "stream",
          "name": "stdout",
          "text": [
            "\n",
            "Epoch   7/500 | Duration: 13.8s | Remaining: ~1.9h\n",
            "Train Loss: 0.4098\n",
            "Val Loss:   0.4644 (▲ 0.0066) [Patience left: 17]\n",
            "Val Acc:    0.7667\n",
            "Learning Rate: 1.00e-03\n",
            "------------------------------------------------------------\n"
          ]
        },
        {
          "output_type": "stream",
          "name": "stderr",
          "text": [
            "Epoch   8/500 [Train]: 100%|██████████| 9/9 [00:12<00:00,  1.37s/batch, Loss=0.4151, AvgLoss=0.3738]\n",
            "Epoch   8/500 [Val]  : 100%|██████████| 1/1 [00:01<00:00,  1.64s/batch, Loss=0.4638, Acc=0.7667]\n"
          ]
        },
        {
          "output_type": "stream",
          "name": "stdout",
          "text": [
            "\n",
            "Epoch   8/500 | Duration: 14.0s | Remaining: ~1.9h\n",
            "Train Loss: 0.4032\n",
            "Val Loss:   0.4638 (▲ 0.0060) [Patience left: 16]\n",
            "Val Acc:    0.7667\n",
            "Learning Rate: 1.00e-03\n",
            "------------------------------------------------------------\n"
          ]
        },
        {
          "output_type": "stream",
          "name": "stderr",
          "text": [
            "Epoch   9/500 [Train]: 100%|██████████| 9/9 [00:12<00:00,  1.37s/batch, Loss=0.3692, AvgLoss=0.3700]\n",
            "Epoch   9/500 [Val]  : 100%|██████████| 1/1 [00:01<00:00,  1.62s/batch, Loss=0.4640, Acc=0.7667]\n"
          ]
        },
        {
          "output_type": "stream",
          "name": "stdout",
          "text": [
            "\n",
            "Epoch   9/500 | Duration: 14.0s | Remaining: ~1.9h\n",
            "Train Loss: 0.3991\n",
            "Val Loss:   0.4640 (▲ 0.0062) [Patience left: 15]\n",
            "Val Acc:    0.7667\n",
            "Learning Rate: 1.00e-03\n",
            "------------------------------------------------------------\n"
          ]
        },
        {
          "output_type": "stream",
          "name": "stderr",
          "text": [
            "Epoch  10/500 [Train]: 100%|██████████| 9/9 [00:12<00:00,  1.36s/batch, Loss=0.3615, AvgLoss=0.3653]\n",
            "Epoch  10/500 [Val]  : 100%|██████████| 1/1 [00:01<00:00,  1.61s/batch, Loss=0.4634, Acc=0.7667]\n"
          ]
        },
        {
          "output_type": "stream",
          "name": "stdout",
          "text": [
            "\n",
            "Epoch  10/500 | Duration: 13.9s | Remaining: ~1.9h\n",
            "Train Loss: 0.3941\n",
            "Val Loss:   0.4634 (▲ 0.0056) [Patience left: 14]\n",
            "Val Acc:    0.7667\n",
            "Learning Rate: 1.00e-03\n",
            "------------------------------------------------------------\n"
          ]
        },
        {
          "output_type": "stream",
          "name": "stderr",
          "text": [
            "Epoch  11/500 [Train]: 100%|██████████| 9/9 [00:12<00:00,  1.35s/batch, Loss=0.4439, AvgLoss=0.3612]\n",
            "Epoch  11/500 [Val]  : 100%|██████████| 1/1 [00:01<00:00,  1.59s/batch, Loss=0.4636, Acc=0.7333]\n"
          ]
        },
        {
          "output_type": "stream",
          "name": "stdout",
          "text": [
            "\n",
            "Epoch  11/500 | Duration: 13.8s | Remaining: ~1.9h\n",
            "Train Loss: 0.3896\n",
            "Val Loss:   0.4636 (▲ 0.0058) [Patience left: 13]\n",
            "Val Acc:    0.7333\n",
            "Learning Rate: 1.00e-04\n",
            "------------------------------------------------------------\n"
          ]
        },
        {
          "output_type": "stream",
          "name": "stderr",
          "text": [
            "Epoch  12/500 [Train]: 100%|██████████| 9/9 [00:12<00:00,  1.35s/batch, Loss=0.4399, AvgLoss=0.3601]\n",
            "Epoch  12/500 [Val]  : 100%|██████████| 1/1 [00:01<00:00,  1.63s/batch, Loss=0.4640, Acc=0.7333]\n"
          ]
        },
        {
          "output_type": "stream",
          "name": "stdout",
          "text": [
            "\n",
            "Epoch  12/500 | Duration: 13.8s | Remaining: ~1.9h\n",
            "Train Loss: 0.3885\n",
            "Val Loss:   0.4640 (▲ 0.0062) [Patience left: 12]\n",
            "Val Acc:    0.7333\n",
            "Learning Rate: 1.00e-04\n",
            "------------------------------------------------------------\n"
          ]
        },
        {
          "output_type": "stream",
          "name": "stderr",
          "text": [
            "Epoch  13/500 [Train]: 100%|██████████| 9/9 [00:12<00:00,  1.36s/batch, Loss=0.5504, AvgLoss=0.3599]\n",
            "Epoch  13/500 [Val]  : 100%|██████████| 1/1 [00:01<00:00,  1.61s/batch, Loss=0.4643, Acc=0.7333]\n"
          ]
        },
        {
          "output_type": "stream",
          "name": "stdout",
          "text": [
            "\n",
            "Epoch  13/500 | Duration: 13.9s | Remaining: ~1.9h\n",
            "Train Loss: 0.3882\n",
            "Val Loss:   0.4643 (▲ 0.0065) [Patience left: 11]\n",
            "Val Acc:    0.7333\n",
            "Learning Rate: 1.00e-04\n",
            "------------------------------------------------------------\n"
          ]
        },
        {
          "output_type": "stream",
          "name": "stderr",
          "text": [
            "Epoch  14/500 [Train]: 100%|██████████| 9/9 [00:12<00:00,  1.36s/batch, Loss=0.4934, AvgLoss=0.3597]\n",
            "Epoch  14/500 [Val]  : 100%|██████████| 1/1 [00:01<00:00,  1.61s/batch, Loss=0.4646, Acc=0.7333]\n"
          ]
        },
        {
          "output_type": "stream",
          "name": "stdout",
          "text": [
            "\n",
            "Epoch  14/500 | Duration: 13.9s | Remaining: ~1.9h\n",
            "Train Loss: 0.3880\n",
            "Val Loss:   0.4646 (▲ 0.0068) [Patience left: 10]\n",
            "Val Acc:    0.7333\n",
            "Learning Rate: 1.00e-04\n",
            "------------------------------------------------------------\n"
          ]
        },
        {
          "output_type": "stream",
          "name": "stderr",
          "text": [
            "Epoch  15/500 [Train]: 100%|██████████| 9/9 [00:12<00:00,  1.37s/batch, Loss=0.2784, AvgLoss=0.3587]\n",
            "Epoch  15/500 [Val]  : 100%|██████████| 1/1 [00:01<00:00,  1.61s/batch, Loss=0.4652, Acc=0.7333]\n"
          ]
        },
        {
          "output_type": "stream",
          "name": "stdout",
          "text": [
            "\n",
            "Epoch  15/500 | Duration: 13.9s | Remaining: ~1.9h\n",
            "Train Loss: 0.3869\n",
            "Val Loss:   0.4652 (▲ 0.0074) [Patience left: 9]\n",
            "Val Acc:    0.7333\n",
            "Learning Rate: 1.00e-04\n",
            "------------------------------------------------------------\n"
          ]
        },
        {
          "output_type": "stream",
          "name": "stderr",
          "text": [
            "Epoch  16/500 [Train]: 100%|██████████| 9/9 [00:12<00:00,  1.36s/batch, Loss=0.2490, AvgLoss=0.3585]\n",
            "Epoch  16/500 [Val]  : 100%|██████████| 1/1 [00:01<00:00,  1.63s/batch, Loss=0.4654, Acc=0.7333]\n"
          ]
        },
        {
          "output_type": "stream",
          "name": "stdout",
          "text": [
            "\n",
            "Epoch  16/500 | Duration: 13.9s | Remaining: ~1.9h\n",
            "Train Loss: 0.3867\n",
            "Val Loss:   0.4654 (▲ 0.0076) [Patience left: 8]\n",
            "Val Acc:    0.7333\n",
            "Learning Rate: 1.00e-04\n",
            "------------------------------------------------------------\n"
          ]
        },
        {
          "output_type": "stream",
          "name": "stderr",
          "text": [
            "Epoch  17/500 [Train]: 100%|██████████| 9/9 [00:12<00:00,  1.36s/batch, Loss=0.4181, AvgLoss=0.3580]\n",
            "Epoch  17/500 [Val]  : 100%|██████████| 1/1 [00:01<00:00,  1.60s/batch, Loss=0.4654, Acc=0.7333]\n"
          ]
        },
        {
          "output_type": "stream",
          "name": "stdout",
          "text": [
            "\n",
            "Epoch  17/500 | Duration: 13.9s | Remaining: ~1.9h\n",
            "Train Loss: 0.3862\n",
            "Val Loss:   0.4654 (▲ 0.0076) [Patience left: 7]\n",
            "Val Acc:    0.7333\n",
            "Learning Rate: 1.00e-05\n",
            "------------------------------------------------------------\n"
          ]
        },
        {
          "output_type": "stream",
          "name": "stderr",
          "text": [
            "Epoch  18/500 [Train]: 100%|██████████| 9/9 [00:12<00:00,  1.36s/batch, Loss=0.3895, AvgLoss=0.3580]\n",
            "Epoch  18/500 [Val]  : 100%|██████████| 1/1 [00:01<00:00,  1.61s/batch, Loss=0.4654, Acc=0.7333]\n"
          ]
        },
        {
          "output_type": "stream",
          "name": "stdout",
          "text": [
            "\n",
            "Epoch  18/500 | Duration: 13.9s | Remaining: ~1.9h\n",
            "Train Loss: 0.3861\n",
            "Val Loss:   0.4654 (▲ 0.0076) [Patience left: 6]\n",
            "Val Acc:    0.7333\n",
            "Learning Rate: 1.00e-05\n",
            "------------------------------------------------------------\n"
          ]
        },
        {
          "output_type": "stream",
          "name": "stderr",
          "text": [
            "Epoch  19/500 [Train]: 100%|██████████| 9/9 [00:12<00:00,  1.36s/batch, Loss=0.2384, AvgLoss=0.3579]\n",
            "Epoch  19/500 [Val]  : 100%|██████████| 1/1 [00:01<00:00,  1.59s/batch, Loss=0.4654, Acc=0.7333]\n"
          ]
        },
        {
          "output_type": "stream",
          "name": "stdout",
          "text": [
            "\n",
            "Epoch  19/500 | Duration: 13.8s | Remaining: ~1.8h\n",
            "Train Loss: 0.3860\n",
            "Val Loss:   0.4654 (▲ 0.0076) [Patience left: 5]\n",
            "Val Acc:    0.7333\n",
            "Learning Rate: 1.00e-05\n",
            "------------------------------------------------------------\n"
          ]
        },
        {
          "output_type": "stream",
          "name": "stderr",
          "text": [
            "Epoch  20/500 [Train]: 100%|██████████| 9/9 [00:12<00:00,  1.37s/batch, Loss=0.4740, AvgLoss=0.3578]\n",
            "Epoch  20/500 [Val]  : 100%|██████████| 1/1 [00:01<00:00,  1.61s/batch, Loss=0.4654, Acc=0.7333]\n"
          ]
        },
        {
          "output_type": "stream",
          "name": "stdout",
          "text": [
            "\n",
            "Epoch  20/500 | Duration: 13.9s | Remaining: ~1.9h\n",
            "Train Loss: 0.3860\n",
            "Val Loss:   0.4654 (▲ 0.0076) [Patience left: 4]\n",
            "Val Acc:    0.7333\n",
            "Learning Rate: 1.00e-05\n",
            "------------------------------------------------------------\n"
          ]
        },
        {
          "output_type": "stream",
          "name": "stderr",
          "text": [
            "Epoch  21/500 [Train]: 100%|██████████| 9/9 [00:12<00:00,  1.37s/batch, Loss=0.3811, AvgLoss=0.3578]\n",
            "Epoch  21/500 [Val]  : 100%|██████████| 1/1 [00:01<00:00,  1.59s/batch, Loss=0.4654, Acc=0.7333]\n"
          ]
        },
        {
          "output_type": "stream",
          "name": "stdout",
          "text": [
            "\n",
            "Epoch  21/500 | Duration: 13.9s | Remaining: ~1.9h\n",
            "Train Loss: 0.3860\n",
            "Val Loss:   0.4654 (▲ 0.0076) [Patience left: 3]\n",
            "Val Acc:    0.7333\n",
            "Learning Rate: 1.00e-05\n",
            "------------------------------------------------------------\n"
          ]
        },
        {
          "output_type": "stream",
          "name": "stderr",
          "text": [
            "Epoch  22/500 [Train]: 100%|██████████| 9/9 [00:12<00:00,  1.37s/batch, Loss=0.4279, AvgLoss=0.3577]\n",
            "Epoch  22/500 [Val]  : 100%|██████████| 1/1 [00:01<00:00,  1.61s/batch, Loss=0.4654, Acc=0.7333]\n"
          ]
        },
        {
          "output_type": "stream",
          "name": "stdout",
          "text": [
            "\n",
            "Epoch  22/500 | Duration: 13.9s | Remaining: ~1.8h\n",
            "Train Loss: 0.3859\n",
            "Val Loss:   0.4654 (▲ 0.0076) [Patience left: 2]\n",
            "Val Acc:    0.7333\n",
            "Learning Rate: 1.00e-05\n",
            "------------------------------------------------------------\n"
          ]
        },
        {
          "output_type": "stream",
          "name": "stderr",
          "text": [
            "Epoch  23/500 [Train]: 100%|██████████| 9/9 [00:12<00:00,  1.36s/batch, Loss=0.5668, AvgLoss=0.3577]\n",
            "Epoch  23/500 [Val]  : 100%|██████████| 1/1 [00:01<00:00,  1.60s/batch, Loss=0.4654, Acc=0.7333]\n"
          ]
        },
        {
          "output_type": "stream",
          "name": "stdout",
          "text": [
            "\n",
            "Epoch  23/500 | Duration: 13.9s | Remaining: ~1.8h\n",
            "Train Loss: 0.3858\n",
            "Val Loss:   0.4654 (▲ 0.0076) [Patience left: 1]\n",
            "Val Acc:    0.7333\n",
            "Learning Rate: 1.00e-06\n",
            "------------------------------------------------------------\n"
          ]
        },
        {
          "output_type": "stream",
          "name": "stderr",
          "text": [
            "Epoch  24/500 [Train]: 100%|██████████| 9/9 [00:12<00:00,  1.36s/batch, Loss=0.3669, AvgLoss=0.3577]\n",
            "Epoch  24/500 [Val]  : 100%|██████████| 1/1 [00:01<00:00,  1.61s/batch, Loss=0.4654, Acc=0.7333]\n",
            "<ipython-input-8-58b9b85997b7>:121: FutureWarning: You are using `torch.load` with `weights_only=False` (the current default value), which uses the default pickle module implicitly. It is possible to construct malicious pickle data which will execute arbitrary code during unpickling (See https://github.com/pytorch/pytorch/blob/main/SECURITY.md#untrusted-models for more details). In a future release, the default value for `weights_only` will be flipped to `True`. This limits the functions that could be executed during unpickling. Arbitrary objects will no longer be allowed to be loaded via this mode unless they are explicitly allowlisted by the user via `torch.serialization.add_safe_globals`. We recommend you start setting `weights_only=True` for any use case where you don't have full control of the loaded file. Please open an issue on GitHub for any issues related to this experimental feature.\n",
            "  model.load_state_dict(torch.load('best_model.pth'))\n"
          ]
        },
        {
          "output_type": "stream",
          "name": "stdout",
          "text": [
            "\n",
            "Epoch  24/500 | Duration: 13.9s | Remaining: ~0.0h\n",
            "Train Loss: 0.3858\n",
            "Val Loss:   0.4654 (▲ 0.0076) [Patience left: 0]\n",
            "Val Acc:    0.7333\n",
            "Learning Rate: 1.00e-06\n",
            "------------------------------------------------------------\n",
            "[!] Early stopping triggered at epoch 25\n",
            "\n",
            "Loaded best model weights for final testing\n"
          ]
        },
        {
          "output_type": "stream",
          "name": "stderr",
          "text": [
            "Final Testing: 100%|██████████| 3/3 [00:03<00:00,  1.18s/batch, Loss=0.4251, Acc=0.6933]"
          ]
        },
        {
          "output_type": "stream",
          "name": "stdout",
          "text": [
            "\n",
            "==================================================\n",
            "Final Test Results:\n",
            "Loss: 0.5616\n",
            "Accuracy: 0.6933\n",
            "==================================================\n"
          ]
        },
        {
          "output_type": "stream",
          "name": "stderr",
          "text": [
            "\n"
          ]
        }
      ]
    },
    {
      "cell_type": "code",
      "source": [
        "import matplotlib.pyplot as plt\n",
        "import seaborn as sns\n",
        "from sklearn.metrics import confusion_matrix, accuracy_score, precision_score, recall_score, f1_score, cohen_kappa_score\n",
        "\n",
        "# For accuracy graph (assuming you have training history)\n",
        "train_accuracies = []  # Populate these during training\n",
        "val_accuracies = []    # Populate these during validation\n",
        "\n",
        "def plot_metrics(phase_name, cm, accuracy, precision, recall, f1, kappa):\n",
        "    plt.figure(figsize=(15, 5))\n",
        "\n",
        "    # Confusion Matrix\n",
        "    plt.subplot(1, 2, 1)\n",
        "    sns.heatmap(cm, annot=True, fmt='d', cmap='Blues',\n",
        "                xticklabels=['Predicted Normal[0]', 'Predicted Osteoporosis[1]'],\n",
        "                yticklabels=['Actual Normal[0]', 'Actual Osteoporosis[1]'])\n",
        "    plt.title(f'{phase_name} Confusion Matrix')\n",
        "\n",
        "    # Metrics Text\n",
        "    plt.subplot(1, 2, 2)\n",
        "    plt.text(0.1, 0.9, f'Accuracy: {accuracy:.4f}', fontsize=12)\n",
        "    plt.text(0.1, 0.7, f'Precision: {precision:.4f}', fontsize=12)\n",
        "    plt.text(0.1, 0.5, f'Recall: {recall:.4f}', fontsize=12)\n",
        "    plt.text(0.1, 0.3, f'F1 Score: {f1:.4f}', fontsize=12)\n",
        "    plt.text(0.1, 0.1, f\"Kappa: {kappa:.4f}\", fontsize=12)\n",
        "    plt.axis('off')\n",
        "\n",
        "    plt.tight_layout()\n",
        "    plt.show()\n",
        "\n",
        "def evaluate_model(loader, phase_name):\n",
        "    model.eval()\n",
        "    all_labels = []\n",
        "    all_preds = []\n",
        "    with torch.no_grad():\n",
        "        for images, labels in loader:\n",
        "            images, labels = images.to(device), labels.to(device)\n",
        "            outputs = model(images).squeeze()\n",
        "            preds = (outputs >= 0.5).float()\n",
        "\n",
        "            all_labels.extend(labels.cpu().numpy())\n",
        "            all_preds.extend(preds.cpu().numpy())\n",
        "\n",
        "    accuracy = accuracy_score(all_labels, all_preds)\n",
        "    precision = precision_score(all_labels, all_preds)\n",
        "    recall = recall_score(all_labels, all_preds)\n",
        "    f1 = f1_score(all_labels, all_preds)\n",
        "    kappa = cohen_kappa_score(all_labels, all_preds)\n",
        "    cm = confusion_matrix(all_labels, all_preds)\n",
        "\n",
        "    plot_metrics(phase_name, cm, accuracy, precision, recall, f1, kappa)\n",
        "\n",
        "    return accuracy\n",
        "\n",
        "\n",
        "\n",
        "# Evaluate both sets\n",
        "test_accuracy = evaluate_model(test_loader, 'Test')\n",
        "val_accuracy = evaluate_model(val_loader, 'Validation')\n"
      ],
      "metadata": {
        "colab": {
          "base_uri": "https://localhost:8080/",
          "height": 946
        },
        "id": "ojPMSSZ50BPL",
        "outputId": "ddc5e5ab-115b-40ec-9aab-6523f8b11dc2"
      },
      "execution_count": null,
      "outputs": [
        {
          "output_type": "display_data",
          "data": {
            "text/plain": [
              "<Figure size 1500x500 with 3 Axes>"
            ],
            "image/png": "[encoded data removed]"
          },
          "metadata": {}
        },
        {
          "output_type": "display_data",
          "data": {
            "text/plain": [
              "<Figure size 1500x500 with 3 Axes>"
            ],
            "image/png": "[encoded data removed]"
          },
          "metadata": {}
        }
      ]
    },
    {
      "cell_type": "markdown",
      "source": [
        "# ViT Large Model"
      ],
      "metadata": {
        "id": "rra2L6d4HU1X"
      }
    },
    {
      "cell_type": "code",
      "source": [
        "# Step 5: Modified ViT Model with DWT Processing\n",
        "class ViTBinaryClassifier(nn.Module):\n",
        "    def __init__(self, pretrained_model='google/vit-large-patch16-224-in21k'):\n",
        "        super().__init__()\n",
        "        self.vit = ViTModel.from_pretrained(pretrained_model)\n",
        "        self.classifier = nn.Linear(self.vit.config.hidden_size * 4, 1)\n",
        "        self.sigmoid = nn.Sigmoid()\n",
        "\n",
        "        # Freeze ViT parameters\n",
        "        for param in self.vit.parameters():\n",
        "            param.requires_grad = False\n",
        "\n",
        "    def forward(self, x):\n",
        "        # Apply Haar DWT\n",
        "        x_dwt = dwt_haar(x)\n",
        "        batch_size = x_dwt.size(0)\n",
        "\n",
        "        # Reshape and process each subband\n",
        "        x_dwt = x_dwt.view(batch_size, 4, 3, 112, 112)\n",
        "        vit_outputs = []\n",
        "\n",
        "        for i in range(4):\n",
        "            subband = x_dwt[:, i, :, :, :]\n",
        "            subband_up = F.interpolate(subband, size=(224, 224),\n",
        "                                     mode='bilinear', align_corners=False)\n",
        "            outputs = self.vit(subband_up)\n",
        "            vit_outputs.append(outputs.last_hidden_state[:, 0, :])\n",
        "\n",
        "        # Concatenate and classify\n",
        "        combined = torch.cat(vit_outputs, dim=1)\n",
        "        return self.sigmoid(self.classifier(combined))\n",
        "\n",
        "# Step 6: Create Datasets and DataLoaders\n",
        "# (Assuming x_train, y_train, x_val, y_val, x_test, y_test are defined)\n",
        "batch_size = 32\n",
        "train_dataset = NumpyDataset(x_train, y_train)\n",
        "val_dataset = NumpyDataset(x_val, y_val)\n",
        "test_dataset = NumpyDataset(x_test, y_test)\n",
        "\n",
        "train_loader = DataLoader(train_dataset, batch_size=batch_size, shuffle=True, num_workers=2)\n",
        "val_loader = DataLoader(val_dataset, batch_size=batch_size, shuffle=False, num_workers=2)\n",
        "test_loader = DataLoader(test_dataset, batch_size=batch_size, shuffle=False, num_workers=2)\n",
        "\n",
        "# Step 7: Initialize Model (AFTER device is defined)\n",
        "model = ViTBinaryClassifier().to(device)\n",
        "\n",
        "# Step 8: Loss and Optimizer\n",
        "criterion = nn.BCELoss()\n",
        "optimizer = torch.optim.Adam(model.parameters(), lr=1e-3)"
      ],
      "metadata": {
        "colab": {
          "base_uri": "https://localhost:8080/",
          "height": 81,
          "referenced_widgets": [
            "576f9a97b34741989735486c66d4c68e",
            "d6fb716b7c824a768bdc0270000ee084",
            "9e0886db58404ef7b7ee9f9d6583088a",
            "161ac95bf5074305b85ca6d72a8603a9",
            "9289ed0b7df44705822eca01795df9c2",
            "c8c2383f2fed4480b643f3d910f222ef",
            "981ed7f7bc324154a432034aeb019ca7",
            "8586bffa18c24127b336789e04b4eacf",
            "c2a1bce3ebc04869961b5d7c93da744b",
            "e75359b5bffe461498d7c8bb6bb98a9b",
            "632852e83893458d992f59cd8b2ecb16",
            "f65432caae37494db25e885b2f80eaaf",
            "8f40f3feb6c74abfa6b1292a70892509",
            "4d8b38c6ba674ceb8dfff9306248fba9",
            "6492e65bb37f4327af7da07ba688850f",
            "b3a730f5825043bcb3cd5336b212d46d",
            "e0e8566de0f14dc587b2263fb766e722",
            "8171ae0c46d04984ad3289def8d8df74",
            "ba77d4231bc143c4958c7ffdc3fe0341",
            "d2d3527fc5e44cfbaee63816d55fdb31",
            "d6446fbd8fef49079e6e83babf3ad74b",
            "f2b4725f550144f9b9574daa4febe145"
          ]
        },
        "id": "9ylWQlg8GiUE",
        "outputId": "89605e69-4ae4-4023-c6f3-10a5611ce66d"
      },
      "execution_count": null,
      "outputs": [
        {
          "output_type": "display_data",
          "data": {
            "text/plain": [
              "config.json:   0%|          | 0.00/504 [00:00<?, ?B/s]"
            ],
            "application/vnd.jupyter.widget-view+json": {
              "version_major": 2,
              "version_minor": 0,
              "model_id": "576f9a97b34741989735486c66d4c68e"
            }
          },
          "metadata": {}
        },
        {
          "output_type": "display_data",
          "data": {
            "text/plain": [
              "model.safetensors:   0%|          | 0.00/1.22G [00:00<?, ?B/s]"
            ],
            "application/vnd.jupyter.widget-view+json": {
              "version_major": 2,
              "version_minor": 0,
              "model_id": "f65432caae37494db25e885b2f80eaaf"
            }
          },
          "metadata": {}
        }
      ]
    },
    {
      "cell_type": "code",
      "source": [
        "import time\n",
        "from tqdm import tqdm\n",
        "import torch.optim.lr_scheduler as lr_scheduler\n",
        "\n",
        "# Modified training loop with learning rate scheduling\n",
        "num_epochs = 500\n",
        "best_val_loss = float('inf')\n",
        "patience = 20\n",
        "epochs_no_improve = 0\n",
        "early_stop = False\n",
        "history = {'train_loss': [], 'val_loss': [], 'val_acc': [], 'lr': []}\n",
        "\n",
        "# Initialize optimizer and scheduler\n",
        "optimizer = torch.optim.Adam(model.parameters(), lr=1e-3, weight_decay=1e-4)\n",
        "scheduler = lr_scheduler.ReduceLROnPlateau(\n",
        "    optimizer,\n",
        "    mode='min',\n",
        "    factor=0.1,\n",
        "    patience=5,\n",
        "    verbose=True\n",
        ")\n",
        "\n",
        "print(f\"\\n{'='*50}\")\n",
        "print(f\"Starting training with early stopping (patience={patience})\")\n",
        "print(f\"and learning rate scheduling (ReduceLROnPlateau)\")\n",
        "print(f\"{'='*50}\\n\")\n",
        "\n",
        "for epoch in range(num_epochs):\n",
        "    if early_stop:\n",
        "        print(f\"[!] Early stopping triggered at epoch {epoch+1}\")\n",
        "        break\n",
        "\n",
        "    epoch_start = time.time()\n",
        "\n",
        "    # Training phase\n",
        "    model.train()\n",
        "    train_loss = 0.0\n",
        "    train_batches = 0\n",
        "\n",
        "    with tqdm(train_loader, unit=\"batch\", desc=f\"Epoch {epoch+1:3d}/{num_epochs} [Train]\") as pbar:\n",
        "        for images, labels in pbar:\n",
        "            images, labels = images.to(device), labels.to(device)\n",
        "\n",
        "            optimizer.zero_grad()\n",
        "            outputs = model(images).squeeze()\n",
        "            loss = criterion(outputs, labels)\n",
        "            loss.backward()\n",
        "            optimizer.step()\n",
        "\n",
        "            train_loss += loss.item() * images.size(0)\n",
        "            train_batches += 1\n",
        "\n",
        "            pbar.set_postfix({\n",
        "                'Loss': f\"{loss.item():.4f}\",\n",
        "                'AvgLoss': f\"{(train_loss/(train_batches*batch_size)):.4f}\"\n",
        "            })\n",
        "\n",
        "    # Validation phase\n",
        "    model.eval()\n",
        "    val_loss = 0.0\n",
        "    correct = 0\n",
        "    total = 0\n",
        "\n",
        "    with tqdm(val_loader, unit=\"batch\", desc=f\"Epoch {epoch+1:3d}/{num_epochs} [Val]  \") as pbar:\n",
        "        with torch.no_grad():\n",
        "            for images, labels in pbar:\n",
        "                images, labels = images.to(device), labels.to(device)\n",
        "                outputs = model(images).squeeze()\n",
        "                loss = criterion(outputs, labels)\n",
        "\n",
        "                val_loss += loss.item() * images.size(0)\n",
        "                predicted = (outputs >= 0.5).float()\n",
        "                correct += (predicted == labels).sum().item()\n",
        "                total += labels.size(0)\n",
        "\n",
        "                pbar.set_postfix({\n",
        "                    'Loss': f\"{loss.item():.4f}\",\n",
        "                    'Acc': f\"{(correct/total):.4f}\"\n",
        "                })\n",
        "\n",
        "    # Calculate metrics\n",
        "    epoch_train_loss = train_loss / len(train_dataset)\n",
        "    epoch_val_loss = val_loss / len(val_dataset)\n",
        "    val_acc = correct / total\n",
        "    current_lr = optimizer.param_groups[0]['lr']\n",
        "\n",
        "    # Update learning rate\n",
        "    scheduler.step(epoch_val_loss)\n",
        "\n",
        "    # Store history\n",
        "    history['train_loss'].append(epoch_train_loss)\n",
        "    history['val_loss'].append(epoch_val_loss)\n",
        "    history['val_acc'].append(val_acc)\n",
        "    history['lr'].append(current_lr)\n",
        "\n",
        "    # Early stopping logic\n",
        "    if epoch_val_loss < best_val_loss:\n",
        "        best_val_loss = epoch_val_loss\n",
        "        epochs_no_improve = 0\n",
        "        torch.save(model.state_dict(), 'best_model.pth')\n",
        "        improvement_msg = f\"(▼ {best_val_loss - epoch_val_loss:.4f})\"\n",
        "    else:\n",
        "        epochs_no_improve += 1\n",
        "        improvement_msg = f\"(▲ {epoch_val_loss - best_val_loss:.4f}) [Patience left: {patience - epochs_no_improve}]\"\n",
        "        if epochs_no_improve >= patience:\n",
        "            early_stop = True\n",
        "\n",
        "    # Calculate epoch duration\n",
        "    epoch_time = time.time() - epoch_start\n",
        "    time_remaining = (epoch_time * (num_epochs - epoch - 1)) / 3600 if not early_stop else 0\n",
        "\n",
        "    # Detailed epoch report\n",
        "    print(f\"\\nEpoch {epoch+1:3d}/{num_epochs} | Duration: {epoch_time:.1f}s | Remaining: ~{time_remaining:.1f}h\")\n",
        "    print(f\"Train Loss: {epoch_train_loss:.4f}\")\n",
        "    print(f\"Val Loss:   {epoch_val_loss:.4f} {improvement_msg}\")\n",
        "    print(f\"Val Acc:    {val_acc:.4f}\")\n",
        "    print(f\"Learning Rate: {current_lr:.2e}\")\n",
        "    print(f\"-\"*60)\n",
        "\n",
        "# Load best model for testing\n",
        "model.load_state_dict(torch.load('best_model.pth'))\n",
        "print(\"\\nLoaded best model weights for final testing\")\n",
        "\n",
        "# Final evaluation\n",
        "model.eval()\n",
        "test_correct = 0\n",
        "test_total = 0\n",
        "test_loss = 0.0\n",
        "\n",
        "with tqdm(test_loader, unit=\"batch\", desc=\"Final Testing\") as pbar:\n",
        "    with torch.no_grad():\n",
        "        for images, labels in pbar:\n",
        "            images, labels = images.to(device), labels.to(device)\n",
        "            outputs = model(images).squeeze()\n",
        "            loss = criterion(outputs, labels)\n",
        "\n",
        "            test_loss += loss.item() * images.size(0)\n",
        "            predicted = (outputs >= 0.5).float()\n",
        "            test_correct += (predicted == labels).sum().item()\n",
        "            test_total += labels.size(0)\n",
        "\n",
        "            pbar.set_postfix({\n",
        "                'Loss': f\"{loss.item():.4f}\",\n",
        "                'Acc': f\"{(test_correct/test_total):.4f}\"\n",
        "            })\n",
        "\n",
        "print(f\"\\n{'='*50}\")\n",
        "print(f\"Final Test Results:\")\n",
        "print(f\"Loss: {test_loss/len(test_dataset):.4f}\")\n",
        "print(f\"Accuracy: {test_correct/test_total:.4f}\")\n",
        "print(f\"{'='*50}\")"
      ],
      "metadata": {
        "colab": {
          "base_uri": "https://localhost:8080/"
        },
        "id": "mAd9pwwAHg5r",
        "outputId": "246b1224-7c40-4a75-f7a1-2e9bf660ec6d"
      },
      "execution_count": null,
      "outputs": [
        {
          "output_type": "stream",
          "name": "stdout",
          "text": [
            "\n",
            "==================================================\n",
            "Starting training with early stopping (patience=20)\n",
            "and learning rate scheduling (ReduceLROnPlateau)\n",
            "==================================================\n",
            "\n"
          ]
        },
        {
          "output_type": "stream",
          "name": "stderr",
          "text": [
            "Epoch   1/500 [Train]: 100%|██████████| 9/9 [00:35<00:00,  4.00s/batch, Loss=0.6796, AvgLoss=0.6360]\n",
            "Epoch   1/500 [Val]  : 100%|██████████| 1/1 [00:04<00:00,  4.46s/batch, Loss=0.5395, Acc=0.7000]\n"
          ]
        },
        {
          "output_type": "stream",
          "name": "stdout",
          "text": [
            "\n",
            "Epoch   1/500 | Duration: 46.1s | Remaining: ~6.4h\n",
            "Train Loss: 0.6860\n",
            "Val Loss:   0.5395 (▼ 0.0000)\n",
            "Val Acc:    0.7000\n",
            "Learning Rate: 1.00e-03\n",
            "------------------------------------------------------------\n"
          ]
        },
        {
          "output_type": "stream",
          "name": "stderr",
          "text": [
            "Epoch   2/500 [Train]: 100%|██████████| 9/9 [00:36<00:00,  4.05s/batch, Loss=0.4772, AvgLoss=0.5254]\n",
            "Epoch   2/500 [Val]  : 100%|██████████| 1/1 [00:04<00:00,  4.38s/batch, Loss=0.4685, Acc=0.7333]\n"
          ]
        },
        {
          "output_type": "stream",
          "name": "stdout",
          "text": [
            "\n",
            "Epoch   2/500 | Duration: 52.2s | Remaining: ~7.2h\n",
            "Train Loss: 0.5667\n",
            "Val Loss:   0.4685 (▼ 0.0000)\n",
            "Val Acc:    0.7333\n",
            "Learning Rate: 1.00e-03\n",
            "------------------------------------------------------------\n"
          ]
        },
        {
          "output_type": "stream",
          "name": "stderr",
          "text": [
            "Epoch   3/500 [Train]: 100%|██████████| 9/9 [00:39<00:00,  4.36s/batch, Loss=0.6527, AvgLoss=0.4995]\n",
            "Epoch   3/500 [Val]  : 100%|██████████| 1/1 [00:04<00:00,  4.51s/batch, Loss=0.4417, Acc=0.7667]\n"
          ]
        },
        {
          "output_type": "stream",
          "name": "stdout",
          "text": [
            "\n",
            "Epoch   3/500 | Duration: 56.0s | Remaining: ~7.7h\n",
            "Train Loss: 0.5388\n",
            "Val Loss:   0.4417 (▼ 0.0000)\n",
            "Val Acc:    0.7667\n",
            "Learning Rate: 1.00e-03\n",
            "------------------------------------------------------------\n"
          ]
        },
        {
          "output_type": "stream",
          "name": "stderr",
          "text": [
            "Epoch   4/500 [Train]: 100%|██████████| 9/9 [00:37<00:00,  4.22s/batch, Loss=0.4880, AvgLoss=0.4831]\n",
            "Epoch   4/500 [Val]  : 100%|██████████| 1/1 [00:04<00:00,  4.56s/batch, Loss=0.4476, Acc=0.7667]\n"
          ]
        },
        {
          "output_type": "stream",
          "name": "stdout",
          "text": [
            "\n",
            "Epoch   4/500 | Duration: 42.6s | Remaining: ~5.9h\n",
            "Train Loss: 0.5211\n",
            "Val Loss:   0.4476 (▲ 0.0059) [Patience left: 19]\n",
            "Val Acc:    0.7667\n",
            "Learning Rate: 1.00e-03\n",
            "------------------------------------------------------------\n"
          ]
        },
        {
          "output_type": "stream",
          "name": "stderr",
          "text": [
            "Epoch   5/500 [Train]: 100%|██████████| 9/9 [00:38<00:00,  4.23s/batch, Loss=0.6471, AvgLoss=0.4631]\n",
            "Epoch   5/500 [Val]  : 100%|██████████| 1/1 [00:04<00:00,  4.37s/batch, Loss=0.4153, Acc=0.8333]\n"
          ]
        },
        {
          "output_type": "stream",
          "name": "stdout",
          "text": [
            "\n",
            "Epoch   5/500 | Duration: 52.1s | Remaining: ~7.2h\n",
            "Train Loss: 0.4995\n",
            "Val Loss:   0.4153 (▼ 0.0000)\n",
            "Val Acc:    0.8333\n",
            "Learning Rate: 1.00e-03\n",
            "------------------------------------------------------------\n"
          ]
        },
        {
          "output_type": "stream",
          "name": "stderr",
          "text": [
            "Epoch   6/500 [Train]: 100%|██████████| 9/9 [00:38<00:00,  4.26s/batch, Loss=0.6502, AvgLoss=0.4404]\n",
            "Epoch   6/500 [Val]  : 100%|██████████| 1/1 [00:04<00:00,  4.54s/batch, Loss=0.4059, Acc=0.8333]\n"
          ]
        },
        {
          "output_type": "stream",
          "name": "stdout",
          "text": [
            "\n",
            "Epoch   6/500 | Duration: 55.8s | Remaining: ~7.7h\n",
            "Train Loss: 0.4750\n",
            "Val Loss:   0.4059 (▼ 0.0000)\n",
            "Val Acc:    0.8333\n",
            "Learning Rate: 1.00e-03\n",
            "------------------------------------------------------------\n"
          ]
        },
        {
          "output_type": "stream",
          "name": "stderr",
          "text": [
            "Epoch   7/500 [Train]: 100%|██████████| 9/9 [00:38<00:00,  4.29s/batch, Loss=0.4760, AvgLoss=0.4086]\n",
            "Epoch   7/500 [Val]  : 100%|██████████| 1/1 [00:04<00:00,  4.45s/batch, Loss=0.4045, Acc=0.8667]\n"
          ]
        },
        {
          "output_type": "stream",
          "name": "stdout",
          "text": [
            "\n",
            "Epoch   7/500 | Duration: 50.6s | Remaining: ~6.9h\n",
            "Train Loss: 0.4407\n",
            "Val Loss:   0.4045 (▼ 0.0000)\n",
            "Val Acc:    0.8667\n",
            "Learning Rate: 1.00e-03\n",
            "------------------------------------------------------------\n"
          ]
        },
        {
          "output_type": "stream",
          "name": "stderr",
          "text": [
            "Epoch   8/500 [Train]: 100%|██████████| 9/9 [00:38<00:00,  4.23s/batch, Loss=0.5582, AvgLoss=0.3976]\n",
            "Epoch   8/500 [Val]  : 100%|██████████| 1/1 [00:04<00:00,  4.58s/batch, Loss=0.3963, Acc=0.8667]\n"
          ]
        },
        {
          "output_type": "stream",
          "name": "stdout",
          "text": [
            "\n",
            "Epoch   8/500 | Duration: 47.5s | Remaining: ~6.5h\n",
            "Train Loss: 0.4289\n",
            "Val Loss:   0.3963 (▼ 0.0000)\n",
            "Val Acc:    0.8667\n",
            "Learning Rate: 1.00e-03\n",
            "------------------------------------------------------------\n"
          ]
        },
        {
          "output_type": "stream",
          "name": "stderr",
          "text": [
            "Epoch   9/500 [Train]: 100%|██████████| 9/9 [00:37<00:00,  4.19s/batch, Loss=0.3334, AvgLoss=0.3946]\n",
            "Epoch   9/500 [Val]  : 100%|██████████| 1/1 [00:04<00:00,  4.44s/batch, Loss=0.4069, Acc=0.8333]\n"
          ]
        },
        {
          "output_type": "stream",
          "name": "stdout",
          "text": [
            "\n",
            "Epoch   9/500 | Duration: 42.2s | Remaining: ~5.8h\n",
            "Train Loss: 0.4256\n",
            "Val Loss:   0.4069 (▲ 0.0106) [Patience left: 19]\n",
            "Val Acc:    0.8333\n",
            "Learning Rate: 1.00e-03\n",
            "------------------------------------------------------------\n"
          ]
        },
        {
          "output_type": "stream",
          "name": "stderr",
          "text": [
            "Epoch  10/500 [Train]: 100%|██████████| 9/9 [00:37<00:00,  4.22s/batch, Loss=0.3919, AvgLoss=0.3794]\n",
            "Epoch  10/500 [Val]  : 100%|██████████| 1/1 [00:04<00:00,  4.45s/batch, Loss=0.3785, Acc=0.8667]\n"
          ]
        },
        {
          "output_type": "stream",
          "name": "stdout",
          "text": [
            "\n",
            "Epoch  10/500 | Duration: 54.1s | Remaining: ~7.4h\n",
            "Train Loss: 0.4093\n",
            "Val Loss:   0.3785 (▼ 0.0000)\n",
            "Val Acc:    0.8667\n",
            "Learning Rate: 1.00e-03\n",
            "------------------------------------------------------------\n"
          ]
        },
        {
          "output_type": "stream",
          "name": "stderr",
          "text": [
            "Epoch  11/500 [Train]: 100%|██████████| 9/9 [00:38<00:00,  4.27s/batch, Loss=0.5516, AvgLoss=0.3764]\n",
            "Epoch  11/500 [Val]  : 100%|██████████| 1/1 [00:04<00:00,  4.56s/batch, Loss=0.3974, Acc=0.8667]\n"
          ]
        },
        {
          "output_type": "stream",
          "name": "stdout",
          "text": [
            "\n",
            "Epoch  11/500 | Duration: 43.0s | Remaining: ~5.8h\n",
            "Train Loss: 0.4060\n",
            "Val Loss:   0.3974 (▲ 0.0189) [Patience left: 19]\n",
            "Val Acc:    0.8667\n",
            "Learning Rate: 1.00e-03\n",
            "------------------------------------------------------------\n"
          ]
        },
        {
          "output_type": "stream",
          "name": "stderr",
          "text": [
            "Epoch  12/500 [Train]: 100%|██████████| 9/9 [00:37<00:00,  4.22s/batch, Loss=0.3554, AvgLoss=0.3600]\n",
            "Epoch  12/500 [Val]  : 100%|██████████| 1/1 [00:04<00:00,  4.45s/batch, Loss=0.3680, Acc=0.9333]\n"
          ]
        },
        {
          "output_type": "stream",
          "name": "stdout",
          "text": [
            "\n",
            "Epoch  12/500 | Duration: 49.1s | Remaining: ~6.7h\n",
            "Train Loss: 0.3883\n",
            "Val Loss:   0.3680 (▼ 0.0000)\n",
            "Val Acc:    0.9333\n",
            "Learning Rate: 1.00e-03\n",
            "------------------------------------------------------------\n"
          ]
        },
        {
          "output_type": "stream",
          "name": "stderr",
          "text": [
            "Epoch  13/500 [Train]: 100%|██████████| 9/9 [00:38<00:00,  4.24s/batch, Loss=0.2919, AvgLoss=0.3666]\n",
            "Epoch  13/500 [Val]  : 100%|██████████| 1/1 [00:04<00:00,  4.51s/batch, Loss=0.3879, Acc=0.8333]\n"
          ]
        },
        {
          "output_type": "stream",
          "name": "stdout",
          "text": [
            "\n",
            "Epoch  13/500 | Duration: 42.7s | Remaining: ~5.8h\n",
            "Train Loss: 0.3954\n",
            "Val Loss:   0.3879 (▲ 0.0199) [Patience left: 19]\n",
            "Val Acc:    0.8333\n",
            "Learning Rate: 1.00e-03\n",
            "------------------------------------------------------------\n"
          ]
        },
        {
          "output_type": "stream",
          "name": "stderr",
          "text": [
            "Epoch  14/500 [Train]: 100%|██████████| 9/9 [00:37<00:00,  4.21s/batch, Loss=0.3578, AvgLoss=0.3578]\n",
            "Epoch  14/500 [Val]  : 100%|██████████| 1/1 [00:04<00:00,  4.43s/batch, Loss=0.3796, Acc=0.8667]\n"
          ]
        },
        {
          "output_type": "stream",
          "name": "stdout",
          "text": [
            "\n",
            "Epoch  14/500 | Duration: 42.3s | Remaining: ~5.7h\n",
            "Train Loss: 0.3860\n",
            "Val Loss:   0.3796 (▲ 0.0116) [Patience left: 18]\n",
            "Val Acc:    0.8667\n",
            "Learning Rate: 1.00e-03\n",
            "------------------------------------------------------------\n"
          ]
        },
        {
          "output_type": "stream",
          "name": "stderr",
          "text": [
            "Epoch  15/500 [Train]: 100%|██████████| 9/9 [00:37<00:00,  4.18s/batch, Loss=0.3820, AvgLoss=0.3393]\n",
            "Epoch  15/500 [Val]  : 100%|██████████| 1/1 [00:04<00:00,  4.41s/batch, Loss=0.3605, Acc=0.8667]\n"
          ]
        },
        {
          "output_type": "stream",
          "name": "stdout",
          "text": [
            "\n",
            "Epoch  15/500 | Duration: 51.0s | Remaining: ~6.9h\n",
            "Train Loss: 0.3660\n",
            "Val Loss:   0.3605 (▼ 0.0000)\n",
            "Val Acc:    0.8667\n",
            "Learning Rate: 1.00e-03\n",
            "------------------------------------------------------------\n"
          ]
        },
        {
          "output_type": "stream",
          "name": "stderr",
          "text": [
            "Epoch  16/500 [Train]: 100%|██████████| 9/9 [00:38<00:00,  4.31s/batch, Loss=0.2044, AvgLoss=0.3288]\n",
            "Epoch  16/500 [Val]  : 100%|██████████| 1/1 [00:04<00:00,  4.50s/batch, Loss=0.3737, Acc=0.8667]\n"
          ]
        },
        {
          "output_type": "stream",
          "name": "stdout",
          "text": [
            "\n",
            "Epoch  16/500 | Duration: 43.3s | Remaining: ~5.8h\n",
            "Train Loss: 0.3547\n",
            "Val Loss:   0.3737 (▲ 0.0131) [Patience left: 19]\n",
            "Val Acc:    0.8667\n",
            "Learning Rate: 1.00e-03\n",
            "------------------------------------------------------------\n"
          ]
        },
        {
          "output_type": "stream",
          "name": "stderr",
          "text": [
            "Epoch  17/500 [Train]: 100%|██████████| 9/9 [00:37<00:00,  4.18s/batch, Loss=0.5155, AvgLoss=0.3230]\n",
            "Epoch  17/500 [Val]  : 100%|██████████| 1/1 [00:04<00:00,  4.39s/batch, Loss=0.3443, Acc=0.9333]\n"
          ]
        },
        {
          "output_type": "stream",
          "name": "stdout",
          "text": [
            "\n",
            "Epoch  17/500 | Duration: 54.5s | Remaining: ~7.3h\n",
            "Train Loss: 0.3484\n",
            "Val Loss:   0.3443 (▼ 0.0000)\n",
            "Val Acc:    0.9333\n",
            "Learning Rate: 1.00e-03\n",
            "------------------------------------------------------------\n"
          ]
        },
        {
          "output_type": "stream",
          "name": "stderr",
          "text": [
            "Epoch  18/500 [Train]: 100%|██████████| 9/9 [00:38<00:00,  4.33s/batch, Loss=0.3147, AvgLoss=0.3163]\n",
            "Epoch  18/500 [Val]  : 100%|██████████| 1/1 [00:04<00:00,  4.58s/batch, Loss=0.3669, Acc=0.8333]\n"
          ]
        },
        {
          "output_type": "stream",
          "name": "stdout",
          "text": [
            "\n",
            "Epoch  18/500 | Duration: 43.6s | Remaining: ~5.8h\n",
            "Train Loss: 0.3412\n",
            "Val Loss:   0.3669 (▲ 0.0226) [Patience left: 19]\n",
            "Val Acc:    0.8333\n",
            "Learning Rate: 1.00e-03\n",
            "------------------------------------------------------------\n"
          ]
        },
        {
          "output_type": "stream",
          "name": "stderr",
          "text": [
            "Epoch  19/500 [Train]: 100%|██████████| 9/9 [00:37<00:00,  4.18s/batch, Loss=0.4492, AvgLoss=0.3139]\n",
            "Epoch  19/500 [Val]  : 100%|██████████| 1/1 [00:04<00:00,  4.32s/batch, Loss=0.3656, Acc=0.8000]\n"
          ]
        },
        {
          "output_type": "stream",
          "name": "stdout",
          "text": [
            "\n",
            "Epoch  19/500 | Duration: 42.0s | Remaining: ~5.6h\n",
            "Train Loss: 0.3385\n",
            "Val Loss:   0.3656 (▲ 0.0213) [Patience left: 18]\n",
            "Val Acc:    0.8000\n",
            "Learning Rate: 1.00e-03\n",
            "------------------------------------------------------------\n"
          ]
        },
        {
          "output_type": "stream",
          "name": "stderr",
          "text": [
            "Epoch  20/500 [Train]: 100%|██████████| 9/9 [00:37<00:00,  4.21s/batch, Loss=0.2737, AvgLoss=0.3120]\n",
            "Epoch  20/500 [Val]  : 100%|██████████| 1/1 [00:04<00:00,  4.48s/batch, Loss=0.3428, Acc=0.9000]\n"
          ]
        },
        {
          "output_type": "stream",
          "name": "stdout",
          "text": [
            "\n",
            "Epoch  20/500 | Duration: 48.5s | Remaining: ~6.5h\n",
            "Train Loss: 0.3365\n",
            "Val Loss:   0.3428 (▼ 0.0000)\n",
            "Val Acc:    0.9000\n",
            "Learning Rate: 1.00e-03\n",
            "------------------------------------------------------------\n"
          ]
        },
        {
          "output_type": "stream",
          "name": "stderr",
          "text": [
            "Epoch  21/500 [Train]: 100%|██████████| 9/9 [00:38<00:00,  4.25s/batch, Loss=0.2431, AvgLoss=0.3016]\n",
            "Epoch  21/500 [Val]  : 100%|██████████| 1/1 [00:04<00:00,  4.48s/batch, Loss=0.3648, Acc=0.8000]\n"
          ]
        },
        {
          "output_type": "stream",
          "name": "stdout",
          "text": [
            "\n",
            "Epoch  21/500 | Duration: 42.7s | Remaining: ~5.7h\n",
            "Train Loss: 0.3253\n",
            "Val Loss:   0.3648 (▲ 0.0220) [Patience left: 19]\n",
            "Val Acc:    0.8000\n",
            "Learning Rate: 1.00e-03\n",
            "------------------------------------------------------------\n"
          ]
        },
        {
          "output_type": "stream",
          "name": "stderr",
          "text": [
            "Epoch  22/500 [Train]: 100%|██████████| 9/9 [00:37<00:00,  4.19s/batch, Loss=0.3408, AvgLoss=0.2936]\n",
            "Epoch  22/500 [Val]  : 100%|██████████| 1/1 [00:04<00:00,  4.39s/batch, Loss=0.3386, Acc=0.9333]\n"
          ]
        },
        {
          "output_type": "stream",
          "name": "stdout",
          "text": [
            "\n",
            "Epoch  22/500 | Duration: 51.0s | Remaining: ~6.8h\n",
            "Train Loss: 0.3167\n",
            "Val Loss:   0.3386 (▼ 0.0000)\n",
            "Val Acc:    0.9333\n",
            "Learning Rate: 1.00e-03\n",
            "------------------------------------------------------------\n"
          ]
        },
        {
          "output_type": "stream",
          "name": "stderr",
          "text": [
            "Epoch  23/500 [Train]: 100%|██████████| 9/9 [00:38<00:00,  4.28s/batch, Loss=0.2319, AvgLoss=0.2879]\n",
            "Epoch  23/500 [Val]  : 100%|██████████| 1/1 [00:04<00:00,  4.49s/batch, Loss=0.3560, Acc=0.8333]\n"
          ]
        },
        {
          "output_type": "stream",
          "name": "stdout",
          "text": [
            "\n",
            "Epoch  23/500 | Duration: 43.0s | Remaining: ~5.7h\n",
            "Train Loss: 0.3105\n",
            "Val Loss:   0.3560 (▲ 0.0174) [Patience left: 19]\n",
            "Val Acc:    0.8333\n",
            "Learning Rate: 1.00e-03\n",
            "------------------------------------------------------------\n"
          ]
        },
        {
          "output_type": "stream",
          "name": "stderr",
          "text": [
            "Epoch  24/500 [Train]: 100%|██████████| 9/9 [00:37<00:00,  4.20s/batch, Loss=0.3471, AvgLoss=0.2848]\n",
            "Epoch  24/500 [Val]  : 100%|██████████| 1/1 [00:04<00:00,  4.47s/batch, Loss=0.3537, Acc=0.8667]\n"
          ]
        },
        {
          "output_type": "stream",
          "name": "stdout",
          "text": [
            "\n",
            "Epoch  24/500 | Duration: 42.3s | Remaining: ~5.6h\n",
            "Train Loss: 0.3072\n",
            "Val Loss:   0.3537 (▲ 0.0150) [Patience left: 18]\n",
            "Val Acc:    0.8667\n",
            "Learning Rate: 1.00e-03\n",
            "------------------------------------------------------------\n"
          ]
        },
        {
          "output_type": "stream",
          "name": "stderr",
          "text": [
            "Epoch  25/500 [Train]: 100%|██████████| 9/9 [00:37<00:00,  4.21s/batch, Loss=0.4169, AvgLoss=0.2782]\n",
            "Epoch  25/500 [Val]  : 100%|██████████| 1/1 [00:04<00:00,  4.43s/batch, Loss=0.3349, Acc=0.9333]\n"
          ]
        },
        {
          "output_type": "stream",
          "name": "stdout",
          "text": [
            "\n",
            "Epoch  25/500 | Duration: 50.3s | Remaining: ~6.6h\n",
            "Train Loss: 0.3001\n",
            "Val Loss:   0.3349 (▼ 0.0000)\n",
            "Val Acc:    0.9333\n",
            "Learning Rate: 1.00e-03\n",
            "------------------------------------------------------------\n"
          ]
        },
        {
          "output_type": "stream",
          "name": "stderr",
          "text": [
            "Epoch  26/500 [Train]: 100%|██████████| 9/9 [00:38<00:00,  4.28s/batch, Loss=0.4029, AvgLoss=0.2781]\n",
            "Epoch  26/500 [Val]  : 100%|██████████| 1/1 [00:04<00:00,  4.57s/batch, Loss=0.3439, Acc=0.8333]\n"
          ]
        },
        {
          "output_type": "stream",
          "name": "stdout",
          "text": [
            "\n",
            "Epoch  26/500 | Duration: 43.1s | Remaining: ~5.7h\n",
            "Train Loss: 0.3000\n",
            "Val Loss:   0.3439 (▲ 0.0090) [Patience left: 19]\n",
            "Val Acc:    0.8333\n",
            "Learning Rate: 1.00e-03\n",
            "------------------------------------------------------------\n"
          ]
        },
        {
          "output_type": "stream",
          "name": "stderr",
          "text": [
            "Epoch  27/500 [Train]: 100%|██████████| 9/9 [00:37<00:00,  4.17s/batch, Loss=0.4243, AvgLoss=0.2692]\n",
            "Epoch  27/500 [Val]  : 100%|██████████| 1/1 [00:04<00:00,  4.36s/batch, Loss=0.3356, Acc=0.8667]\n"
          ]
        },
        {
          "output_type": "stream",
          "name": "stdout",
          "text": [
            "\n",
            "Epoch  27/500 | Duration: 41.9s | Remaining: ~5.5h\n",
            "Train Loss: 0.2904\n",
            "Val Loss:   0.3356 (▲ 0.0007) [Patience left: 18]\n",
            "Val Acc:    0.8667\n",
            "Learning Rate: 1.00e-03\n",
            "------------------------------------------------------------\n"
          ]
        },
        {
          "output_type": "stream",
          "name": "stderr",
          "text": [
            "Epoch  28/500 [Train]: 100%|██████████| 9/9 [00:37<00:00,  4.22s/batch, Loss=0.2576, AvgLoss=0.2648]\n",
            "Epoch  28/500 [Val]  : 100%|██████████| 1/1 [00:04<00:00,  4.42s/batch, Loss=0.3503, Acc=0.8333]\n"
          ]
        },
        {
          "output_type": "stream",
          "name": "stdout",
          "text": [
            "\n",
            "Epoch  28/500 | Duration: 42.4s | Remaining: ~5.6h\n",
            "Train Loss: 0.2857\n",
            "Val Loss:   0.3503 (▲ 0.0154) [Patience left: 17]\n",
            "Val Acc:    0.8333\n",
            "Learning Rate: 1.00e-03\n",
            "------------------------------------------------------------\n"
          ]
        },
        {
          "output_type": "stream",
          "name": "stderr",
          "text": [
            "Epoch  29/500 [Train]: 100%|██████████| 9/9 [00:37<00:00,  4.20s/batch, Loss=0.3154, AvgLoss=0.2692]\n",
            "Epoch  29/500 [Val]  : 100%|██████████| 1/1 [00:04<00:00,  4.46s/batch, Loss=0.3225, Acc=0.9667]\n"
          ]
        },
        {
          "output_type": "stream",
          "name": "stdout",
          "text": [
            "\n",
            "Epoch  29/500 | Duration: 50.4s | Remaining: ~6.6h\n",
            "Train Loss: 0.2903\n",
            "Val Loss:   0.3225 (▼ 0.0000)\n",
            "Val Acc:    0.9667\n",
            "Learning Rate: 1.00e-03\n",
            "------------------------------------------------------------\n"
          ]
        },
        {
          "output_type": "stream",
          "name": "stderr",
          "text": [
            "Epoch  30/500 [Train]: 100%|██████████| 9/9 [00:38<00:00,  4.27s/batch, Loss=0.2735, AvgLoss=0.2673]\n",
            "Epoch  30/500 [Val]  : 100%|██████████| 1/1 [00:04<00:00,  4.53s/batch, Loss=0.3453, Acc=0.8333]\n"
          ]
        },
        {
          "output_type": "stream",
          "name": "stdout",
          "text": [
            "\n",
            "Epoch  30/500 | Duration: 43.0s | Remaining: ~5.6h\n",
            "Train Loss: 0.2883\n",
            "Val Loss:   0.3453 (▲ 0.0228) [Patience left: 19]\n",
            "Val Acc:    0.8333\n",
            "Learning Rate: 1.00e-03\n",
            "------------------------------------------------------------\n"
          ]
        },
        {
          "output_type": "stream",
          "name": "stderr",
          "text": [
            "Epoch  31/500 [Train]: 100%|██████████| 9/9 [00:37<00:00,  4.18s/batch, Loss=0.2394, AvgLoss=0.2543]\n",
            "Epoch  31/500 [Val]  : 100%|██████████| 1/1 [00:04<00:00,  4.42s/batch, Loss=0.3238, Acc=0.9333]\n"
          ]
        },
        {
          "output_type": "stream",
          "name": "stdout",
          "text": [
            "\n",
            "Epoch  31/500 | Duration: 42.1s | Remaining: ~5.5h\n",
            "Train Loss: 0.2743\n",
            "Val Loss:   0.3238 (▲ 0.0013) [Patience left: 18]\n",
            "Val Acc:    0.9333\n",
            "Learning Rate: 1.00e-03\n",
            "------------------------------------------------------------\n"
          ]
        },
        {
          "output_type": "stream",
          "name": "stderr",
          "text": [
            "Epoch  32/500 [Train]: 100%|██████████| 9/9 [00:37<00:00,  4.21s/batch, Loss=0.2939, AvgLoss=0.2512]\n",
            "Epoch  32/500 [Val]  : 100%|██████████| 1/1 [00:04<00:00,  4.46s/batch, Loss=0.3373, Acc=0.8333]\n"
          ]
        },
        {
          "output_type": "stream",
          "name": "stdout",
          "text": [
            "\n",
            "Epoch  32/500 | Duration: 42.4s | Remaining: ~5.5h\n",
            "Train Loss: 0.2709\n",
            "Val Loss:   0.3373 (▲ 0.0147) [Patience left: 17]\n",
            "Val Acc:    0.8333\n",
            "Learning Rate: 1.00e-03\n",
            "------------------------------------------------------------\n"
          ]
        },
        {
          "output_type": "stream",
          "name": "stderr",
          "text": [
            "Epoch  33/500 [Train]: 100%|██████████| 9/9 [00:37<00:00,  4.22s/batch, Loss=0.2003, AvgLoss=0.2441]\n",
            "Epoch  33/500 [Val]  : 100%|██████████| 1/1 [00:04<00:00,  4.42s/batch, Loss=0.3241, Acc=0.9000]\n"
          ]
        },
        {
          "output_type": "stream",
          "name": "stdout",
          "text": [
            "\n",
            "Epoch  33/500 | Duration: 42.4s | Remaining: ~5.5h\n",
            "Train Loss: 0.2633\n",
            "Val Loss:   0.3241 (▲ 0.0016) [Patience left: 16]\n",
            "Val Acc:    0.9000\n",
            "Learning Rate: 1.00e-03\n",
            "------------------------------------------------------------\n"
          ]
        },
        {
          "output_type": "stream",
          "name": "stderr",
          "text": [
            "Epoch  34/500 [Train]: 100%|██████████| 9/9 [00:37<00:00,  4.19s/batch, Loss=0.2823, AvgLoss=0.2451]\n",
            "Epoch  34/500 [Val]  : 100%|██████████| 1/1 [00:04<00:00,  4.54s/batch, Loss=0.3368, Acc=0.8667]\n"
          ]
        },
        {
          "output_type": "stream",
          "name": "stdout",
          "text": [
            "\n",
            "Epoch  34/500 | Duration: 42.3s | Remaining: ~5.5h\n",
            "Train Loss: 0.2644\n",
            "Val Loss:   0.3368 (▲ 0.0143) [Patience left: 15]\n",
            "Val Acc:    0.8667\n",
            "Learning Rate: 1.00e-03\n",
            "------------------------------------------------------------\n"
          ]
        },
        {
          "output_type": "stream",
          "name": "stderr",
          "text": [
            "Epoch  35/500 [Train]: 100%|██████████| 9/9 [00:38<00:00,  4.23s/batch, Loss=0.1954, AvgLoss=0.2422]\n",
            "Epoch  35/500 [Val]  : 100%|██████████| 1/1 [00:04<00:00,  4.38s/batch, Loss=0.3330, Acc=0.8667]\n"
          ]
        },
        {
          "output_type": "stream",
          "name": "stdout",
          "text": [
            "\n",
            "Epoch  35/500 | Duration: 42.4s | Remaining: ~5.5h\n",
            "Train Loss: 0.2612\n",
            "Val Loss:   0.3330 (▲ 0.0104) [Patience left: 14]\n",
            "Val Acc:    0.8667\n",
            "Learning Rate: 1.00e-03\n",
            "------------------------------------------------------------\n"
          ]
        },
        {
          "output_type": "stream",
          "name": "stderr",
          "text": [
            "Epoch  36/500 [Train]: 100%|██████████| 9/9 [00:37<00:00,  4.20s/batch, Loss=0.2337, AvgLoss=0.2350]\n",
            "Epoch  36/500 [Val]  : 100%|██████████| 1/1 [00:04<00:00,  4.44s/batch, Loss=0.3268, Acc=0.8667]\n"
          ]
        },
        {
          "output_type": "stream",
          "name": "stdout",
          "text": [
            "\n",
            "Epoch  36/500 | Duration: 42.3s | Remaining: ~5.4h\n",
            "Train Loss: 0.2535\n",
            "Val Loss:   0.3268 (▲ 0.0042) [Patience left: 13]\n",
            "Val Acc:    0.8667\n",
            "Learning Rate: 1.00e-04\n",
            "------------------------------------------------------------\n"
          ]
        },
        {
          "output_type": "stream",
          "name": "stderr",
          "text": [
            "Epoch  37/500 [Train]: 100%|██████████| 9/9 [00:38<00:00,  4.23s/batch, Loss=0.1540, AvgLoss=0.2340]\n",
            "Epoch  37/500 [Val]  : 100%|██████████| 1/1 [00:04<00:00,  4.48s/batch, Loss=0.3246, Acc=0.9000]\n"
          ]
        },
        {
          "output_type": "stream",
          "name": "stdout",
          "text": [
            "\n",
            "Epoch  37/500 | Duration: 42.6s | Remaining: ~5.5h\n",
            "Train Loss: 0.2524\n",
            "Val Loss:   0.3246 (▲ 0.0020) [Patience left: 12]\n",
            "Val Acc:    0.9000\n",
            "Learning Rate: 1.00e-04\n",
            "------------------------------------------------------------\n"
          ]
        },
        {
          "output_type": "stream",
          "name": "stderr",
          "text": [
            "Epoch  38/500 [Train]: 100%|██████████| 9/9 [00:37<00:00,  4.18s/batch, Loss=0.2117, AvgLoss=0.2337]\n",
            "Epoch  38/500 [Val]  : 100%|██████████| 1/1 [00:04<00:00,  4.43s/batch, Loss=0.3266, Acc=0.8667]\n"
          ]
        },
        {
          "output_type": "stream",
          "name": "stdout",
          "text": [
            "\n",
            "Epoch  38/500 | Duration: 42.1s | Remaining: ~5.4h\n",
            "Train Loss: 0.2521\n",
            "Val Loss:   0.3266 (▲ 0.0041) [Patience left: 11]\n",
            "Val Acc:    0.8667\n",
            "Learning Rate: 1.00e-04\n",
            "------------------------------------------------------------\n"
          ]
        },
        {
          "output_type": "stream",
          "name": "stderr",
          "text": [
            "Epoch  39/500 [Train]: 100%|██████████| 9/9 [00:37<00:00,  4.21s/batch, Loss=0.4125, AvgLoss=0.2335]\n",
            "Epoch  39/500 [Val]  : 100%|██████████| 1/1 [00:04<00:00,  4.43s/batch, Loss=0.3261, Acc=0.9000]\n"
          ]
        },
        {
          "output_type": "stream",
          "name": "stdout",
          "text": [
            "\n",
            "Epoch  39/500 | Duration: 42.4s | Remaining: ~5.4h\n",
            "Train Loss: 0.2518\n",
            "Val Loss:   0.3261 (▲ 0.0035) [Patience left: 10]\n",
            "Val Acc:    0.9000\n",
            "Learning Rate: 1.00e-04\n",
            "------------------------------------------------------------\n"
          ]
        },
        {
          "output_type": "stream",
          "name": "stderr",
          "text": [
            "Epoch  40/500 [Train]: 100%|██████████| 9/9 [00:37<00:00,  4.20s/batch, Loss=0.5839, AvgLoss=0.2330]\n",
            "Epoch  40/500 [Val]  : 100%|██████████| 1/1 [00:04<00:00,  4.42s/batch, Loss=0.3279, Acc=0.8667]\n"
          ]
        },
        {
          "output_type": "stream",
          "name": "stdout",
          "text": [
            "\n",
            "Epoch  40/500 | Duration: 42.2s | Remaining: ~5.4h\n",
            "Train Loss: 0.2513\n",
            "Val Loss:   0.3279 (▲ 0.0053) [Patience left: 9]\n",
            "Val Acc:    0.8667\n",
            "Learning Rate: 1.00e-04\n",
            "------------------------------------------------------------\n"
          ]
        },
        {
          "output_type": "stream",
          "name": "stderr",
          "text": [
            "Epoch  41/500 [Train]: 100%|██████████| 9/9 [00:37<00:00,  4.21s/batch, Loss=0.2135, AvgLoss=0.2327]\n",
            "Epoch  41/500 [Val]  : 100%|██████████| 1/1 [00:04<00:00,  4.46s/batch, Loss=0.3289, Acc=0.8667]\n"
          ]
        },
        {
          "output_type": "stream",
          "name": "stdout",
          "text": [
            "\n",
            "Epoch  41/500 | Duration: 42.4s | Remaining: ~5.4h\n",
            "Train Loss: 0.2510\n",
            "Val Loss:   0.3289 (▲ 0.0064) [Patience left: 8]\n",
            "Val Acc:    0.8667\n",
            "Learning Rate: 1.00e-04\n",
            "------------------------------------------------------------\n"
          ]
        },
        {
          "output_type": "stream",
          "name": "stderr",
          "text": [
            "Epoch  42/500 [Train]: 100%|██████████| 9/9 [00:37<00:00,  4.22s/batch, Loss=0.2400, AvgLoss=0.2322]\n",
            "Epoch  42/500 [Val]  : 100%|██████████| 1/1 [00:04<00:00,  4.41s/batch, Loss=0.3287, Acc=0.8667]\n"
          ]
        },
        {
          "output_type": "stream",
          "name": "stdout",
          "text": [
            "\n",
            "Epoch  42/500 | Duration: 42.4s | Remaining: ~5.4h\n",
            "Train Loss: 0.2504\n",
            "Val Loss:   0.3287 (▲ 0.0061) [Patience left: 7]\n",
            "Val Acc:    0.8667\n",
            "Learning Rate: 1.00e-05\n",
            "------------------------------------------------------------\n"
          ]
        },
        {
          "output_type": "stream",
          "name": "stderr",
          "text": [
            "Epoch  43/500 [Train]: 100%|██████████| 9/9 [00:37<00:00,  4.19s/batch, Loss=0.2383, AvgLoss=0.2322]\n",
            "Epoch  43/500 [Val]  : 100%|██████████| 1/1 [00:04<00:00,  4.48s/batch, Loss=0.3284, Acc=0.8667]\n"
          ]
        },
        {
          "output_type": "stream",
          "name": "stdout",
          "text": [
            "\n",
            "Epoch  43/500 | Duration: 42.2s | Remaining: ~5.4h\n",
            "Train Loss: 0.2504\n",
            "Val Loss:   0.3284 (▲ 0.0059) [Patience left: 6]\n",
            "Val Acc:    0.8667\n",
            "Learning Rate: 1.00e-05\n",
            "------------------------------------------------------------\n"
          ]
        },
        {
          "output_type": "stream",
          "name": "stderr",
          "text": [
            "Epoch  44/500 [Train]: 100%|██████████| 9/9 [00:37<00:00,  4.21s/batch, Loss=0.1782, AvgLoss=0.2322]\n",
            "Epoch  44/500 [Val]  : 100%|██████████| 1/1 [00:04<00:00,  4.43s/batch, Loss=0.3293, Acc=0.8667]\n"
          ]
        },
        {
          "output_type": "stream",
          "name": "stdout",
          "text": [
            "\n",
            "Epoch  44/500 | Duration: 42.4s | Remaining: ~5.4h\n",
            "Train Loss: 0.2505\n",
            "Val Loss:   0.3293 (▲ 0.0067) [Patience left: 5]\n",
            "Val Acc:    0.8667\n",
            "Learning Rate: 1.00e-05\n",
            "------------------------------------------------------------\n"
          ]
        },
        {
          "output_type": "stream",
          "name": "stderr",
          "text": [
            "Epoch  45/500 [Train]: 100%|██████████| 9/9 [00:37<00:00,  4.21s/batch, Loss=0.3430, AvgLoss=0.2321]\n",
            "Epoch  45/500 [Val]  : 100%|██████████| 1/1 [00:04<00:00,  4.43s/batch, Loss=0.3292, Acc=0.8667]\n"
          ]
        },
        {
          "output_type": "stream",
          "name": "stdout",
          "text": [
            "\n",
            "Epoch  45/500 | Duration: 42.4s | Remaining: ~5.4h\n",
            "Train Loss: 0.2503\n",
            "Val Loss:   0.3292 (▲ 0.0067) [Patience left: 4]\n",
            "Val Acc:    0.8667\n",
            "Learning Rate: 1.00e-05\n",
            "------------------------------------------------------------\n"
          ]
        },
        {
          "output_type": "stream",
          "name": "stderr",
          "text": [
            "Epoch  46/500 [Train]: 100%|██████████| 9/9 [00:37<00:00,  4.21s/batch, Loss=0.1552, AvgLoss=0.2321]\n",
            "Epoch  46/500 [Val]  : 100%|██████████| 1/1 [00:04<00:00,  4.43s/batch, Loss=0.3288, Acc=0.8667]\n"
          ]
        },
        {
          "output_type": "stream",
          "name": "stdout",
          "text": [
            "\n",
            "Epoch  46/500 | Duration: 42.4s | Remaining: ~5.3h\n",
            "Train Loss: 0.2503\n",
            "Val Loss:   0.3288 (▲ 0.0062) [Patience left: 3]\n",
            "Val Acc:    0.8667\n",
            "Learning Rate: 1.00e-05\n",
            "------------------------------------------------------------\n"
          ]
        },
        {
          "output_type": "stream",
          "name": "stderr",
          "text": [
            "Epoch  47/500 [Train]: 100%|██████████| 9/9 [00:37<00:00,  4.20s/batch, Loss=0.3003, AvgLoss=0.2320]\n",
            "Epoch  47/500 [Val]  : 100%|██████████| 1/1 [00:04<00:00,  4.44s/batch, Loss=0.3287, Acc=0.8667]\n"
          ]
        },
        {
          "output_type": "stream",
          "name": "stdout",
          "text": [
            "\n",
            "Epoch  47/500 | Duration: 42.3s | Remaining: ~5.3h\n",
            "Train Loss: 0.2502\n",
            "Val Loss:   0.3287 (▲ 0.0061) [Patience left: 2]\n",
            "Val Acc:    0.8667\n",
            "Learning Rate: 1.00e-05\n",
            "------------------------------------------------------------\n"
          ]
        },
        {
          "output_type": "stream",
          "name": "stderr",
          "text": [
            "Epoch  48/500 [Train]: 100%|██████████| 9/9 [00:38<00:00,  4.23s/batch, Loss=0.2256, AvgLoss=0.2319]\n",
            "Epoch  48/500 [Val]  : 100%|██████████| 1/1 [00:04<00:00,  4.44s/batch, Loss=0.3287, Acc=0.8667]\n"
          ]
        },
        {
          "output_type": "stream",
          "name": "stdout",
          "text": [
            "\n",
            "Epoch  48/500 | Duration: 42.6s | Remaining: ~5.3h\n",
            "Train Loss: 0.2502\n",
            "Val Loss:   0.3287 (▲ 0.0062) [Patience left: 1]\n",
            "Val Acc:    0.8667\n",
            "Learning Rate: 1.00e-06\n",
            "------------------------------------------------------------\n"
          ]
        },
        {
          "output_type": "stream",
          "name": "stderr",
          "text": [
            "Epoch  49/500 [Train]: 100%|██████████| 9/9 [00:37<00:00,  4.22s/batch, Loss=0.2260, AvgLoss=0.2319]\n",
            "Epoch  49/500 [Val]  : 100%|██████████| 1/1 [00:04<00:00,  4.50s/batch, Loss=0.3287, Acc=0.8667]\n",
            "<ipython-input-16-58b9b85997b7>:121: FutureWarning: You are using `torch.load` with `weights_only=False` (the current default value), which uses the default pickle module implicitly. It is possible to construct malicious pickle data which will execute arbitrary code during unpickling (See https://github.com/pytorch/pytorch/blob/main/SECURITY.md#untrusted-models for more details). In a future release, the default value for `weights_only` will be flipped to `True`. This limits the functions that could be executed during unpickling. Arbitrary objects will no longer be allowed to be loaded via this mode unless they are explicitly allowlisted by the user via `torch.serialization.add_safe_globals`. We recommend you start setting `weights_only=True` for any use case where you don't have full control of the loaded file. Please open an issue on GitHub for any issues related to this experimental feature.\n",
            "  model.load_state_dict(torch.load('best_model.pth'))\n"
          ]
        },
        {
          "output_type": "stream",
          "name": "stdout",
          "text": [
            "\n",
            "Epoch  49/500 | Duration: 42.5s | Remaining: ~0.0h\n",
            "Train Loss: 0.2502\n",
            "Val Loss:   0.3287 (▲ 0.0061) [Patience left: 0]\n",
            "Val Acc:    0.8667\n",
            "Learning Rate: 1.00e-06\n",
            "------------------------------------------------------------\n",
            "[!] Early stopping triggered at epoch 50\n",
            "\n",
            "Loaded best model weights for final testing\n"
          ]
        },
        {
          "output_type": "stream",
          "name": "stderr",
          "text": [
            "Final Testing: 100%|██████████| 3/3 [00:10<00:00,  3.63s/batch, Loss=0.5342, Acc=0.7733]"
          ]
        },
        {
          "output_type": "stream",
          "name": "stdout",
          "text": [
            "\n",
            "==================================================\n",
            "Final Test Results:\n",
            "Loss: 0.4793\n",
            "Accuracy: 0.7733\n",
            "==================================================\n"
          ]
        },
        {
          "output_type": "stream",
          "name": "stderr",
          "text": [
            "\n"
          ]
        }
      ]
    },
    {
      "cell_type": "code",
      "source": [
        "import matplotlib.pyplot as plt\n",
        "import seaborn as sns\n",
        "from sklearn.metrics import confusion_matrix, accuracy_score, precision_score, recall_score, f1_score, cohen_kappa_score\n",
        "\n",
        "# For accuracy graph (assuming you have training history)\n",
        "train_accuracies = []  # Populate these during training\n",
        "val_accuracies = []    # Populate these during validation\n",
        "\n",
        "def plot_metrics(phase_name, cm, accuracy, precision, recall, f1, kappa):\n",
        "    plt.figure(figsize=(15, 5))\n",
        "\n",
        "    # Confusion Matrix\n",
        "    plt.subplot(1, 2, 1)\n",
        "    sns.heatmap(cm, annot=True, fmt='d', cmap='Blues',\n",
        "                xticklabels=['Predicted Normal[0]', 'Predicted Osteoporosis[1]'],\n",
        "                yticklabels=['Actual Normal[0]', 'Actual Osteoporosis[1]'])\n",
        "    plt.title(f'{phase_name} Confusion Matrix')\n",
        "\n",
        "    # Metrics Text\n",
        "    plt.subplot(1, 2, 2)\n",
        "    plt.text(0.1, 0.9, f'Accuracy: {accuracy:.4f}', fontsize=12)\n",
        "    plt.text(0.1, 0.7, f'Precision: {precision:.4f}', fontsize=12)\n",
        "    plt.text(0.1, 0.5, f'Recall: {recall:.4f}', fontsize=12)\n",
        "    plt.text(0.1, 0.3, f'F1 Score: {f1:.4f}', fontsize=12)\n",
        "    plt.text(0.1, 0.1, f\"Kappa: {kappa:.4f}\", fontsize=12)\n",
        "    plt.axis('off')\n",
        "\n",
        "    plt.tight_layout()\n",
        "    plt.show()\n",
        "\n",
        "def evaluate_model(loader, phase_name):\n",
        "    model.eval()\n",
        "    all_labels = []\n",
        "    all_preds = []\n",
        "    with torch.no_grad():\n",
        "        for images, labels in loader:\n",
        "            images, labels = images.to(device), labels.to(device)\n",
        "            outputs = model(images).squeeze()\n",
        "            preds = (outputs >= 0.5).float()\n",
        "\n",
        "            all_labels.extend(labels.cpu().numpy())\n",
        "            all_preds.extend(preds.cpu().numpy())\n",
        "\n",
        "    accuracy = accuracy_score(all_labels, all_preds)\n",
        "    precision = precision_score(all_labels, all_preds)\n",
        "    recall = recall_score(all_labels, all_preds)\n",
        "    f1 = f1_score(all_labels, all_preds)\n",
        "    kappa = cohen_kappa_score(all_labels, all_preds)\n",
        "    cm = confusion_matrix(all_labels, all_preds)\n",
        "\n",
        "    plot_metrics(phase_name, cm, accuracy, precision, recall, f1, kappa)\n",
        "\n",
        "    return accuracy\n",
        "\n",
        "\n",
        "\n",
        "# Evaluate both sets\n",
        "test_accuracy = evaluate_model(test_loader, 'Test')\n",
        "val_accuracy = evaluate_model(val_loader, 'Validation')\n"
      ],
      "metadata": {
        "colab": {
          "base_uri": "https://localhost:8080/",
          "height": 855
        },
        "id": "CCpoQrvAHr6c",
        "outputId": "86b323e3-f615-416c-e3b6-8d0c5cce8166"
      },
      "execution_count": null,
      "outputs": [
        {
          "output_type": "display_data",
          "data": {
            "text/plain": [
              "<Figure size 1500x500 with 3 Axes>"
            ],
            "image/png": "[encoded data removed]"
          },
          "metadata": {}
        },
        {
          "output_type": "display_data",
          "data": {
            "text/plain": [
              "<Figure size 1500x500 with 3 Axes>"
            ],
            "image/png": "[encoded data removed]"
          },
          "metadata": {}
        }
      ]
    }
  ]
}
